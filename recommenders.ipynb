{
 "cells": [
  {
   "cell_type": "code",
   "execution_count": 1,
   "metadata": {},
   "outputs": [],
   "source": [
    "%load_ext line_profiler"
   ]
  },
  {
   "cell_type": "code",
   "execution_count": 2,
   "metadata": {
    "colab": {},
    "colab_type": "code",
    "id": "4VV3IK2in2fB"
   },
   "outputs": [],
   "source": [
    "%matplotlib inline\n",
    "\n",
    "import numpy as np\n",
    "import pandas as pd\n",
    "import matplotlib.pyplot as plt\n",
    "import seaborn as sns\n",
    "\n",
    "import sys\n",
    "import time\n",
    "\n",
    "from collections import Counter, defaultdict, OrderedDict, namedtuple\n",
    "import random\n",
    "import copy\n",
    "import bisect\n",
    "import heapq"
   ]
  },
  {
   "cell_type": "code",
   "execution_count": 3,
   "metadata": {
    "colab": {},
    "colab_type": "code",
    "id": "6DYUkVrpn2fG"
   },
   "outputs": [],
   "source": [
    "import warnings\n",
    "warnings.filterwarnings('error')"
   ]
  },
  {
   "cell_type": "code",
   "execution_count": 4,
   "metadata": {
    "colab": {
     "base_uri": "https://localhost:8080/",
     "height": 204
    },
    "colab_type": "code",
    "id": "rgJvjT73yiyL",
    "outputId": "797e6fe1-7281-41b5-8d97-69b216c4d86e"
   },
   "outputs": [
    {
     "data": {
      "text/html": [
       "<div>\n",
       "<style scoped>\n",
       "    .dataframe tbody tr th:only-of-type {\n",
       "        vertical-align: middle;\n",
       "    }\n",
       "\n",
       "    .dataframe tbody tr th {\n",
       "        vertical-align: top;\n",
       "    }\n",
       "\n",
       "    .dataframe thead th {\n",
       "        text-align: right;\n",
       "    }\n",
       "</style>\n",
       "<table border=\"1\" class=\"dataframe\">\n",
       "  <thead>\n",
       "    <tr style=\"text-align: right;\">\n",
       "      <th></th>\n",
       "      <th>timestamp</th>\n",
       "      <th>id</th>\n",
       "      <th>clicked</th>\n",
       "    </tr>\n",
       "  </thead>\n",
       "  <tbody>\n",
       "    <tr>\n",
       "      <th>0</th>\n",
       "      <td>1317513291</td>\n",
       "      <td>id-560620</td>\n",
       "      <td>0</td>\n",
       "    </tr>\n",
       "    <tr>\n",
       "      <th>1</th>\n",
       "      <td>1317513291</td>\n",
       "      <td>id-565648</td>\n",
       "      <td>0</td>\n",
       "    </tr>\n",
       "    <tr>\n",
       "      <th>2</th>\n",
       "      <td>1317513291</td>\n",
       "      <td>id-563115</td>\n",
       "      <td>0</td>\n",
       "    </tr>\n",
       "    <tr>\n",
       "      <th>3</th>\n",
       "      <td>1317513292</td>\n",
       "      <td>id-552077</td>\n",
       "      <td>0</td>\n",
       "    </tr>\n",
       "    <tr>\n",
       "      <th>4</th>\n",
       "      <td>1317513292</td>\n",
       "      <td>id-564335</td>\n",
       "      <td>0</td>\n",
       "    </tr>\n",
       "  </tbody>\n",
       "</table>\n",
       "</div>"
      ],
      "text/plain": [
       "    timestamp         id  clicked\n",
       "0  1317513291  id-560620        0\n",
       "1  1317513291  id-565648        0\n",
       "2  1317513291  id-563115        0\n",
       "3  1317513292  id-552077        0\n",
       "4  1317513292  id-564335        0"
      ]
     },
     "execution_count": 4,
     "metadata": {},
     "output_type": "execute_result"
    }
   ],
   "source": [
    "records = pd.read_csv('Webscope_R6B/ydata-fp-td-clicks-v2_0.20111002',\n",
    "           sep=' ',\n",
    "           names=['timestamp','id','clicked'],\n",
    "           usecols=[0,1,2],\n",
    "           )\n",
    "records.head()"
   ]
  },
  {
   "cell_type": "code",
   "execution_count": 5,
   "metadata": {},
   "outputs": [],
   "source": [
    "# parser that watches article lifespans\n",
    "lifespans = {}\n",
    "with open('Webscope_R6B/ydata-fp-td-clicks-v2_0.20111002') as f:\n",
    "    for line in f.readlines():\n",
    "        timestamp = int(line[:10])\n",
    "        components = line.strip().split(' |')\n",
    "        for article in components[2:]:\n",
    "            if article in lifespans:\n",
    "                lifespans[article][1] = timestamp\n",
    "            else:\n",
    "                lifespans[article] = [timestamp, timestamp]"
   ]
  },
  {
   "cell_type": "code",
   "execution_count": 6,
   "metadata": {},
   "outputs": [],
   "source": [
    "# for ucb_l\n",
    "class Arm:\n",
    "    def __init__(self,lifespan):\n",
    "        self.birth, self.death = lifespan\n",
    "        self.s = None\n",
    "        self.l = None\n",
    "        self.T = 0\n",
    "        self.rewards = 0\n",
    "        self.X = -1\n",
    "    def __repr__(self):\n",
    "        return '{:.4f} {}/{} lifespan: {}/{}'.format(self.X, self.rewards, self.T, (self.s, self.l), (self.birth, self.death))\n",
    "pool = {}\n",
    "for k in lifespans:\n",
    "    pool[k] = Arm(lifespans[k])\n",
    "unborn = list(sorted(pool.keys(), key=lambda k:pool[k].birth, reverse=True))"
   ]
  },
  {
   "cell_type": "code",
   "execution_count": 20,
   "metadata": {},
   "outputs": [],
   "source": [
    "class UCB_L:\n",
    "    def __init__(self, records, pool, unborn):\n",
    "        self.records = records.itertuples()\n",
    "        self.rewards = 0\n",
    "        self.alive = [] # heap: (death, id)\n",
    "        self.pool = copy.deepcopy(pool) # ordered dict of arms\n",
    "        self.unborn = copy.deepcopy(unborn)\n",
    "        self.avg_life = 0\n",
    "        self.X = 0\n",
    "        \n",
    "    def update(self, record):\n",
    "        self.rewards += record.clicked\n",
    "        self.pool[record.id].rewards += record.clicked\n",
    "        self.pool[record.id].T += 1\n",
    "        self.pool[record.id].X = self.pool[record.id].rewards / self.pool[record.id].T\n",
    "        n_seen = len(self.pool) - len(self.unborn)\n",
    "        self.X = (self.X * (n_seen-1) + record.clicked) / n_seen\n",
    "    \n",
    "    def time_passes(self, t):\n",
    "        record = next(self.records) # raise StopIteration\n",
    "        self.time = record.timestamp\n",
    "        # pop born arms to pool\n",
    "        while self.unborn and self.pool[self.unborn[-1]].birth<=self.time:\n",
    "            arm = self.unborn.pop()\n",
    "            self.pool[arm].s = t\n",
    "            heapq.heappush(self.alive, (self.pool[arm].death, arm))\n",
    "        # pop dead arms from pool\n",
    "        while self.alive:\n",
    "            death, arm = self.alive[0]\n",
    "            if death < self.time:\n",
    "                heapq.heappop(self.alive)\n",
    "                dying = self.pool[arm]\n",
    "                dying.l = t\n",
    "                n_dead = len(self.pool) - len(self.unborn) - len(self.alive)\n",
    "                self.avg_life = (self.avg_life* (n_dead-1) + (dying.l-dying.s+1)) / n_dead\n",
    "            else:\n",
    "                break\n",
    "        return record\n",
    "                \n",
    "    def initialize(self, m):\n",
    "        for i in range(m):\n",
    "            record = self.time_passes(i)\n",
    "            if not pool[record.id].T: # not played\n",
    "                self.update(record)\n",
    "    \n",
    "    def play(self, n, c=1):\n",
    "        def score(heap_tuple):\n",
    "            r = 1\n",
    "            arm = self.pool[heap_tuple[1]]\n",
    "            if arm.T:\n",
    "                T = arm.T\n",
    "                X = arm.X\n",
    "            else: # if it's never played, use estimation\n",
    "                T = 1\n",
    "                X = self.X\n",
    "            return X + c*np.log(r*(arm.death - self.time) + 1) * np.sqrt( 2*np.log(r*(self.time - arm.birth) + 1)/T)\n",
    "            '''if not self.avg_life:\n",
    "                return X\n",
    "            try:\n",
    "                return X + c*np.log(self.avg_life+arm.s-t+1) * np.sqrt(2*np.log(t - arm.s+1)/T)\n",
    "            except RuntimeWarning:\n",
    "                #print(self.avg_life, arm.s, t)\n",
    "                return X'''\n",
    "            \n",
    "        for t in range(n):\n",
    "            while True: # keep trying\n",
    "                record = self.time_passes(t+25)\n",
    "                pick = max(self.alive, key=score)[1]\n",
    "                if pick == record.id:\n",
    "                    self.update(record)\n",
    "                    break"
   ]
  },
  {
   "cell_type": "code",
   "execution_count": 21,
   "metadata": {},
   "outputs": [],
   "source": [
    "ucbl = UCB_L(records, pool, unborn)\n",
    "ucbl.initialize(25)\n",
    "ucbl.play(1000,1)"
   ]
  },
  {
   "cell_type": "code",
   "execution_count": 22,
   "metadata": {},
   "outputs": [
    {
     "data": {
      "text/plain": [
       "0"
      ]
     },
     "execution_count": 22,
     "metadata": {},
     "output_type": "execute_result"
    }
   ],
   "source": [
    "ucbl.avg_life"
   ]
  },
  {
   "cell_type": "code",
   "execution_count": 23,
   "metadata": {},
   "outputs": [
    {
     "data": {
      "text/plain": [
       "46"
      ]
     },
     "execution_count": 23,
     "metadata": {},
     "output_type": "execute_result"
    }
   ],
   "source": [
    "ucbl.rewards"
   ]
  },
  {
   "cell_type": "code",
   "execution_count": 14,
   "metadata": {
    "scrolled": true
   },
   "outputs": [
    {
     "data": {
      "text/plain": [
       "22"
      ]
     },
     "execution_count": 14,
     "metadata": {},
     "output_type": "execute_result"
    }
   ],
   "source": [
    "len(ucbl.unborn)"
   ]
  },
  {
   "cell_type": "code",
   "execution_count": 15,
   "metadata": {},
   "outputs": [
    {
     "data": {
      "text/plain": [
       "0.043778768278091906"
      ]
     },
     "execution_count": 15,
     "metadata": {},
     "output_type": "execute_result"
    }
   ],
   "source": [
    "ucbl.X"
   ]
  },
  {
   "cell_type": "code",
   "execution_count": 16,
   "metadata": {
    "scrolled": true
   },
   "outputs": [
    {
     "data": {
      "text/plain": [
       "{'id-552077': 0.0000 0/1 lifespan: (0, 1706)/(1317513291, 1317515399),\n",
       " 'id-555224': 0.0400 11/275 lifespan: (0, None)/(1317513291, 1317588299),\n",
       " 'id-555528': 0.0000 0/2 lifespan: (0, None)/(1317513291, 1317587099),\n",
       " 'id-559744': 0.0000 0/3 lifespan: (0, 1965)/(1317513291, 1317515699),\n",
       " 'id-559833': -1.0000 0/0 lifespan: (None, None)/(1317577200, 1317599694),\n",
       " 'id-559855': 0.0000 0/2 lifespan: (0, None)/(1317513291, 1317587099),\n",
       " 'id-560290': 0.0000 0/3 lifespan: (0, None)/(1317513291, 1317587099),\n",
       " 'id-560518': 0.0000 0/2 lifespan: (0, None)/(1317513291, 1317578399),\n",
       " 'id-560620': 0.0000 0/3 lifespan: (0, 6796)/(1317513291, 1317521099),\n",
       " 'id-560805': -1.0000 0/0 lifespan: (None, None)/(1317565500, 1317599694),\n",
       " 'id-562265': -1.0000 0/0 lifespan: (None, None)/(1317569100, 1317599694),\n",
       " 'id-562374': -1.0000 0/0 lifespan: (None, None)/(1317578100, 1317599694),\n",
       " 'id-562637': -1.0000 0/0 lifespan: (None, None)/(1317583200, 1317599694),\n",
       " 'id-563115': 0.0000 0/4 lifespan: (0, None)/(1317513291, 1317581999),\n",
       " 'id-563582': 0.0000 0/3 lifespan: (0, None)/(1317513291, 1317583799),\n",
       " 'id-563643': 0.0000 0/3 lifespan: (0, None)/(1317513291, 1317599694),\n",
       " 'id-563787': 0.0000 0/3 lifespan: (0, 1965)/(1317513291, 1317515699),\n",
       " 'id-563846': 0.0000 0/2 lifespan: (0, None)/(1317513291, 1317599694),\n",
       " 'id-563938': 0.0353 50/1418 lifespan: (0, 5053)/(1317513291, 1317519299),\n",
       " 'id-564335': 0.0275 6/218 lifespan: (0, None)/(1317513291, 1317571199),\n",
       " 'id-564371': -1.0000 0/0 lifespan: (None, None)/(1317568200, 1317599694),\n",
       " 'id-564418': 0.0000 0/2 lifespan: (0, None)/(1317513291, 1317599694),\n",
       " 'id-564604': 0.0000 0/3 lifespan: (0, 6485)/(1317513291, 1317520799),\n",
       " 'id-565364': 0.0000 0/3 lifespan: (0, None)/(1317513291, 1317535499),\n",
       " 'id-565479': 0.0270 1/37 lifespan: (0, None)/(1317513291, 1317583499),\n",
       " 'id-565515': 0.0000 0/2 lifespan: (0, None)/(1317513291, 1317587399),\n",
       " 'id-565533': 0.0424 177/4170 lifespan: (0, None)/(1317513291, 1317583499),\n",
       " 'id-565561': 0.0000 0/2 lifespan: (0, None)/(1317513291, 1317549899),\n",
       " 'id-565589': 0.0000 0/3 lifespan: (0, None)/(1317513291, 1317577499),\n",
       " 'id-565648': 0.0000 0/2 lifespan: (0, None)/(1317513291, 1317586799),\n",
       " 'id-565747': 0.0000 0/3 lifespan: (0, None)/(1317513291, 1317570299),\n",
       " 'id-565822': 0.0000 0/2 lifespan: (0, None)/(1317513291, 1317599694),\n",
       " 'id-565930': 0.0304 117/3854 lifespan: (3645, None)/(1317517500, 1317582299),\n",
       " 'id-565980': -1.0000 0/0 lifespan: (None, None)/(1317570600, 1317574799),\n",
       " 'id-566013': -1.0000 0/0 lifespan: (None, None)/(1317525000, 1317585899),\n",
       " 'id-566022': -1.0000 0/0 lifespan: (None, None)/(1317527100, 1317594299),\n",
       " 'id-566092': -1.0000 0/0 lifespan: (None, None)/(1317529500, 1317564299),\n",
       " 'id-566431': -1.0000 0/0 lifespan: (None, None)/(1317572400, 1317599694),\n",
       " 'id-566439': -1.0000 0/0 lifespan: (None, None)/(1317573300, 1317599694),\n",
       " 'id-566478': -1.0000 0/0 lifespan: (None, None)/(1317579600, 1317599694),\n",
       " 'id-566541': -1.0000 0/0 lifespan: (None, None)/(1317577800, 1317599694),\n",
       " 'id-566573': -1.0000 0/0 lifespan: (None, None)/(1317580200, 1317599694),\n",
       " 'id-566587': -1.0000 0/0 lifespan: (None, None)/(1317579300, 1317599694),\n",
       " 'id-566602': -1.0000 0/0 lifespan: (None, None)/(1317582300, 1317599694),\n",
       " 'id-566631': -1.0000 0/0 lifespan: (None, None)/(1317583500, 1317599694),\n",
       " 'id-566689': -1.0000 0/0 lifespan: (None, None)/(1317586800, 1317599694),\n",
       " 'id-566726': -1.0000 0/0 lifespan: (None, None)/(1317588900, 1317599694),\n",
       " 'id-566825': -1.0000 0/0 lifespan: (None, None)/(1317593700, 1317599694),\n",
       " 'id-566838': -1.0000 0/0 lifespan: (None, None)/(1317596100, 1317599694)}"
      ]
     },
     "execution_count": 16,
     "metadata": {},
     "output_type": "execute_result"
    }
   ],
   "source": [
    "ucbl.pool"
   ]
  },
  {
   "cell_type": "code",
   "execution_count": 509,
   "metadata": {},
   "outputs": [
    {
     "data": {
      "text/plain": [
       "0.03296703296703297 33/1001 lifespan: (1317513291, 1317515399)"
      ]
     },
     "execution_count": 509,
     "metadata": {},
     "output_type": "execute_result"
    }
   ],
   "source": [
    "min(ucbl.pool.values(), key=lambda v:v.death)"
   ]
  },
  {
   "cell_type": "code",
   "execution_count": 508,
   "metadata": {},
   "outputs": [
    {
     "data": {
      "text/plain": [
       "{'id-552077': 0.03296703296703297 33/1001 lifespan: (1317513291, 1317515399),\n",
       " 'id-555224': -1 0/0 lifespan: (1317513291, 1317588299),\n",
       " 'id-555528': 0.0 0/1 lifespan: (1317513291, 1317587099),\n",
       " 'id-559744': -1 0/0 lifespan: (1317513291, 1317515699),\n",
       " 'id-559833': -1 0/0 lifespan: (1317577200, 1317599694),\n",
       " 'id-559855': -1 0/0 lifespan: (1317513291, 1317587099),\n",
       " 'id-560290': 0.0 0/3 lifespan: (1317513291, 1317587099),\n",
       " 'id-560518': -1 0/0 lifespan: (1317513291, 1317578399),\n",
       " 'id-560620': 0.0 0/2 lifespan: (1317513291, 1317521099),\n",
       " 'id-560805': -1 0/0 lifespan: (1317565500, 1317599694),\n",
       " 'id-562265': -1 0/0 lifespan: (1317569100, 1317599694),\n",
       " 'id-562374': -1 0/0 lifespan: (1317578100, 1317599694),\n",
       " 'id-562637': -1 0/0 lifespan: (1317583200, 1317599694),\n",
       " 'id-563115': 0.0 0/4 lifespan: (1317513291, 1317581999),\n",
       " 'id-563582': -1 0/0 lifespan: (1317513291, 1317583799),\n",
       " 'id-563643': 0.0 0/3 lifespan: (1317513291, 1317599694),\n",
       " 'id-563787': 0.0 0/1 lifespan: (1317513291, 1317515699),\n",
       " 'id-563846': -1 0/0 lifespan: (1317513291, 1317599694),\n",
       " 'id-563938': 0.5 1/2 lifespan: (1317513291, 1317519299),\n",
       " 'id-564335': 0.3333333333333333 1/3 lifespan: (1317513291, 1317571199),\n",
       " 'id-564371': -1 0/0 lifespan: (1317568200, 1317599694),\n",
       " 'id-564418': -1 0/0 lifespan: (1317513291, 1317599694),\n",
       " 'id-564604': -1 0/0 lifespan: (1317513291, 1317520799),\n",
       " 'id-565364': -1 0/0 lifespan: (1317513291, 1317535499),\n",
       " 'id-565479': -1 0/0 lifespan: (1317513291, 1317583499),\n",
       " 'id-565515': -1 0/0 lifespan: (1317513291, 1317587399),\n",
       " 'id-565533': -1 0/0 lifespan: (1317513291, 1317583499),\n",
       " 'id-565561': -1 0/0 lifespan: (1317513291, 1317549899),\n",
       " 'id-565589': 0.0 0/2 lifespan: (1317513291, 1317577499),\n",
       " 'id-565648': 0.0 0/1 lifespan: (1317513291, 1317586799),\n",
       " 'id-565747': -1 0/0 lifespan: (1317513291, 1317570299),\n",
       " 'id-565822': 0.0 0/2 lifespan: (1317513291, 1317599694),\n",
       " 'id-565930': -1 0/0 lifespan: (1317517500, 1317582299),\n",
       " 'id-565980': -1 0/0 lifespan: (1317570600, 1317574799),\n",
       " 'id-566013': -1 0/0 lifespan: (1317525000, 1317585899),\n",
       " 'id-566022': -1 0/0 lifespan: (1317527100, 1317594299),\n",
       " 'id-566092': -1 0/0 lifespan: (1317529500, 1317564299),\n",
       " 'id-566431': -1 0/0 lifespan: (1317572400, 1317599694),\n",
       " 'id-566439': -1 0/0 lifespan: (1317573300, 1317599694),\n",
       " 'id-566478': -1 0/0 lifespan: (1317579600, 1317599694),\n",
       " 'id-566541': -1 0/0 lifespan: (1317577800, 1317599694),\n",
       " 'id-566573': -1 0/0 lifespan: (1317580200, 1317599694),\n",
       " 'id-566587': -1 0/0 lifespan: (1317579300, 1317599694),\n",
       " 'id-566602': -1 0/0 lifespan: (1317582300, 1317599694),\n",
       " 'id-566631': -1 0/0 lifespan: (1317583500, 1317599694),\n",
       " 'id-566689': -1 0/0 lifespan: (1317586800, 1317599694),\n",
       " 'id-566726': -1 0/0 lifespan: (1317588900, 1317599694),\n",
       " 'id-566825': -1 0/0 lifespan: (1317593700, 1317599694),\n",
       " 'id-566838': -1 0/0 lifespan: (1317596100, 1317599694)}"
      ]
     },
     "execution_count": 508,
     "metadata": {},
     "output_type": "execute_result"
    }
   ],
   "source": [
    "ucbl.pool"
   ]
  },
  {
   "cell_type": "code",
   "execution_count": null,
   "metadata": {},
   "outputs": [],
   "source": []
  },
  {
   "cell_type": "code",
   "execution_count": null,
   "metadata": {},
   "outputs": [],
   "source": []
  },
  {
   "cell_type": "code",
   "execution_count": 426,
   "metadata": {
    "scrolled": true
   },
   "outputs": [],
   "source": [
    "class Arm:\n",
    "    def __init__(self,lifespan):\n",
    "        self.birth, self.death = lifespan\n",
    "        self.T = 0\n",
    "        self.rewards = 0\n",
    "        self.X = -1\n",
    "    def __repr__(self):\n",
    "        return '{} {}/{} lifespan: {}'.format(self.X, self.rewards, self.T, (self.birth, self.death))\n",
    "pool = {}\n",
    "for k in lifespans:\n",
    "    pool[k] = Arm(lifespans[k])\n",
    "pool = OrderedDict(sorted(pool.items(), key=lambda i:i[1].death, reverse=True))"
   ]
  },
  {
   "cell_type": "code",
   "execution_count": 435,
   "metadata": {
    "scrolled": true
   },
   "outputs": [
    {
     "data": {
      "text/plain": [
       "odict_keys(['id-563643', 'id-563846', 'id-564418', 'id-565822', 'id-560805', 'id-564371', 'id-562265', 'id-566431', 'id-566439', 'id-559833', 'id-566541', 'id-562374', 'id-566587', 'id-566478', 'id-566573', 'id-566602', 'id-562637', 'id-566631', 'id-566689', 'id-566726', 'id-566825', 'id-566838', 'id-566022', 'id-555224', 'id-565515', 'id-555528', 'id-559855', 'id-560290', 'id-565648', 'id-566013', 'id-563582', 'id-565479', 'id-565533', 'id-565930', 'id-563115', 'id-560518', 'id-565589', 'id-565980', 'id-564335', 'id-565747', 'id-566092', 'id-565561', 'id-565364', 'id-560620', 'id-564604', 'id-563938', 'id-559744', 'id-563787', 'id-552077'])"
      ]
     },
     "execution_count": 435,
     "metadata": {},
     "output_type": "execute_result"
    }
   ],
   "source": [
    "pool.keys()"
   ]
  },
  {
   "cell_type": "code",
   "execution_count": 439,
   "metadata": {},
   "outputs": [],
   "source": [
    "class AG_L:\n",
    "    def __init__(self, records, pool):\n",
    "        self.records = records.itertuples()\n",
    "        self.rewards = 0\n",
    "        self.pool = copy.deepcopy(pool) # ordered dict of arms\n",
    "        self.n_exploit = 0\n",
    "        self.best = 'id-563643'\n",
    "        \n",
    "    def update(self, record):\n",
    "        self.rewards += record.clicked\n",
    "        self.pool[record.id].rewards += record.clicked\n",
    "        self.pool[record.id].T += 1\n",
    "        self.pool[record.id].X = self.pool[record.id].rewards / self.pool[record.id].T\n",
    "        self.best = max((self.best, record.id), key= lambda arm:self.pool[arm].X)\n",
    "        \n",
    "    def initialize(self, m):\n",
    "        for i in range(m):\n",
    "            record = next(self.records) # raise StopIteration\n",
    "            if not pool[record.id].T: # not played\n",
    "                self.update(record)\n",
    "    \n",
    "    def play(self, n, threshold=.3):\n",
    "        for t in range(n):\n",
    "            while True: # keep trying\n",
    "                record = next(self.records) # raise StopIteration\n",
    "                self.time = record.timestamp\n",
    "                if random.random() < self.pool[self.best].X: #exploit\n",
    "                    pick = self.best\n",
    "                    exploited = 1\n",
    "                else: #explore\n",
    "                    born = list(filter(lambda i: i[1].birth<=self.time<=i[1].death, self.pool.items()))\n",
    "                    pick = random.choice(born[:int(threshold*len(born))])[0] # randomly choose one from young born arms\n",
    "                    exploited = 0\n",
    "                if pick == record.id:\n",
    "                    if exploited:\n",
    "                        self.n_exploit += 1\n",
    "                    self.update(record)\n",
    "                    break"
   ]
  },
  {
   "cell_type": "code",
   "execution_count": 443,
   "metadata": {},
   "outputs": [],
   "source": [
    "%lprun -f agl.play agl.play(1000)"
   ]
  },
  {
   "cell_type": "code",
   "execution_count": 450,
   "metadata": {},
   "outputs": [
    {
     "name": "stdout",
     "output_type": "stream",
     "text": [
      "668 ms ± 14.8 ms per loop (mean ± std. dev. of 7 runs, 1 loop each)\n"
     ]
    }
   ],
   "source": [
    "%%timeit\n",
    "agl = AG_L(records, pool)\n",
    "agl.initialize(25)\n",
    "agl.play(975,.1)"
   ]
  },
  {
   "cell_type": "code",
   "execution_count": 451,
   "metadata": {},
   "outputs": [],
   "source": [
    "agl = AG_L(records, pool)\n",
    "agl.initialize(25)\n",
    "agl.play(975,.1)"
   ]
  },
  {
   "cell_type": "code",
   "execution_count": 452,
   "metadata": {},
   "outputs": [
    {
     "data": {
      "text/plain": [
       "1317514581"
      ]
     },
     "execution_count": 452,
     "metadata": {},
     "output_type": "execute_result"
    }
   ],
   "source": [
    "agl.time"
   ]
  },
  {
   "cell_type": "code",
   "execution_count": 453,
   "metadata": {},
   "outputs": [
    {
     "data": {
      "text/plain": [
       "70"
      ]
     },
     "execution_count": 453,
     "metadata": {},
     "output_type": "execute_result"
    }
   ],
   "source": [
    "agl.n_exploit"
   ]
  },
  {
   "cell_type": "code",
   "execution_count": 454,
   "metadata": {
    "scrolled": true
   },
   "outputs": [
    {
     "data": {
      "text/plain": [
       "OrderedDict([('id-563643',\n",
       "              0.05421686746987952 27/498 lifespan: (1317513291, 1317599694)),\n",
       "             ('id-563846',\n",
       "              0.06382978723404255 30/470 lifespan: (1317513291, 1317599694)),\n",
       "             ('id-564418', -1 0/0 lifespan: (1317513291, 1317599694)),\n",
       "             ('id-565822', 0.0 0/2 lifespan: (1317513291, 1317599694)),\n",
       "             ('id-560805', -1 0/0 lifespan: (1317565500, 1317599694)),\n",
       "             ('id-564371', -1 0/0 lifespan: (1317568200, 1317599694)),\n",
       "             ('id-562265', -1 0/0 lifespan: (1317569100, 1317599694)),\n",
       "             ('id-566431', -1 0/0 lifespan: (1317572400, 1317599694)),\n",
       "             ('id-566439', -1 0/0 lifespan: (1317573300, 1317599694)),\n",
       "             ('id-559833', -1 0/0 lifespan: (1317577200, 1317599694)),\n",
       "             ('id-566541', -1 0/0 lifespan: (1317577800, 1317599694)),\n",
       "             ('id-562374', -1 0/0 lifespan: (1317578100, 1317599694)),\n",
       "             ('id-566587', -1 0/0 lifespan: (1317579300, 1317599694)),\n",
       "             ('id-566478', -1 0/0 lifespan: (1317579600, 1317599694)),\n",
       "             ('id-566573', -1 0/0 lifespan: (1317580200, 1317599694)),\n",
       "             ('id-566602', -1 0/0 lifespan: (1317582300, 1317599694)),\n",
       "             ('id-562637', -1 0/0 lifespan: (1317583200, 1317599694)),\n",
       "             ('id-566631', -1 0/0 lifespan: (1317583500, 1317599694)),\n",
       "             ('id-566689', -1 0/0 lifespan: (1317586800, 1317599694)),\n",
       "             ('id-566726', -1 0/0 lifespan: (1317588900, 1317599694)),\n",
       "             ('id-566825', -1 0/0 lifespan: (1317593700, 1317599694)),\n",
       "             ('id-566838', -1 0/0 lifespan: (1317596100, 1317599694)),\n",
       "             ('id-566022', -1 0/0 lifespan: (1317527100, 1317594299)),\n",
       "             ('id-555224', -1 0/0 lifespan: (1317513291, 1317588299)),\n",
       "             ('id-565515', -1 0/0 lifespan: (1317513291, 1317587399)),\n",
       "             ('id-555528', 0.0 0/1 lifespan: (1317513291, 1317587099)),\n",
       "             ('id-559855', -1 0/0 lifespan: (1317513291, 1317587099)),\n",
       "             ('id-560290', 0.0 0/3 lifespan: (1317513291, 1317587099)),\n",
       "             ('id-565648', 0.0 0/1 lifespan: (1317513291, 1317586799)),\n",
       "             ('id-566013', -1 0/0 lifespan: (1317525000, 1317585899)),\n",
       "             ('id-563582', -1 0/0 lifespan: (1317513291, 1317583799)),\n",
       "             ('id-565479', -1 0/0 lifespan: (1317513291, 1317583499)),\n",
       "             ('id-565533', -1 0/0 lifespan: (1317513291, 1317583499)),\n",
       "             ('id-565930', -1 0/0 lifespan: (1317517500, 1317582299)),\n",
       "             ('id-563115', 0.0 0/4 lifespan: (1317513291, 1317581999)),\n",
       "             ('id-560518', -1 0/0 lifespan: (1317513291, 1317578399)),\n",
       "             ('id-565589', 0.0 0/2 lifespan: (1317513291, 1317577499)),\n",
       "             ('id-565980', -1 0/0 lifespan: (1317570600, 1317574799)),\n",
       "             ('id-564335',\n",
       "              0.3333333333333333 1/3 lifespan: (1317513291, 1317571199)),\n",
       "             ('id-565747', -1 0/0 lifespan: (1317513291, 1317570299)),\n",
       "             ('id-566092', -1 0/0 lifespan: (1317529500, 1317564299)),\n",
       "             ('id-565561', -1 0/0 lifespan: (1317513291, 1317549899)),\n",
       "             ('id-565364', -1 0/0 lifespan: (1317513291, 1317535499)),\n",
       "             ('id-560620', 0.0 0/2 lifespan: (1317513291, 1317521099)),\n",
       "             ('id-564604', -1 0/0 lifespan: (1317513291, 1317520799)),\n",
       "             ('id-563938',\n",
       "              0.08333333333333333 1/12 lifespan: (1317513291, 1317519299)),\n",
       "             ('id-559744', -1 0/0 lifespan: (1317513291, 1317515699)),\n",
       "             ('id-563787', 0.0 0/1 lifespan: (1317513291, 1317515699)),\n",
       "             ('id-552077', 0.0 0/1 lifespan: (1317513291, 1317515399))])"
      ]
     },
     "execution_count": 454,
     "metadata": {},
     "output_type": "execute_result"
    }
   ],
   "source": [
    "agl.pool"
   ]
  },
  {
   "cell_type": "code",
   "execution_count": 455,
   "metadata": {},
   "outputs": [
    {
     "data": {
      "text/plain": [
       "59"
      ]
     },
     "execution_count": 455,
     "metadata": {},
     "output_type": "execute_result"
    }
   ],
   "source": [
    "agl.rewards"
   ]
  },
  {
   "cell_type": "code",
   "execution_count": 449,
   "metadata": {},
   "outputs": [
    {
     "name": "stdout",
     "output_type": "stream",
     "text": [
      "100\r"
     ]
    },
    {
     "name": "stderr",
     "output_type": "stream",
     "text": [
      "/anaconda3/lib/python3.6/site-packages/statsmodels/nonparametric/kde.py:475: DeprecationWarning: object of type <class 'numpy.float64'> cannot be safely interpreted as an integer.\n",
      "  grid,delta = np.linspace(a,b,gridsize,retstep=True)\n"
     ]
    },
    {
     "data": {
      "image/png": "[encoded data removed]",
      "text/plain": [
       "<Figure size 432x288 with 1 Axes>"
      ]
     },
     "metadata": {},
     "output_type": "display_data"
    }
   ],
   "source": [
    "hist_agl = []\n",
    "hist_ag = []\n",
    "for i in range(1, 101):\n",
    "    agl = AG_L(records, pool)\n",
    "    agl.initialize(25)\n",
    "    agl.play(975)\n",
    "    hist_agl.append(agl.rewards)\n",
    "    agl = AG_L(records, pool)\n",
    "    agl.initialize(25)\n",
    "    agl.play(975, 1)\n",
    "    hist_ag.append(agl.rewards)\n",
    "    print(i,end='\\r',flush=True)\n",
    "    time.sleep(.001)\n",
    "sns.distplot(hist_agl, label='AG_L')\n",
    "sns.distplot(hist_ag, label='AG')\n",
    "plt.legend()\n",
    "pass"
   ]
  },
  {
   "cell_type": "code",
   "execution_count": null,
   "metadata": {},
   "outputs": [],
   "source": []
  },
  {
   "cell_type": "code",
   "execution_count": null,
   "metadata": {},
   "outputs": [],
   "source": []
  },
  {
   "cell_type": "code",
   "execution_count": null,
   "metadata": {},
   "outputs": [],
   "source": []
  },
  {
   "cell_type": "code",
   "execution_count": null,
   "metadata": {},
   "outputs": [],
   "source": []
  },
  {
   "cell_type": "code",
   "execution_count": null,
   "metadata": {},
   "outputs": [],
   "source": []
  },
  {
   "cell_type": "code",
   "execution_count": null,
   "metadata": {},
   "outputs": [],
   "source": []
  },
  {
   "cell_type": "code",
   "execution_count": 0,
   "metadata": {
    "colab": {},
    "colab_type": "code",
    "id": "ae5bRUOWn2g6"
   },
   "outputs": [],
   "source": [
    "# test version 3\n",
    "# filter young arms before choosing best score\n",
    "def UCB_L3(n=1000, c=.0005, m=25, p=2, life_threshold=.3, reward_rate=1, records=records, lives=lives, verbose=False, mode=True):\n",
    "  \n",
    "    def get_young_arms():\n",
    "        time = records[i]['timestamp']\n",
    "        born = filter(lambda x: x[1][0]<time, lives.items()) # fileter out unborn articles from lives\n",
    "        life_rank = sorted(born, key= lambda x: x[1][1], reverse= True) # sort born articles by their expiring date\n",
    "        young = life_rank[ : int(len(life_rank)*life_threshold)] # articles among top $life_threshold$% on the life ranking\n",
    "        return list(zip(*young))[0]\n",
    "    def ucb(x):\n",
    "        time = records[i]['timestamp']\n",
    "        article = x[0]\n",
    "        acc_reward, T = x[1]\n",
    "        birth_time, death_time = lives[article]\n",
    "        if article not in S.keys():\n",
    "            S[article] = t\n",
    "        s = S[article]\n",
    "        if mode:\n",
    "            life_left = life_est[article] - t + s\n",
    "            life_spent = t-s\n",
    "\n",
    "            estimation = acc_reward/T\n",
    "            life_regulation = c*np.log(life_left+1)\n",
    "            potential = np.sqrt(p* np.log(life_spent) / T)\n",
    "\n",
    "            return estimation + life_regulation * potential\n",
    "        else:\n",
    "            return acc_reward/T + np.sqrt(p*np.log(t-s)/T)\n",
    "        \n",
    "    rewards = 0\n",
    "    #rewards_log = [0]\n",
    "    i = 0 # marker in records\n",
    "    X = {} # dict of expectations article_id : array([sum, n_observations])\n",
    "    t = 1 # number of turn taken\n",
    "    S = {} # records the first turn an arm is played\n",
    "    # initialization\n",
    "    while t<=m:\n",
    "        displayed = records[i]['displayed']\n",
    "        clicked = records[i]['clicked'] * reward_rate\n",
    "        if displayed not in X.keys():\n",
    "            S[displayed] = t\n",
    "            X[displayed] = np.array([clicked, 1])\n",
    "            if t==1:\n",
    "                starting_time = records[i]['timestamp']\n",
    "            t += 1\n",
    "        i += 1\n",
    "    \n",
    "    regrets = 0\n",
    "    while t<=n:\n",
    "        rec_used = 0\n",
    "        while True:\n",
    "            displayed = records[i]['displayed']\n",
    "            clicked = records[i]['clicked'] * reward_rate\n",
    "                \n",
    "            # initialize all uninitialized arms in the pool with mean of past arms\n",
    "            tmp = {}\n",
    "            for article in records[i]['pool']:\n",
    "                article = article[1:] # items in pool begins with a '|'\n",
    "                estimation = sum(map(lambda x:x[0]/x[1], X.values())) / len(X) \n",
    "                if article not in X.keys():\n",
    "                    tmp[article] = np.array([estimation, 1])\n",
    "            \n",
    "            best = max(# find best among\n",
    "                filter(# young arms within initialized and uninitialized arms\n",
    "                    lambda item:item[0] in get_young_arms(),\n",
    "                    (*X.items(), *tmp.items())\n",
    "                ),\n",
    "                key= ucb\n",
    "            )\n",
    "            \n",
    "            if displayed == best[0]:\n",
    "                rewards += clicked\n",
    "                if displayed not in S.keys(): # the first turn an arm is played\n",
    "                    S[displayed] = t\n",
    "                X[displayed] = X.get(displayed, np.array([0, 0])) + np.array([clicked, 1])\n",
    "                break\n",
    "            \n",
    "            i += 1\n",
    "            rec_used += 1\n",
    "    \n",
    "        t += 1\n",
    "        i += 1\n",
    "        #rewards_log.append(rewards)\n",
    "    #print('regrets',regrets)\n",
    "    return rewards/reward_rate"
   ]
  }
 ],
 "metadata": {
  "colab": {
   "collapsed_sections": [],
   "name": "optimal exploration for mortal MAB.ipynb",
   "provenance": [],
   "version": "0.3.2"
  },
  "kernelspec": {
   "display_name": "Python 3",
   "language": "python",
   "name": "python3"
  },
  "language_info": {
   "codemirror_mode": {
    "name": "ipython",
    "version": 3
   },
   "file_extension": ".py",
   "mimetype": "text/x-python",
   "name": "python",
   "nbconvert_exporter": "python",
   "pygments_lexer": "ipython3",
   "version": "3.6.3"
  }
 },
 "nbformat": 4,
 "nbformat_minor": 1
}
