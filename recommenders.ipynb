{
 "cells": [
  {
   "cell_type": "code",
   "execution_count": 395,
   "metadata": {},
   "outputs": [],
   "source": [
    "%load_ext line_profiler"
   ]
  },
  {
   "cell_type": "code",
   "execution_count": 347,
   "metadata": {
    "colab": {},
    "colab_type": "code",
    "id": "4VV3IK2in2fB"
   },
   "outputs": [],
   "source": [
    "%matplotlib inline\n",
    "\n",
    "import numpy as np\n",
    "import pandas as pd\n",
    "import matplotlib.pyplot as plt\n",
    "\n",
    "import sys\n",
    "import time\n",
    "\n",
    "import seaborn as sns\n",
    "\n",
    "from functools import lru_cache\n",
    "from collections import Counter, defaultdict, OrderedDict, namedtuple\n",
    "import random\n",
    "import copy\n",
    "import bisect"
   ]
  },
  {
   "cell_type": "code",
   "execution_count": 2,
   "metadata": {
    "colab": {},
    "colab_type": "code",
    "id": "6DYUkVrpn2fG"
   },
   "outputs": [],
   "source": [
    "import warnings\n",
    "warnings.filterwarnings('default')"
   ]
  },
  {
   "cell_type": "code",
   "execution_count": 4,
   "metadata": {
    "colab": {
     "base_uri": "https://localhost:8080/",
     "height": 204
    },
    "colab_type": "code",
    "id": "rgJvjT73yiyL",
    "outputId": "797e6fe1-7281-41b5-8d97-69b216c4d86e"
   },
   "outputs": [
    {
     "data": {
      "text/html": [
       "<div>\n",
       "<style scoped>\n",
       "    .dataframe tbody tr th:only-of-type {\n",
       "        vertical-align: middle;\n",
       "    }\n",
       "\n",
       "    .dataframe tbody tr th {\n",
       "        vertical-align: top;\n",
       "    }\n",
       "\n",
       "    .dataframe thead th {\n",
       "        text-align: right;\n",
       "    }\n",
       "</style>\n",
       "<table border=\"1\" class=\"dataframe\">\n",
       "  <thead>\n",
       "    <tr style=\"text-align: right;\">\n",
       "      <th></th>\n",
       "      <th>timestamp</th>\n",
       "      <th>id</th>\n",
       "      <th>clicked</th>\n",
       "    </tr>\n",
       "  </thead>\n",
       "  <tbody>\n",
       "    <tr>\n",
       "      <th>0</th>\n",
       "      <td>1317513291</td>\n",
       "      <td>id-560620</td>\n",
       "      <td>0</td>\n",
       "    </tr>\n",
       "    <tr>\n",
       "      <th>1</th>\n",
       "      <td>1317513291</td>\n",
       "      <td>id-565648</td>\n",
       "      <td>0</td>\n",
       "    </tr>\n",
       "    <tr>\n",
       "      <th>2</th>\n",
       "      <td>1317513291</td>\n",
       "      <td>id-563115</td>\n",
       "      <td>0</td>\n",
       "    </tr>\n",
       "    <tr>\n",
       "      <th>3</th>\n",
       "      <td>1317513292</td>\n",
       "      <td>id-552077</td>\n",
       "      <td>0</td>\n",
       "    </tr>\n",
       "    <tr>\n",
       "      <th>4</th>\n",
       "      <td>1317513292</td>\n",
       "      <td>id-564335</td>\n",
       "      <td>0</td>\n",
       "    </tr>\n",
       "  </tbody>\n",
       "</table>\n",
       "</div>"
      ],
      "text/plain": [
       "    timestamp         id  clicked\n",
       "0  1317513291  id-560620        0\n",
       "1  1317513291  id-565648        0\n",
       "2  1317513291  id-563115        0\n",
       "3  1317513292  id-552077        0\n",
       "4  1317513292  id-564335        0"
      ]
     },
     "execution_count": 4,
     "metadata": {},
     "output_type": "execute_result"
    }
   ],
   "source": [
    "records = pd.read_csv('Webscope_R6B/ydata-fp-td-clicks-v2_0.20111002',\n",
    "           sep=' ',\n",
    "           names=['timestamp','id','clicked'],\n",
    "           usecols=[0,1,2],\n",
    "           )\n",
    "records.head()"
   ]
  },
  {
   "cell_type": "code",
   "execution_count": 6,
   "metadata": {},
   "outputs": [],
   "source": [
    "# parser that watches article lifespans\n",
    "lifespans = {}\n",
    "with open('Webscope_R6B/ydata-fp-td-clicks-v2_0.20111002') as f:\n",
    "    for line in f.readlines():\n",
    "        timestamp = int(line[:10])\n",
    "        components = line.strip().split(' |')\n",
    "        for article in components[2:]:\n",
    "            if article in lifespans:\n",
    "                lifespans[article][1] = timestamp\n",
    "            else:\n",
    "                lifespans[article] = [timestamp, timestamp]"
   ]
  },
  {
   "cell_type": "code",
   "execution_count": 397,
   "metadata": {
    "scrolled": true
   },
   "outputs": [],
   "source": [
    "class Arm:\n",
    "    def __init__(self,lifespan):\n",
    "        self.birth, self.death = lifespan\n",
    "        self.T = 0\n",
    "        self.rewards = 0\n",
    "        self.X = -1\n",
    "    def __repr__(self):\n",
    "        return '{} {}/{} lifespan: {}'.format(self.X, self.rewards, self.T, (self.birth, self.death))\n",
    "pool = {}\n",
    "for k in lifespans:\n",
    "    pool[k] = Arm(lifespans[k])"
   ]
  },
  {
   "cell_type": "code",
   "execution_count": 398,
   "metadata": {
    "scrolled": true
   },
   "outputs": [
    {
     "data": {
      "text/plain": [
       "{'id-552077': -1 0/0 lifespan: (1317513291, 1317515399),\n",
       " 'id-555224': -1 0/0 lifespan: (1317513291, 1317588299),\n",
       " 'id-555528': -1 0/0 lifespan: (1317513291, 1317587099),\n",
       " 'id-559744': -1 0/0 lifespan: (1317513291, 1317515699),\n",
       " 'id-559833': -1 0/0 lifespan: (1317577200, 1317599694),\n",
       " 'id-559855': -1 0/0 lifespan: (1317513291, 1317587099),\n",
       " 'id-560290': -1 0/0 lifespan: (1317513291, 1317587099),\n",
       " 'id-560518': -1 0/0 lifespan: (1317513291, 1317578399),\n",
       " 'id-560620': -1 0/0 lifespan: (1317513291, 1317521099),\n",
       " 'id-560805': -1 0/0 lifespan: (1317565500, 1317599694),\n",
       " 'id-562265': -1 0/0 lifespan: (1317569100, 1317599694),\n",
       " 'id-562374': -1 0/0 lifespan: (1317578100, 1317599694),\n",
       " 'id-562637': -1 0/0 lifespan: (1317583200, 1317599694),\n",
       " 'id-563115': -1 0/0 lifespan: (1317513291, 1317581999),\n",
       " 'id-563582': -1 0/0 lifespan: (1317513291, 1317583799),\n",
       " 'id-563643': -1 0/0 lifespan: (1317513291, 1317599694),\n",
       " 'id-563787': -1 0/0 lifespan: (1317513291, 1317515699),\n",
       " 'id-563846': -1 0/0 lifespan: (1317513291, 1317599694),\n",
       " 'id-563938': -1 0/0 lifespan: (1317513291, 1317519299),\n",
       " 'id-564335': -1 0/0 lifespan: (1317513291, 1317571199),\n",
       " 'id-564371': -1 0/0 lifespan: (1317568200, 1317599694),\n",
       " 'id-564418': -1 0/0 lifespan: (1317513291, 1317599694),\n",
       " 'id-564604': -1 0/0 lifespan: (1317513291, 1317520799),\n",
       " 'id-565364': -1 0/0 lifespan: (1317513291, 1317535499),\n",
       " 'id-565479': -1 0/0 lifespan: (1317513291, 1317583499),\n",
       " 'id-565515': -1 0/0 lifespan: (1317513291, 1317587399),\n",
       " 'id-565533': -1 0/0 lifespan: (1317513291, 1317583499),\n",
       " 'id-565561': -1 0/0 lifespan: (1317513291, 1317549899),\n",
       " 'id-565589': -1 0/0 lifespan: (1317513291, 1317577499),\n",
       " 'id-565648': -1 0/0 lifespan: (1317513291, 1317586799),\n",
       " 'id-565747': -1 0/0 lifespan: (1317513291, 1317570299),\n",
       " 'id-565822': -1 0/0 lifespan: (1317513291, 1317599694),\n",
       " 'id-565930': -1 0/0 lifespan: (1317517500, 1317582299),\n",
       " 'id-565980': -1 0/0 lifespan: (1317570600, 1317574799),\n",
       " 'id-566013': -1 0/0 lifespan: (1317525000, 1317585899),\n",
       " 'id-566022': -1 0/0 lifespan: (1317527100, 1317594299),\n",
       " 'id-566092': -1 0/0 lifespan: (1317529500, 1317564299),\n",
       " 'id-566431': -1 0/0 lifespan: (1317572400, 1317599694),\n",
       " 'id-566439': -1 0/0 lifespan: (1317573300, 1317599694),\n",
       " 'id-566478': -1 0/0 lifespan: (1317579600, 1317599694),\n",
       " 'id-566541': -1 0/0 lifespan: (1317577800, 1317599694),\n",
       " 'id-566573': -1 0/0 lifespan: (1317580200, 1317599694),\n",
       " 'id-566587': -1 0/0 lifespan: (1317579300, 1317599694),\n",
       " 'id-566602': -1 0/0 lifespan: (1317582300, 1317599694),\n",
       " 'id-566631': -1 0/0 lifespan: (1317583500, 1317599694),\n",
       " 'id-566689': -1 0/0 lifespan: (1317586800, 1317599694),\n",
       " 'id-566726': -1 0/0 lifespan: (1317588900, 1317599694),\n",
       " 'id-566825': -1 0/0 lifespan: (1317593700, 1317599694),\n",
       " 'id-566838': -1 0/0 lifespan: (1317596100, 1317599694)}"
      ]
     },
     "execution_count": 398,
     "metadata": {},
     "output_type": "execute_result"
    }
   ],
   "source": [
    "pool"
   ]
  },
  {
   "cell_type": "code",
   "execution_count": 399,
   "metadata": {},
   "outputs": [],
   "source": [
    "class AG_L:\n",
    "    def __init__(self, records, pool):\n",
    "        self.records = records.itertuples()\n",
    "        self.rewards = 0\n",
    "        self.pool = copy.deepcopy(pool) # unordered dict of arms\n",
    "        self.ids = sorted(pool, key=lambda k:pool[k].death, reverse=True) # arm ids sorted by death time\n",
    "        self.n_exploit = 0\n",
    "        \n",
    "    def update(self, record):\n",
    "        self.rewards += record.clicked\n",
    "        self.pool[record.id].rewards += record.clicked\n",
    "        self.pool[record.id].T += 1\n",
    "        self.pool[record.id].X = self.pool[record.id].rewards / self.pool[record.id].T\n",
    "        \n",
    "    def initialize(self, m):\n",
    "        for i in range(m):\n",
    "            record = next(self.records) # raise StopIteration\n",
    "            if not pool[record.id].T: # not played\n",
    "                self.update(record)\n",
    "    \n",
    "    def play(self, n, threshold=.3):\n",
    "        for i in range(n):\n",
    "            while True: # keep trying\n",
    "                record = next(self.records) # raise StopIteration\n",
    "                self.time = record.timestamp\n",
    "                best = max(self.pool.items(), key=lambda i: i[1].X)\n",
    "                if random.random() < best[1].X: #exploit\n",
    "                    pick = best[0]\n",
    "                    exploited = 1\n",
    "                else: #explore\n",
    "                    born = list(filter(lambda arm: self.pool[arm].birth<=self.time<=self.pool[arm].death, self.ids))\n",
    "                    pick = random.choice(born[:int(threshold*len(born))]) # randomly choose one from young born arms\n",
    "                    exploited = 0\n",
    "                if pick == record.id:\n",
    "                    if exploited:\n",
    "                        self.n_exploit += 1\n",
    "                    self.update(record)\n",
    "                    break"
   ]
  },
  {
   "cell_type": "code",
   "execution_count": 405,
   "metadata": {},
   "outputs": [],
   "source": [
    "%lprun -f agl.play agl.play(1000)"
   ]
  },
  {
   "cell_type": "code",
   "execution_count": 400,
   "metadata": {},
   "outputs": [
    {
     "name": "stdout",
     "output_type": "stream",
     "text": [
      "CPU times: user 964 ms, sys: 100 ms, total: 1.06 s\n",
      "Wall time: 1.11 s\n"
     ]
    }
   ],
   "source": [
    "%%time\n",
    "agl = AG_L(records, pool)\n",
    "agl.initialize(25)\n",
    "agl.play(975,.1)"
   ]
  },
  {
   "cell_type": "code",
   "execution_count": 401,
   "metadata": {},
   "outputs": [
    {
     "data": {
      "text/plain": [
       "1317514540"
      ]
     },
     "execution_count": 401,
     "metadata": {},
     "output_type": "execute_result"
    }
   ],
   "source": [
    "agl.time"
   ]
  },
  {
   "cell_type": "code",
   "execution_count": 402,
   "metadata": {},
   "outputs": [
    {
     "data": {
      "text/plain": [
       "117"
      ]
     },
     "execution_count": 402,
     "metadata": {},
     "output_type": "execute_result"
    }
   ],
   "source": [
    "agl.n_exploit"
   ]
  },
  {
   "cell_type": "code",
   "execution_count": 403,
   "metadata": {
    "scrolled": true
   },
   "outputs": [
    {
     "data": {
      "text/plain": [
       "{'id-552077': 0.0 0/1 lifespan: (1317513291, 1317515399),\n",
       " 'id-555224': -1 0/0 lifespan: (1317513291, 1317588299),\n",
       " 'id-555528': 0.0 0/1 lifespan: (1317513291, 1317587099),\n",
       " 'id-559744': -1 0/0 lifespan: (1317513291, 1317515699),\n",
       " 'id-559833': -1 0/0 lifespan: (1317577200, 1317599694),\n",
       " 'id-559855': -1 0/0 lifespan: (1317513291, 1317587099),\n",
       " 'id-560290': 0.0 0/3 lifespan: (1317513291, 1317587099),\n",
       " 'id-560518': -1 0/0 lifespan: (1317513291, 1317578399),\n",
       " 'id-560620': 0.0 0/2 lifespan: (1317513291, 1317521099),\n",
       " 'id-560805': -1 0/0 lifespan: (1317565500, 1317599694),\n",
       " 'id-562265': -1 0/0 lifespan: (1317569100, 1317599694),\n",
       " 'id-562374': -1 0/0 lifespan: (1317578100, 1317599694),\n",
       " 'id-562637': -1 0/0 lifespan: (1317583200, 1317599694),\n",
       " 'id-563115': 0.0 0/4 lifespan: (1317513291, 1317581999),\n",
       " 'id-563582': -1 0/0 lifespan: (1317513291, 1317583799),\n",
       " 'id-563643': 0.06221198156682028 27/434 lifespan: (1317513291, 1317599694),\n",
       " 'id-563787': 0.0 0/1 lifespan: (1317513291, 1317515699),\n",
       " 'id-563846': 0.05581395348837209 24/430 lifespan: (1317513291, 1317599694),\n",
       " 'id-563938': 0.06741573033707865 6/89 lifespan: (1317513291, 1317519299),\n",
       " 'id-564335': 0.06666666666666667 2/30 lifespan: (1317513291, 1317571199),\n",
       " 'id-564371': -1 0/0 lifespan: (1317568200, 1317599694),\n",
       " 'id-564418': -1 0/0 lifespan: (1317513291, 1317599694),\n",
       " 'id-564604': -1 0/0 lifespan: (1317513291, 1317520799),\n",
       " 'id-565364': -1 0/0 lifespan: (1317513291, 1317535499),\n",
       " 'id-565479': -1 0/0 lifespan: (1317513291, 1317583499),\n",
       " 'id-565515': -1 0/0 lifespan: (1317513291, 1317587399),\n",
       " 'id-565533': -1 0/0 lifespan: (1317513291, 1317583499),\n",
       " 'id-565561': -1 0/0 lifespan: (1317513291, 1317549899),\n",
       " 'id-565589': 0.0 0/2 lifespan: (1317513291, 1317577499),\n",
       " 'id-565648': 0.0 0/1 lifespan: (1317513291, 1317586799),\n",
       " 'id-565747': -1 0/0 lifespan: (1317513291, 1317570299),\n",
       " 'id-565822': 0.0 0/2 lifespan: (1317513291, 1317599694),\n",
       " 'id-565930': -1 0/0 lifespan: (1317517500, 1317582299),\n",
       " 'id-565980': -1 0/0 lifespan: (1317570600, 1317574799),\n",
       " 'id-566013': -1 0/0 lifespan: (1317525000, 1317585899),\n",
       " 'id-566022': -1 0/0 lifespan: (1317527100, 1317594299),\n",
       " 'id-566092': -1 0/0 lifespan: (1317529500, 1317564299),\n",
       " 'id-566431': -1 0/0 lifespan: (1317572400, 1317599694),\n",
       " 'id-566439': -1 0/0 lifespan: (1317573300, 1317599694),\n",
       " 'id-566478': -1 0/0 lifespan: (1317579600, 1317599694),\n",
       " 'id-566541': -1 0/0 lifespan: (1317577800, 1317599694),\n",
       " 'id-566573': -1 0/0 lifespan: (1317580200, 1317599694),\n",
       " 'id-566587': -1 0/0 lifespan: (1317579300, 1317599694),\n",
       " 'id-566602': -1 0/0 lifespan: (1317582300, 1317599694),\n",
       " 'id-566631': -1 0/0 lifespan: (1317583500, 1317599694),\n",
       " 'id-566689': -1 0/0 lifespan: (1317586800, 1317599694),\n",
       " 'id-566726': -1 0/0 lifespan: (1317588900, 1317599694),\n",
       " 'id-566825': -1 0/0 lifespan: (1317593700, 1317599694),\n",
       " 'id-566838': -1 0/0 lifespan: (1317596100, 1317599694)}"
      ]
     },
     "execution_count": 403,
     "metadata": {},
     "output_type": "execute_result"
    }
   ],
   "source": [
    "agl.pool"
   ]
  },
  {
   "cell_type": "code",
   "execution_count": 404,
   "metadata": {},
   "outputs": [
    {
     "data": {
      "text/plain": [
       "59"
      ]
     },
     "execution_count": 404,
     "metadata": {},
     "output_type": "execute_result"
    }
   ],
   "source": [
    "agl.rewards"
   ]
  },
  {
   "cell_type": "code",
   "execution_count": 334,
   "metadata": {},
   "outputs": [
    {
     "name": "stdout",
     "output_type": "stream",
     "text": [
      "99\r"
     ]
    },
    {
     "name": "stderr",
     "output_type": "stream",
     "text": [
      "/anaconda3/lib/python3.6/site-packages/statsmodels/nonparametric/kde.py:475: DeprecationWarning: object of type <class 'numpy.float64'> cannot be safely interpreted as an integer.\n",
      "  grid,delta = np.linspace(a,b,gridsize,retstep=True)\n"
     ]
    },
    {
     "data": {
      "image/png": "[encoded data removed]",
      "text/plain": [
       "<Figure size 432x288 with 1 Axes>"
      ]
     },
     "metadata": {},
     "output_type": "display_data"
    }
   ],
   "source": [
    "hist_agl = []\n",
    "hist_ag = []\n",
    "for i in range(1, 101):\n",
    "    agl = AG_L(records, pool)\n",
    "    agl.initialize(25)\n",
    "    agl.play(975)\n",
    "    hist_agl.append(agl.rewards)\n",
    "    agl = AG_L(records, pool)\n",
    "    agl.initialize(25)\n",
    "    agl.play(975, 1)\n",
    "    hist_ag.append(agl.rewards)\n",
    "    print(i,end='\\r',flush=True)\n",
    "    time.sleep(.001)\n",
    "sns.distplot(hist_agl, label='AG_L')\n",
    "sns.distplot(hist_ag, label='AG')\n",
    "plt.legend()\n",
    "pass"
   ]
  },
  {
   "cell_type": "code",
   "execution_count": 0,
   "metadata": {
    "colab": {},
    "colab_type": "code",
    "id": "hMR-w8ZLn2g1"
   },
   "outputs": [],
   "source": [
    "# offline simulation for UCB_L\n",
    "def UCB_L(n=1000, c=.005, m=25, r=1, records=records, lives=lives, verbose=True, mode=True):\n",
    "    # records should be long enough\n",
    "    '''\n",
    "    n: number of turns to play\n",
    "    m: number of turns to initialize\n",
    "    k: adjust desire to exploit/explore\n",
    "    mode: whether the modification is active or not\n",
    "    '''\n",
    "    def ucb(x):\n",
    "        # r: ratio between paces of timestamp and turns\n",
    "        time = records[i]['timestamp']\n",
    "        article = x[0]\n",
    "        acc_reward, T = x[1]\n",
    "        die = lives[article][1]\n",
    "        s = S.get(article, t)\n",
    "        if mode:\n",
    "            return acc_reward/T + c*np.log(r*(die-time)+1) * np.sqrt(2*np.log(t-s+1) / T)\n",
    "        else:\n",
    "            return acc_reward/T + np.sqrt(2*np.log(t-s+1)/T)\n",
    "        \n",
    "    rewards = 0\n",
    "    i = 0 # marker in records\n",
    "    X = {} # dict of expectations article_id : array([sum, n_observations])\n",
    "    t = 1 # number of turn taken\n",
    "    S = {} # records the first turn an arm is played\n",
    "    # initialization\n",
    "    while t<=m:\n",
    "        displayed = records[i]['displayed']\n",
    "        clicked = records[i]['clicked']\n",
    "        if displayed not in X.keys():\n",
    "            S[displayed] = t\n",
    "            X[displayed] = np.array([clicked, 1])\n",
    "            t += 1\n",
    "        i += 1\n",
    "    \n",
    "    while t<=n:\n",
    "        while i<len(records):\n",
    "            fake = False\n",
    "            displayed = records[i]['displayed']\n",
    "            clicked = records[i]['clicked']\n",
    "            \n",
    "            if displayed not in X.keys(): # use previous mean as an estimation for an unseen arm\n",
    "                fake = True\n",
    "                estimation = sum(map(lambda x:x[0]/x[1], X.values())) / len(X) \n",
    "                X[displayed] = np.array([estimation, 1])\n",
    "                            \n",
    "            best = max(X.items(), key= ucb)\n",
    "            \n",
    "            if fake:\n",
    "                X.pop(displayed)\n",
    "\n",
    "            if displayed == best[0]:\n",
    "                rewards += clicked\n",
    "                if displayed not in S.keys(): # the first time an arm is played\n",
    "                    S[displayed] = t\n",
    "                X[displayed] = X.get(displayed, np.array([0, 0])) + np.array([clicked, 1])\n",
    "                break\n",
    "            i += 1\n",
    "            \n",
    "        if i>=len(records):\n",
    "            print('running out of records')\n",
    "            return\n",
    "        \n",
    "        if verbose:       \n",
    "            if i%1000==0:\n",
    "                print(t,i)\n",
    "            \n",
    "        t += 1\n",
    "        i += 1\n",
    "    if verbose:\n",
    "        print('# X', len(X.keys()))\n",
    "        print('# records', i)\n",
    "        return rewards, X\n",
    "    return rewards"
   ]
  },
  {
   "cell_type": "code",
   "execution_count": 0,
   "metadata": {
    "colab": {},
    "colab_type": "code",
    "id": "ae5bRUOWn2g6"
   },
   "outputs": [],
   "source": [
    "# test version 3\n",
    "# filter young arms before choosing best score\n",
    "def UCB_L3(n=1000, c=.0005, m=25, p=2, life_threshold=.3, reward_rate=1, records=records, lives=lives, verbose=False, mode=True):\n",
    "  \n",
    "    def get_young_arms():\n",
    "        time = records[i]['timestamp']\n",
    "        born = filter(lambda x: x[1][0]<time, lives.items()) # fileter out unborn articles from lives\n",
    "        life_rank = sorted(born, key= lambda x: x[1][1], reverse= True) # sort born articles by their expiring date\n",
    "        young = life_rank[ : int(len(life_rank)*life_threshold)] # articles among top $life_threshold$% on the life ranking\n",
    "        return list(zip(*young))[0]\n",
    "    def ucb(x):\n",
    "        time = records[i]['timestamp']\n",
    "        article = x[0]\n",
    "        acc_reward, T = x[1]\n",
    "        birth_time, death_time = lives[article]\n",
    "        if article not in S.keys():\n",
    "            S[article] = t\n",
    "        s = S[article]\n",
    "        if mode:\n",
    "            life_left = life_est[article] - t + s\n",
    "            life_spent = t-s\n",
    "\n",
    "            estimation = acc_reward/T\n",
    "            life_regulation = c*np.log(life_left+1)\n",
    "            potential = np.sqrt(p* np.log(life_spent) / T)\n",
    "\n",
    "            return estimation + life_regulation * potential\n",
    "        else:\n",
    "            return acc_reward/T + np.sqrt(p*np.log(t-s)/T)\n",
    "        \n",
    "    rewards = 0\n",
    "    #rewards_log = [0]\n",
    "    i = 0 # marker in records\n",
    "    X = {} # dict of expectations article_id : array([sum, n_observations])\n",
    "    t = 1 # number of turn taken\n",
    "    S = {} # records the first turn an arm is played\n",
    "    # initialization\n",
    "    while t<=m:\n",
    "        displayed = records[i]['displayed']\n",
    "        clicked = records[i]['clicked'] * reward_rate\n",
    "        if displayed not in X.keys():\n",
    "            S[displayed] = t\n",
    "            X[displayed] = np.array([clicked, 1])\n",
    "            if t==1:\n",
    "                starting_time = records[i]['timestamp']\n",
    "            t += 1\n",
    "        i += 1\n",
    "    \n",
    "    regrets = 0\n",
    "    while t<=n:\n",
    "        rec_used = 0\n",
    "        while True:\n",
    "            displayed = records[i]['displayed']\n",
    "            clicked = records[i]['clicked'] * reward_rate\n",
    "                \n",
    "            # initialize all uninitialized arms in the pool with mean of past arms\n",
    "            tmp = {}\n",
    "            for article in records[i]['pool']:\n",
    "                article = article[1:] # items in pool begins with a '|'\n",
    "                estimation = sum(map(lambda x:x[0]/x[1], X.values())) / len(X) \n",
    "                if article not in X.keys():\n",
    "                    tmp[article] = np.array([estimation, 1])\n",
    "            \n",
    "            best = max(# find best among\n",
    "                filter(# young arms within initialized and uninitialized arms\n",
    "                    lambda item:item[0] in get_young_arms(),\n",
    "                    (*X.items(), *tmp.items())\n",
    "                ),\n",
    "                key= ucb\n",
    "            )\n",
    "            \n",
    "            if displayed == best[0]:\n",
    "                rewards += clicked\n",
    "                if displayed not in S.keys(): # the first turn an arm is played\n",
    "                    S[displayed] = t\n",
    "                X[displayed] = X.get(displayed, np.array([0, 0])) + np.array([clicked, 1])\n",
    "                break\n",
    "            \n",
    "            i += 1\n",
    "            rec_used += 1\n",
    "    \n",
    "        t += 1\n",
    "        i += 1\n",
    "        #rewards_log.append(rewards)\n",
    "    #print('regrets',regrets)\n",
    "    return rewards/reward_rate"
   ]
  },
  {
   "cell_type": "code",
   "execution_count": 0,
   "metadata": {
    "colab": {},
    "colab_type": "code",
    "id": "Y2-PByA6xvYU"
   },
   "outputs": [],
   "source": [
    "life_est = {}\n",
    "life_length = {}"
   ]
  },
  {
   "cell_type": "code",
   "execution_count": 0,
   "metadata": {
    "colab": {},
    "colab_type": "code",
    "id": "eBCH6rRwn2g_"
   },
   "outputs": [],
   "source": [
    "# test version\n",
    "def UCB_L2(n=1000, c=.0005, m=25, p=2, reward_rate=1, records=records, lives=lives, verbose=False, mode=True):\n",
    "    def ucb(x):\n",
    "        time = records[i]['timestamp']\n",
    "        article = x[0]\n",
    "        acc_reward, T = x[1]\n",
    "        birth_time, death_time = lives[article]\n",
    "        if article not in S.keys():\n",
    "            S[article] = t\n",
    "        s = S[article]\n",
    "        if mode:\n",
    "          \n",
    "            life_left = life_est[article] - t + s\n",
    "            life_spent = t-s\n",
    "            \n",
    "            '''# dynamic ratio from turn to timestamp\n",
    "            try:\n",
    "                turn2time = (t-1)/(time-starting_time)\n",
    "            except ZeroDivisionError:\n",
    "                turn2time = t-1\n",
    "            # unborn or dead arms\n",
    "            if death_time < time or time <= birth_time:\n",
    "                return 0\n",
    "            life_left = (death_time - time) * turn2time\n",
    "            life_spent = (time - birth_time) * turn2time\n",
    "            # trace estimated life length(in turns)\n",
    "            if article not in life_length:\n",
    "                life_length[article] = []\n",
    "            else:\n",
    "                life_length[article].append(life_left + life_spent)'''\n",
    "            \n",
    "            \n",
    "            estimation = acc_reward/T\n",
    "            life_regulation = c*np.log(life_left+1)\n",
    "            potential = np.sqrt(p* np.log(life_spent) / T)\n",
    "                      \n",
    "            '''if verbose:\n",
    "                print(article, estimation, life_regulation* potential, life_regulation*potential/estimation)'''\n",
    "                \n",
    "            return estimation + life_regulation * potential\n",
    "        else:\n",
    "            return acc_reward/T + np.sqrt(p*np.log(t-s)/T)\n",
    "        \n",
    "    rewards = 0\n",
    "    #rewards_log = [0]\n",
    "    i = 0 # marker in records\n",
    "    X = {} # dict of expectations article_id : array([sum, n_observations])\n",
    "    t = 1 # number of turn taken\n",
    "    S = {} # records the first turn an arm is played\n",
    "    # initialization\n",
    "    while t<=m:\n",
    "        displayed = records[i]['displayed']\n",
    "        clicked = records[i]['clicked'] * reward_rate\n",
    "        if displayed not in X.keys():\n",
    "            S[displayed] = t\n",
    "            X[displayed] = np.array([clicked, 1])\n",
    "            if t==1:\n",
    "                starting_time = records[i]['timestamp']\n",
    "            t += 1\n",
    "        i += 1\n",
    "    \n",
    "    regrets = 0\n",
    "    log = []\n",
    "    while t<=n:\n",
    "        #rec_used = 0\n",
    "        while True:\n",
    "            displayed = records[i]['displayed']\n",
    "            clicked = records[i]['clicked'] * reward_rate\n",
    "                \n",
    "            # initialize all uninitialized arms in the pool with mean of past arms\n",
    "            tmp = {}\n",
    "            for article in records[i]['pool']:\n",
    "                article = article[1:] # items in pool begins with a '|'\n",
    "                estimation = sum(map(lambda x:x[0]/x[1], X.values())) / len(X) \n",
    "                if article not in X.keys():\n",
    "                    tmp[article] = np.array([estimation, 1])\n",
    "            \n",
    "            best = max(\n",
    "                (*X.items(), *tmp.items()),\n",
    "                key= ucb\n",
    "            )\n",
    "            \n",
    "            if displayed == best[0]:\n",
    "                log.append((displayed, clicked))\n",
    "\n",
    "                rewards += clicked\n",
    "                if displayed not in S.keys(): # the first turn an arm is played\n",
    "                    S[displayed] = t\n",
    "                X[displayed] = X.get(displayed, np.array([0, 0])) + np.array([clicked, 1])\n",
    "                break\n",
    "              \n",
    "            \n",
    "            i += 1\n",
    "            #rec_used += 1\n",
    "    \n",
    "        t += 1\n",
    "        i += 1\n",
    "        #rewards_log.append(rewards)\n",
    "    #print('regrets',regrets)\n",
    "    res = {'X':X,'rewards':rewards/reward_rate,'t':t,'i':i}\n",
    "\n",
    "    return res, log"
   ]
  },
  {
   "cell_type": "code",
   "execution_count": 33,
   "metadata": {
    "colab": {
     "base_uri": "https://localhost:8080/",
     "height": 68
    },
    "colab_type": "code",
    "id": "OHTwomsZ8Azu",
    "outputId": "64544578-bd40-44ba-f736-edceb68ff631"
   },
   "outputs": [
    {
     "name": "stderr",
     "output_type": "stream",
     "text": [
      "/usr/local/lib/python3.6/dist-packages/ipykernel_launcher.py:34: RuntimeWarning: divide by zero encountered in log\n",
      "/usr/local/lib/python3.6/dist-packages/ipykernel_launcher.py:34: RuntimeWarning: invalid value encountered in sqrt\n"
     ]
    },
    {
     "data": {
      "text/plain": [
       "32.00000000000001"
      ]
     },
     "execution_count": 33,
     "metadata": {
      "tags": []
     },
     "output_type": "execute_result"
    }
   ],
   "source": [
    "# only remaining life matters\n",
    "UCB_L2(c=1,reward_rate=.00000000001)['rewards']"
   ]
  },
  {
   "cell_type": "code",
   "execution_count": 32,
   "metadata": {
    "colab": {
     "base_uri": "https://localhost:8080/",
     "height": 68
    },
    "colab_type": "code",
    "id": "RLJMgwfR8Jhl",
    "outputId": "560c5988-1b59-48c7-b9ea-251359300df0"
   },
   "outputs": [
    {
     "name": "stderr",
     "output_type": "stream",
     "text": [
      "/usr/local/lib/python3.6/dist-packages/ipykernel_launcher.py:34: RuntimeWarning: divide by zero encountered in log\n",
      "/usr/local/lib/python3.6/dist-packages/ipykernel_launcher.py:34: RuntimeWarning: invalid value encountered in sqrt\n"
     ]
    },
    {
     "data": {
      "text/plain": [
       "31.0"
      ]
     },
     "execution_count": 32,
     "metadata": {
      "tags": []
     },
     "output_type": "execute_result"
    }
   ],
   "source": [
    "# only current expectation matters\n",
    "UCB_L2(c=1,reward_rate=1000000000)['rewards']"
   ]
  },
  {
   "cell_type": "code",
   "execution_count": 57,
   "metadata": {
    "colab": {
     "base_uri": "https://localhost:8080/",
     "height": 51
    },
    "colab_type": "code",
    "id": "d569pPUQn2hD",
    "outputId": "bb3be2fb-c9b2-41a0-9ccf-3c65ec8966b0"
   },
   "outputs": [
    {
     "name": "stderr",
     "output_type": "stream",
     "text": [
      "/usr/local/lib/python3.6/dist-packages/ipykernel_launcher.py:34: RuntimeWarning: divide by zero encountered in log\n",
      "/usr/local/lib/python3.6/dist-packages/ipykernel_launcher.py:34: RuntimeWarning: invalid value encountered in sqrt\n"
     ]
    }
   ],
   "source": [
    "res_ucb2, log_ucb2 = UCB_L2()"
   ]
  },
  {
   "cell_type": "code",
   "execution_count": 0,
   "metadata": {
    "colab": {},
    "colab_type": "code",
    "id": "qBBocDLz2cpo"
   },
   "outputs": [],
   "source": [
    "res_agl2, log_agl2 = AG_L2(n=1000, verbose=False)"
   ]
  },
  {
   "cell_type": "code",
   "execution_count": 62,
   "metadata": {
    "colab": {
     "base_uri": "https://localhost:8080/",
     "height": 1496
    },
    "colab_type": "code",
    "id": "fDvXqzHYIddK",
    "outputId": "2714d870-30ac-4a7c-e254-f0a7cbdb2180"
   },
   "outputs": [
    {
     "name": "stdout",
     "output_type": "stream",
     "text": [
      "5 ('id-563643', 1) ('id-563938', 0)\n",
      "8 ('id-563643', 1) ('id-563938', 0)\n",
      "67 ('id-563846', 0) ('id-555224', 1)\n",
      "78 ('id-563643', 0) ('id-555224', 1)\n",
      "82 ('id-563643', 1) ('id-555224', 0)\n",
      "85 ('id-563643', 1) ('id-555224', 0)\n",
      "106 ('id-563643', 1) ('id-555224', 0)\n",
      "120 ('id-563643', 0) ('id-555224', 1)\n",
      "124 ('id-563846', 0) ('id-555224', 1)\n",
      "133 ('id-563643', 0) ('id-555224', 1)\n",
      "150 ('id-563643', 0) ('id-555224', 1)\n",
      "151 ('id-563643', 0) ('id-555224', 1)\n",
      "154 ('id-563643', 0) ('id-555224', 1)\n",
      "160 ('id-563643', 1) ('id-555224', 0)\n",
      "165 ('id-563846', 1) ('id-555224', 0)\n",
      "167 ('id-563846', 1) ('id-555224', 0)\n",
      "177 ('id-563846', 0) ('id-555224', 1)\n",
      "180 ('id-563846', 0) ('id-555224', 1)\n",
      "192 ('id-563643', 0) ('id-555224', 1)\n",
      "197 ('id-563643', 1) ('id-555224', 0)\n",
      "201 ('id-563846', 0) ('id-555224', 1)\n",
      "203 ('id-563643', 0) ('id-555224', 1)\n",
      "233 ('id-563643', 1) ('id-555224', 0)\n",
      "237 ('id-563643', 1) ('id-555224', 0)\n",
      "257 ('id-563846', 1) ('id-555224', 0)\n",
      "307 ('id-563846', 0) ('id-555224', 1)\n",
      "329 ('id-563643', 1) ('id-555224', 0)\n",
      "346 ('id-563643', 0) ('id-555224', 1)\n",
      "349 ('id-563643', 0) ('id-555224', 1)\n",
      "356 ('id-563643', 0) ('id-555224', 1)\n",
      "358 ('id-563643', 0) ('id-555224', 1)\n",
      "363 ('id-563643', 0) ('id-555224', 1)\n",
      "370 ('id-563643', 1) ('id-555224', 0)\n",
      "379 ('id-563643', 0) ('id-555224', 1)\n",
      "389 ('id-563846', 0) ('id-555224', 1)\n",
      "426 ('id-563643', 1) ('id-555224', 0)\n",
      "429 ('id-563846', 1) ('id-555224', 0)\n",
      "446 ('id-563846', 1) ('id-555224', 0)\n",
      "449 ('id-563643', 1) ('id-555224', 0)\n",
      "453 ('id-563846', 1) ('id-555224', 0)\n",
      "464 ('id-563643', 0) ('id-555224', 1)\n",
      "494 ('id-563846', 1) ('id-555224', 0)\n",
      "544 ('id-563846', 0) ('id-555224', 1)\n",
      "571 ('id-563643', 0) ('id-555224', 1)\n",
      "573 ('id-563643', 0) ('id-555224', 1)\n",
      "602 ('id-563846', 0) ('id-555224', 1)\n",
      "605 ('id-563643', 1) ('id-555224', 0)\n",
      "606 ('id-563643', 1) ('id-555224', 0)\n",
      "615 ('id-563846', 0) ('id-555224', 1)\n",
      "631 ('id-563643', 1) ('id-555224', 0)\n",
      "632 ('id-563846', 1) ('id-555224', 0)\n",
      "660 ('id-563643', 1) ('id-555224', 0)\n",
      "666 ('id-563846', 0) ('id-555224', 1)\n",
      "671 ('id-563846', 1) ('id-555224', 0)\n",
      "678 ('id-563643', 1) ('id-555224', 0)\n",
      "680 ('id-563643', 1) ('id-555224', 0)\n",
      "694 ('id-563846', 1) ('id-555224', 0)\n",
      "695 ('id-563846', 1) ('id-555224', 0)\n",
      "712 ('id-563846', 0) ('id-555224', 1)\n",
      "717 ('id-563643', 1) ('id-555224', 0)\n",
      "721 ('id-563643', 0) ('id-555224', 1)\n",
      "729 ('id-563846', 0) ('id-555224', 1)\n",
      "733 ('id-563846', 1) ('id-555224', 0)\n",
      "734 ('id-563643', 1) ('id-555224', 0)\n",
      "757 ('id-563643', 0) ('id-555224', 1)\n",
      "764 ('id-563846', 0) ('id-555224', 1)\n",
      "767 ('id-563643', 0) ('id-555224', 1)\n",
      "789 ('id-563643', 0) ('id-555224', 1)\n",
      "795 ('id-563643', 0) ('id-555224', 1)\n",
      "798 ('id-563643', 0) ('id-555224', 1)\n",
      "810 ('id-563643', 0) ('id-555224', 1)\n",
      "823 ('id-563643', 1) ('id-555224', 0)\n",
      "836 ('id-563643', 1) ('id-555224', 0)\n",
      "841 ('id-563846', 0) ('id-555224', 1)\n",
      "852 ('id-563846', 1) ('id-555224', 0)\n",
      "859 ('id-563643', 1) ('id-555224', 0)\n",
      "873 ('id-563643', 1) ('id-555224', 0)\n",
      "875 ('id-563643', 1) ('id-555224', 0)\n",
      "878 ('id-563846', 0) ('id-555224', 1)\n",
      "880 ('id-563643', 0) ('id-555224', 1)\n",
      "911 ('id-563846', 0) ('id-555224', 1)\n",
      "913 ('id-563643', 1) ('id-555224', 0)\n",
      "915 ('id-563846', 1) ('id-555224', 0)\n",
      "933 ('id-563643', 1) ('id-555224', 0)\n",
      "938 ('id-563846', 1) ('id-555224', 0)\n",
      "939 ('id-563643', 1) ('id-555224', 0)\n",
      "950 ('id-563643', 1) ('id-555224', 0)\n"
     ]
    }
   ],
   "source": [
    "for i in range(len(log_agl2)):\n",
    "  if log_agl2[i][1] != log_ucb2[i][1]:\n",
    "    print(i, log_agl2[i], log_ucb2[i])"
   ]
  },
  {
   "cell_type": "code",
   "execution_count": 43,
   "metadata": {
    "colab": {
     "base_uri": "https://localhost:8080/",
     "height": 265
    },
    "colab_type": "code",
    "id": "kwYkmwe-ycXh",
    "outputId": "f3e1e377-db82-41e3-a1d0-f0bc896a9f37"
   },
   "outputs": [
    {
     "data": {
      "image/png": "[encoded data removed]",
      "text/plain": [
       "<matplotlib.figure.Figure at 0x7fc604a95780>"
      ]
     },
     "metadata": {
      "tags": []
     },
     "output_type": "display_data"
    }
   ],
   "source": [
    "# the estimation for life length(in turns) should be stable\n",
    "for i in life_length.values():\n",
    "    plt.plot(i)"
   ]
  },
  {
   "cell_type": "code",
   "execution_count": 44,
   "metadata": {
    "colab": {
     "base_uri": "https://localhost:8080/",
     "height": 476
    },
    "colab_type": "code",
    "id": "GTwQDcwwyeM0",
    "outputId": "820ba79e-4bae-4d1e-ed35-fe64bd4fa0db"
   },
   "outputs": [
    {
     "data": {
      "text/plain": [
       "{'id-552077': 1693.0,\n",
       " 'id-555224': 71503.95576318048,\n",
       " 'id-555528': 70360.01449137191,\n",
       " 'id-559744': 1984.0,\n",
       " 'id-559855': 70360.01449137191,\n",
       " 'id-560290': 70360.01449137191,\n",
       " 'id-560518': 62066.44027075984,\n",
       " 'id-560620': 7066.0,\n",
       " 'id-563115': 65498.264086185525,\n",
       " 'id-563582': 67214.17599389836,\n",
       " 'id-563643': 82366.63142339594,\n",
       " 'id-563787': 1984.0,\n",
       " 'id-563846': 82366.63142339594,\n",
       " 'id-563938': 5321.0,\n",
       " 'id-564335': 55202.792639908475,\n",
       " 'id-564418': 82366.63142339594,\n",
       " 'id-564604': 6791.0,\n",
       " 'id-565364': 21170.539803603773,\n",
       " 'id-565479': 66928.19067594623,\n",
       " 'id-565515': 70645.99980932404,\n",
       " 'id-565533': 66928.19067594623,\n",
       " 'id-565561': 34897.83506530651,\n",
       " 'id-565589': 61208.48431690342,\n",
       " 'id-565648': 70074.02917341978,\n",
       " 'id-565747': 54344.836686052055,\n",
       " 'id-565822': 82366.63142339594,\n",
       " 'id-565930': 61771.87539326913}"
      ]
     },
     "execution_count": 44,
     "metadata": {
      "tags": []
     },
     "output_type": "execute_result"
    }
   ],
   "source": [
    "life_est={}\n",
    "for key in life_length:\n",
    "    life_est[key] = life_length[key][-1]\n",
    "life_est"
   ]
  },
  {
   "cell_type": "code",
   "execution_count": 0,
   "metadata": {
    "colab": {},
    "colab_type": "code",
    "id": "tCyF14zfn2hH"
   },
   "outputs": [],
   "source": [
    "ucbl2 = []\n",
    "for i in range(100):\n",
    "    ucbl2.append(UCB_L2(n=500, m=20, records=records[i*300:1000000+i*300], verbose=False))\n",
    "    print(i+1,end='\\r',flush=True)\n",
    "    time.sleep(.0001)"
   ]
  },
  {
   "cell_type": "code",
   "execution_count": 0,
   "metadata": {
    "colab": {},
    "colab_type": "code",
    "id": "OLkZV-evn2hN"
   },
   "outputs": [],
   "source": [
    "ucbl3 = []\n",
    "for i in range(100):\n",
    "    ucbl3.append(UCB_L3(n=500, m=20, records=records[i*300:1000000+i*300], verbose=False))\n",
    "    print(i+1,end='\\r',flush=True)\n",
    "    time.sleep(.0001)"
   ]
  },
  {
   "cell_type": "code",
   "execution_count": 0,
   "metadata": {
    "colab": {},
    "colab_type": "code",
    "id": "u-dzbFV4n2hR"
   },
   "outputs": [],
   "source": [
    "sns.distplot(ucbl3,label='UCB_L3')\n",
    "sns.distplot(ucbl2,label='UCB_L2')\n",
    "sns.distplot(ucbn,label='UCB')\n",
    "sns.distplot(agl,label='AG_L')\n",
    "sns.distplot(ag,label='AG')\n",
    "plt.legend()\n",
    "pass"
   ]
  },
  {
   "cell_type": "code",
   "execution_count": 0,
   "metadata": {
    "colab": {},
    "colab_type": "code",
    "id": "pCpROOedn2hY"
   },
   "outputs": [],
   "source": [
    "# use estimated life length(in turns)\n",
    "plt.figure(figsize=(10,5))\n",
    "ts = [.1, .2, .3, .4, .5, .6, .7, .8, .9]\n",
    "xs = []\n",
    "ys = []\n",
    "for t in ts:\n",
    "    xs.append( 't={}'.format(str(t)) )\n",
    "    ys.append(UCB_L2(life_threshold=t,records=records, verbose=False))\n",
    "plt.bar(xs, ys)"
   ]
  },
  {
   "cell_type": "code",
   "execution_count": 0,
   "metadata": {
    "colab": {},
    "colab_type": "code",
    "id": "1U0s8jVbn2ha"
   },
   "outputs": [],
   "source": []
  },
  {
   "cell_type": "code",
   "execution_count": 0,
   "metadata": {
    "colab": {},
    "colab_type": "code",
    "id": "3aYjq9_Fn2hc"
   },
   "outputs": [],
   "source": []
  },
  {
   "cell_type": "code",
   "execution_count": 0,
   "metadata": {
    "colab": {},
    "colab_type": "code",
    "id": "rQSmdg9Mn2hf"
   },
   "outputs": [],
   "source": [
    "# the estimation for life length(in turns) should be stable\n",
    "for i in life_length.values():\n",
    "    plt.plot(i)"
   ]
  },
  {
   "cell_type": "code",
   "execution_count": 0,
   "metadata": {
    "colab": {},
    "colab_type": "code",
    "id": "J60OsuUHn2hj"
   },
   "outputs": [],
   "source": [
    "life_est={}\n",
    "for key in life_length:\n",
    "    life_est[key] = life_length[key][-1]\n",
    "life_est"
   ]
  },
  {
   "cell_type": "code",
   "execution_count": 0,
   "metadata": {
    "colab": {},
    "colab_type": "code",
    "id": "Ql0RQuYkn2hq"
   },
   "outputs": [],
   "source": [
    "# use estimated life length(in turns)\n",
    "plt.figure(figsize=(10,5))\n",
    "cs = [.0005, .001, .005, .01, .05, .1, .5, 1, 5, 20, 50, 100]\n",
    "xs = []\n",
    "ys = []\n",
    "for c in cs:\n",
    "    xs.append( 'c={}'.format(str(c)) )\n",
    "    ys.append(UCB_L2(c=c,records=records[3000:], verbose=False))\n",
    "plt.bar(xs, ys)"
   ]
  },
  {
   "cell_type": "code",
   "execution_count": 0,
   "metadata": {
    "colab": {},
    "colab_type": "code",
    "id": "pbqTmEOEn2hu"
   },
   "outputs": [],
   "source": [
    "# use estimated life length(in turns)\n",
    "plt.figure(figsize=(10,5))\n",
    "cs = [.0005, .001, .005, .01, .05, .1, .5, 1, 5, 20, 50, 100]\n",
    "xs = []\n",
    "ys = []\n",
    "for c in cs:\n",
    "    xs.append( 'c={}'.format(str(c)) )\n",
    "    ys.append(UCB_L2(c=c,records=records[1500:], verbose=False))\n",
    "plt.bar(xs, ys)"
   ]
  },
  {
   "cell_type": "code",
   "execution_count": 0,
   "metadata": {
    "colab": {},
    "colab_type": "code",
    "id": "cGGzcuLJn2hw"
   },
   "outputs": [],
   "source": [
    "# use estimated life length(in turns)\n",
    "plt.figure(figsize=(10,5))\n",
    "cs = [.0005, .001, .005, .01, .05, .1, .5, 1, 5, 20, 50, 100]\n",
    "xs = []\n",
    "ys = []\n",
    "for c in cs:\n",
    "    xs.append( 'c={}'.format(str(c)) )\n",
    "    ys.append(UCB_L2(c=c, verbose=False))\n",
    "plt.bar(xs, ys)"
   ]
  },
  {
   "cell_type": "code",
   "execution_count": 0,
   "metadata": {
    "colab": {},
    "colab_type": "code",
    "id": "ezHUrhTtn2hz"
   },
   "outputs": [],
   "source": [
    "# use estimated life length(in turns)\n",
    "plt.figure(figsize=(10,5))\n",
    "rs = [10,50,100,200,500,1000,2000,5000,10000]\n",
    "xs = []\n",
    "ys = []\n",
    "for r in rs:\n",
    "    xs.append( 'r={}'.format(str(r)) )\n",
    "    ys.append(UCB_L2(reward_rate=r, verbose=False))\n",
    "plt.bar(xs, ys)"
   ]
  },
  {
   "cell_type": "code",
   "execution_count": 0,
   "metadata": {
    "colab": {},
    "colab_type": "code",
    "id": "i6x5QMdln2h3"
   },
   "outputs": [],
   "source": [
    "# use estimated life length(in turns)\n",
    "plt.figure(figsize=(10,5))\n",
    "rs = [.001, .005, .01, .05, .1, .5, 1, 5, 20, 50, 100]\n",
    "xs = []\n",
    "ys = []\n",
    "for r in rs:\n",
    "    xs.append( 'r={}'.format(str(r)) )\n",
    "    ys.append(UCB_L2(reward_rate=r, verbose=False))\n",
    "plt.bar(xs, ys)"
   ]
  },
  {
   "cell_type": "code",
   "execution_count": 0,
   "metadata": {
    "colab": {},
    "colab_type": "code",
    "id": "XS_19Q7Cn2h7"
   },
   "outputs": [],
   "source": [
    "# use estimated life length(in turns)\n",
    "plt.figure(figsize=(10,5))\n",
    "cs = [5,10,20,50]\n",
    "rs = [10,50,100,150]\n",
    "xs = []\n",
    "ys = []\n",
    "for c in cs:\n",
    "    for r in rs:\n",
    "        xs.append( 'c{}\\nr{}'.format(str(c),str(r)) )\n",
    "        ys.append(UCB_L2(c=c,reward_rate=r, verbose=False))\n",
    "plt.bar(xs, ys)"
   ]
  },
  {
   "cell_type": "code",
   "execution_count": 0,
   "metadata": {
    "colab": {},
    "colab_type": "code",
    "id": "ikkQrMgXn2h-"
   },
   "outputs": [],
   "source": [
    "ucbl = []\n",
    "ucbn = []\n",
    "for i in range(100):\n",
    "    ucbl.append(UCB_L(n=500, m=20, r=.8, c=0.005, records=records[i*100:1000000+i*100], verbose=False))\n",
    "    ucbn.append(UCB_L(n=500, m=20, r=.8, records=records[i*100:1000000+i*100], mode=False, verbose=False))\n",
    "    print(i,end='\\r',flush=True)\n",
    "    time.sleep(.001)\n",
    "sns.distplot(ucbl,label='UCB_L')\n",
    "sns.distplot(ucbn,label='UCB')\n",
    "plt.legend()\n",
    "pass"
   ]
  }
 ],
 "metadata": {
  "colab": {
   "collapsed_sections": [],
   "name": "optimal exploration for mortal MAB.ipynb",
   "provenance": [],
   "version": "0.3.2"
  },
  "kernelspec": {
   "display_name": "Python 3",
   "language": "python",
   "name": "python3"
  },
  "language_info": {
   "codemirror_mode": {
    "name": "ipython",
    "version": 3
   },
   "file_extension": ".py",
   "mimetype": "text/x-python",
   "name": "python",
   "nbconvert_exporter": "python",
   "pygments_lexer": "ipython3",
   "version": "3.6.3"
  }
 },
 "nbformat": 4,
 "nbformat_minor": 1
}
