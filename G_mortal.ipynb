{
 "cells": [
  {
   "cell_type": "code",
   "execution_count": 70,
   "metadata": {
    "colab": {},
    "colab_type": "code",
    "id": "4VV3IK2in2fB"
   },
   "outputs": [],
   "source": [
    "%matplotlib inline\n",
    "\n",
    "import numpy as np\n",
    "import pandas as pd\n",
    "import matplotlib.pyplot as plt\n",
    "import seaborn as sns\n",
    "from scipy.stats import ttest_ind\n",
    "\n",
    "import sys\n",
    "import time\n",
    "import pickle\n",
    "\n",
    "from collections import Counter, defaultdict, OrderedDict, namedtuple\n",
    "import random\n",
    "import copy\n",
    "import bisect\n",
    "import heapq\n",
    "\n",
    "import multiprocessing as mp\n",
    "from multiprocessing import Pool\n",
    "\n",
    "import warnings\n",
    "warnings.filterwarnings('error')"
   ]
  },
  {
   "cell_type": "code",
   "execution_count": 2,
   "metadata": {},
   "outputs": [],
   "source": [
    "with open('save/lifespans','rb') as f:\n",
    "    lifespans = pickle.load(f)\n",
    "with open('save/plt_agl_est','rb') as f:\n",
    "    plt_agl_est = pickle.load(f)\n",
    "with open('save/plt_ag', 'rb') as f:\n",
    "    plt_ag = pickle.load(f)\n",
    "with open('save/plt_agl', 'rb') as f:\n",
    "    plt_agl = pickle.load(f)\n",
    "with open('save/plt_ag_sw', 'rb') as f:\n",
    "    plt_ag_sw = pickle.load(f)\n",
    "with open('save/plt_agl_est_sw', 'rb') as f:\n",
    "    plt_agl_est_sw = pickle.load(f)\n",
    "with open('save/plt_agl_sw', 'rb') as f:\n",
    "    plt_agl_sw = pickle.load(f)\n",
    "with open('save/plt_ucbl_est', 'rb') as f:\n",
    "    plt_ucbl_est = pickle.load(f)\n",
    "with open('save/plt_ucb', 'rb') as f:\n",
    "    plt_ucb = pickle.load(f)\n",
    "with open('save/plt_ucb_vanilla', 'rb') as f:\n",
    "    plt_ucb_vanilla = pickle.load(f)"
   ]
  },
  {
   "cell_type": "code",
   "execution_count": 5,
   "metadata": {},
   "outputs": [],
   "source": [
    "records = pd.concat([pd.read_csv('data/ydata-fp-td-clicks-v2_0.'+ str(20111000+i), \n",
    "                                 sep=' ',\n",
    "                                 names=['timestamp','id','clicked'],\n",
    "                                 usecols=[0,1,2],) for i in range(2,17)])\n",
    "records.index = range(len(records))"
   ]
  },
  {
   "cell_type": "code",
   "execution_count": 3,
   "metadata": {},
   "outputs": [],
   "source": [
    "with open('/home/home1/wy47/Regulating-Greed-Over-Time/save/records', 'rb') as f:\n",
    "    records = pickle.load(f)"
   ]
  },
  {
   "cell_type": "code",
   "execution_count": 4,
   "metadata": {},
   "outputs": [
    {
     "data": {
      "text/html": [
       "<div>\n",
       "<style scoped>\n",
       "    .dataframe tbody tr th:only-of-type {\n",
       "        vertical-align: middle;\n",
       "    }\n",
       "\n",
       "    .dataframe tbody tr th {\n",
       "        vertical-align: top;\n",
       "    }\n",
       "\n",
       "    .dataframe thead th {\n",
       "        text-align: right;\n",
       "    }\n",
       "</style>\n",
       "<table border=\"1\" class=\"dataframe\">\n",
       "  <thead>\n",
       "    <tr style=\"text-align: right;\">\n",
       "      <th></th>\n",
       "      <th>timestamp</th>\n",
       "      <th>id</th>\n",
       "      <th>clicked</th>\n",
       "    </tr>\n",
       "  </thead>\n",
       "  <tbody>\n",
       "    <tr>\n",
       "      <th>0</th>\n",
       "      <td>1317513291</td>\n",
       "      <td>id-560620</td>\n",
       "      <td>0</td>\n",
       "    </tr>\n",
       "    <tr>\n",
       "      <th>1</th>\n",
       "      <td>1317513291</td>\n",
       "      <td>id-565648</td>\n",
       "      <td>0</td>\n",
       "    </tr>\n",
       "    <tr>\n",
       "      <th>2</th>\n",
       "      <td>1317513291</td>\n",
       "      <td>id-563115</td>\n",
       "      <td>0</td>\n",
       "    </tr>\n",
       "    <tr>\n",
       "      <th>3</th>\n",
       "      <td>1317513292</td>\n",
       "      <td>id-552077</td>\n",
       "      <td>0</td>\n",
       "    </tr>\n",
       "    <tr>\n",
       "      <th>4</th>\n",
       "      <td>1317513292</td>\n",
       "      <td>id-564335</td>\n",
       "      <td>0</td>\n",
       "    </tr>\n",
       "  </tbody>\n",
       "</table>\n",
       "</div>"
      ],
      "text/plain": [
       "    timestamp         id  clicked\n",
       "0  1317513291  id-560620        0\n",
       "1  1317513291  id-565648        0\n",
       "2  1317513291  id-563115        0\n",
       "3  1317513292  id-552077        0\n",
       "4  1317513292  id-564335        0"
      ]
     },
     "execution_count": 4,
     "metadata": {},
     "output_type": "execute_result"
    }
   ],
   "source": [
    "records.head()"
   ]
  },
  {
   "cell_type": "code",
   "execution_count": 8,
   "metadata": {},
   "outputs": [],
   "source": [
    "lifespans = {}\n",
    "for i in range(2,17):\n",
    "    with open('data/ydata-fp-td-clicks-v2_0.'+ str(20111000+i)) as f:\n",
    "        for line in f.readlines():\n",
    "            timestamp = int(line[:10])\n",
    "            components = line.strip().split(' |')\n",
    "            for article in components[2:]:\n",
    "                if article in lifespans:\n",
    "                    lifespans[article][1] = timestamp\n",
    "                else:\n",
    "                    lifespans[article] = [timestamp, timestamp]\n",
    "with open('save/lifespans', 'wb') as f:\n",
    "    pickle.dump(lifespans, f)"
   ]
  },
  {
   "cell_type": "code",
   "execution_count": 19,
   "metadata": {},
   "outputs": [
    {
     "data": {
      "text/plain": [
       "0    26749863\n",
       "1     1027832\n",
       "Name: clicked, dtype: int64"
      ]
     },
     "execution_count": 19,
     "metadata": {},
     "output_type": "execute_result"
    }
   ],
   "source": [
    "records.clicked.value_counts()"
   ]
  },
  {
   "cell_type": "code",
   "execution_count": 7,
   "metadata": {},
   "outputs": [
    {
     "data": {
      "text/plain": [
       "'id-615546'"
      ]
     },
     "execution_count": 7,
     "metadata": {},
     "output_type": "execute_result"
    }
   ],
   "source": [
    "unborn[0]"
   ]
  },
  {
   "cell_type": "code",
   "execution_count": 8,
   "metadata": {},
   "outputs": [
    {
     "data": {
      "text/plain": [
       "(-1.0000 0/0 lifespan: (1318807500, 1318809293, None, None),\n",
       " -1.0000 0/0 lifespan: (1317513291, 1317616199, None, None))"
      ]
     },
     "execution_count": 8,
     "metadata": {},
     "output_type": "execute_result"
    }
   ],
   "source": [
    "pool[unborn[0]], pool[unborn[-1]]"
   ]
  },
  {
   "cell_type": "code",
   "execution_count": 9,
   "metadata": {},
   "outputs": [
    {
     "data": {
      "text/plain": [
       "-1.0000 0/0 lifespan: (1317513291, 1317515399, None, None)"
      ]
     },
     "execution_count": 9,
     "metadata": {},
     "output_type": "execute_result"
    }
   ],
   "source": [
    "pool['id-552077']"
   ]
  },
  {
   "cell_type": "code",
   "execution_count": 15,
   "metadata": {},
   "outputs": [
    {
     "data": {
      "text/plain": [
       "652"
      ]
     },
     "execution_count": 15,
     "metadata": {},
     "output_type": "execute_result"
    }
   ],
   "source": [
    "len(pool)"
   ]
  },
  {
   "cell_type": "code",
   "execution_count": 10,
   "metadata": {},
   "outputs": [],
   "source": [
    "class AG_L:\n",
    "    def __init__(self, records, lifespans, est_life=False):\n",
    "        self.records = records.itertuples()\n",
    "        self.rewards = 0\n",
    "        self.alive = []\n",
    "        pool = {}\n",
    "        for k in lifespans:\n",
    "            pool[k] = Arm(lifespans[k])\n",
    "        unborn = list(sorted(pool.keys(), key=lambda k:pool[k].birth, reverse=True)) # list of unborn arms sorted by birth descendingly\n",
    "        self.best = None\n",
    "        \n",
    "    def update(self, record):\n",
    "        self.rewards += record.clicked\n",
    "        arm = self.pool[record.id]\n",
    "        arm.rewards += record.clicked\n",
    "        arm.T += 1\n",
    "        arm.X = arm.rewards / arm.T\n",
    "        if not self.best: # first record\n",
    "            self.best = record.id\n",
    "        else:\n",
    "            if record.timestamp != self.prev_time:\n",
    "                self.best = max(self.alive, key=lambda arm:self.pool[arm].X)\n",
    "        self.prev_time = record.timestamp\n",
    "        \n",
    "    def filter_live(self):\n",
    "        '''\n",
    "        edit list of currently available arms\n",
    "        '''\n",
    "        # bisect module in Python doesn't support keys\n",
    "        # implement my own bisect function that use .death as key\n",
    "        def bisect_by_death(value):\n",
    "            l = 0\n",
    "            h = len(self.alive)\n",
    "            while l < h:\n",
    "                m = (l + h) // 2\n",
    "                arm = self.alive[m]\n",
    "                if self.pool[arm].death < value:\n",
    "                    l = m + 1\n",
    "                else:\n",
    "                    h = m\n",
    "            return l\n",
    "        # drop dead arms\n",
    "        index = bisect_by_death(self.time)\n",
    "        self.alive = self.alive[ index : ]\n",
    "        # pop new born arms to 'alive'\n",
    "        # keep popping from 'unborn' until every born arm goes to 'alive'\n",
    "        # arms in 'unborn' are sorted by birth in descending order\n",
    "        # so the youngest arm is at the end of array\n",
    "        while self.unborn and self.pool[self.unborn[-1]].birth<=self.time:\n",
    "            arm = self.unborn.pop()\n",
    "            # insert this arm to correct position in 'alive'(sorted by death)\n",
    "            index = bisect_by_death(self.pool[arm].death)\n",
    "            self.alive.insert(index, arm)\n",
    "            \n",
    "        \n",
    "    def initialize(self, m):\n",
    "        i=0\n",
    "        while i<m:\n",
    "            record = next(self.records) # raise StopIteration\n",
    "            self.time = record.timestamp\n",
    "            self.filter_live()\n",
    "            if not self.pool[record.id].T: # not played\n",
    "                self.update(record)\n",
    "                i+=1\n",
    "    \n",
    "    def play(self, n, threshold=.3):\n",
    "        for t in range(n):\n",
    "            while True: # keep trying\n",
    "                record = next(self.records) # raise StopIteration\n",
    "                self.time = record.timestamp\n",
    "                self.filter_live()\n",
    "                if random.random() < self.pool[self.best].X: #exploit\n",
    "                    pick = self.best\n",
    "                    exploited = True\n",
    "                else: #explore\n",
    "                    if self.est_life: # if using life estimation(instead of knowing exact life span)\n",
    "                        # filter by birth time\n",
    "                        ranking = sorted(self.alive, key=lambda arm:self.pool[arm].birth, reverse=True)\n",
    "                        pick = random.choice(ranking[:int(threshold*len(ranking))])\n",
    "                    else:\n",
    "                        pick = random.choice(self.alive[int((1-threshold)*len(self.alive)) : ])\n",
    "                    exploited = False\n",
    "                if pick == record.id:\n",
    "                    if exploited:\n",
    "                        self.n_exploit += 1\n",
    "                    self.update(record)\n",
    "                    break"
   ]
  },
  {
   "cell_type": "code",
   "execution_count": 150,
   "metadata": {},
   "outputs": [],
   "source": [
    "class Arm:\n",
    "    def __init__(self,lifespan):\n",
    "        self.birth, self.death = lifespan\n",
    "        self.s = None\n",
    "        self.l = None\n",
    "        self.T = 0\n",
    "        self.rewards = 0\n",
    "        self.X = -1\n",
    "        self.ucb = float('inf')\n",
    "        self.ucbl = float('inf')\n",
    "    def __repr__(self):\n",
    "        return '{:.4f} {}/{} {} lifespan: {}'.format(self.X, self.rewards, self.T, self.ucb, (self.birth, self.death, self.s, self.l))\n",
    "pool = {}\n",
    "for k in lifespans:\n",
    "    pool[k] = Arm(lifespans[k])\n",
    "unborn = list(sorted(pool.keys(), key=lambda k:pool[k].birth, reverse=True)) # list of unborn arms sorted by birth descendingly"
   ]
  },
  {
   "cell_type": "code",
   "execution_count": 161,
   "metadata": {},
   "outputs": [],
   "source": [
    "class UCB_L:\n",
    "    def __init__(self, records, lifespans=lifespans):\n",
    "        self.records = records.itertuples()\n",
    "        self.rewards = 0\n",
    "        self.alive = [] # heap: (death, id)\n",
    "        self.pool = {}\n",
    "        for k in lifespans:\n",
    "            self.pool[k] = Arm(lifespans[k])\n",
    "        self.unborn = list(sorted(self.pool.keys(), key=lambda k:self.pool[k].birth, reverse=True)) # list of unborn arms sorted by birth descendingly\n",
    "        self.avg_life = 1000000000\n",
    "        self.X = 0        \n",
    "        \n",
    "    def update(self, record):\n",
    "        self.rewards += record.clicked\n",
    "        arm = self.pool[record.id]\n",
    "        arm.rewards += record.clicked\n",
    "        arm.T += 1\n",
    "        arm.X = arm.rewards / arm.T\n",
    "        if self.avg_life + arm.s - self.t + 1 <=0:\n",
    "            psi = 0\n",
    "        else:\n",
    "            psi = .011 * np.log(self.avg_life + arm.s - self.t + 1)\n",
    "    \n",
    "        arm.ucbl = arm.X + psi * np.sqrt(2*np.log(self.t-arm.s+1)/arm.T)\n",
    "        arm.ucb = arm.X + np.sqrt( 2*np.log(self.t)/arm.T )\n",
    "        \n",
    "    def filter_live(self):\n",
    "        # pop born arms to alive\n",
    "        while self.unborn and self.pool[self.unborn[-1]].birth<=self.time:\n",
    "            arm = self.unborn.pop()\n",
    "            self.pool[arm].s = self.t\n",
    "            death = self.pool[arm].death\n",
    "            heapq.heappush(self.alive, (death, arm))\n",
    "        # pop dead arms from alive\n",
    "        while self.alive:\n",
    "            death, arm = self.alive[0]\n",
    "            if death < self.time:\n",
    "                heapq.heappop(self.alive)\n",
    "                dying = self.pool[arm]\n",
    "                dying.l = self.t\n",
    "                n_dead = len(self.pool) - len(self.unborn) - len(self.alive)\n",
    "                self.avg_life = (self.avg_life* (n_dead-1) + (dying.l-dying.s+1)) / n_dead\n",
    "            else:\n",
    "                break\n",
    "                \n",
    "    def initialize(self, m):\n",
    "        self.m = m\n",
    "        self.t = 1\n",
    "        while self.t < self.m:\n",
    "            record = next(self.records) # raise StopIteration\n",
    "            self.time = record.timestamp\n",
    "            self.filter_live()\n",
    "            if not self.pool[record.id].T: # not played\n",
    "                self.update(record)\n",
    "                self.t += 1\n",
    "    \n",
    "    def play(self, n, mode='l'):\n",
    "        for self.t in range(self.m, n):\n",
    "            while True: # keep trying\n",
    "                record = next(self.records) # raise StopIteration\n",
    "                self.time = record.timestamp\n",
    "                self.filter_live()\n",
    "                if mode=='l':\n",
    "                    pick = max(self.alive, key=lambda t:self.pool[t[1]].ucbl)[1] # choose alive arm with best ucbl\n",
    "                else:\n",
    "                    pick = max(self.alive, key=lambda t:self.pool[t[1]].ucb)[1] # choose alive arm with best ucb\n",
    "                if pick == record.id:\n",
    "                    self.update(record)\n",
    "                    break"
   ]
  },
  {
   "cell_type": "code",
   "execution_count": 72,
   "metadata": {},
   "outputs": [],
   "source": [
    "G = records.timestamp.value_counts()"
   ]
  },
  {
   "cell_type": "code",
   "execution_count": 74,
   "metadata": {
    "scrolled": true
   },
   "outputs": [
    {
     "data": {
      "text/plain": [
       "count    1.194407e+06\n",
       "mean     2.325647e+01\n",
       "std      1.042916e+01\n",
       "min      1.000000e+00\n",
       "25%      1.500000e+01\n",
       "50%      2.400000e+01\n",
       "75%      3.100000e+01\n",
       "max      6.700000e+01\n",
       "Name: timestamp, dtype: float64"
      ]
     },
     "execution_count": 74,
     "metadata": {},
     "output_type": "execute_result"
    }
   ],
   "source": [
    "G.describe()"
   ]
  },
  {
   "cell_type": "code",
   "execution_count": 81,
   "metadata": {},
   "outputs": [
    {
     "data": {
      "text/plain": [
       "{'id-552077': 45092, 'id-555224': 464613}"
      ]
     },
     "execution_count": 81,
     "metadata": {},
     "output_type": "execute_result"
    }
   ],
   "source": [
    "scores"
   ]
  },
  {
   "cell_type": "code",
   "execution_count": 83,
   "metadata": {
    "scrolled": true
   },
   "outputs": [],
   "source": [
    "scores = {}\n",
    "for arm in lifespans:\n",
    "    scores[arm] = 0\n",
    "    start, end = lifespans[arm]\n",
    "    for i in range(start, end+1):\n",
    "        try:\n",
    "            scores[arm] += G[i]\n",
    "        except KeyError as ke:\n",
    "            continue"
   ]
  },
  {
   "cell_type": "code",
   "execution_count": 85,
   "metadata": {},
   "outputs": [],
   "source": [
    "with open('save/scores','wb') as f:\n",
    "    pickle.dump(scores, f)"
   ]
  },
  {
   "cell_type": "code",
   "execution_count": 130,
   "metadata": {},
   "outputs": [],
   "source": [
    "class G_mortal:\n",
    "    def __init__(self, records,G=G, lifespans=lifespans, scores=scores):\n",
    "        self.records = records.itertuples()\n",
    "        self.G = G\n",
    "        self.scores = scores\n",
    "        self.rewards = 0\n",
    "        self.alive = [] # heap: (death, id)\n",
    "        self.pool = {}\n",
    "        for k in lifespans:\n",
    "            self.pool[k] = Arm(lifespans[k])\n",
    "        self.unborn = list(sorted(self.pool.keys(), key=lambda k:self.pool[k].birth, reverse=True)) # list of unborn arms sorted by birth descendingly\n",
    "        self.X = 0        \n",
    "        \n",
    "    def update(self, record):\n",
    "        self.rewards += record.clicked\n",
    "        arm = self.pool[record.id]\n",
    "        arm.rewards += record.clicked\n",
    "        arm.T += 1\n",
    "        arm.X = arm.rewards / arm.T\n",
    "        epsilon = (1 + (self.t - arm.s)/self.G[record.timestamp])\n",
    "        psi = .25 / len(self.alive) * len(list(filter(lambda death_arm:self.scores[death_arm[1]]<=self.scores[record.id], self.alive)))\n",
    "        #print(arm.X, psi * np.sqrt(2*np.log(epsilon)/arm.T), epsilon, psi)\n",
    "        arm.ucb = arm.X + psi * np.sqrt(2*np.log(epsilon)/arm.T)\n",
    "        \n",
    "    def filter_live(self):\n",
    "        # pop born arms to alive\n",
    "        while self.unborn and self.pool[self.unborn[-1]].birth<=self.time:\n",
    "            arm = self.unborn.pop()\n",
    "            self.pool[arm].s = self.t\n",
    "            death = self.pool[arm].death\n",
    "            heapq.heappush(self.alive, (death, arm))\n",
    "        # pop dead arms from alive\n",
    "        while self.alive[0][0] < self.time:\n",
    "            heapq.heappop(self.alive)\n",
    "                \n",
    "    def initialize(self, m):\n",
    "        self.m = m\n",
    "        self.t = 1\n",
    "        while self.t <= self.m:\n",
    "            record = next(self.records) # raise StopIteration\n",
    "            self.time = record.timestamp\n",
    "            self.filter_live()\n",
    "            if not self.pool[record.id].T: # not played\n",
    "                self.update(record)\n",
    "                self.t += 1\n",
    "    \n",
    "    def play(self, n):\n",
    "        for self.t in range(self.m+1, n):\n",
    "            while True: # keep trying\n",
    "                record = next(self.records) # raise StopIteration\n",
    "                self.time = record.timestamp\n",
    "                self.filter_live()\n",
    "                pick = max(self.alive, key=lambda t:self.pool[t[1]].ucb)[1] # choose alive arm with best ucb\n",
    "                if pick == record.id:\n",
    "                    self.update(record)\n",
    "                    break"
   ]
  },
  {
   "cell_type": "code",
   "execution_count": 131,
   "metadata": {},
   "outputs": [
    {
     "data": {
      "text/plain": [
       "6129"
      ]
     },
     "execution_count": 131,
     "metadata": {},
     "output_type": "execute_result"
    }
   ],
   "source": [
    "gm = G_mortal(records)\n",
    "gm.initialize(25)\n",
    "gm.play(100000)\n",
    "gm.rewards"
   ]
  },
  {
   "cell_type": "code",
   "execution_count": 63,
   "metadata": {},
   "outputs": [
    {
     "data": {
      "text/plain": [
       "Pandas(Index=2471791, timestamp=1317646939, id='id-566631', clicked=0)"
      ]
     },
     "execution_count": 63,
     "metadata": {},
     "output_type": "execute_result"
    }
   ],
   "source": [
    "next(gm.records)"
   ]
  },
  {
   "cell_type": "code",
   "execution_count": 162,
   "metadata": {
    "scrolled": true
   },
   "outputs": [
    {
     "name": "stdout",
     "output_type": "stream",
     "text": [
      "player 0 started\n",
      "player 1 started\n",
      "player 3 started\n",
      "player 2 started\n",
      "player 4 started\n",
      "player 8 started\n",
      "player 5 started\n",
      "player 6 started\n",
      "player 11 started\n",
      "player 10 started\n",
      "player 7 started\n",
      "player 9 started\n",
      "player 13 started\n",
      "player 12 started\n",
      "player 19 started\n",
      "player 15 started\n",
      "player 17 started\n",
      "player 23 started\n",
      "player 16 started\n",
      "player 14 started\n",
      "player 18 started\n",
      "player 26 started\n",
      "player 20 started\n",
      "player 22 started\n",
      "player 21 started\n",
      "player 29 started\n",
      "player 24 started\n",
      "player 25 started\n",
      "player 28 started\n",
      "player 27 started\n",
      "player 30 started\n",
      "player 31 started\n",
      "player 32 started\n",
      "player 33 started\n",
      "player 34 started\n",
      "player 35 started\n",
      "player 36 started\n",
      "player 37 started\n",
      "player 38 started\n",
      "player 39 started\n",
      "player 40 started\n",
      "player 41 started\n",
      "player 42 started\n",
      "player 43 started\n",
      "player 44 started\n",
      "player 45 started\n",
      "player 46 started\n",
      "player 47 started\n",
      "player 48 started\n",
      "player 49 started\n",
      "player 50 started\n",
      "player 51 started\n",
      "player 52 started\n",
      "player 53 started\n",
      "player 54 started\n",
      "player 55 started\n",
      "player 56 started\n",
      "player 57 started\n",
      "player 58 started\n",
      "player 59 started\n",
      "player 60 started\n",
      "player 61 started\n",
      "player 62 started\n",
      "player 63 started\n",
      "player 64 started\n",
      "player 65 started\n",
      "player 66 started\n",
      "player 67 started\n",
      "player 68 started\n",
      "player 69 started\n",
      "player 70 started\n",
      "player 71 started\n",
      "player 72 started\n",
      "player 73 started\n",
      "player 74 started\n",
      "player 75 started\n",
      "player 76 started\n",
      "player 77 started\n",
      "player 78 started\n",
      "player 79 started\n",
      "player 80 started\n",
      "player 81 started\n",
      "player 82 started\n",
      "player 83 started\n",
      "player 84 started\n",
      "player 85 started\n",
      "player 86 started\n",
      "player 87 started\n",
      "player 88 started\n",
      "player 89 started\n",
      "player 90 started\n",
      "player 91 started\n",
      "player 92 started\n",
      "player 93 started\n",
      "player 94 started\n",
      "player 95 started\n",
      "player 96 started\n",
      "player 97 started\n",
      "player 98 started\n",
      "player 99 started\n"
     ]
    }
   ],
   "source": [
    "def player(i):\n",
    "    print('player',i,'started')\n",
    "    ucb = UCB_L(records[i*10000:])\n",
    "    ucb.initialize(25)\n",
    "    ucb.play(100000,mode='n')\n",
    "    return ucb.rewards\n",
    "with Pool(30) as p:\n",
    "    plt_ucb = p.map(player, [i for i in range(100)])"
   ]
  },
  {
   "cell_type": "code",
   "execution_count": 143,
   "metadata": {
    "scrolled": true
   },
   "outputs": [
    {
     "name": "stdout",
     "output_type": "stream",
     "text": [
      "player 2 started\n",
      "player 1 started\n",
      "player 3 started\n",
      "player 4 started\n",
      "player 13 started\n",
      "player 9 started\n",
      "player 0 started\n",
      "player 5 started\n",
      "player 7 started\n",
      "player 6 started\n",
      "player 8 started\n",
      "player 10 started\n",
      "player 11 started\n",
      "player 12 started\n",
      "player 14 started\n",
      "player 20 started\n",
      "player 16 started\n",
      "player 15 started\n",
      "player 17 started\n",
      "player 23 started\n",
      "player 25 started\n",
      "player 18 started\n",
      "player 19 started\n",
      "player 22 started\n",
      "player 21 started\n",
      "player 26 started\n",
      "player 24 started\n",
      "player 29 started\n",
      "player 28 started\n",
      "player 27 started\n",
      "player 30 started\n",
      "player 31 started\n",
      "player 32 started\n",
      "player 33 started\n",
      "player 34 started\n",
      "player 35 started\n",
      "player 36 started\n",
      "player 37 started\n",
      "player 38 started\n",
      "player 39 started\n",
      "player 40 started\n",
      "player 41 started\n",
      "player 42 started\n",
      "player 43 started\n",
      "player 44 started\n",
      "player 45 started\n",
      "player 46 started\n",
      "player 47 started\n",
      "player 48 started\n",
      "player 49 started\n",
      "player 50 started\n",
      "player 51 started\n",
      "player 52 started\n",
      "player 53 started\n",
      "player 54 started\n",
      "player 55 started\n",
      "player 56 started\n",
      "player 57 started\n",
      "player 58 started\n",
      "player 59 started\n",
      "player 60 started\n",
      "player 61 started\n",
      "player 62 started\n",
      "player 63 started\n",
      "player 64 started\n",
      "player 65 started\n",
      "player 66 started\n",
      "player 67 started\n",
      "player 68 started\n",
      "player 69 started\n",
      "player 70 started\n",
      "player 71 started\n",
      "player 72 started\n",
      "player 73 started\n",
      "player 74 started\n",
      "player 75 started\n",
      "player 76 started\n",
      "player 77 started\n",
      "player 78 started\n",
      "player 79 started\n",
      "player 80 started\n",
      "player 81 started\n",
      "player 82 started\n",
      "player 83 started\n",
      "player 84 started\n",
      "player 85 started\n",
      "player 86 started\n",
      "player 87 started\n",
      "player 88 started\n",
      "player 89 started\n",
      "player 90 started\n",
      "player 91 started\n",
      "player 92 started\n",
      "player 93 started\n",
      "player 94 started\n",
      "player 95 started\n",
      "player 96 started\n",
      "player 97 started\n",
      "player 98 started\n",
      "player 99 started\n"
     ]
    }
   ],
   "source": [
    "def player(i):\n",
    "    print('player',i,'started')\n",
    "    ucbl = UCB_L(records[i*10000:])\n",
    "    ucbl.initialize(25)\n",
    "    ucbl.play(100000)\n",
    "    return ucbl.rewards\n",
    "with Pool(30) as p:\n",
    "    plt_ucbl = p.map(player, [i for i in range(100)])"
   ]
  },
  {
   "cell_type": "code",
   "execution_count": 132,
   "metadata": {
    "scrolled": true
   },
   "outputs": [
    {
     "name": "stdout",
     "output_type": "stream",
     "text": [
      "player 2 started\n",
      "player 1 started\n",
      "player 0 started\n",
      "player 4 started\n",
      "player 5 started\n",
      "player 7 started\n",
      "player 3 started\n",
      "player 10 started\n",
      "player 8 started\n",
      "player 21 started\n",
      "player 16 started\n",
      "player 12 started\n",
      "player 25 started\n",
      "player 20 started\n",
      "player 27 started\n",
      "player 22 started\n",
      "player 29 started\n",
      "player 13 started\n",
      "player 28 started\n",
      "player 26 started\n",
      "player 24 started\n",
      "player 17 started\n",
      "player 11 started\n",
      "player 18 started\n",
      "player 9 started\n",
      "player 15 started\n",
      "player 19 started\n",
      "player 6 started\n",
      "player 23 started\n",
      "player 14 started\n",
      "player 30 started\n",
      "player 31 started\n",
      "player 32 started\n",
      "player 33 started\n",
      "player 34 started\n",
      "player 35 started\n",
      "player 36 started\n",
      "player 37 started\n",
      "player 38 started\n",
      "player 39 started\n",
      "player 40 started\n",
      "player 41 started\n",
      "player 42 started\n",
      "player 43 started\n",
      "player 44 started\n",
      "player 45 started\n",
      "player 46 started\n",
      "player 47 started\n",
      "player 48 started\n",
      "player 49 started\n",
      "player 50 started\n",
      "player 51 started\n",
      "player 52 started\n",
      "player 53 started\n",
      "player 54 started\n",
      "player 55 started\n",
      "player 56 started\n",
      "player 57 started\n",
      "player 58 started\n",
      "player 59 started\n",
      "player 60 started\n",
      "player 61 started\n",
      "player 62 started\n",
      "player 63 started\n",
      "player 64 started\n",
      "player 65 started\n",
      "player 66 started\n",
      "player 67 started\n",
      "player 68 started\n",
      "player 69 started\n",
      "player 70 started\n",
      "player 71 started\n",
      "player 72 started\n",
      "player 73 started\n",
      "player 74 started\n",
      "player 75 started\n",
      "player 76 started\n",
      "player 77 started\n",
      "player 78 started\n",
      "player 79 started\n",
      "player 80 started\n",
      "player 81 started\n",
      "player 82 started\n",
      "player 83 started\n",
      "player 84 started\n",
      "player 85 started\n",
      "player 86 started\n",
      "player 87 started\n",
      "player 88 started\n",
      "player 89 started\n",
      "player 90 started\n",
      "player 91 started\n",
      "player 92 started\n",
      "player 93 started\n",
      "player 94 started\n",
      "player 95 started\n",
      "player 96 started\n",
      "player 97 started\n",
      "player 98 started\n",
      "player 99 started\n"
     ]
    }
   ],
   "source": [
    "def player(i):\n",
    "    print('player',i,'started')\n",
    "    gm = G_mortal(records[i*10000:])\n",
    "    gm.initialize(25)\n",
    "    gm.play(100000)\n",
    "    return gm.rewards\n",
    "with Pool(30) as p:\n",
    "    plt_gm = p.map(player, [i for i in range(100)])"
   ]
  },
  {
   "cell_type": "code",
   "execution_count": 66,
   "metadata": {},
   "outputs": [],
   "source": [
    "with open('save/plt_gm','wb') as f:\n",
    "    pickle.dump(plt_gm, f)"
   ]
  },
  {
   "cell_type": "code",
   "execution_count": 23,
   "metadata": {},
   "outputs": [],
   "source": [
    "with open('save/plt_ucb','wb') as f:\n",
    "    pickle.dump(plt_ucb, f)"
   ]
  },
  {
   "cell_type": "code",
   "execution_count": 25,
   "metadata": {
    "scrolled": true
   },
   "outputs": [
    {
     "name": "stdout",
     "output_type": "stream",
     "text": [
      "player 10 started\n",
      "player 5 started\n",
      "player 0 started\n",
      "player 15 started\n",
      "player 20 started\n",
      "player 25 started\n",
      "player: 0 reward: 5076 time: 311.2959213256836 records: 2535296 X 0.04991573113058068 avg_life 40766.35294117647\n",
      "player 1 started\n",
      "player: 5 reward: 4999 time: 437.28254103660583 records: 2810906 X 0.01347734389011819 avg_life 35922.083333333336\n",
      "player 6 started\n",
      "player: 15 reward: 4984 time: 480.4230329990387 records: 2757491 X 0.11438652461818206 avg_life 37157.256410256414\n",
      "player 16 started\n",
      "player: 10 reward: 4990 time: 509.63196849823 records: 2759633 X 0.02247262441272507 avg_life 35917.444444444445\n",
      "player 11 started\n",
      "player: 25 reward: 5258 time: 545.9158127307892 records: 3549190 X 0.04947553235511272 avg_life 34492.54716981131\n",
      "player 26 started\n",
      "player: 20 reward: 5224 time: 644.9697017669678 records: 3594576 X 0.06535114539896404 avg_life 34603.32075471698\n",
      "player 21 started\n",
      "player: 1 reward: 5079 time: 434.95812344551086 records: 2524517 X 0.08161442618610087 avg_life 40692.26470588235\n",
      "player 2 started\n",
      "player: 16 reward: 5052 time: 348.0440673828125 records: 2809332 X 0.06686913575037083 avg_life 35710.65\n",
      "player 17 started\n",
      "player: 6 reward: 4979 time: 470.2552397251129 records: 2795997 X 0.039086686674023506 avg_life 35969.694444444445\n",
      "player 7 started\n",
      "player: 11 reward: 5077 time: 537.2527651786804 records: 2743746 X 0.02402688587908208 avg_life 36045.11111111111\n",
      "player 12 started\n",
      "player: 2 reward: 5126 time: 357.18745040893555 records: 2546458 X 0.03172892501473869 avg_life 40057.882352941175\n",
      "player 3 started\n",
      "player: 26 reward: 5197 time: 634.6308999061584 records: 3544177 X 0.042742338629559555 avg_life 34443.8679245283\n",
      "player 27 started\n",
      "player: 21 reward: 5258 time: 613.3722145557404 records: 3589190 X 0.04947553235511272 avg_life 34492.54716981131\n",
      "player 22 started\n",
      "player: 7 reward: 4992 time: 389.977822303772 records: 2783854 X 0.022286565689507532 avg_life 36055.36111111111\n",
      "player 8 started\n",
      "player: 3 reward: 5060 time: 403.87171745300293 records: 2530407 X 0.006282710390339251 avg_life 39979.882352941175\n",
      "player 4 started\n",
      "player: 17 reward: 5222 time: 705.5448579788208 records: 3638807 X 0.02352065996003032 avg_life 34433.94339622641\n",
      "player 18 started\n",
      "player: 12 reward: 4990 time: 497.38543248176575 records: 2739633 X 0.02247262441272507 avg_life 35917.444444444445\n",
      "player 13 started\n",
      "player: 8 reward: 4978 time: 411.58666801452637 records: 2794283 X 0.024627325909007625 avg_life 36716.62162162162\n",
      "player 9 started\n",
      "player: 27 reward: 5264 time: 687.491938829422 records: 3543599 X 0.04673498822481768 avg_life 34331.96226415094\n",
      "player 28 started\n",
      "player: 4 reward: 5020 time: 399.46747517585754 records: 2537365 X 0.012602934213653544 avg_life 39749.32352941176\n",
      "player 30 started\n",
      "player: 13 reward: 5115 time: 478.3927655220032 records: 2788627 X 0.11029216940879723 avg_life 37059.974358974374\n",
      "player 14 started\n",
      "player: 18 reward: 5349 time: 567.949212551117 records: 3620735 X 0.035361215457657635 avg_life 34487.75471698113\n",
      "player 19 started\n",
      "player: 9 reward: 4989 time: 509.1090352535248 records: 2780670 X 0.03626382144930501 avg_life 35748.055555555555\n",
      "player 35 started\n",
      "player: 23 reward: 5219 time: 683.3120315074921 records: 3583590 X 0.044401890681947026 avg_life 34397.301886792455\n",
      "player 24 started\n",
      "player: 30 reward: 5252 time: 558.7309982776642 records: 3506158 X 0.0327002544670239 avg_life 34429.811320754714\n",
      "player 31 started\n",
      "player: 14 reward: 5115 time: 447.87145376205444 records: 2778627 X 0.11029216940879723 avg_life 37059.974358974374\n",
      "player 40 started\n",
      "player: 28 reward: 5298 time: 649.92640209198 records: 3533599 X 0.04673498822481768 avg_life 34341.11320754717\n",
      "player 29 started\n",
      "player: 19 reward: 5286 time: 613.6450831890106 records: 3612410 X 0.04742385444320896 avg_life 34483.45283018868\n",
      "player 45 started\n",
      "player: 35 reward: 5260 time: 585.0847008228302 records: 3455323 X 0.05816128108779675 avg_life 34448.83018867924\n",
      "player 36 started\n",
      "player: 31 reward: 5269 time: 497.42473912239075 records: 3498391 X 0.04233269833698665 avg_life 34377.54716981132\n",
      "player 32 started\n",
      "player: 24 reward: 5348 time: 573.7543385028839 records: 3560735 X 0.035361215457657635 avg_life 34487.75471698113\n",
      "player 50 started\n",
      "player: 29 reward: 5298 time: 595.2656955718994 records: 3523599 X 0.04673498822481768 avg_life 34341.11320754717\n",
      "player 55 started\n",
      "player: 40 reward: 5229 time: 677.1769173145294 records: 3406515 X 0.03564484726384924 avg_life 34465.96226415095\n",
      "player 41 started\n",
      "player: 36 reward: 5256 time: 720.4764080047607 records: 3446860 X 0.03857083294188642 avg_life 34374.71698113208\n",
      "player 37 started\n",
      "player: 32 reward: 5331 time: 576.8451547622681 records: 3488106 X 0.04353911959751716 avg_life 34415.018867924526\n",
      "player 33 started\n",
      "player: 41 reward: 5281 time: 442.4129192829132 records: 3388616 X 0.055993870135848015 avg_life 34547.622641509435\n",
      "player 42 started\n",
      "player: 50 reward: 5173 time: 679.0560827255249 records: 3444811 X 0.025979451246324115 avg_life 33139.0\n",
      "player 51 started\n",
      "player: 55 reward: 5226 time: 611.6827921867371 records: 3434395 X 0.04155221579629958 avg_life 33245.62962962963\n",
      "player 56 started\n",
      "player: 46 reward: 5173 time: 671.2274475097656 records: 3484811 X 0.025979451246324115 avg_life 33139.0\n",
      "player 47 started\n",
      "player: 37 reward: 5162 time: 636.6432836055756 records: 3448789 X 0.01570329253870903 avg_life 34342.88679245283\n",
      "player 38 started\n",
      "player: 33 reward: 5252 time: 630.9760522842407 records: 3476158 X 0.0327002544670239 avg_life 34429.811320754714\n",
      "player 34 started\n",
      "player: 56 reward: 5195 time: 548.9386930465698 records: 3428429 X 0.057521278337643277 avg_life 33219.40740740741\n",
      "player 57 started\n",
      "player: 42 reward: 5265 time: 699.099858045578 records: 3544722 X 0.058609393971035116 avg_life 32927.96226415094\n",
      "player 43 started\n",
      "player: 51 reward: 5173 time: 647.965811252594 records: 3434811 X 0.025979451246324115 avg_life 33139.0\n",
      "player 52 started\n",
      "player: 47 reward: 5173 time: 570.0779137611389 records: 3474811 X 0.025979451246324115 avg_life 33139.0\n",
      "player 48 started\n",
      "player: 34 reward: 5162 time: 542.8670756816864 records: 3478789 X 0.01570329253870903 avg_life 34342.88679245283\n",
      "player 60 started\n",
      "player: 38 reward: 5162 time: 645.1839091777802 records: 3438789 X 0.01570329253870903 avg_life 34342.88679245283\n",
      "player 39 started\n",
      "player: 52 reward: 5226 time: 533.1584742069244 records: 3464395 X 0.04155221579629958 avg_life 33246.03703703704\n",
      "player 53 started\n",
      "player: 57 reward: 5226 time: 636.4089379310608 records: 3414395 X 0.04155221579629958 avg_life 33245.62962962963\n",
      "player 58 started\n",
      "player: 43 reward: 5173 time: 666.2054989337921 records: 3514811 X 0.025979451246324115 avg_life 33139.0\n",
      "player 44 started\n",
      "player: 48 reward: 5173 time: 564.9642217159271 records: 3464811 X 0.025979451246324115 avg_life 33139.0\n",
      "player 49 started\n",
      "player: 60 reward: 5226 time: 668.297345161438 records: 3384395 X 0.04155221579629958 avg_life 33245.62962962963\n",
      "player 61 started\n",
      "player: 53 reward: 5194 time: 574.1046676635742 records: 3443551 X 0.11323919619363632 avg_life 32868.75471698113\n",
      "player 54 started\n",
      "player: 39 reward: 5263 time: 627.8552296161652 records: 3418428 X 0.031012486751205843 avg_life 34462.622641509435\n",
      "player 65 started\n",
      "player: 58 reward: 5104 time: 623.5723462104797 records: 3398973 X 0.057352868834803304 avg_life 32770.20754716981\n",
      "player 59 started\n",
      "player: 44 reward: 5173 time: 603.2766420841217 records: 3504811 X 0.025979451246324115 avg_life 33139.0\n",
      "player 70 started\n",
      "player: 49 reward: 5173 time: 647.945234298706 records: 3454811 X 0.025979451246324115 avg_life 33139.0\n",
      "player 75 started\n",
      "player: 61 reward: 5073 time: 609.9881262779236 records: 3381748 X 0.05454652230048199 avg_life 34040.58928571428\n",
      "player 62 started\n",
      "player: 65 reward: 5109 time: 579.0673775672913 records: 3333388 X 0.04109044950891024 avg_life 33286.11111111111\n",
      "player 66 started\n",
      "player: 54 reward: 5226 time: 636.9582378864288 records: 3444395 X 0.04155221579629958 avg_life 33245.62962962963\n",
      "player 80 started\n",
      "player: 75 reward: 5183 time: 737.7794988155365 records: 3292308 X 0.02285652638915882 avg_life 33465.82142857143\n",
      "player 76 started\n",
      "player: 66 reward: 5226 time: 609.401912689209 records: 3324395 X 0.04155221579629958 avg_life 33245.62962962963\n"
     ]
    },
    {
     "name": "stdout",
     "output_type": "stream",
     "text": [
      "player 67 started\n",
      "player: 80 reward: 5184 time: 614.8496854305267 records: 3242308 X 0.02285652638915882 avg_life 33465.82142857143\n",
      "player 81 started\n",
      "player: 62 reward: 5226 time: 719.2384080886841 records: 3364395 X 0.04155221579629958 avg_life 33245.62962962963\n",
      "player 63 started\n",
      "player: 85 reward: 5274 time: 536.1605558395386 records: 3187123 X 0.042924463317194794 avg_life 33559.89285714286\n",
      "player 86 started\n",
      "player: 71 reward: 5119 time: 611.7177546024323 records: 3319350 X 0.02898920056143059 avg_life 33632.857142857145\n",
      "player 72 started\n",
      "player: 76 reward: 5169 time: 676.100804567337 records: 3288553 X 0.043231339672520415 avg_life 33456.37499999999\n",
      "player 77 started\n",
      "player: 86 reward: 5088 time: 547.6951625347137 records: 3284922 X 0.05410295534576298 avg_life 33169.40350877193\n",
      "player 87 started\n",
      "player: 63 reward: 5163 time: 596.5061302185059 records: 3351227 X 0.06862766926648071 avg_life 33286.833333333336\n",
      "player 64 started\n",
      "player: 67 reward: 5203 time: 715.3436598777771 records: 3312875 X 0.0559829461332334 avg_life 33262.5\n",
      "player 68 started\n",
      "player: 81 reward: 5241 time: 749.0776650905609 records: 3247263 X 0.03245362463791256 avg_life 33378.19642857143\n",
      "player 82 started\n",
      "player: 72 reward: 5119 time: 650.212543964386 records: 3309350 X 0.02898920056143059 avg_life 33632.48214285714\n",
      "player 73 started\n",
      "player: 87 reward: 5212 time: 561.3897490501404 records: 3241016 X 0.04704114420508077 avg_life 33481.12280701754\n",
      "player 88 started\n",
      "player: 77 reward: 5124 time: 679.0425148010254 records: 3275324 X 0.04423376360426832 avg_life 33448.375\n",
      "player 78 started\n",
      "player: 68 reward: 5229 time: 589.1865351200104 records: 3304389 X 0.04243160341038193 avg_life 33249.61111111111\n",
      "player 69 started\n",
      "player: 82 reward: 5241 time: 564.424877166748 records: 3237263 X 0.03245362463791256 avg_life 33378.19642857143\n",
      "player 83 started\n",
      "player: 64 reward: 5226 time: 688.6960282325745 records: 3344395 X 0.04155221579629958 avg_life 33245.62962962963\n",
      "player 90 started\n",
      "player: 73 reward: 5223 time: 656.9394247531891 records: 3312391 X 0.027951849489073324 avg_life 33485.94642857143\n",
      "player 74 started\n",
      "player: 69 reward: 5226 time: 616.8456084728241 records: 3294395 X 0.04155221579629958 avg_life 33245.62962962963\n",
      "player 95 started\n",
      "player: 88 reward: 5138 time: 713.5243101119995 records: 3292119 X 0.038413355756141125 avg_life 32914.59649122807\n",
      "player 89 started\n",
      "player: 78 reward: 5183 time: 702.1389167308807 records: 3262308 X 0.02285652638915882 avg_life 33465.82142857143\n",
      "player 79 started\n",
      "player: 90 reward: 5138 time: 650.7644538879395 records: 3272119 X 0.038413355756141125 avg_life 32914.59649122807\n",
      "player 91 started\n",
      "player: 74 reward: 5183 time: 554.8877382278442 records: 3302308 X 0.02285652638915882 avg_life 33465.82142857143\n",
      "player: 83 reward: 5263 time: 732.3522469997406 records: 3208239 X 0.04297046184925707 avg_life 33566.25\n",
      "player 84 started\n",
      "player: 89 reward: 5138 time: 524.3190326690674 records: 3282119 X 0.038413355756141125 avg_life 32914.59649122807\n",
      "player: 79 reward: 5183 time: 472.49811005592346 records: 3252308 X 0.02285652638915882 avg_life 33465.82142857143\n",
      "player: 91 reward: 5085 time: 514.3456394672394 records: 3253609 X 0.06048044593760444 avg_life 32984.05263157895\n",
      "player 92 started\n",
      "player: 95 reward: 5168 time: 664.4081859588623 records: 3238840 X 0.07694695450076071 avg_life 32629.666666666664\n",
      "player 96 started\n",
      "player: 84 reward: 5274 time: 615.1149425506592 records: 3197123 X 0.042924463317194794 avg_life 33559.89285714286\n",
      "player: 92 reward: 5198 time: 481.0574324131012 records: 3225065 X 0.04660601655933695 avg_life 33065.912280701756\n",
      "player 93 started\n",
      "player: 96 reward: 5225 time: 481.9235680103302 records: 3252629 X 0.014099268826018856 avg_life 32330.508771929824\n",
      "player 97 started\n",
      "player: 97 reward: 5238 time: 496.2056510448456 records: 3268501 X 0.05517709340944714 avg_life 32173.75438596491\n",
      "player 98 started\n",
      "player: 94 reward: 5079 time: 485.7431700229645 records: 3227733 X 0.043672920520066404 avg_life 32833.80701754386\n",
      "player: 98 reward: 5162 time: 509.9191930294037 records: 3355314 X 0.0914577532605643 avg_life 31649.655172413793\n",
      "player 99 started\n",
      "player: 99 reward: 5173 time: 498.4229428768158 records: 3349687 X 0.04115462637931245 avg_life 31640.48275862069\n"
     ]
    }
   ],
   "source": [
    "# vanilla UCB\n",
    "def player(i):\n",
    "    print('player',i,'started')\n",
    "    start = time.time()\n",
    "    ucbl = UCB_L(records[i*10000:], pool, unborn)\n",
    "    ucbl.initialize(25)\n",
    "    ucbl.play(100000, 'vanilla')\n",
    "    end = time.time()\n",
    "    print('player:',i,'reward:',ucbl.rewards,'time:', end-start, 'records:', next(ucbl.records).Index-1-i*10000, 'X',ucbl.X, 'avg_life', ucbl.avg_life)\n",
    "    return ucbl.rewards\n",
    "with Pool(6) as p:\n",
    "    plt_ucb_vanilla = p.map(player, [i for i in range(100)])"
   ]
  },
  {
   "cell_type": "code",
   "execution_count": 26,
   "metadata": {},
   "outputs": [],
   "source": [
    "with open('save/plt_ucb_vanilla', 'wb') as f:\n",
    "    pickle.dump(plt_ucb_vanilla, f)"
   ]
  },
  {
   "cell_type": "code",
   "execution_count": 21,
   "metadata": {},
   "outputs": [],
   "source": [
    "with open('save/plt_ucbl_est', 'wb') as f:\n",
    "    pickle.dump(plt_ucbl_est,f)"
   ]
  },
  {
   "cell_type": "code",
   "execution_count": 163,
   "metadata": {},
   "outputs": [
    {
     "data": {
      "image/png": "[encoded data removed]",
      "text/plain": [
       "<Figure size 432x288 with 1 Axes>"
      ]
     },
     "metadata": {
      "needs_background": "light"
     },
     "output_type": "display_data"
    }
   ],
   "source": [
    "sns.distplot(plt_ucbl, label='UCB_L')\n",
    "sns.distplot(plt_gm, label='G mortal')\n",
    "sns.distplot(plt_ucb, label='standard UCB')\n",
    "\n",
    "plt.legend()\n",
    "plt.xlabel('rewards')\n",
    "pass"
   ]
  },
  {
   "cell_type": "code",
   "execution_count": 156,
   "metadata": {},
   "outputs": [
    {
     "data": {
      "text/plain": [
       "Ttest_indResult(statistic=-5.1522098260448255, pvalue=6.202466293834907e-07)"
      ]
     },
     "execution_count": 156,
     "metadata": {},
     "output_type": "execute_result"
    }
   ],
   "source": [
    "ttest_ind(plt_ucbl, plt_gm)"
   ]
  },
  {
   "cell_type": "code",
   "execution_count": null,
   "metadata": {},
   "outputs": [],
   "source": []
  }
 ],
 "metadata": {
  "colab": {
   "collapsed_sections": [],
   "name": "optimal exploration for mortal MAB.ipynb",
   "provenance": [],
   "version": "0.3.2"
  },
  "kernelspec": {
   "display_name": "Python 3",
   "language": "python",
   "name": "python3"
  },
  "language_info": {
   "codemirror_mode": {
    "name": "ipython",
    "version": 3
   },
   "file_extension": ".py",
   "mimetype": "text/x-python",
   "name": "python",
   "nbconvert_exporter": "python",
   "pygments_lexer": "ipython3",
   "version": "3.7.3"
  }
 },
 "nbformat": 4,
 "nbformat_minor": 2
}
