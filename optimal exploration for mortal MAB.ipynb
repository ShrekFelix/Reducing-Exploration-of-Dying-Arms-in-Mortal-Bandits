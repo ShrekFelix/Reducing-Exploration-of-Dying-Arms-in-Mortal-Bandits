{
 "cells": [
  {
   "cell_type": "code",
   "execution_count": 1,
   "metadata": {
    "collapsed": true
   },
   "outputs": [],
   "source": [
    "%matplotlib inline\n",
    "\n",
    "import numpy as np\n",
    "import matplotlib.pyplot as plt\n",
    "\n",
    "import sys\n",
    "import time\n",
    "\n",
    "import seaborn as sns\n",
    "\n",
    "from collections import Counter"
   ]
  },
  {
   "cell_type": "code",
   "execution_count": 2,
   "metadata": {
    "collapsed": true
   },
   "outputs": [],
   "source": [
    "import warnings\n",
    "warnings.filterwarnings('default')"
   ]
  },
  {
   "cell_type": "code",
   "execution_count": 3,
   "metadata": {
    "collapsed": true,
    "scrolled": true
   },
   "outputs": [],
   "source": [
    "# parser v1\n",
    "# parse records to list of dicts\n",
    "# values mostly are strings\n",
    "# easy to iterate through records\n",
    "records = []\n",
    "with open('Webscope_R6B/ydata-fp-td-clicks-v2_0.20111002') as f:\n",
    "    for line in f.readlines():\n",
    "        components = line.strip().split(' ')\n",
    "        record = {}\n",
    "        record['timestamp'] = int(components[0])\n",
    "        record['displayed'] = components[1]\n",
    "        record['clicked'] = int(components[2])\n",
    "        # not using user feature\n",
    "        record['user_features'] = []\n",
    "        for i in range(4, len(components)):\n",
    "            if components[i].startswith('|'):\n",
    "                n = i\n",
    "                break\n",
    "            #record['user_features'].append(int(components[i]))\n",
    "        record['pool'] = components[n:]    \n",
    "        records.append(record)"
   ]
  },
  {
   "cell_type": "code",
   "execution_count": 3,
   "metadata": {},
   "outputs": [
    {
     "data": {
      "text/plain": [
       "1607525"
      ]
     },
     "execution_count": 3,
     "metadata": {},
     "output_type": "execute_result"
    }
   ],
   "source": [
    "len(records)"
   ]
  },
  {
   "cell_type": "code",
   "execution_count": 88,
   "metadata": {},
   "outputs": [
    {
     "data": {
      "text/plain": [
       "{'clicked': 0,\n",
       " 'displayed': 'id-560620',\n",
       " 'pool': ['|id-552077',\n",
       "  '|id-555224',\n",
       "  '|id-555528',\n",
       "  '|id-559744',\n",
       "  '|id-559855',\n",
       "  '|id-560290',\n",
       "  '|id-560518',\n",
       "  '|id-560620',\n",
       "  '|id-563115',\n",
       "  '|id-563582',\n",
       "  '|id-563643',\n",
       "  '|id-563787',\n",
       "  '|id-563846',\n",
       "  '|id-563938',\n",
       "  '|id-564335',\n",
       "  '|id-564418',\n",
       "  '|id-564604',\n",
       "  '|id-565364',\n",
       "  '|id-565479',\n",
       "  '|id-565515',\n",
       "  '|id-565533',\n",
       "  '|id-565561',\n",
       "  '|id-565589',\n",
       "  '|id-565648',\n",
       "  '|id-565747',\n",
       "  '|id-565822'],\n",
       " 'timestamp': 1317513291,\n",
       " 'user_features': []}"
      ]
     },
     "execution_count": 88,
     "metadata": {},
     "output_type": "execute_result"
    }
   ],
   "source": [
    "records[0]"
   ]
  },
  {
   "cell_type": "code",
   "execution_count": 4,
   "metadata": {
    "collapsed": true
   },
   "outputs": [],
   "source": [
    "# parser that watches article lifespans\n",
    "lives = {}\n",
    "with open('Webscope_R6B/ydata-fp-td-clicks-v2_0.20111002') as f:\n",
    "    for line in f.readlines():\n",
    "        components = line.strip().split(' ')\n",
    "        for component in components:\n",
    "            if component.startswith('|id-'):\n",
    "                timestamp = int(components[0])\n",
    "                article = component[1:]\n",
    "                if article in lives.keys():\n",
    "                    lives[article][1] = timestamp\n",
    "                else:\n",
    "                    lives[article] = [timestamp, timestamp]"
   ]
  },
  {
   "cell_type": "code",
   "execution_count": 35,
   "metadata": {},
   "outputs": [
    {
     "data": {
      "text/plain": [
       "[<matplotlib.lines.Line2D at 0x10fb63128>]"
      ]
     },
     "execution_count": 35,
     "metadata": {},
     "output_type": "execute_result"
    },
    {
     "data": {
      "image/png": "[encoded data removed]",
      "text/plain": [
       "<matplotlib.figure.Figure at 0x10dab4780>"
      ]
     },
     "metadata": {},
     "output_type": "display_data"
    }
   ],
   "source": [
    "# life length variance along timespan\n",
    "def get_life_length(x):\n",
    "    lifespan = lives[x[1:]]\n",
    "    return lifespan[1] - lifespan[0]\n",
    "x = []\n",
    "y = []\n",
    "for record in records:\n",
    "    x.append(record['timestamp'])\n",
    "    y.append(np.var(list(map(lambda x:get_life_length(x), record['pool']))))\n",
    "plt.plot(x,y)"
   ]
  },
  {
   "cell_type": "code",
   "execution_count": 145,
   "metadata": {
    "collapsed": true
   },
   "outputs": [],
   "source": [
    "# How many uncontinuous points\n",
    "life = {}\n",
    "uncontinuous = Counter()\n",
    "with open('Webscope_R6B/ydata-fp-td-clicks-v2_0.20111002') as f:\n",
    "    for line in f.readlines():\n",
    "        components = line.strip().split(' ')\n",
    "        timestamp = int(components[0])\n",
    "        for component in components:\n",
    "            if component.startswith('|id-'):\n",
    "                article = component[4:]\n",
    "                if article in life.keys():\n",
    "                    if timestamp > life[article]+1:\n",
    "                        uncontinuous[timestamp-life[article]-1] += 1\n",
    "                life[article] = timestamp"
   ]
  },
  {
   "cell_type": "code",
   "execution_count": 146,
   "metadata": {},
   "outputs": [
    {
     "data": {
      "text/plain": [
       "Counter({1: 434})"
      ]
     },
     "execution_count": 146,
     "metadata": {},
     "output_type": "execute_result"
    }
   ],
   "source": [
    "uncontinuous"
   ]
  },
  {
   "cell_type": "code",
   "execution_count": 147,
   "metadata": {},
   "outputs": [
    {
     "data": {
      "text/plain": [
       "0.00026998024914075985"
      ]
     },
     "execution_count": 147,
     "metadata": {},
     "output_type": "execute_result"
    }
   ],
   "source": [
    "uncontinuous[1] / len(records)"
   ]
  },
  {
   "cell_type": "code",
   "execution_count": 100,
   "metadata": {},
   "outputs": [
    {
     "data": {
      "text/plain": [
       "dict_keys(['id-552077', 'id-555224', 'id-555528', 'id-559744', 'id-559855', 'id-560290', 'id-560518', 'id-560620', 'id-563115', 'id-563582', 'id-563643', 'id-563787', 'id-563846', 'id-563938', 'id-564335', 'id-564418', 'id-564604', 'id-565364', 'id-565479', 'id-565515', 'id-565533', 'id-565561', 'id-565589', 'id-565648', 'id-565747', 'id-565822', 'id-565930', 'id-566013', 'id-566022', 'id-566092', 'id-560805', 'id-564371', 'id-562265', 'id-565980', 'id-566431', 'id-566439', 'id-559833', 'id-566541', 'id-562374', 'id-566587', 'id-566478', 'id-566573', 'id-566602', 'id-562637', 'id-566631', 'id-566689', 'id-566726', 'id-566825', 'id-566838'])"
      ]
     },
     "execution_count": 100,
     "metadata": {},
     "output_type": "execute_result"
    }
   ],
   "source": [
    "lives.keys()"
   ]
  },
  {
   "cell_type": "code",
   "execution_count": 246,
   "metadata": {},
   "outputs": [
    {
     "data": {
      "text/plain": [
       "40648.4693877551"
      ]
     },
     "execution_count": 246,
     "metadata": {},
     "output_type": "execute_result"
    }
   ],
   "source": [
    "# average lifespan\n",
    "sum(map(lambda x:x[1]-x[0], lives.values())) / len(lives)"
   ]
  },
  {
   "cell_type": "code",
   "execution_count": 9,
   "metadata": {
    "collapsed": true,
    "scrolled": true
   },
   "outputs": [],
   "source": [
    "life_length = []\n",
    "alive = []\n",
    "for v in lives.values():\n",
    "    alive.append(np.arange(v[0], v[1]+1))\n",
    "    life_length.append(v[1]-v[0])"
   ]
  },
  {
   "cell_type": "code",
   "execution_count": 122,
   "metadata": {},
   "outputs": [
    {
     "data": {
      "image/png": "[encoded data removed]",
      "text/plain": [
       "<matplotlib.figure.Figure at 0x1198c5470>"
      ]
     },
     "metadata": {},
     "output_type": "display_data"
    }
   ],
   "source": [
    "plt.hist(life_length)\n",
    "pass"
   ]
  },
  {
   "cell_type": "code",
   "execution_count": 128,
   "metadata": {},
   "outputs": [
    {
     "data": {
      "image/png": "[encoded data removed]",
      "text/plain": [
       "<matplotlib.figure.Figure at 0x11a6e7588>"
      ]
     },
     "metadata": {},
     "output_type": "display_data"
    }
   ],
   "source": [
    "# number of arms available through out the timestamps\n",
    "plt.hist(alive, histtype='barstacked')\n",
    "pass"
   ]
  },
  {
   "cell_type": "code",
   "execution_count": 379,
   "metadata": {},
   "outputs": [
    {
     "data": {
      "text/plain": [
       "{'id-552077': 47,\n",
       " 'id-555224': 1973,\n",
       " 'id-555528': 1014,\n",
       " 'id-559744': 80,\n",
       " 'id-559833': 886,\n",
       " 'id-559855': 1232,\n",
       " 'id-560290': 1119,\n",
       " 'id-560518': 550,\n",
       " 'id-560620': 143,\n",
       " 'id-560805': 1879,\n",
       " 'id-562265': 640,\n",
       " 'id-562374': 937,\n",
       " 'id-562637': 491,\n",
       " 'id-563115': 2140,\n",
       " 'id-563582': 1776,\n",
       " 'id-563643': 2743,\n",
       " 'id-563787': 21,\n",
       " 'id-563846': 2730,\n",
       " 'id-563938': 164,\n",
       " 'id-564335': 606,\n",
       " 'id-564371': 1442,\n",
       " 'id-564418': 1171,\n",
       " 'id-564604': 197,\n",
       " 'id-565364': 457,\n",
       " 'id-565479': 1608,\n",
       " 'id-565515': 2438,\n",
       " 'id-565533': 2066,\n",
       " 'id-565561': 752,\n",
       " 'id-565589': 1782,\n",
       " 'id-565648': 1161,\n",
       " 'id-565747': 1921,\n",
       " 'id-565822': 3193,\n",
       " 'id-565930': 1259,\n",
       " 'id-565980': 44,\n",
       " 'id-566013': 1061,\n",
       " 'id-566022': 964,\n",
       " 'id-566092': 493,\n",
       " 'id-566431': 2409,\n",
       " 'id-566439': 285,\n",
       " 'id-566478': 1438,\n",
       " 'id-566541': 574,\n",
       " 'id-566573': 859,\n",
       " 'id-566587': 2261,\n",
       " 'id-566602': 700,\n",
       " 'id-566631': 494,\n",
       " 'id-566689': 748,\n",
       " 'id-566726': 694,\n",
       " 'id-566825': 568,\n",
       " 'id-566838': 412}"
      ]
     },
     "execution_count": 379,
     "metadata": {},
     "output_type": "execute_result"
    }
   ],
   "source": [
    "# what are actual good arms\n",
    "# id: total rewards\n",
    "goodness = {}\n",
    "for record in records:\n",
    "    goodness[record['displayed']] = goodness.get(record['displayed'], 0) + record['clicked']\n",
    "goodness"
   ]
  },
  {
   "cell_type": "code",
   "execution_count": 414,
   "metadata": {},
   "outputs": [
    {
     "data": {
      "text/plain": [
       "{'id-552077': 0.022296015180265655,\n",
       " 'id-555224': 0.026303860921501707,\n",
       " 'id-555528': 0.01373834814654238,\n",
       " 'id-559744': 0.03322259136212625,\n",
       " 'id-559833': 0.03938828131946297,\n",
       " 'id-559855': 0.01669195751138088,\n",
       " 'id-560290': 0.015160958161716887,\n",
       " 'id-560518': 0.008447502611046261,\n",
       " 'id-560620': 0.01831454918032787,\n",
       " 'id-560805': 0.05495116102240159,\n",
       " 'id-562265': 0.02091913447081127,\n",
       " 'id-562374': 0.04339168287487265,\n",
       " 'id-562637': 0.029768400630532314,\n",
       " 'id-563115': 0.03114630028526518,\n",
       " 'id-563582': 0.02518863107732456,\n",
       " 'id-563643': 0.03174658287327986,\n",
       " 'id-563787': 0.00872093023255814,\n",
       " 'id-563846': 0.03159612513454394,\n",
       " 'id-563938': 0.02729693741677763,\n",
       " 'id-564335': 0.010464875319472267,\n",
       " 'id-564371': 0.04578649901568553,\n",
       " 'id-564418': 0.013552770158443573,\n",
       " 'id-564604': 0.02623867874267448,\n",
       " 'id-565364': 0.020578170028818444,\n",
       " 'id-565479': 0.022903372835004557,\n",
       " 'id-565515': 0.032897932746801965,\n",
       " 'id-565533': 0.029426845943482223,\n",
       " 'id-565561': 0.02054195804195804,\n",
       " 'id-565589': 0.02775355095938201,\n",
       " 'id-565648': 0.015794199270827664,\n",
       " 'id-565747': 0.03369702497895032,\n",
       " 'id-565822': 0.03695473536798491,\n",
       " 'id-565930': 0.01942931218074353,\n",
       " 'id-565980': 0.01047868540128602,\n",
       " 'id-566013': 0.017422289364357378,\n",
       " 'id-566022': 0.01434545156921978,\n",
       " 'id-566092': 0.014167073766487542,\n",
       " 'id-566431': 0.08826115629808749,\n",
       " 'id-566439': 0.010797908615594454,\n",
       " 'id-566478': 0.07156365084104709,\n",
       " 'id-566541': 0.026217228464419477,\n",
       " 'id-566573': 0.04406484046373243,\n",
       " 'id-566587': 0.11086594096302835,\n",
       " 'id-566602': 0.04024376221685639,\n",
       " 'id-566631': 0.03050512535506978,\n",
       " 'id-566689': 0.058011478206917946,\n",
       " 'id-566726': 0.06429497869186585,\n",
       " 'id-566825': 0.09476142809476143,\n",
       " 'id-566838': 0.11463550361713967}"
      ]
     },
     "execution_count": 414,
     "metadata": {},
     "output_type": "execute_result"
    }
   ],
   "source": [
    "# id:average rewards\n",
    "for g in goodness:\n",
    "    goodness[g] /= lives[g][1] - lives[g][0]\n",
    "goodness"
   ]
  },
  {
   "cell_type": "code",
   "execution_count": 415,
   "metadata": {
    "scrolled": true
   },
   "outputs": [
    {
     "data": {
      "text/plain": [
       "[('id-566838', 0.11463550361713967),\n",
       " ('id-566587', 0.11086594096302835),\n",
       " ('id-566825', 0.09476142809476143),\n",
       " ('id-566431', 0.08826115629808749),\n",
       " ('id-566478', 0.07156365084104709),\n",
       " ('id-566726', 0.06429497869186585),\n",
       " ('id-566689', 0.058011478206917946),\n",
       " ('id-560805', 0.05495116102240159),\n",
       " ('id-564371', 0.04578649901568553),\n",
       " ('id-566573', 0.04406484046373243),\n",
       " ('id-562374', 0.04339168287487265),\n",
       " ('id-566602', 0.04024376221685639),\n",
       " ('id-559833', 0.03938828131946297),\n",
       " ('id-565822', 0.03695473536798491),\n",
       " ('id-565747', 0.03369702497895032),\n",
       " ('id-559744', 0.03322259136212625),\n",
       " ('id-565515', 0.032897932746801965),\n",
       " ('id-563643', 0.03174658287327986),\n",
       " ('id-563846', 0.03159612513454394),\n",
       " ('id-563115', 0.03114630028526518),\n",
       " ('id-566631', 0.03050512535506978),\n",
       " ('id-562637', 0.029768400630532314),\n",
       " ('id-565533', 0.029426845943482223),\n",
       " ('id-565589', 0.02775355095938201),\n",
       " ('id-563938', 0.02729693741677763),\n",
       " ('id-555224', 0.026303860921501707),\n",
       " ('id-564604', 0.02623867874267448),\n",
       " ('id-566541', 0.026217228464419477),\n",
       " ('id-563582', 0.02518863107732456),\n",
       " ('id-565479', 0.022903372835004557),\n",
       " ('id-552077', 0.022296015180265655),\n",
       " ('id-562265', 0.02091913447081127),\n",
       " ('id-565364', 0.020578170028818444),\n",
       " ('id-565561', 0.02054195804195804),\n",
       " ('id-565930', 0.01942931218074353),\n",
       " ('id-560620', 0.01831454918032787),\n",
       " ('id-566013', 0.017422289364357378),\n",
       " ('id-559855', 0.01669195751138088),\n",
       " ('id-565648', 0.015794199270827664),\n",
       " ('id-560290', 0.015160958161716887),\n",
       " ('id-566022', 0.01434545156921978),\n",
       " ('id-566092', 0.014167073766487542),\n",
       " ('id-555528', 0.01373834814654238),\n",
       " ('id-564418', 0.013552770158443573),\n",
       " ('id-566439', 0.010797908615594454),\n",
       " ('id-565980', 0.01047868540128602),\n",
       " ('id-564335', 0.010464875319472267),\n",
       " ('id-563787', 0.00872093023255814),\n",
       " ('id-560518', 0.008447502611046261)]"
      ]
     },
     "execution_count": 415,
     "metadata": {},
     "output_type": "execute_result"
    }
   ],
   "source": [
    "sorted(goodness.items(), key= lambda g:g[1], reverse=True)"
   ]
  },
  {
   "cell_type": "code",
   "execution_count": 429,
   "metadata": {
    "scrolled": false
   },
   "outputs": [
    {
     "data": {
      "image/png": "[encoded data removed]",
      "text/plain": [
       "<matplotlib.figure.Figure at 0x1262ad550>"
      ]
     },
     "metadata": {},
     "output_type": "display_data"
    }
   ],
   "source": [
    "# rank all arms by their \"goodness\" (y axis is goodness ranking)\n",
    "# observe their living timestamp(x axis is timestamp)\n",
    "# the optimal recommender should pick the highest blue bar at a particular timestamp\n",
    "L=[]\n",
    "arms=[]\n",
    "for i,s in enumerate(sorted(goodness.items(), key= lambda g:g[1], reverse=True)):\n",
    "    arm = s[0]\n",
    "    l = np.arange(lives[arm][0], lives[arm][1], 100)\n",
    "    L = np.append(L, l)\n",
    "    arms = np.append(arms, [i]*len(l))\n",
    "plt.figure(figsize=(20,10))\n",
    "plt.scatter(L,arms)\n",
    "pass"
   ]
  },
  {
   "cell_type": "code",
   "execution_count": 319,
   "metadata": {},
   "outputs": [
    {
     "data": {
      "text/plain": [
       "Counter({0: 28949, 1: 1051})"
      ]
     },
     "execution_count": 319,
     "metadata": {},
     "output_type": "execute_result"
    }
   ],
   "source": [
    "c=Counter()\n",
    "i=0\n",
    "while i<len(records[:30000]):\n",
    "    c[records[i]['clicked']] += 1\n",
    "    i += 1\n",
    "c"
   ]
  },
  {
   "cell_type": "code",
   "execution_count": 28,
   "metadata": {},
   "outputs": [
    {
     "data": {
      "text/plain": [
       "0.03397894278471563"
      ]
     },
     "execution_count": 28,
     "metadata": {},
     "output_type": "execute_result"
    }
   ],
   "source": [
    "# average rewards if you just play arms randomly\n",
    "c[1]/(c[0]+c[1])"
   ]
  },
  {
   "cell_type": "code",
   "execution_count": 5,
   "metadata": {
    "collapsed": true
   },
   "outputs": [],
   "source": [
    "# offline simulation for AG_L\n",
    "# slow but more accurate version comsumes much more records\n",
    "# randomly select one from young arms and move on when it's also picked by the records.\n",
    "# if not, compute young arms and generate + compare again\n",
    "\n",
    "def AG_L2(n=1000,k=1, m=25, life_threshold=.1, records=records, lives=lives, verbose=True):\n",
    "    '''\n",
    "    n: number of turns to play\n",
    "    m: number of turns to initialize\n",
    "    k: adjust desire to exploit/explore\n",
    "    '''\n",
    "    def get_young_arms():\n",
    "        time = records[i]['timestamp']\n",
    "        born = filter(lambda x: x[1][0]<time, lives.items()) # fileter out unborn articles from lives\n",
    "        life_rank = sorted(born, key= lambda x: x[1][1], reverse= True) # sort born articles by their expiring date\n",
    "        young = life_rank[ : int(len(life_rank)*life_threshold)] # articles among top $life_threshold$% on the life ranking\n",
    "        return list(zip(*young))[0]\n",
    "    \n",
    "    def get_best_arm():\n",
    "        time = records[i]['timestamp']\n",
    "        available = filter(lambda x:lives[x[0]][1] >= time, X.items())\n",
    "        best = max(available, key= lambda x:x[1][0]/x[1][1])\n",
    "        return best\n",
    "    \n",
    "    rewards = 0\n",
    "    i = 0 # marker in records\n",
    "    X = {} # dict of expectations article_id : array([sum, n_observations])\n",
    "    t = 1 # number of turn taken\n",
    "    \n",
    "    # initialization\n",
    "    while t<=m:\n",
    "        record = records[i]\n",
    "        displayed = record['displayed']\n",
    "        clicked = record['clicked']\n",
    "        if displayed not in X.keys():\n",
    "            X[displayed] = np.array([clicked, 1])\n",
    "            t += 1\n",
    "        i += 1\n",
    "    \n",
    "    n_exploit = 0\n",
    "    n_explore = 0\n",
    "    try:\n",
    "        while t<=n:\n",
    "            best = get_best_arm()\n",
    "            X_max = best[1][0]/best[1][1]\n",
    "            if random.random() < \n",
    "            if np.random.binomial(1, min(1, X_max*k)): # exploit\n",
    "                n_exploit += 1\n",
    "                while records[i]['displayed'] != get_best_arm()[0]:\n",
    "                    i += 1\n",
    "            else: # explore\n",
    "                n_explore += 1\n",
    "                while records[i]['displayed'] != np.random.choice(get_young_arms(), size=1):\n",
    "                    i += 1\n",
    "                    \n",
    "            if verbose:\n",
    "                if i%1000==0:\n",
    "                    print(t, i)\n",
    "                \n",
    "            record = records[i]\n",
    "            rewards += record['clicked']\n",
    "            X[record['displayed']] = X.get(record['displayed'], np.array([0, 0])) + np.array([record['clicked'], 1])\n",
    "            t += 1\n",
    "            i += 1\n",
    "            \n",
    "    except IndexError:\n",
    "        print('running out of records')\n",
    "        return\n",
    "        \n",
    "    if verbose:\n",
    "        print('# exploit:', n_exploit)\n",
    "        print('# explore:', n_explore)\n",
    "        print('# records:', i)\n",
    "        print('max expectation:', X_max)\n",
    "\n",
    "\n",
    "    return rewards"
   ]
  },
  {
   "cell_type": "code",
   "execution_count": 8,
   "metadata": {
    "scrolled": true
   },
   "outputs": [
    {
     "name": "stdout",
     "output_type": "stream",
     "text": [
      "619 16000\n",
      "654 17000\n",
      "2060 54000\n",
      "2627 67000\n",
      "2714 69000\n",
      "2944 74000\n",
      "3347 83000\n",
      "4355 107000\n",
      "5522 135000\n",
      "6748 163000\n",
      "6936 167000\n",
      "7646 182000\n",
      "8112 192000\n",
      "8260 195000\n",
      "# exploit: 568\n",
      "# explore: 9407\n",
      "# records: 231711\n",
      "max expectation: 0.04746222394420767\n"
     ]
    },
    {
     "data": {
      "text/plain": [
       "454"
      ]
     },
     "execution_count": 8,
     "metadata": {},
     "output_type": "execute_result"
    }
   ],
   "source": [
    "AG_L2(10000, life_threshold=.1)"
   ]
  },
  {
   "cell_type": "code",
   "execution_count": 72,
   "metadata": {},
   "outputs": [
    {
     "name": "stdout",
     "output_type": "stream",
     "text": [
      "99\r"
     ]
    },
    {
     "data": {
      "image/png": "[encoded data removed]",
      "text/plain": [
       "<matplotlib.figure.Figure at 0x1185cbcf8>"
      ]
     },
     "metadata": {},
     "output_type": "display_data"
    }
   ],
   "source": [
    "# if it doesn't know their lifespan before and just compare arms by birth\n",
    "agl = []\n",
    "ag = []\n",
    "for i in range(100):\n",
    "    agl.append(AG_L2(n=1000, life_threshold=.5, verbose=False))\n",
    "    ag.append(AG_L2(n=1000, life_threshold=1, verbose=False))\n",
    "    print(i,end='\\r',flush=True)\n",
    "    time.sleep(.001)\n",
    "sns.distplot(agl,label='AG_L')\n",
    "sns.distplot(ag,label='AG')\n",
    "plt.legend()\n",
    "pass"
   ]
  },
  {
   "cell_type": "code",
   "execution_count": 70,
   "metadata": {},
   "outputs": [
    {
     "name": "stdout",
     "output_type": "stream",
     "text": [
      "99\r"
     ]
    },
    {
     "data": {
      "image/png": "[encoded data removed]",
      "text/plain": [
       "<matplotlib.figure.Figure at 0x1183e00f0>"
      ]
     },
     "metadata": {},
     "output_type": "display_data"
    }
   ],
   "source": [
    "# compare by birth\n",
    "agl = []\n",
    "ag = []\n",
    "for i in range(100):\n",
    "    agl.append(AG_L2(n=1000,verbose=False))\n",
    "    ag.append(AG_L2(n=1000, life_threshold=1, verbose=False))\n",
    "    print(i,end='\\r',flush=True)\n",
    "    time.sleep(.001)\n",
    "sns.distplot(agl,label='AG_L')\n",
    "sns.distplot(ag,label='AG')\n",
    "plt.legend()\n",
    "pass"
   ]
  },
  {
   "cell_type": "code",
   "execution_count": 30,
   "metadata": {},
   "outputs": [
    {
     "name": "stdout",
     "output_type": "stream",
     "text": [
      "99\r"
     ]
    },
    {
     "data": {
      "image/png": "[encoded data removed]",
      "text/plain": [
       "<matplotlib.figure.Figure at 0x10ae47f28>"
      ]
     },
     "metadata": {},
     "output_type": "display_data"
    }
   ],
   "source": [
    "# knows exact lifespans\n",
    "agl = []\n",
    "ag = []\n",
    "for i in range(100):\n",
    "    agl.append(AG_L2(n=1000,verbose=False))\n",
    "    ag.append(AG_L2(n=1000, life_threshold=1, verbose=False))\n",
    "    print(i,end='\\r',flush=True)\n",
    "    time.sleep(.001)\n",
    "sns.distplot(agl,label='AG_L')\n",
    "sns.distplot(ag,label='AG')\n",
    "plt.legend()\n",
    "pass"
   ]
  },
  {
   "cell_type": "code",
   "execution_count": 32,
   "metadata": {
    "collapsed": true
   },
   "outputs": [],
   "source": [
    "# offline simulation for AG_L\n",
    "# fast version, consumes much less records\n",
    "# takes a record, see if it's in young arms\n",
    "def AG_L(n=10000,k=1, m=25, life_threshold=.3, records=records, lives=lives, verbose=True):\n",
    "    # records should be long enough\n",
    "    '''\n",
    "    n: number of turns to play\n",
    "    m: number of turns to initialize\n",
    "    k: adjust desire to exploit/explore\n",
    "    '''\n",
    "    rewards = 0\n",
    "    i = 0 # marker in records\n",
    "    X = {} # dict of expectations article_id : array([sum, n_observations])\n",
    "    t = 1 # number of turn taken\n",
    "    \n",
    "    # initialization\n",
    "    while t<=m:\n",
    "        try:\n",
    "            displayed = records[i]['displayed']\n",
    "            clicked = records[i]['clicked']\n",
    "        except IndexError:\n",
    "            print('running out of records')\n",
    "            print(t,i)\n",
    "            raise IndexError\n",
    "        if displayed not in X.keys():\n",
    "            X[displayed] = np.array([clicked, 1])\n",
    "            t += 1\n",
    "        i += 1\n",
    "    \n",
    "    n_exploit = 0\n",
    "    n_explore = 0\n",
    "    while t<=n:\n",
    "        best = max(X.items(), key= lambda x:x[1][0]/x[1][1])\n",
    "        X_max = best[1][0]/best[1][1]\n",
    "        if np.random.binomial(1, min(1, X_max*k)): # exploit\n",
    "            n_exploit += 1                       \n",
    "            while i < len(records): # look for target arm\n",
    "                displayed = records[i]['displayed']\n",
    "                clicked = records[i]['clicked']\n",
    "                if displayed == best[0]:\n",
    "                    rewards += clicked\n",
    "                    break\n",
    "                i += 1\n",
    "                \n",
    "        else: # explore\n",
    "            n_explore += 1           \n",
    "            while i < len(records):\n",
    "                displayed = records[i]['displayed']\n",
    "                clicked = records[i]['clicked']\n",
    "                time = records[i]['timestamp']\n",
    "                born = filter(lambda x: x[1][0]<time, lives.items()) # fileter out unborn articles from lives\n",
    "                life_rank = sorted(born, key= lambda x: x[1][1], reverse= True) # sort born articles by their expiring date\n",
    "                young = life_rank[ : int(len(life_rank)*life_threshold)] # articles among top $life_threshold$% on the life ranking\n",
    "                if displayed in list(zip(*young))[0]:\n",
    "                    rewards += clicked\n",
    "                    break\n",
    "                i += 1\n",
    "\n",
    "        X[displayed] = X.get(displayed, np.array([0, 0])) + np.array([clicked, 1])\n",
    "        t += 1\n",
    "        i += 1\n",
    "        \n",
    "    if verbose:\n",
    "        print('# exploit:', n_exploit)\n",
    "        print('# explore:', n_explore)\n",
    "        print('# records:', i)\n",
    "        print('max expectation:', X_max)\n",
    "    \n",
    "    return rewards"
   ]
  },
  {
   "cell_type": "code",
   "execution_count": 38,
   "metadata": {},
   "outputs": [
    {
     "name": "stdout",
     "output_type": "stream",
     "text": [
      "99\r"
     ]
    },
    {
     "data": {
      "image/png": "[encoded data removed]",
      "text/plain": [
       "<matplotlib.figure.Figure at 0x10d30c8d0>"
      ]
     },
     "metadata": {},
     "output_type": "display_data"
    }
   ],
   "source": [
    "# knows exact lifespans\n",
    "# play i different games\n",
    "agl = []\n",
    "ag = []\n",
    "for i in range(100):\n",
    "    agl.append(AG_L(n=1000, m=20, records=records[i*10000:100000+i*10000], verbose=False))\n",
    "    ag.append(AG_L(n=1000, m=20, records=records[i*10000:100000+i*10000], life_threshold=1, verbose=False))\n",
    "    print(i,end='\\r',flush=True)\n",
    "    time.sleep(.001)\n",
    "sns.distplot(agl,label='AG_L')\n",
    "sns.distplot(ag,label='AG')\n",
    "plt.legend()\n",
    "pass"
   ]
  },
  {
   "cell_type": "code",
   "execution_count": 35,
   "metadata": {
    "scrolled": false
   },
   "outputs": [
    {
     "data": {
      "image/png": "[encoded data removed]",
      "text/plain": [
       "<matplotlib.figure.Figure at 0x1159e9550>"
      ]
     },
     "metadata": {},
     "output_type": "display_data"
    }
   ],
   "source": [
    "x = []\n",
    "y = []\n",
    "for b in np.arange(0.1,1.,.01):\n",
    "    x.append(b)\n",
    "    y.append(AG_L(n=10000,life_threshold=b, verbose=False))\n",
    "plt.plot(x,y)\n",
    "plt.xlabel('life_threshold')\n",
    "plt.ylabel('rewards')\n",
    "pass"
   ]
  },
  {
   "cell_type": "code",
   "execution_count": 84,
   "metadata": {},
   "outputs": [
    {
     "data": {
      "image/png": "[encoded data removed]",
      "text/plain": [
       "<matplotlib.figure.Figure at 0x119501358>"
      ]
     },
     "metadata": {},
     "output_type": "display_data"
    }
   ],
   "source": [
    "agl = []\n",
    "ag = []\n",
    "for i in range(1000):\n",
    "    agl.append(AG_L(n=1000,verbose=False))\n",
    "    ag.append(AG_L(n=1000, life_threshold=1, verbose=False))\n",
    "    print(i,end='\\r',flush=True)\n",
    "    time.sleep(.001)\n",
    "sns.distplot(agl,label='AG_L')\n",
    "sns.distplot(ag,label='AG')\n",
    "plt.legend()\n",
    "pass"
   ]
  },
  {
   "cell_type": "code",
   "execution_count": 7,
   "metadata": {
    "collapsed": true
   },
   "outputs": [],
   "source": [
    "# offline simulation for UCB_L\n",
    "def UCB_L(n=1000, c=.005, m=25, r=1, records=records, lives=lives, verbose=True, mode=True):\n",
    "    # records should be long enough\n",
    "    '''\n",
    "    n: number of turns to play\n",
    "    m: number of turns to initialize\n",
    "    k: adjust desire to exploit/explore\n",
    "    mode: whether the modification is active or not\n",
    "    '''\n",
    "    def ucb(x):\n",
    "        # r: ratio between paces of timestamp and turns\n",
    "        time = records[i]['timestamp']\n",
    "        article = x[0]\n",
    "        acc_reward, T = x[1]\n",
    "        die = lives[article][1]\n",
    "        s = S.get(article, t)\n",
    "        if mode:\n",
    "            return acc_reward/T + c*np.log(r*(die-time)+1) * np.sqrt(2*np.log(t-s+1) / T)\n",
    "        else:\n",
    "            return acc_reward/T + np.sqrt(2*np.log(t-s+1)/T)\n",
    "        \n",
    "    rewards = 0\n",
    "    i = 0 # marker in records\n",
    "    X = {} # dict of expectations article_id : array([sum, n_observations])\n",
    "    t = 1 # number of turn taken\n",
    "    S = {} # records the first turn an arm is played\n",
    "    # initialization\n",
    "    while t<=m:\n",
    "        displayed = records[i]['displayed']\n",
    "        clicked = records[i]['clicked']\n",
    "        if displayed not in X.keys():\n",
    "            S[displayed] = t\n",
    "            X[displayed] = np.array([clicked, 1])\n",
    "            t += 1\n",
    "        i += 1\n",
    "    \n",
    "    while t<=n:\n",
    "        while i<len(records):\n",
    "            fake = False\n",
    "            displayed = records[i]['displayed']\n",
    "            clicked = records[i]['clicked']\n",
    "            \n",
    "            if displayed not in X.keys(): # use previous mean as an estimation for an unseen arm\n",
    "                fake = True\n",
    "                estimation = sum(map(lambda x:x[0]/x[1], X.values())) / len(X) \n",
    "                X[displayed] = np.array([estimation, 1])\n",
    "                            \n",
    "            best = max(X.items(), key= lambda x:ucb(x))\n",
    "            \n",
    "            if fake:\n",
    "                X.pop(displayed)\n",
    "\n",
    "            if displayed == best[0]:\n",
    "                rewards += clicked\n",
    "                if displayed not in S.keys(): # the first time an arm is played\n",
    "                    S[displayed] = t\n",
    "                X[displayed] = X.get(displayed, np.array([0, 0])) + np.array([clicked, 1])\n",
    "                break\n",
    "            i += 1\n",
    "            \n",
    "        if i>=len(records):\n",
    "            print('running out of records')\n",
    "            return\n",
    "        \n",
    "        if verbose:       \n",
    "            if i%1000==0:\n",
    "                print(t,i)\n",
    "            \n",
    "        t += 1\n",
    "        i += 1\n",
    "    if verbose:\n",
    "        print('# X', len(X.keys()))\n",
    "        print('# records', i)\n",
    "        return rewards, X\n",
    "    return rewards"
   ]
  },
  {
   "cell_type": "code",
   "execution_count": 9,
   "metadata": {
    "collapsed": true
   },
   "outputs": [],
   "source": [
    "life_length = {}\n",
    "rewards_log = []"
   ]
  },
  {
   "cell_type": "code",
   "execution_count": 65,
   "metadata": {
    "collapsed": true
   },
   "outputs": [],
   "source": [
    "# test version 3\n",
    "# filter young arms before choosing best score\n",
    "def UCB_L3(n=1000, c=.0005, m=25, p=2, life_threshold=.3, reward_rate=1, records=records, lives=lives, verbose=False, mode=True):\n",
    "    def get_young_arms():\n",
    "        time = records[i]['timestamp']\n",
    "        born = filter(lambda x: x[1][0]<time, lives.items()) # fileter out unborn articles from lives\n",
    "        life_rank = sorted(born, key= lambda x: x[1][1], reverse= True) # sort born articles by their expiring date\n",
    "        young = life_rank[ : int(len(life_rank)*life_threshold)] # articles among top $life_threshold$% on the life ranking\n",
    "        return list(zip(*young))[0]\n",
    "    def ucb(x):\n",
    "        time = records[i]['timestamp']\n",
    "        article = x[0]\n",
    "        acc_reward, T = x[1]\n",
    "        birth_time, death_time = lives[article]\n",
    "        if article not in S.keys():\n",
    "            S[article] = t\n",
    "        s = S[article]\n",
    "        if mode:\n",
    "            life_left = life_est[article] - t + s\n",
    "            life_spent = t-s\n",
    "\n",
    "            estimation = acc_reward/T\n",
    "            life_regulation = c*np.log(life_left+1)\n",
    "            potential = np.sqrt(p* np.log(life_spent) / T)\n",
    "\n",
    "            return estimation + life_regulation * potential\n",
    "        else:\n",
    "            return acc_reward/T + np.sqrt(p*np.log(t-s)/T)\n",
    "        \n",
    "    rewards = 0\n",
    "    #rewards_log = [0]\n",
    "    i = 0 # marker in records\n",
    "    X = {} # dict of expectations article_id : array([sum, n_observations])\n",
    "    t = 1 # number of turn taken\n",
    "    S = {} # records the first turn an arm is played\n",
    "    # initialization\n",
    "    while t<=m:\n",
    "        displayed = records[i]['displayed']\n",
    "        clicked = records[i]['clicked'] * reward_rate\n",
    "        if displayed not in X.keys():\n",
    "            S[displayed] = t\n",
    "            X[displayed] = np.array([clicked, 1])\n",
    "            if t==1:\n",
    "                starting_time = records[i]['timestamp']\n",
    "            t += 1\n",
    "        i += 1\n",
    "    \n",
    "    regrets = 0\n",
    "    while t<=n:\n",
    "        rec_used = 0\n",
    "        while True:\n",
    "            displayed = records[i]['displayed']\n",
    "            clicked = records[i]['clicked'] * reward_rate\n",
    "                \n",
    "            # initialize all uninitialized arms in the pool with mean of past arms\n",
    "            tmp = {}\n",
    "            for article in records[i]['pool']:\n",
    "                article = article[1:] # items in pool begins with a '|'\n",
    "                estimation = sum(map(lambda x:x[0]/x[1], X.values())) / len(X) \n",
    "                if article not in X.keys():\n",
    "                    tmp[article] = np.array([estimation, 1])\n",
    "            \n",
    "            best = max(# find best among\n",
    "                filter(# young arms within initialized and uninitialized arms\n",
    "                    lambda item:item[0] in get_young_arms(),\n",
    "                    (*X.items(), *tmp.items())\n",
    "                ),\n",
    "                key= lambda x:ucb(x)\n",
    "            )\n",
    "            \n",
    "            if displayed == best[0]:\n",
    "                rewards += clicked\n",
    "                if displayed not in S.keys(): # the first turn an arm is played\n",
    "                    S[displayed] = t\n",
    "                X[displayed] = X.get(displayed, np.array([0, 0])) + np.array([clicked, 1])\n",
    "                break\n",
    "            \n",
    "            i += 1\n",
    "            rec_used += 1\n",
    "    \n",
    "        t += 1\n",
    "        i += 1\n",
    "        #rewards_log.append(rewards)\n",
    "    #print('regrets',regrets)\n",
    "    return rewards/reward_rate"
   ]
  },
  {
   "cell_type": "code",
   "execution_count": 40,
   "metadata": {
    "collapsed": true
   },
   "outputs": [],
   "source": [
    "# test version\n",
    "def UCB_L2(n=1000, c=.0005, m=25, p=2, reward_rate=1, records=records, lives=lives, verbose=False, mode=True):\n",
    "    def ucb(x):\n",
    "        time = records[i]['timestamp']\n",
    "        article = x[0]\n",
    "        acc_reward, T = x[1]\n",
    "        birth_time, death_time = lives[article]\n",
    "        if article not in S.keys():\n",
    "            S[article] = t\n",
    "        s = S[article]\n",
    "        if mode:\n",
    "            life_left = life_est[article] - t + s\n",
    "            life_spent = t-s\n",
    "            \n",
    "            '''# dynamic ratio from turn to timestamp\n",
    "            try:\n",
    "                turn2time = (t-1)/(time-starting_time)\n",
    "            except ZeroDivisionError:\n",
    "                turn2time = t-1\n",
    "            # unborn or dead arms\n",
    "            if death_time < time or time <= birth_time:\n",
    "                return 0\n",
    "            life_left = (death_time - time) * turn2time\n",
    "            life_spent = (time - birth_time) * turn2time\n",
    "            # trace estimated life length(in turns)\n",
    "            if article not in life_length:\n",
    "                life_length[article] = []\n",
    "            else:\n",
    "                life_length[article].append(life_left + life_spent)'''\n",
    "            \n",
    "            estimation = acc_reward/T\n",
    "            life_regulation = c*np.log(life_left+1)\n",
    "            potential = np.sqrt(p* np.log(life_spent) / T)\n",
    "                      \n",
    "            '''if verbose:\n",
    "                print(article, estimation, life_regulation* potential, life_regulation*potential/estimation)'''\n",
    "                \n",
    "            return estimation + life_regulation * potential\n",
    "        else:\n",
    "            return acc_reward/T + np.sqrt(p*np.log(t-s)/T)\n",
    "        \n",
    "    rewards = 0\n",
    "    #rewards_log = [0]\n",
    "    i = 0 # marker in records\n",
    "    X = {} # dict of expectations article_id : array([sum, n_observations])\n",
    "    t = 1 # number of turn taken\n",
    "    S = {} # records the first turn an arm is played\n",
    "    # initialization\n",
    "    while t<=m:\n",
    "        displayed = records[i]['displayed']\n",
    "        clicked = records[i]['clicked'] * reward_rate\n",
    "        if displayed not in X.keys():\n",
    "            S[displayed] = t\n",
    "            X[displayed] = np.array([clicked, 1])\n",
    "            if t==1:\n",
    "                starting_time = records[i]['timestamp']\n",
    "            t += 1\n",
    "        i += 1\n",
    "    \n",
    "    regrets = 0\n",
    "    while t<=n:\n",
    "        rec_used = 0\n",
    "        while True:\n",
    "            displayed = records[i]['displayed']\n",
    "            clicked = records[i]['clicked'] * reward_rate\n",
    "                \n",
    "            # initialize all uninitialized arms in the pool with mean of past arms\n",
    "            tmp = {}\n",
    "            for article in records[i]['pool']:\n",
    "                article = article[1:] # items in pool begins with a '|'\n",
    "                estimation = sum(map(lambda x:x[0]/x[1], X.values())) / len(X) \n",
    "                if article not in X.keys():\n",
    "                    tmp[article] = np.array([estimation, 1])\n",
    "            \n",
    "            best = max(\n",
    "                (*X.items(), *tmp.items()), \n",
    "                key= lambda x:ucb(x)\n",
    "            )\n",
    "            \n",
    "            if displayed == best[0]:\n",
    "                rewards += clicked\n",
    "                if displayed not in S.keys(): # the first turn an arm is played\n",
    "                    S[displayed] = t\n",
    "                X[displayed] = X.get(displayed, np.array([0, 0])) + np.array([clicked, 1])\n",
    "                break\n",
    "            \n",
    "            i += 1\n",
    "            rec_used += 1\n",
    "    \n",
    "        t += 1\n",
    "        i += 1\n",
    "        #rewards_log.append(rewards)\n",
    "    #print('regrets',regrets)\n",
    "    return rewards/reward_rate"
   ]
  },
  {
   "cell_type": "code",
   "execution_count": 25,
   "metadata": {},
   "outputs": [
    {
     "name": "stderr",
     "output_type": "stream",
     "text": [
      "/anaconda3/lib/python3.6/site-packages/ipykernel_launcher.py:39: RuntimeWarning: divide by zero encountered in log\n",
      "/anaconda3/lib/python3.6/site-packages/ipykernel_launcher.py:39: RuntimeWarning: invalid value encountered in sqrt\n"
     ]
    },
    {
     "data": {
      "text/plain": [
       "44.0"
      ]
     },
     "execution_count": 25,
     "metadata": {},
     "output_type": "execute_result"
    }
   ],
   "source": [
    "UCB_L2()"
   ]
  },
  {
   "cell_type": "code",
   "execution_count": 41,
   "metadata": {},
   "outputs": [
    {
     "name": "stderr",
     "output_type": "stream",
     "text": [
      "/anaconda3/lib/python3.6/site-packages/ipykernel_launcher.py:33: RuntimeWarning: divide by zero encountered in log\n",
      "/anaconda3/lib/python3.6/site-packages/ipykernel_launcher.py:33: RuntimeWarning: invalid value encountered in sqrt\n"
     ]
    },
    {
     "name": "stdout",
     "output_type": "stream",
     "text": [
      "100\r"
     ]
    }
   ],
   "source": [
    "ucbl2 = []\n",
    "for i in range(100):\n",
    "    ucbl2.append(UCB_L2(n=500, m=20, records=records[i*300:1000000+i*300], verbose=False))\n",
    "    print(i+1,end='\\r',flush=True)\n",
    "    time.sleep(.0001)"
   ]
  },
  {
   "cell_type": "code",
   "execution_count": 66,
   "metadata": {},
   "outputs": [
    {
     "name": "stderr",
     "output_type": "stream",
     "text": [
      "/anaconda3/lib/python3.6/site-packages/ipykernel_launcher.py:23: RuntimeWarning: divide by zero encountered in log\n",
      "/anaconda3/lib/python3.6/site-packages/ipykernel_launcher.py:23: RuntimeWarning: invalid value encountered in sqrt\n"
     ]
    },
    {
     "name": "stdout",
     "output_type": "stream",
     "text": [
      "100\r"
     ]
    }
   ],
   "source": [
    "ucbl3 = []\n",
    "for i in range(100):\n",
    "    ucbl3.append(UCB_L3(n=500, m=20, records=records[i*300:1000000+i*300], verbose=False))\n",
    "    print(i+1,end='\\r',flush=True)\n",
    "    time.sleep(.0001)"
   ]
  },
  {
   "cell_type": "code",
   "execution_count": 67,
   "metadata": {},
   "outputs": [
    {
     "name": "stderr",
     "output_type": "stream",
     "text": [
      "/anaconda3/lib/python3.6/site-packages/statsmodels/nonparametric/kde.py:475: DeprecationWarning: object of type <class 'numpy.float64'> cannot be safely interpreted as an integer.\n",
      "  grid,delta = np.linspace(a,b,gridsize,retstep=True)\n"
     ]
    },
    {
     "data": {
      "image/png": "[encoded data removed]",
      "text/plain": [
       "<Figure size 432x288 with 1 Axes>"
      ]
     },
     "metadata": {},
     "output_type": "display_data"
    }
   ],
   "source": [
    "sns.distplot(ucbl3,label='UCB_L3')\n",
    "sns.distplot(ucbl2,label='UCB_L2')\n",
    "sns.distplot(ucbn,label='UCB')\n",
    "sns.distplot(agl,label='AG_L')\n",
    "sns.distplot(ag,label='AG')\n",
    "plt.legend()\n",
    "pass"
   ]
  },
  {
   "cell_type": "code",
   "execution_count": 29,
   "metadata": {},
   "outputs": [
    {
     "name": "stderr",
     "output_type": "stream",
     "text": [
      "/anaconda3/lib/python3.6/site-packages/ipykernel_launcher.py:39: RuntimeWarning: divide by zero encountered in log\n",
      "/anaconda3/lib/python3.6/site-packages/ipykernel_launcher.py:39: RuntimeWarning: invalid value encountered in sqrt\n"
     ]
    },
    {
     "data": {
      "text/plain": [
       "<BarContainer object of 9 artists>"
      ]
     },
     "execution_count": 29,
     "metadata": {},
     "output_type": "execute_result"
    },
    {
     "data": {
      "image/png": "[encoded data removed]",
      "text/plain": [
       "<Figure size 720x360 with 1 Axes>"
      ]
     },
     "metadata": {},
     "output_type": "display_data"
    }
   ],
   "source": [
    "# use estimated life length(in turns)\n",
    "plt.figure(figsize=(10,5))\n",
    "ts = [.1, .2, .3, .4, .5, .6, .7, .8, .9]\n",
    "xs = []\n",
    "ys = []\n",
    "for t in ts:\n",
    "    xs.append( 't={}'.format(str(t)) )\n",
    "    ys.append(UCB_L2(life_threshold=t,records=records, verbose=False))\n",
    "plt.bar(xs, ys)"
   ]
  },
  {
   "cell_type": "code",
   "execution_count": null,
   "metadata": {
    "collapsed": true
   },
   "outputs": [],
   "source": []
  },
  {
   "cell_type": "code",
   "execution_count": null,
   "metadata": {
    "collapsed": true
   },
   "outputs": [],
   "source": []
  },
  {
   "cell_type": "code",
   "execution_count": 18,
   "metadata": {},
   "outputs": [
    {
     "data": {
      "image/png": "[encoded data removed]",
      "text/plain": [
       "<Figure size 432x288 with 1 Axes>"
      ]
     },
     "metadata": {},
     "output_type": "display_data"
    }
   ],
   "source": [
    "# the estimation for life length(in turns) should be stable\n",
    "for i in life_length.values():\n",
    "    plt.plot(i)"
   ]
  },
  {
   "cell_type": "code",
   "execution_count": 17,
   "metadata": {},
   "outputs": [
    {
     "data": {
      "text/plain": [
       "{'id-552077': 1662.1089187056039,\n",
       " 'id-555224': 59142.06156274665,\n",
       " 'id-555528': 58195.88950276243,\n",
       " 'id-559744': 1898.6519337016575,\n",
       " 'id-559855': 58195.88950276243,\n",
       " 'id-560290': 58195.88950276243,\n",
       " 'id-560518': 51336.14206787688,\n",
       " 'id-560620': 6156.426203630624,\n",
       " 'id-563115': 54174.658247829524,\n",
       " 'id-563582': 55593.916337805844,\n",
       " 'id-563643': 68126.75374901343,\n",
       " 'id-563787': 1898.6519337016575,\n",
       " 'id-563846': 68126.75374901343,\n",
       " 'id-563938': 4737.168113654301,\n",
       " 'id-564335': 45659.10970797159,\n",
       " 'id-564418': 68126.75374901343,\n",
       " 'id-564604': 5919.88318863457,\n",
       " 'id-565364': 17510.4909234412,\n",
       " 'id-565479': 55357.37332280979,\n",
       " 'id-565515': 58432.43251775849,\n",
       " 'id-565533': 55357.37332280979,\n",
       " 'id-565561': 28864.555643251777,\n",
       " 'id-565589': 50626.513022888714,\n",
       " 'id-565648': 57959.34648776638,\n",
       " 'id-565747': 44949.48066298343,\n",
       " 'id-565822': 68126.75374901343}"
      ]
     },
     "execution_count": 17,
     "metadata": {},
     "output_type": "execute_result"
    }
   ],
   "source": [
    "life_est={}\n",
    "for key in life_length:\n",
    "    life_est[key] = life_length[key][-1]\n",
    "life_est"
   ]
  },
  {
   "cell_type": "code",
   "execution_count": 361,
   "metadata": {},
   "outputs": [
    {
     "name": "stderr",
     "output_type": "stream",
     "text": [
      "/anaconda3/lib/python3.6/site-packages/ipykernel_launcher.py:37: RuntimeWarning: divide by zero encountered in log\n",
      "/anaconda3/lib/python3.6/site-packages/ipykernel_launcher.py:37: RuntimeWarning: invalid value encountered in sqrt\n"
     ]
    },
    {
     "data": {
      "text/plain": [
       "<Container object of 12 artists>"
      ]
     },
     "execution_count": 361,
     "metadata": {},
     "output_type": "execute_result"
    },
    {
     "data": {
      "image/png": "[encoded data removed]",
      "text/plain": [
       "<matplotlib.figure.Figure at 0x24385ff28>"
      ]
     },
     "metadata": {},
     "output_type": "display_data"
    }
   ],
   "source": [
    "# use estimated life length(in turns)\n",
    "plt.figure(figsize=(10,5))\n",
    "cs = [.0005, .001, .005, .01, .05, .1, .5, 1, 5, 20, 50, 100]\n",
    "xs = []\n",
    "ys = []\n",
    "for c in cs:\n",
    "    xs.append( 'c={}'.format(str(c)) )\n",
    "    ys.append(UCB_L2(c=c,records=records[3000:], verbose=False))\n",
    "plt.bar(xs, ys)"
   ]
  },
  {
   "cell_type": "code",
   "execution_count": 359,
   "metadata": {},
   "outputs": [
    {
     "name": "stderr",
     "output_type": "stream",
     "text": [
      "/anaconda3/lib/python3.6/site-packages/ipykernel_launcher.py:36: RuntimeWarning: divide by zero encountered in log\n",
      "/anaconda3/lib/python3.6/site-packages/ipykernel_launcher.py:36: RuntimeWarning: invalid value encountered in sqrt\n"
     ]
    },
    {
     "data": {
      "text/plain": [
       "<Container object of 12 artists>"
      ]
     },
     "execution_count": 359,
     "metadata": {},
     "output_type": "execute_result"
    },
    {
     "data": {
      "image/png": "[encoded data removed]",
      "text/plain": [
       "<matplotlib.figure.Figure at 0x24378c748>"
      ]
     },
     "metadata": {},
     "output_type": "display_data"
    }
   ],
   "source": [
    "# use estimated life length(in turns)\n",
    "plt.figure(figsize=(10,5))\n",
    "cs = [.0005, .001, .005, .01, .05, .1, .5, 1, 5, 20, 50, 100]\n",
    "xs = []\n",
    "ys = []\n",
    "for c in cs:\n",
    "    xs.append( 'c={}'.format(str(c)) )\n",
    "    ys.append(UCB_L2(c=c,records=records[1500:], verbose=False))\n",
    "plt.bar(xs, ys)"
   ]
  },
  {
   "cell_type": "code",
   "execution_count": 344,
   "metadata": {},
   "outputs": [
    {
     "name": "stderr",
     "output_type": "stream",
     "text": [
      "/anaconda3/lib/python3.6/site-packages/ipykernel_launcher.py:36: RuntimeWarning: divide by zero encountered in log\n",
      "/anaconda3/lib/python3.6/site-packages/ipykernel_launcher.py:36: RuntimeWarning: invalid value encountered in sqrt\n"
     ]
    },
    {
     "data": {
      "text/plain": [
       "<Container object of 12 artists>"
      ]
     },
     "execution_count": 344,
     "metadata": {},
     "output_type": "execute_result"
    },
    {
     "data": {
      "image/png": "[encoded data removed]",
      "text/plain": [
       "<matplotlib.figure.Figure at 0x2402b02b0>"
      ]
     },
     "metadata": {},
     "output_type": "display_data"
    }
   ],
   "source": [
    "# use estimated life length(in turns)\n",
    "plt.figure(figsize=(10,5))\n",
    "cs = [.0005, .001, .005, .01, .05, .1, .5, 1, 5, 20, 50, 100]\n",
    "xs = []\n",
    "ys = []\n",
    "for c in cs:\n",
    "    xs.append( 'c={}'.format(str(c)) )\n",
    "    ys.append(UCB_L2(c=c, verbose=False))\n",
    "plt.bar(xs, ys)"
   ]
  },
  {
   "cell_type": "code",
   "execution_count": 435,
   "metadata": {},
   "outputs": [
    {
     "name": "stderr",
     "output_type": "stream",
     "text": [
      "/anaconda3/lib/python3.6/site-packages/ipykernel_launcher.py:37: RuntimeWarning: divide by zero encountered in log\n",
      "/anaconda3/lib/python3.6/site-packages/ipykernel_launcher.py:37: RuntimeWarning: invalid value encountered in sqrt\n"
     ]
    },
    {
     "data": {
      "text/plain": [
       "<Container object of 9 artists>"
      ]
     },
     "execution_count": 435,
     "metadata": {},
     "output_type": "execute_result"
    },
    {
     "data": {
      "image/png": "[encoded data removed]",
      "text/plain": [
       "<matplotlib.figure.Figure at 0x117642048>"
      ]
     },
     "metadata": {},
     "output_type": "display_data"
    }
   ],
   "source": [
    "# use estimated life length(in turns)\n",
    "plt.figure(figsize=(10,5))\n",
    "rs = [10,50,100,200,500,1000,2000,5000,10000]\n",
    "xs = []\n",
    "ys = []\n",
    "for r in rs:\n",
    "    xs.append( 'r={}'.format(str(r)) )\n",
    "    ys.append(UCB_L2(reward_rate=r, verbose=False))\n",
    "plt.bar(xs, ys)"
   ]
  },
  {
   "cell_type": "code",
   "execution_count": 349,
   "metadata": {},
   "outputs": [
    {
     "name": "stderr",
     "output_type": "stream",
     "text": [
      "/anaconda3/lib/python3.6/site-packages/ipykernel_launcher.py:36: RuntimeWarning: divide by zero encountered in log\n",
      "/anaconda3/lib/python3.6/site-packages/ipykernel_launcher.py:36: RuntimeWarning: invalid value encountered in sqrt\n"
     ]
    },
    {
     "data": {
      "text/plain": [
       "<Container object of 11 artists>"
      ]
     },
     "execution_count": 349,
     "metadata": {},
     "output_type": "execute_result"
    },
    {
     "data": {
      "image/png": "[encoded data removed]",
      "text/plain": [
       "<matplotlib.figure.Figure at 0x2375e8b00>"
      ]
     },
     "metadata": {},
     "output_type": "display_data"
    }
   ],
   "source": [
    "# use estimated life length(in turns)\n",
    "plt.figure(figsize=(10,5))\n",
    "rs = [.001, .005, .01, .05, .1, .5, 1, 5, 20, 50, 100]\n",
    "xs = []\n",
    "ys = []\n",
    "for r in rs:\n",
    "    xs.append( 'r={}'.format(str(r)) )\n",
    "    ys.append(UCB_L2(reward_rate=r, verbose=False))\n",
    "plt.bar(xs, ys)"
   ]
  },
  {
   "cell_type": "code",
   "execution_count": 351,
   "metadata": {},
   "outputs": [
    {
     "name": "stderr",
     "output_type": "stream",
     "text": [
      "/anaconda3/lib/python3.6/site-packages/ipykernel_launcher.py:36: RuntimeWarning: divide by zero encountered in log\n",
      "/anaconda3/lib/python3.6/site-packages/ipykernel_launcher.py:36: RuntimeWarning: invalid value encountered in sqrt\n"
     ]
    },
    {
     "data": {
      "text/plain": [
       "<Container object of 16 artists>"
      ]
     },
     "execution_count": 351,
     "metadata": {},
     "output_type": "execute_result"
    },
    {
     "data": {
      "image/png": "[encoded data removed]",
      "text/plain": [
       "<matplotlib.figure.Figure at 0x2402b0d68>"
      ]
     },
     "metadata": {},
     "output_type": "display_data"
    }
   ],
   "source": [
    "# use estimated life length(in turns)\n",
    "plt.figure(figsize=(10,5))\n",
    "cs = [5,10,20,50]\n",
    "rs = [10,50,100,150]\n",
    "xs = []\n",
    "ys = []\n",
    "for c in cs:\n",
    "    for r in rs:\n",
    "        xs.append( 'c{}\\nr{}'.format(str(c),str(r)) )\n",
    "        ys.append(UCB_L2(c=c,reward_rate=r, verbose=False))\n",
    "plt.bar(xs, ys)"
   ]
  },
  {
   "cell_type": "code",
   "execution_count": 18,
   "metadata": {},
   "outputs": [
    {
     "name": "stdout",
     "output_type": "stream",
     "text": [
      "99\r"
     ]
    },
    {
     "data": {
      "image/png": "[encoded data removed]",
      "text/plain": [
       "<matplotlib.figure.Figure at 0x12d575fd0>"
      ]
     },
     "metadata": {},
     "output_type": "display_data"
    }
   ],
   "source": [
    "ucbl = []\n",
    "ucbn = []\n",
    "for i in range(100):\n",
    "    ucbl.append(UCB_L(n=500, m=20, r=.8, c=0.005, records=records[i*100:1000000+i*100], verbose=False))\n",
    "    ucbn.append(UCB_L(n=500, m=20, r=.8, records=records[i*100:1000000+i*100], mode=False, verbose=False))\n",
    "    print(i,end='\\r',flush=True)\n",
    "    time.sleep(.001)\n",
    "sns.distplot(ucbl,label='UCB_L')\n",
    "sns.distplot(ucbn,label='UCB')\n",
    "plt.legend()\n",
    "pass"
   ]
  }
 ],
 "metadata": {
  "kernelspec": {
   "display_name": "Python 3",
   "language": "python",
   "name": "python3"
  },
  "language_info": {
   "codemirror_mode": {
    "name": "ipython",
    "version": 3
   },
   "file_extension": ".py",
   "mimetype": "text/x-python",
   "name": "python",
   "nbconvert_exporter": "python",
   "pygments_lexer": "ipython3",
   "version": "3.6.3"
  }
 },
 "nbformat": 4,
 "nbformat_minor": 2
}
