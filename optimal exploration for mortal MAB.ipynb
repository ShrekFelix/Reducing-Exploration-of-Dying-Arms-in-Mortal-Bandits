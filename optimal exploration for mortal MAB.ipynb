{
 "cells": [
  {
   "cell_type": "code",
   "execution_count": 1,
   "metadata": {
    "collapsed": true
   },
   "outputs": [],
   "source": [
    "%matplotlib inline\n",
    "\n",
    "import numpy as np\n",
    "import matplotlib.pyplot as plt\n",
    "\n",
    "import sys\n",
    "import time\n",
    "\n",
    "import seaborn as sns"
   ]
  },
  {
   "cell_type": "code",
   "execution_count": 2,
   "metadata": {
    "collapsed": true,
    "scrolled": true
   },
   "outputs": [],
   "source": [
    "# parser v1\n",
    "# parse records to list of dicts\n",
    "# values mostly are strings\n",
    "# easy to iterate through records\n",
    "records = []\n",
    "with open('Webscope_R6B/ydata-fp-td-clicks-v2_0.20111002') as f:\n",
    "    for line in f.readlines():\n",
    "        components = line.strip().split(' ')\n",
    "        record = {}\n",
    "        record['timestamp'] = int(components[0])\n",
    "        record['displayed'] = components[1]\n",
    "        record['clicked'] = int(components[2])\n",
    "        # not using user feature\n",
    "        record['user_features'] = []\n",
    "        for i in range(4, len(components)):\n",
    "            if components[i].startswith('|'):\n",
    "                n = i\n",
    "                break\n",
    "            #record['user_features'].append(int(components[i]))\n",
    "        record['pool'] = components[n:]    \n",
    "        records.append(record)"
   ]
  },
  {
   "cell_type": "code",
   "execution_count": 3,
   "metadata": {},
   "outputs": [
    {
     "data": {
      "text/plain": [
       "1607525"
      ]
     },
     "execution_count": 3,
     "metadata": {},
     "output_type": "execute_result"
    }
   ],
   "source": [
    "len(records)"
   ]
  },
  {
   "cell_type": "code",
   "execution_count": 88,
   "metadata": {},
   "outputs": [
    {
     "data": {
      "text/plain": [
       "{'clicked': 0,\n",
       " 'displayed': 'id-560620',\n",
       " 'pool': ['|id-552077',\n",
       "  '|id-555224',\n",
       "  '|id-555528',\n",
       "  '|id-559744',\n",
       "  '|id-559855',\n",
       "  '|id-560290',\n",
       "  '|id-560518',\n",
       "  '|id-560620',\n",
       "  '|id-563115',\n",
       "  '|id-563582',\n",
       "  '|id-563643',\n",
       "  '|id-563787',\n",
       "  '|id-563846',\n",
       "  '|id-563938',\n",
       "  '|id-564335',\n",
       "  '|id-564418',\n",
       "  '|id-564604',\n",
       "  '|id-565364',\n",
       "  '|id-565479',\n",
       "  '|id-565515',\n",
       "  '|id-565533',\n",
       "  '|id-565561',\n",
       "  '|id-565589',\n",
       "  '|id-565648',\n",
       "  '|id-565747',\n",
       "  '|id-565822'],\n",
       " 'timestamp': 1317513291,\n",
       " 'user_features': []}"
      ]
     },
     "execution_count": 88,
     "metadata": {},
     "output_type": "execute_result"
    }
   ],
   "source": [
    "records[0]"
   ]
  },
  {
   "cell_type": "code",
   "execution_count": 38,
   "metadata": {
    "collapsed": true
   },
   "outputs": [],
   "source": [
    "# parser that watches article lifespans\n",
    "lives = {}\n",
    "with open('Webscope_R6B/ydata-fp-td-clicks-v2_0.20111002') as f:\n",
    "    for line in f.readlines():\n",
    "        components = line.strip().split(' ')\n",
    "        for component in components:\n",
    "            if component.startswith('|id-'):\n",
    "                timestamp = int(components[0])\n",
    "                article = component[1:]\n",
    "                if article in lives.keys():\n",
    "                    lives[article][1] = timestamp\n",
    "                else:\n",
    "                    lives[article] = [timestamp, timestamp]"
   ]
  },
  {
   "cell_type": "code",
   "execution_count": 55,
   "metadata": {
    "scrolled": true
   },
   "outputs": [],
   "source": [
    "# checking\n",
    "l = {}\n",
    "with open('Webscope_R6B/ydata-fp-td-clicks-v2_0.20111002') as f:\n",
    "    for line in f.readlines():\n",
    "        components = line.strip().split(' ')\n",
    "        for component in components:\n",
    "            if component.startswith('|id-'):\n",
    "                timestamp = int(components[0])\n",
    "                article = component[4:]\n",
    "                if article in l.keys():\n",
    "                    if l[article][-1] != timestamp:\n",
    "                        l[article].append(timestamp)\n",
    "                else:\n",
    "                    l[article] = [timestamp]"
   ]
  },
  {
   "cell_type": "code",
   "execution_count": 64,
   "metadata": {},
   "outputs": [
    {
     "data": {
      "image/png": "[encoded data removed]",
      "text/plain": [
       "<matplotlib.figure.Figure at 0x2589561d0>"
      ]
     },
     "metadata": {},
     "output_type": "display_data"
    }
   ],
   "source": [
    "for n,i in enumerate(l.items()):\n",
    "    plt.scatter([n]*len(i[1]), i[1])"
   ]
  },
  {
   "cell_type": "code",
   "execution_count": 100,
   "metadata": {},
   "outputs": [
    {
     "data": {
      "text/plain": [
       "dict_keys(['id-552077', 'id-555224', 'id-555528', 'id-559744', 'id-559855', 'id-560290', 'id-560518', 'id-560620', 'id-563115', 'id-563582', 'id-563643', 'id-563787', 'id-563846', 'id-563938', 'id-564335', 'id-564418', 'id-564604', 'id-565364', 'id-565479', 'id-565515', 'id-565533', 'id-565561', 'id-565589', 'id-565648', 'id-565747', 'id-565822', 'id-565930', 'id-566013', 'id-566022', 'id-566092', 'id-560805', 'id-564371', 'id-562265', 'id-565980', 'id-566431', 'id-566439', 'id-559833', 'id-566541', 'id-562374', 'id-566587', 'id-566478', 'id-566573', 'id-566602', 'id-562637', 'id-566631', 'id-566689', 'id-566726', 'id-566825', 'id-566838'])"
      ]
     },
     "execution_count": 100,
     "metadata": {},
     "output_type": "execute_result"
    }
   ],
   "source": [
    "lives.keys()"
   ]
  },
  {
   "cell_type": "code",
   "execution_count": 246,
   "metadata": {},
   "outputs": [
    {
     "data": {
      "text/plain": [
       "40648.4693877551"
      ]
     },
     "execution_count": 246,
     "metadata": {},
     "output_type": "execute_result"
    }
   ],
   "source": [
    "# average lifespan\n",
    "sum(map(lambda x:x[1]-x[0], lives.values())) / len(lives)"
   ]
  },
  {
   "cell_type": "code",
   "execution_count": 125,
   "metadata": {
    "collapsed": true,
    "scrolled": true
   },
   "outputs": [],
   "source": [
    "life_length = []\n",
    "alive = []\n",
    "for v in lives.values():\n",
    "    alive.append(np.arange(v[0], v[1]+1))\n",
    "    life_length.append(v[1]-v[0])"
   ]
  },
  {
   "cell_type": "code",
   "execution_count": 122,
   "metadata": {},
   "outputs": [
    {
     "data": {
      "image/png": "[encoded data removed]",
      "text/plain": [
       "<matplotlib.figure.Figure at 0x1198c5470>"
      ]
     },
     "metadata": {},
     "output_type": "display_data"
    }
   ],
   "source": [
    "plt.hist(life_length)\n",
    "pass"
   ]
  },
  {
   "cell_type": "code",
   "execution_count": 128,
   "metadata": {},
   "outputs": [
    {
     "data": {
      "image/png": "[encoded data removed]",
      "text/plain": [
       "<matplotlib.figure.Figure at 0x11a6e7588>"
      ]
     },
     "metadata": {},
     "output_type": "display_data"
    }
   ],
   "source": [
    "# number of arms available through out the timestamps\n",
    "plt.hist(alive, histtype='barstacked')\n",
    "pass"
   ]
  },
  {
   "cell_type": "code",
   "execution_count": null,
   "metadata": {
    "collapsed": true
   },
   "outputs": [],
   "source": [
    "estimated"
   ]
  },
  {
   "cell_type": "code",
   "execution_count": null,
   "metadata": {
    "collapsed": true
   },
   "outputs": [],
   "source": [
    "# offline simulation for AG_L\n",
    "# slow but more accurate version\n",
    "# comsumes much more records\n",
    "\n",
    "\n",
    "def AG_L2(n=1000,k=1, m=25, life_threshold=.1, records=records, lives=lives, verbose=True):\n",
    "    '''\n",
    "    n: number of turns to play\n",
    "    m: number of turns to initialize\n",
    "    k: adjust desire to exploit/explore\n",
    "    '''\n",
    "    def get_young_arms():\n",
    "        time = records[i]['timestamp']\n",
    "        born = filter(lambda x: x[1][0]<time, lives.items()) # fileter out unborn articles from lives\n",
    "        life_rank = sorted(born, key= lambda x: x[1][2], reverse= True) # sort born articles by their expiring date\n",
    "        young = life_rank[ : int(len(life_rank)*life_threshold)] # articles among top $life_threshold$% on the life ranking\n",
    "        return list(zip(*young))[0]\n",
    "    \n",
    "    def get_best_arm():\n",
    "        time = records[i]['timestamp']\n",
    "        available = filter(lambda x:lives[x[0]][1] >= time, X.items())\n",
    "        best = max(available, key= lambda x:x[1][0]/x[1][1])\n",
    "        return best\n",
    "    \n",
    "    rewards = 0\n",
    "    i = 0 # marker in records\n",
    "    X = {} # dict of expectations article_id : array([sum, n_observations])\n",
    "    t = 1 # number of turn taken\n",
    "    \n",
    "    # initialization\n",
    "    while t<=m:\n",
    "        record = records[i]\n",
    "        displayed = record['displayed']\n",
    "        clicked = record['clicked']\n",
    "        if displayed not in X.keys():\n",
    "            X[displayed] = np.array([clicked, 1])\n",
    "            t += 1\n",
    "        i += 1\n",
    "    \n",
    "    n_exploit = 0\n",
    "    n_explore = 0\n",
    "    try:\n",
    "        while t<=n:\n",
    "            best = get_best_arm()\n",
    "            X_max = best[1][0]/best[1][1]\n",
    "            if np.random.binomial(1, min(1, X_max*k)): # exploit\n",
    "                n_exploit += 1\n",
    "                while records[i]['displayed'] != get_best_arm()[0]:\n",
    "                    i += 1\n",
    "            else: # explore\n",
    "                n_explore += 1\n",
    "                while records[i]['displayed'] != np.random.choice(get_young_arms(), size=1):\n",
    "                    i += 1\n",
    "                    \n",
    "            if verbose:\n",
    "                if i%1000==0:\n",
    "                    print(t, i)\n",
    "                \n",
    "            record = records[i]\n",
    "            rewards += record['clicked']\n",
    "            for update in record['pool']:\n",
    "                lives[update[1:]][2] = record['timestamp']\n",
    "            \n",
    "            X[record['displayed']] = X.get(record['displayed'], np.array([0, 0])) + np.array([record['clicked'], 1])\n",
    "            t += 1\n",
    "            i += 1\n",
    "            \n",
    "    except IndexError:\n",
    "        print('running out of records')\n",
    "        return\n",
    "        \n",
    "    if verbose:\n",
    "        print('# exploit:', n_exploit)\n",
    "        print('# explore:', n_explore)\n",
    "        print('# records:', i)\n",
    "        print('max expectation:', X_max)\n",
    "\n",
    "\n",
    "    return rewards"
   ]
  },
  {
   "cell_type": "code",
   "execution_count": 65,
   "metadata": {},
   "outputs": [
    {
     "data": {
      "text/plain": [
       "['|id-552077',\n",
       " '|id-555224',\n",
       " '|id-555528',\n",
       " '|id-559744',\n",
       " '|id-559855',\n",
       " '|id-560290',\n",
       " '|id-560518',\n",
       " '|id-560620',\n",
       " '|id-563115',\n",
       " '|id-563582',\n",
       " '|id-563643',\n",
       " '|id-563787',\n",
       " '|id-563846',\n",
       " '|id-563938',\n",
       " '|id-564335',\n",
       " '|id-564418',\n",
       " '|id-564604',\n",
       " '|id-565364',\n",
       " '|id-565479',\n",
       " '|id-565515',\n",
       " '|id-565533',\n",
       " '|id-565561',\n",
       " '|id-565589',\n",
       " '|id-565648',\n",
       " '|id-565747',\n",
       " '|id-565822']"
      ]
     },
     "execution_count": 65,
     "metadata": {},
     "output_type": "execute_result"
    }
   ],
   "source": [
    "records[0]['pool']"
   ]
  },
  {
   "cell_type": "code",
   "execution_count": 71,
   "metadata": {
    "collapsed": true
   },
   "outputs": [],
   "source": [
    "# offline simulation for AG_L\n",
    "# slow but more accurate version\n",
    "# comsumes much more records\n",
    "\n",
    "\n",
    "def AG_L2(n=1000,k=1, m=25, life_threshold=.1, records=records, lives=lives, verbose=True):\n",
    "    '''\n",
    "    n: number of turns to play\n",
    "    m: number of turns to initialize\n",
    "    k: adjust desire to exploit/explore\n",
    "    '''\n",
    "    def get_young_arms():\n",
    "        time = records[i]['timestamp']\n",
    "        born = filter(lambda x: x[1][0]<time, lives.items()) # fileter out unborn articles from lives\n",
    "        life_rank = sorted(born, key= lambda x: x[1][1], reverse= True) # sort born articles by their expiring date\n",
    "        young = life_rank[ : int(len(life_rank)*life_threshold)] # articles among top $life_threshold$% on the life ranking\n",
    "        return list(zip(*young))[0]\n",
    "    \n",
    "    def get_best_arm():\n",
    "        time = records[i]['timestamp']\n",
    "        available = filter(lambda x:lives[x[0]][1] >= time, X.items())\n",
    "        best = max(available, key= lambda x:x[1][0]/x[1][1])\n",
    "        return best\n",
    "    \n",
    "    rewards = 0\n",
    "    i = 0 # marker in records\n",
    "    X = {} # dict of expectations article_id : array([sum, n_observations])\n",
    "    t = 1 # number of turn taken\n",
    "    \n",
    "    # initialization\n",
    "    while t<=m:\n",
    "        record = records[i]\n",
    "        displayed = record['displayed']\n",
    "        clicked = record['clicked']\n",
    "        if displayed not in X.keys():\n",
    "            X[displayed] = np.array([clicked, 1])\n",
    "            t += 1\n",
    "        i += 1\n",
    "    \n",
    "    n_exploit = 0\n",
    "    n_explore = 0\n",
    "    try:\n",
    "        while t<=n:\n",
    "            best = get_best_arm()\n",
    "            X_max = best[1][0]/best[1][1]\n",
    "            if np.random.binomial(1, min(1, X_max*k)): # exploit\n",
    "                n_exploit += 1\n",
    "                while records[i]['displayed'] != get_best_arm()[0]:\n",
    "                    i += 1\n",
    "            else: # explore\n",
    "                n_explore += 1\n",
    "                while records[i]['displayed'] != np.random.choice(get_young_arms(), size=1):\n",
    "                    i += 1\n",
    "                    \n",
    "            if verbose:\n",
    "                if i%1000==0:\n",
    "                    print(t, i)\n",
    "                \n",
    "            record = records[i]\n",
    "            rewards += record['clicked']\n",
    "            X[record['displayed']] = X.get(record['displayed'], np.array([0, 0])) + np.array([record['clicked'], 1])\n",
    "            t += 1\n",
    "            i += 1\n",
    "            \n",
    "    except IndexError:\n",
    "        print('running out of records')\n",
    "        return\n",
    "        \n",
    "    if verbose:\n",
    "        print('# exploit:', n_exploit)\n",
    "        print('# explore:', n_explore)\n",
    "        print('# records:', i)\n",
    "        print('max expectation:', X_max)\n",
    "\n",
    "\n",
    "    return rewards"
   ]
  },
  {
   "cell_type": "code",
   "execution_count": 27,
   "metadata": {
    "scrolled": true
   },
   "outputs": [
    {
     "name": "stdout",
     "output_type": "stream",
     "text": [
      "609 16000\n",
      "1248 33000\n",
      "1818 48000\n",
      "2290 59000\n",
      "2635 67000\n",
      "2728 69000\n",
      "2780 70000\n",
      "2828 71000\n",
      "3370 83000\n",
      "5539 135000\n",
      "6066 147000\n",
      "6268 152000\n",
      "6603 160000\n",
      "6932 167000\n",
      "7568 182000\n",
      "8209 195000\n",
      "8883 208000\n",
      "# exploit: 560\n",
      "# explore: 9415\n",
      "# records: 231161\n",
      "max expectation: 0.04753486544883127\n"
     ]
    },
    {
     "data": {
      "text/plain": [
       "472"
      ]
     },
     "execution_count": 27,
     "metadata": {},
     "output_type": "execute_result"
    }
   ],
   "source": [
    "AG_L2(10000, life_threshold=.1)"
   ]
  },
  {
   "cell_type": "code",
   "execution_count": 67,
   "metadata": {
    "scrolled": true
   },
   "outputs": [
    {
     "data": {
      "image/png": "[encoded data removed]",
      "text/plain": [
       "<matplotlib.figure.Figure at 0x12f12cd68>"
      ]
     },
     "metadata": {},
     "output_type": "display_data"
    }
   ],
   "source": [
    "# compare by birth\n",
    "x = []\n",
    "y = []\n",
    "for b in np.arange(0.1,1.,.1):\n",
    "    x.append(b)\n",
    "    y.append(AG_L2(n=10000,life_threshold=b, verbose=False))\n",
    "plt.plot(x,y)\n",
    "plt.xlabel('life_threshold')\n",
    "plt.ylabel('rewards')\n",
    "pass"
   ]
  },
  {
   "cell_type": "code",
   "execution_count": 72,
   "metadata": {},
   "outputs": [
    {
     "name": "stdout",
     "output_type": "stream",
     "text": [
      "99\r"
     ]
    },
    {
     "data": {
      "image/png": "[encoded data removed]",
      "text/plain": [
       "<matplotlib.figure.Figure at 0x1185cbcf8>"
      ]
     },
     "metadata": {},
     "output_type": "display_data"
    }
   ],
   "source": [
    "# compare by birth\n",
    "agl = []\n",
    "ag = []\n",
    "for i in range(100):\n",
    "    agl.append(AG_L2(n=1000, life_threshold=.5, verbose=False))\n",
    "    ag.append(AG_L2(n=1000, life_threshold=1, verbose=False))\n",
    "    print(i,end='\\r',flush=True)\n",
    "    time.sleep(.001)\n",
    "sns.distplot(agl,label='AG_L')\n",
    "sns.distplot(ag,label='AG')\n",
    "plt.legend()\n",
    "pass"
   ]
  },
  {
   "cell_type": "code",
   "execution_count": 70,
   "metadata": {},
   "outputs": [
    {
     "name": "stdout",
     "output_type": "stream",
     "text": [
      "99\r"
     ]
    },
    {
     "data": {
      "image/png": "[encoded data removed]",
      "text/plain": [
       "<matplotlib.figure.Figure at 0x1183e00f0>"
      ]
     },
     "metadata": {},
     "output_type": "display_data"
    }
   ],
   "source": [
    "# compare by birth\n",
    "agl = []\n",
    "ag = []\n",
    "for i in range(100):\n",
    "    agl.append(AG_L2(n=1000,verbose=False))\n",
    "    ag.append(AG_L2(n=1000, life_threshold=1, verbose=False))\n",
    "    print(i,end='\\r',flush=True)\n",
    "    time.sleep(.001)\n",
    "sns.distplot(agl,label='AG_L')\n",
    "sns.distplot(ag,label='AG')\n",
    "plt.legend()\n",
    "pass"
   ]
  },
  {
   "cell_type": "code",
   "execution_count": 30,
   "metadata": {},
   "outputs": [
    {
     "name": "stdout",
     "output_type": "stream",
     "text": [
      "99\r"
     ]
    },
    {
     "data": {
      "image/png": "[encoded data removed]",
      "text/plain": [
       "<matplotlib.figure.Figure at 0x10ae47f28>"
      ]
     },
     "metadata": {},
     "output_type": "display_data"
    }
   ],
   "source": [
    "# knows exact lifespans\n",
    "agl = []\n",
    "ag = []\n",
    "for i in range(100):\n",
    "    agl.append(AG_L2(n=1000,verbose=False))\n",
    "    ag.append(AG_L2(n=1000, life_threshold=1, verbose=False))\n",
    "    print(i,end='\\r',flush=True)\n",
    "    time.sleep(.001)\n",
    "sns.distplot(agl,label='AG_L')\n",
    "sns.distplot(ag,label='AG')\n",
    "plt.legend()\n",
    "pass"
   ]
  },
  {
   "cell_type": "code",
   "execution_count": 9,
   "metadata": {
    "collapsed": true
   },
   "outputs": [],
   "source": [
    "# offline simulation for AG_L\n",
    "# fast version, consumes much less records\n",
    "def AG_L(n=1000000,k=1, m=25, life_threshold=.3, records=records, lives=lives, verbose=True):\n",
    "    # records should be long enough\n",
    "    '''\n",
    "    n: number of turns to play\n",
    "    m: number of turns to initialize\n",
    "    k: adjust desire to exploit/explore\n",
    "    '''\n",
    "    if lives == None: # estimate lifespans using past mean\n",
    "        \n",
    "        \n",
    "        \n",
    "        \n",
    "    rewards = 0\n",
    "    i = 0 # marker in records\n",
    "    X = {} # dict of expectations article_id : array([sum, n_observations])\n",
    "    t = 1 # number of turn taken\n",
    "    \n",
    "    # initialization\n",
    "    while t<=m:\n",
    "        displayed = records[i]['displayed']\n",
    "        clicked = records[i]['clicked']\n",
    "        if displayed not in X.keys():\n",
    "            X[displayed] = np.array([clicked, 1])\n",
    "            t += 1\n",
    "        i += 1\n",
    "    \n",
    "    n_exploit = 0\n",
    "    n_explore = 0\n",
    "    while t<=n:\n",
    "        best = max(X.items(), key= lambda x:x[1][0]/x[1][1])\n",
    "        X_max = best[1][0]/best[1][1]\n",
    "        if np.random.binomial(1, min(1, X_max*k)): # exploit\n",
    "            n_exploit += 1                       \n",
    "            while i < len(records): # look for target arm\n",
    "                displayed = records[i]['displayed']\n",
    "                clicked = records[i]['clicked']\n",
    "                if displayed == best[0]:\n",
    "                    rewards += clicked\n",
    "                    break\n",
    "                i += 1\n",
    "                \n",
    "        else: # explore\n",
    "            n_explore += 1           \n",
    "            while i < len(records):\n",
    "                displayed = records[i]['displayed']\n",
    "                clicked = records[i]['clicked']\n",
    "                time = records[i]['timestamp']\n",
    "                born = filter(lambda x: x[1][0]<time, lives.items()) # fileter out unborn articles from lives\n",
    "                life_rank = sorted(born, key= lambda x: x[1][1], reverse= True) # sort born articles by their expiring date\n",
    "                young = life_rank[ : int(len(life_rank)*life_threshold)] # articles among top $life_threshold$% on the life ranking\n",
    "                if displayed in list(zip(*young))[0]:\n",
    "                    rewards += clicked\n",
    "                    break\n",
    "                i += 1\n",
    "\n",
    "        X[displayed] = X.get(displayed, np.array([0, 0])) + np.array([clicked, 1])\n",
    "        t += 1\n",
    "        i += 1\n",
    "        \n",
    "    if verbose:\n",
    "        print('# exploit:', n_exploit)\n",
    "        print('# explore:', n_explore)\n",
    "        print('# records:', i)\n",
    "        print('max expectation:', X_max)\n",
    "    \n",
    "    return rewards"
   ]
  },
  {
   "cell_type": "code",
   "execution_count": 21,
   "metadata": {},
   "outputs": [
    {
     "name": "stdout",
     "output_type": "stream",
     "text": [
      "# exploit: 727\n",
      "# explore: 9248\n",
      "# records: 52197\n",
      "max expectation: 0.06087877183695077\n"
     ]
    },
    {
     "data": {
      "text/plain": [
       "462"
      ]
     },
     "execution_count": 21,
     "metadata": {},
     "output_type": "execute_result"
    }
   ],
   "source": [
    "AG_L(n=10000)"
   ]
  },
  {
   "cell_type": "code",
   "execution_count": 199,
   "metadata": {
    "scrolled": true
   },
   "outputs": [
    {
     "name": "stdout",
     "output_type": "stream",
     "text": [
      "# exploit: 5584\n",
      "# explore: 94391\n",
      "# records: 399813\n",
      "max expectation: 0.05325370929015576\n"
     ]
    },
    {
     "data": {
      "text/plain": [
       "3836"
      ]
     },
     "execution_count": 199,
     "metadata": {},
     "output_type": "execute_result"
    }
   ],
   "source": [
    "AG_L(n=100000)"
   ]
  },
  {
   "cell_type": "code",
   "execution_count": 35,
   "metadata": {
    "scrolled": false
   },
   "outputs": [
    {
     "data": {
      "image/png": "[encoded data removed]",
      "text/plain": [
       "<matplotlib.figure.Figure at 0x1159e9550>"
      ]
     },
     "metadata": {},
     "output_type": "display_data"
    }
   ],
   "source": [
    "x = []\n",
    "y = []\n",
    "for b in np.arange(0.1,1.,.01):\n",
    "    x.append(b)\n",
    "    y.append(AG_L(n=10000,life_threshold=b, verbose=False))\n",
    "plt.plot(x,y)\n",
    "plt.xlabel('life_threshold')\n",
    "plt.ylabel('rewards')\n",
    "pass"
   ]
  },
  {
   "cell_type": "code",
   "execution_count": 84,
   "metadata": {},
   "outputs": [
    {
     "data": {
      "image/png": "[encoded data removed]",
      "text/plain": [
       "<matplotlib.figure.Figure at 0x119501358>"
      ]
     },
     "metadata": {},
     "output_type": "display_data"
    }
   ],
   "source": [
    "agl = []\n",
    "ag = []\n",
    "for i in range(1000):\n",
    "    agl.append(AG_L(n=1000,verbose=False))\n",
    "    ag.append(AG_L(n=1000, life_threshold=1, verbose=False))\n",
    "    print(i,end='\\r',flush=True)\n",
    "    time.sleep(.001)\n",
    "sns.distplot(agl,label='AG_L')\n",
    "sns.distplot(ag,label='AG')\n",
    "plt.legend()\n",
    "pass"
   ]
  },
  {
   "cell_type": "code",
   "execution_count": 5,
   "metadata": {
    "collapsed": true
   },
   "outputs": [],
   "source": [
    "def ucb(x, c, t, S, record, r, lives, mode=True):\n",
    "    # r: ratio between paces of timestamp and turns\n",
    "    time = record['timestamp']\n",
    "    article = x[0]\n",
    "    acc_reward, T = x[1]\n",
    "    die = lives[article][1]\n",
    "    s = S.get(article, t)\n",
    "    if mode:\n",
    "        return acc_reward/T + c*np.log(r*(die-time)+1) * np.sqrt(2*np.log(t-s+1) / T)\n",
    "    else:\n",
    "        return acc_reward/T + np.sqrt(2*np.log(t-s+1)/T)\n",
    "    \n",
    "# offline simulation for AG_L\n",
    "# fast version, consumes much less records\n",
    "def UCB_L(n=1000, c=.005, m=25, r=1, records=records, verbose=True, mode=True):\n",
    "    # records should be long enough\n",
    "    '''\n",
    "    n: number of turns to play\n",
    "    m: number of turns to initialize\n",
    "    k: adjust desire to exploit/explore\n",
    "    '''\n",
    "    global lives # dict of articles to their lifespans\n",
    "    rewards = 0\n",
    "    i = 0 # marker in records\n",
    "    X = {} # dict of expectations article_id : array([sum, n_observations])\n",
    "    t = 1 # number of turn taken\n",
    "    S = {}\n",
    "    # initialization\n",
    "    while t<=m:\n",
    "        #print(t,i, flush=True)\n",
    "        displayed = records[i]['displayed']\n",
    "        clicked = records[i]['clicked']\n",
    "        if displayed not in X.keys():\n",
    "            S[displayed] = t\n",
    "            X[displayed] = np.array([clicked, 1])\n",
    "            t += 1\n",
    "        i += 1\n",
    "    \n",
    "    while t<=n:\n",
    "        while i<len(records):\n",
    "            fake = False\n",
    "            displayed = records[i]['displayed']\n",
    "            clicked = records[i]['clicked']\n",
    "            \n",
    "            if displayed not in X.keys():\n",
    "                fake = True\n",
    "                estimation = sum(map(lambda x:x[0]/x[1], X.values())) / len(X)\n",
    "                X[displayed] = np.array([estimation, 1])\n",
    "                \n",
    "            \n",
    "            best = max(X.items(), key= lambda x:ucb(x=x, c=c, t=t, S=S, record=records[i], lives=lives, r=r, mode=mode))\n",
    "            \n",
    "            if fake:\n",
    "                X.pop(displayed)\n",
    "\n",
    "            if displayed == best[0]:\n",
    "                rewards += clicked\n",
    "                if displayed not in S.keys(): # the first time an arm is played\n",
    "                    S[displayed] = t\n",
    "                X[displayed] = X.get(displayed, np.array([0, 0])) + np.array([clicked, 1])\n",
    "                break\n",
    "            i += 1\n",
    "        if verbose:       \n",
    "            if i%1000==0:\n",
    "                print(t,i)\n",
    "            \n",
    "        t += 1\n",
    "        i += 1\n",
    "    if verbose:\n",
    "        print('# X', len(X.keys()))\n",
    "        print('# records', i)\n",
    "    \n",
    "    return rewards"
   ]
  },
  {
   "cell_type": "code",
   "execution_count": null,
   "metadata": {
    "collapsed": true
   },
   "outputs": [],
   "source": [
    "UCB_L(c=.001, r=1)"
   ]
  },
  {
   "cell_type": "code",
   "execution_count": null,
   "metadata": {
    "collapsed": true
   },
   "outputs": [],
   "source": [
    "UCB_L(c=.0001, r=1)"
   ]
  },
  {
   "cell_type": "code",
   "execution_count": null,
   "metadata": {
    "collapsed": true
   },
   "outputs": [],
   "source": []
  },
  {
   "cell_type": "code",
   "execution_count": null,
   "metadata": {
    "collapsed": true
   },
   "outputs": [],
   "source": []
  },
  {
   "cell_type": "code",
   "execution_count": null,
   "metadata": {
    "collapsed": true
   },
   "outputs": [],
   "source": []
  },
  {
   "cell_type": "code",
   "execution_count": null,
   "metadata": {
    "collapsed": true
   },
   "outputs": [],
   "source": []
  },
  {
   "cell_type": "code",
   "execution_count": 53,
   "metadata": {},
   "outputs": [
    {
     "name": "stdout",
     "output_type": "stream",
     "text": [
      "# X 25\n",
      "# records 24479\n"
     ]
    },
    {
     "data": {
      "text/plain": [
       "47"
      ]
     },
     "execution_count": 53,
     "metadata": {},
     "output_type": "execute_result"
    }
   ],
   "source": [
    "UCB_L(n=1000,c=.005)"
   ]
  },
  {
   "cell_type": "code",
   "execution_count": 25,
   "metadata": {},
   "outputs": [
    {
     "name": "stdout",
     "output_type": "stream",
     "text": [
      "1235 33000\n"
     ]
    },
    {
     "name": "stderr",
     "output_type": "stream",
     "text": [
      "/anaconda3/lib/python3.6/site-packages/ipykernel_launcher.py:12: RuntimeWarning: divide by zero encountered in log\n",
      "  if sys.path[0] == '':\n",
      "/anaconda3/lib/python3.6/site-packages/ipykernel_launcher.py:12: RuntimeWarning: invalid value encountered in log\n",
      "  if sys.path[0] == '':\n"
     ]
    },
    {
     "name": "stdout",
     "output_type": "stream",
     "text": [
      "1788 48000\n",
      "2044 54000\n",
      "2634 67000\n",
      "2723 69000\n",
      "3333 83000\n",
      "5754 141000\n",
      "6606 160000\n",
      "6937 167000\n",
      "7469 1608000\n",
      "8469 1609000\n",
      "9469 1610000\n",
      "# X 25\n",
      "# records 1610532\n"
     ]
    },
    {
     "data": {
      "text/plain": [
       "319"
      ]
     },
     "execution_count": 25,
     "metadata": {},
     "output_type": "execute_result"
    }
   ],
   "source": [
    "UCB_L(n=10000,c=.001)"
   ]
  },
  {
   "cell_type": "code",
   "execution_count": 54,
   "metadata": {},
   "outputs": [
    {
     "name": "stderr",
     "output_type": "stream",
     "text": [
      "/anaconda3/lib/python3.6/site-packages/ipykernel_launcher.py:9: RuntimeWarning: divide by zero encountered in log\n",
      "  if __name__ == '__main__':\n",
      "/anaconda3/lib/python3.6/site-packages/ipykernel_launcher.py:9: RuntimeWarning: invalid value encountered in log\n",
      "  if __name__ == '__main__':\n"
     ]
    },
    {
     "name": "stdout",
     "output_type": "stream",
     "text": [
      "4417 107000\n",
      "6337 151000\n",
      "7622 1608000\n",
      "8622 1609000\n",
      "9622 1610000\n",
      "# X 25\n",
      "# records 1610379\n"
     ]
    },
    {
     "data": {
      "text/plain": [
       "341"
      ]
     },
     "execution_count": 54,
     "metadata": {},
     "output_type": "execute_result"
    }
   ],
   "source": [
    "UCB_L(n=10000, c=.005)"
   ]
  },
  {
   "cell_type": "code",
   "execution_count": 23,
   "metadata": {},
   "outputs": [
    {
     "name": "stdout",
     "output_type": "stream",
     "text": [
      "364 9000\n",
      "510 13000\n"
     ]
    },
    {
     "name": "stderr",
     "output_type": "stream",
     "text": [
      "/anaconda3/lib/python3.6/site-packages/ipykernel_launcher.py:12: RuntimeWarning: divide by zero encountered in log\n",
      "  if sys.path[0] == '':\n",
      "/anaconda3/lib/python3.6/site-packages/ipykernel_launcher.py:12: RuntimeWarning: invalid value encountered in log\n",
      "  if sys.path[0] == '':\n"
     ]
    },
    {
     "name": "stdout",
     "output_type": "stream",
     "text": [
      "2005 52000\n",
      "2406 61000\n",
      "2494 63000\n",
      "4057 100000\n",
      "6870 164000\n",
      "7063 168000\n",
      "7555 1608000\n",
      "8555 1609000\n",
      "9555 1610000\n",
      "# X 25\n",
      "# records 1610446\n"
     ]
    },
    {
     "data": {
      "text/plain": [
       "231"
      ]
     },
     "execution_count": 23,
     "metadata": {},
     "output_type": "execute_result"
    }
   ],
   "source": [
    "UCB_L(n=10000, c=.0001)"
   ]
  },
  {
   "cell_type": "code",
   "execution_count": 48,
   "metadata": {},
   "outputs": [
    {
     "name": "stdout",
     "output_type": "stream",
     "text": [
      "217 5000\n",
      "1287 33000\n"
     ]
    },
    {
     "name": "stderr",
     "output_type": "stream",
     "text": [
      "/anaconda3/lib/python3.6/site-packages/ipykernel_launcher.py:9: RuntimeWarning: divide by zero encountered in log\n",
      "  if __name__ == '__main__':\n",
      "/anaconda3/lib/python3.6/site-packages/ipykernel_launcher.py:9: RuntimeWarning: invalid value encountered in log\n",
      "  if __name__ == '__main__':\n"
     ]
    },
    {
     "name": "stdout",
     "output_type": "stream",
     "text": [
      "2145 54000\n",
      "4230 102000\n",
      "4739 114000\n",
      "5926 142000\n",
      "7077 168000\n",
      "7569 1608000\n",
      "8569 1609000\n",
      "9569 1610000\n",
      "# X 25\n",
      "# records 1610432\n"
     ]
    },
    {
     "data": {
      "text/plain": [
       "289"
      ]
     },
     "execution_count": 48,
     "metadata": {},
     "output_type": "execute_result"
    }
   ],
   "source": [
    "UCB_L(n=10000, c=.01)"
   ]
  },
  {
   "cell_type": "code",
   "execution_count": 49,
   "metadata": {},
   "outputs": [
    {
     "name": "stdout",
     "output_type": "stream",
     "text": [
      "1200 32000\n"
     ]
    },
    {
     "name": "stderr",
     "output_type": "stream",
     "text": [
      "/anaconda3/lib/python3.6/site-packages/ipykernel_launcher.py:9: RuntimeWarning: divide by zero encountered in log\n",
      "  if __name__ == '__main__':\n",
      "/anaconda3/lib/python3.6/site-packages/ipykernel_launcher.py:9: RuntimeWarning: invalid value encountered in log\n",
      "  if __name__ == '__main__':\n"
     ]
    },
    {
     "name": "stdout",
     "output_type": "stream",
     "text": [
      "2642 67000\n",
      "4086 100000\n",
      "4167 102000\n",
      "5655 136000\n",
      "5791 139000\n",
      "6127 147000\n",
      "7576 1608000\n",
      "8576 1609000\n",
      "9576 1610000\n",
      "# X 25\n",
      "# records 1610425\n"
     ]
    },
    {
     "data": {
      "text/plain": [
       "297"
      ]
     },
     "execution_count": 49,
     "metadata": {},
     "output_type": "execute_result"
    }
   ],
   "source": [
    "UCB_L(n=10000,c=.1)"
   ]
  },
  {
   "cell_type": "code",
   "execution_count": 50,
   "metadata": {},
   "outputs": [
    {
     "name": "stdout",
     "output_type": "stream",
     "text": [
      "693 17000\n",
      "844 21000\n"
     ]
    },
    {
     "name": "stderr",
     "output_type": "stream",
     "text": [
      "/anaconda3/lib/python3.6/site-packages/ipykernel_launcher.py:9: RuntimeWarning: divide by zero encountered in log\n",
      "  if __name__ == '__main__':\n",
      "/anaconda3/lib/python3.6/site-packages/ipykernel_launcher.py:9: RuntimeWarning: invalid value encountered in log\n",
      "  if __name__ == '__main__':\n"
     ]
    },
    {
     "name": "stdout",
     "output_type": "stream",
     "text": [
      "2968 72000\n",
      "4865 117000\n",
      "5778 137000\n",
      "6199 147000\n",
      "6419 152000\n",
      "7631 1608000\n",
      "8631 1609000\n",
      "9631 1610000\n",
      "# X 25\n",
      "# records 1610370\n"
     ]
    },
    {
     "data": {
      "text/plain": [
       "244"
      ]
     },
     "execution_count": 50,
     "metadata": {},
     "output_type": "execute_result"
    }
   ],
   "source": [
    "UCB_L(n=10000,c=1)"
   ]
  },
  {
   "cell_type": "code",
   "execution_count": 51,
   "metadata": {},
   "outputs": [
    {
     "name": "stdout",
     "output_type": "stream",
     "text": [
      "622 17000\n",
      "1613 42000\n"
     ]
    },
    {
     "name": "stderr",
     "output_type": "stream",
     "text": [
      "/anaconda3/lib/python3.6/site-packages/ipykernel_launcher.py:9: RuntimeWarning: divide by zero encountered in log\n",
      "  if __name__ == '__main__':\n",
      "/anaconda3/lib/python3.6/site-packages/ipykernel_launcher.py:9: RuntimeWarning: invalid value encountered in log\n",
      "  if __name__ == '__main__':\n"
     ]
    },
    {
     "name": "stdout",
     "output_type": "stream",
     "text": [
      "2709 67000\n",
      "4938 119000\n",
      "5813 140000\n",
      "6321 152000\n",
      "7550 1608000\n",
      "8550 1609000\n",
      "9550 1610000\n",
      "# X 25\n",
      "# records 1610451\n"
     ]
    },
    {
     "data": {
      "text/plain": [
       "249"
      ]
     },
     "execution_count": 51,
     "metadata": {},
     "output_type": "execute_result"
    }
   ],
   "source": [
    "UCB_L(n=10000,c=10)"
   ]
  },
  {
   "cell_type": "code",
   "execution_count": 52,
   "metadata": {},
   "outputs": [
    {
     "name": "stdout",
     "output_type": "stream",
     "text": [
      "216 5000\n"
     ]
    },
    {
     "name": "stderr",
     "output_type": "stream",
     "text": [
      "/anaconda3/lib/python3.6/site-packages/ipykernel_launcher.py:9: RuntimeWarning: divide by zero encountered in log\n",
      "  if __name__ == '__main__':\n",
      "/anaconda3/lib/python3.6/site-packages/ipykernel_launcher.py:9: RuntimeWarning: invalid value encountered in log\n",
      "  if __name__ == '__main__':\n"
     ]
    },
    {
     "name": "stdout",
     "output_type": "stream",
     "text": [
      "2546 64000\n",
      "2649 66000\n",
      "2691 67000\n",
      "5534 136000\n",
      "6038 147000\n",
      "6253 152000\n",
      "7517 1608000\n",
      "8517 1609000\n",
      "9517 1610000\n",
      "# X 25\n",
      "# records 1610484\n"
     ]
    },
    {
     "data": {
      "text/plain": [
       "254"
      ]
     },
     "execution_count": 52,
     "metadata": {},
     "output_type": "execute_result"
    }
   ],
   "source": [
    "UCB_L(n=10000,c=100)"
   ]
  },
  {
   "cell_type": "code",
   "execution_count": 55,
   "metadata": {},
   "outputs": [
    {
     "name": "stdout",
     "output_type": "stream",
     "text": [
      "3\r"
     ]
    },
    {
     "name": "stderr",
     "output_type": "stream",
     "text": [
      "/anaconda3/lib/python3.6/site-packages/ipykernel_launcher.py:9: RuntimeWarning: divide by zero encountered in log\n",
      "  if __name__ == '__main__':\n",
      "/anaconda3/lib/python3.6/site-packages/ipykernel_launcher.py:9: RuntimeWarning: invalid value encountered in log\n",
      "  if __name__ == '__main__':\n"
     ]
    },
    {
     "name": "stdout",
     "output_type": "stream",
     "text": [
      "99\r"
     ]
    },
    {
     "data": {
      "image/png": "[encoded data removed]",
      "text/plain": [
       "<matplotlib.figure.Figure at 0x114b37b00>"
      ]
     },
     "metadata": {},
     "output_type": "display_data"
    }
   ],
   "source": [
    "ucbl = []\n",
    "ucbn = []\n",
    "for i in range(100):\n",
    "    ucbl.append(UCB_L(n=500, m=20, r=.5, c=0.005, records=records[i*10000:100000+i*10000], verbose=False))\n",
    "    ucbn.append(UCB_L(n=500, m=20, r=.5, records=records[i*10000:100000+i*10000], mode=False, verbose=False))\n",
    "    print(i,end='\\r',flush=True)\n",
    "    time.sleep(.001)\n",
    "sns.distplot(ucbl,label='UCB_L')\n",
    "sns.distplot(ucbn,label='UCB')\n",
    "plt.legend()\n",
    "pass"
   ]
  },
  {
   "cell_type": "code",
   "execution_count": 57,
   "metadata": {},
   "outputs": [
    {
     "name": "stdout",
     "output_type": "stream",
     "text": [
      "3\r"
     ]
    },
    {
     "name": "stderr",
     "output_type": "stream",
     "text": [
      "/anaconda3/lib/python3.6/site-packages/ipykernel_launcher.py:9: RuntimeWarning: divide by zero encountered in log\n",
      "  if __name__ == '__main__':\n",
      "/anaconda3/lib/python3.6/site-packages/ipykernel_launcher.py:9: RuntimeWarning: invalid value encountered in log\n",
      "  if __name__ == '__main__':\n"
     ]
    },
    {
     "name": "stdout",
     "output_type": "stream",
     "text": [
      "99\r"
     ]
    },
    {
     "data": {
      "image/png": "[encoded data removed]",
      "text/plain": [
       "<matplotlib.figure.Figure at 0x114c260b8>"
      ]
     },
     "metadata": {},
     "output_type": "display_data"
    }
   ],
   "source": [
    "ucbl = []\n",
    "ucbn = []\n",
    "for i in range(100):\n",
    "    ucbl.append(UCB_L(n=500, m=20, r=1, c=0.005, records=records[i*10000:100000+i*10000], verbose=False))\n",
    "    ucbn.append(UCB_L(n=500, m=20, r=1, c=.005, records=records[i*10000:100000+i*10000], mode=False, verbose=False))\n",
    "    print(i,end='\\r',flush=True)\n",
    "    time.sleep(.001)\n",
    "sns.distplot(ucbl,label='UCB_L')\n",
    "sns.distplot(ucbn,label='UCB')\n",
    "plt.legend()\n",
    "pass"
   ]
  },
  {
   "cell_type": "code",
   "execution_count": 27,
   "metadata": {},
   "outputs": [
    {
     "data": {
      "image/png": "[encoded data removed]",
      "text/plain": [
       "<matplotlib.figure.Figure at 0x20ae2b198>"
      ]
     },
     "metadata": {},
     "output_type": "display_data"
    }
   ],
   "source": [
    "#r=1\n",
    "sns.distplot(ucbl,label='UCB_L')\n",
    "sns.distplot(ucbn,label='UCB')\n",
    "plt.legend()\n",
    "pass"
   ]
  },
  {
   "cell_type": "code",
   "execution_count": 23,
   "metadata": {
    "collapsed": true
   },
   "outputs": [],
   "source": [
    "from collections import Counter"
   ]
  },
  {
   "cell_type": "code",
   "execution_count": 25,
   "metadata": {},
   "outputs": [
    {
     "data": {
      "text/plain": [
       "Counter({0: 1552903, 1: 54622})"
      ]
     },
     "execution_count": 25,
     "metadata": {},
     "output_type": "execute_result"
    }
   ],
   "source": [
    "c=Counter()\n",
    "i=0\n",
    "while i<len(records):\n",
    "    c[records[i]['clicked']] += 1\n",
    "    i += 1\n",
    "c"
   ]
  },
  {
   "cell_type": "code",
   "execution_count": 28,
   "metadata": {},
   "outputs": [
    {
     "data": {
      "text/plain": [
       "0.03397894278471563"
      ]
     },
     "execution_count": 28,
     "metadata": {},
     "output_type": "execute_result"
    }
   ],
   "source": [
    "c[1]/(c[0]+c[1])"
   ]
  },
  {
   "cell_type": "code",
   "execution_count": null,
   "metadata": {
    "collapsed": true
   },
   "outputs": [],
   "source": []
  }
 ],
 "metadata": {
  "kernelspec": {
   "display_name": "Python 3",
   "language": "python",
   "name": "python3"
  },
  "language_info": {
   "codemirror_mode": {
    "name": "ipython",
    "version": 3
   },
   "file_extension": ".py",
   "mimetype": "text/x-python",
   "name": "python",
   "nbconvert_exporter": "python",
   "pygments_lexer": "ipython3",
   "version": "3.6.3"
  }
 },
 "nbformat": 4,
 "nbformat_minor": 2
}
