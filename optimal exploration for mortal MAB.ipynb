{
 "cells": [
  {
   "cell_type": "code",
   "execution_count": 1,
   "metadata": {
    "collapsed": true
   },
   "outputs": [],
   "source": [
    "%matplotlib inline\n",
    "\n",
    "import numpy as np\n",
    "import pandas as pd\n",
    "import matplotlib.pyplot as plt"
   ]
  },
  {
   "cell_type": "code",
   "execution_count": 2,
   "metadata": {
    "collapsed": true,
    "scrolled": true
   },
   "outputs": [],
   "source": [
    "# parser v1\n",
    "# parse records to list of dicts\n",
    "# values mostly are strings\n",
    "# easy to iterate through records\n",
    "records = []\n",
    "with open('Webscope_R6B/ydata-fp-td-clicks-v2_0.20111002') as f:\n",
    "    for line in f.readlines():\n",
    "        components = line.strip().split(' ')\n",
    "        record = {}\n",
    "        record['timestamp'] = int(components[0])\n",
    "        record['displayed'] = components[1]\n",
    "        record['clicked'] = int(components[2])\n",
    "        # not using user feature\n",
    "        record['user_features'] = []\n",
    "        for i in range(4, len(components)):\n",
    "            if components[i].startswith('|'):\n",
    "                n = i\n",
    "                break\n",
    "            #record['user_features'].append(int(components[i]))\n",
    "        record['pool'] = components[n:]    \n",
    "        records.append(record)"
   ]
  },
  {
   "cell_type": "code",
   "execution_count": 175,
   "metadata": {},
   "outputs": [
    {
     "data": {
      "text/plain": [
       "['|id-552077',\n",
       " '|id-555224',\n",
       " '|id-555528',\n",
       " '|id-559744',\n",
       " '|id-559855',\n",
       " '|id-560290',\n",
       " '|id-560518',\n",
       " '|id-560620',\n",
       " '|id-563115',\n",
       " '|id-563582',\n",
       " '|id-563643',\n",
       " '|id-563787',\n",
       " '|id-563846',\n",
       " '|id-563938',\n",
       " '|id-564335',\n",
       " '|id-564418',\n",
       " '|id-564604',\n",
       " '|id-565364',\n",
       " '|id-565479',\n",
       " '|id-565515',\n",
       " '|id-565533',\n",
       " '|id-565561',\n",
       " '|id-565589',\n",
       " '|id-565648',\n",
       " '|id-565747',\n",
       " '|id-565822']"
      ]
     },
     "execution_count": 175,
     "metadata": {},
     "output_type": "execute_result"
    }
   ],
   "source": [
    "records[i]['pool']"
   ]
  },
  {
   "cell_type": "code",
   "execution_count": 3,
   "metadata": {},
   "outputs": [
    {
     "data": {
      "text/plain": [
       "1607525"
      ]
     },
     "execution_count": 3,
     "metadata": {},
     "output_type": "execute_result"
    }
   ],
   "source": [
    "len(records)"
   ]
  },
  {
   "cell_type": "code",
   "execution_count": 99,
   "metadata": {},
   "outputs": [],
   "source": [
    "# parser that watches article lifespans\n",
    "lives = {}\n",
    "with open('Webscope_R6B/ydata-fp-td-clicks-v2_0.20111002') as f:\n",
    "    for line in f.readlines():\n",
    "        components = line.strip().split(' ')\n",
    "        for component in components:\n",
    "            if component.startswith('|id-'):\n",
    "                timestamp = int(components[0])\n",
    "                article = component[1:]\n",
    "                if article in lives.keys():\n",
    "                    lives[article][1] = timestamp\n",
    "                else:\n",
    "                    lives[article] = [timestamp, timestamp]"
   ]
  },
  {
   "cell_type": "code",
   "execution_count": 100,
   "metadata": {},
   "outputs": [
    {
     "data": {
      "text/plain": [
       "dict_keys(['id-552077', 'id-555224', 'id-555528', 'id-559744', 'id-559855', 'id-560290', 'id-560518', 'id-560620', 'id-563115', 'id-563582', 'id-563643', 'id-563787', 'id-563846', 'id-563938', 'id-564335', 'id-564418', 'id-564604', 'id-565364', 'id-565479', 'id-565515', 'id-565533', 'id-565561', 'id-565589', 'id-565648', 'id-565747', 'id-565822', 'id-565930', 'id-566013', 'id-566022', 'id-566092', 'id-560805', 'id-564371', 'id-562265', 'id-565980', 'id-566431', 'id-566439', 'id-559833', 'id-566541', 'id-562374', 'id-566587', 'id-566478', 'id-566573', 'id-566602', 'id-562637', 'id-566631', 'id-566689', 'id-566726', 'id-566825', 'id-566838'])"
      ]
     },
     "execution_count": 100,
     "metadata": {},
     "output_type": "execute_result"
    }
   ],
   "source": [
    "lives.keys()"
   ]
  },
  {
   "cell_type": "code",
   "execution_count": 246,
   "metadata": {},
   "outputs": [
    {
     "data": {
      "text/plain": [
       "40648.4693877551"
      ]
     },
     "execution_count": 246,
     "metadata": {},
     "output_type": "execute_result"
    }
   ],
   "source": [
    "# average lifespan\n",
    "sum(map(lambda x:x[1]-x[0], lives.values())) / len(lives)"
   ]
  },
  {
   "cell_type": "code",
   "execution_count": 125,
   "metadata": {
    "scrolled": true
   },
   "outputs": [],
   "source": [
    "life_length = []\n",
    "alive = []\n",
    "for v in lives.values():\n",
    "    alive.append(np.arange(v[0], v[1]+1))\n",
    "    life_length.append(v[1]-v[0])"
   ]
  },
  {
   "cell_type": "code",
   "execution_count": 122,
   "metadata": {},
   "outputs": [
    {
     "data": {
      "image/png": "[encoded data removed]",
      "text/plain": [
       "<matplotlib.figure.Figure at 0x1198c5470>"
      ]
     },
     "metadata": {},
     "output_type": "display_data"
    }
   ],
   "source": [
    "plt.hist(life_length)\n",
    "pass"
   ]
  },
  {
   "cell_type": "code",
   "execution_count": 128,
   "metadata": {},
   "outputs": [
    {
     "data": {
      "image/png": "[encoded data removed]",
      "text/plain": [
       "<matplotlib.figure.Figure at 0x11a6e7588>"
      ]
     },
     "metadata": {},
     "output_type": "display_data"
    }
   ],
   "source": [
    "# number of arms available through out the timestamp\n",
    "plt.hist(alive, histtype='barstacked')\n",
    "pass"
   ]
  },
  {
   "cell_type": "code",
   "execution_count": 30,
   "metadata": {
    "collapsed": true
   },
   "outputs": [],
   "source": [
    "# offline simulation for AG_L\n",
    "# slow but more accurate version\n",
    "# comsumes much more records\n",
    "def AG_L2(n=1000000,k=1, m=25, life_threshold=.3,verbose=True):\n",
    "    '''\n",
    "    n: number of turns to play\n",
    "    m: number of turns to initialize\n",
    "    k: adjust desire to exploit/explore\n",
    "    '''\n",
    "    global records\n",
    "    global lives # dict of articles to their lifespans\n",
    "    rewards = 0\n",
    "    i = 0 # marker in records\n",
    "    X = {} # dict of expectations article_id : array([sum, n_observations])\n",
    "    t = 1 # number of turn taken\n",
    "    \n",
    "    # initialization\n",
    "    while t<=m:\n",
    "        displayed = records[i]['displayed']\n",
    "        clicked = records[i]['clicked']\n",
    "        if displayed not in X.keys():\n",
    "            X[displayed] = np.array([clicked, 1])\n",
    "            t += 1\n",
    "        i += 1\n",
    "    \n",
    "    n_exploit = 0\n",
    "    n_explore = 0\n",
    "    while t<=n:\n",
    "        best = max(X.items(), key= lambda x:x[1][0]/x[1][1])\n",
    "        X_max = best[1][0]/best[1][1]\n",
    "        if np.random.binomial(1, min(1, X_max*k)): # exploit\n",
    "            print(X_max)\n",
    "            n_exploit += 1\n",
    "            while records[i]['displayed'] != best[0]:\n",
    "                i += 1\n",
    "                if i >= len(records):\n",
    "                    print('read out all records')\n",
    "                    break\n",
    "            rewards += records[i]['clicked']\n",
    "                \n",
    "        else: # explore\n",
    "            n_explore += 1\n",
    "            while records[i]['displayed'] != np.random.choice(get_young_arms(i), size=1):\n",
    "                i += 1\n",
    "                if i>= len(records):\n",
    "                    print('read out all records')\n",
    "                    break\n",
    "            rewards += records[i]['clicked']\n",
    "\n",
    "        X[displayed] = X.get(displayed, np.array([0, 0])) + np.array([clicked, 1]) # buggy\n",
    "        t += 1\n",
    "        i += 1\n",
    "        \n",
    "    if verbose:\n",
    "        print('# exploit:', n_exploit)\n",
    "        print('# explore:', n_explore)\n",
    "        print('# records:', i)\n",
    "        print('max expectation:', X_max)\n",
    "\n",
    "    return rewards"
   ]
  },
  {
   "cell_type": "code",
   "execution_count": 15,
   "metadata": {
    "collapsed": true
   },
   "outputs": [],
   "source": [
    "def get_young_arms(i):\n",
    "    global records\n",
    "    global lives\n",
    "    time = records[i]['timestamp']\n",
    "    born = filter(lambda x: x[1][0]<time, lives.items()) # fileter out unborn articles from lives\n",
    "    life_rank = sorted(born, key= lambda x: x[1][1], reverse= True) # sort born articles by their expiring date\n",
    "    young = life_rank[ : int(len(life_rank)*life_threshold)] # articles among top $life_threshold$% on the life ranking\n",
    "    return list(zip(*young))[0]"
   ]
  },
  {
   "cell_type": "code",
   "execution_count": 102,
   "metadata": {
    "collapsed": true
   },
   "outputs": [],
   "source": [
    "# offline simulation for AG_L\n",
    "# fast version, consumes much less records\n",
    "def AG_L(n=1000000,k=1, m=25, life_threshold=.3, verbose=True):\n",
    "    # records should be long enough\n",
    "    '''\n",
    "    n: number of turns to play\n",
    "    m: number of turns to initialize\n",
    "    k: adjust desire to exploit/explore\n",
    "    '''\n",
    "    global records\n",
    "    global lives # dict of articles to their lifespans\n",
    "    rewards = 0\n",
    "    i = 0 # marker in records\n",
    "    X = {} # dict of expectations article_id : array([sum, n_observations])\n",
    "    t = 1 # number of turn taken\n",
    "    \n",
    "    # initialization\n",
    "    while t<=m:\n",
    "        displayed = records[i]['displayed']\n",
    "        clicked = records[i]['clicked']\n",
    "        if displayed not in X.keys():\n",
    "            X[displayed] = np.array([clicked, 1])\n",
    "            t += 1\n",
    "        i += 1\n",
    "    \n",
    "    n_exploit = 0\n",
    "    n_explore = 0\n",
    "    while t<=n:\n",
    "        best = max(X.items(), key= lambda x:x[1][0]/x[1][1])\n",
    "        X_max = best[1][0]/best[1][1]\n",
    "        if np.random.binomial(1, min(1, X_max*k)): # exploit\n",
    "            n_exploit += 1                       \n",
    "            while i < len(records): # look for target arm\n",
    "                displayed = records[i]['displayed']\n",
    "                clicked = records[i]['clicked']\n",
    "                if displayed == best[0]:\n",
    "                    rewards += clicked\n",
    "                    break\n",
    "                i += 1\n",
    "                \n",
    "        else: # explore\n",
    "            n_explore += 1           \n",
    "            while i < len(records):\n",
    "                displayed = records[i]['displayed']\n",
    "                clicked = records[i]['clicked']\n",
    "                time = records[i]['timestamp']\n",
    "                born = filter(lambda x: x[1][0]<time, lives.items()) # fileter out unborn articles from lives\n",
    "                life_rank = sorted(born, key= lambda x: x[1][1], reverse= True) # sort born articles by their expiring date\n",
    "                young = life_rank[ : int(len(life_rank)*life_threshold)] # articles among top $life_threshold$% on the life ranking\n",
    "                if displayed in list(zip(*young))[0]:\n",
    "                    rewards += clicked\n",
    "                    break\n",
    "                i += 1\n",
    "\n",
    "        X[displayed] = X.get(displayed, np.array([0, 0])) + np.array([clicked, 1])\n",
    "        t += 1\n",
    "        i += 1\n",
    "        \n",
    "    if verbose:\n",
    "        print('# exploit:', n_exploit)\n",
    "        print('# explore:', n_explore)\n",
    "        print('# records:', i)\n",
    "        print('max expectation:', X_max)\n",
    "    \n",
    "    return rewards"
   ]
  },
  {
   "cell_type": "code",
   "execution_count": 103,
   "metadata": {},
   "outputs": [
    {
     "name": "stdout",
     "output_type": "stream",
     "text": [
      "# exploit: 679\n",
      "# explore: 9296\n",
      "# records: 52158\n",
      "max expectation: 0.061936936936936936\n"
     ]
    },
    {
     "data": {
      "text/plain": [
       "439"
      ]
     },
     "execution_count": 103,
     "metadata": {},
     "output_type": "execute_result"
    }
   ],
   "source": [
    "AG_L(n=10000)"
   ]
  },
  {
   "cell_type": "code",
   "execution_count": 199,
   "metadata": {
    "scrolled": true
   },
   "outputs": [
    {
     "name": "stdout",
     "output_type": "stream",
     "text": [
      "# exploit: 5584\n",
      "# explore: 94391\n",
      "# records: 399813\n",
      "max expectation: 0.05325370929015576\n"
     ]
    },
    {
     "data": {
      "text/plain": [
       "3836"
      ]
     },
     "execution_count": 199,
     "metadata": {},
     "output_type": "execute_result"
    }
   ],
   "source": [
    "AG_L(n=100000)"
   ]
  },
  {
   "cell_type": "code",
   "execution_count": 35,
   "metadata": {
    "scrolled": false
   },
   "outputs": [
    {
     "data": {
      "image/png": "[encoded data removed]",
      "text/plain": [
       "<matplotlib.figure.Figure at 0x1159e9550>"
      ]
     },
     "metadata": {},
     "output_type": "display_data"
    }
   ],
   "source": [
    "x = []\n",
    "y = []\n",
    "for b in np.arange(0.1,1.,.01):\n",
    "    x.append(b)\n",
    "    y.append(AG_L(n=10000,life_threshold=b, verbose=False))\n",
    "plt.plot(x,y)\n",
    "plt.xlabel('life_threshold')\n",
    "plt.ylabel('rewards')\n",
    "pass"
   ]
  },
  {
   "cell_type": "code",
   "execution_count": 71,
   "metadata": {
    "collapsed": true
   },
   "outputs": [],
   "source": [
    "import sys\n",
    "import time"
   ]
  },
  {
   "cell_type": "code",
   "execution_count": 73,
   "metadata": {},
   "outputs": [
    {
     "name": "stdout",
     "output_type": "stream",
     "text": [
      "999\r"
     ]
    }
   ],
   "source": [
    "agl = []\n",
    "ag = []\n",
    "for i in range(1000):\n",
    "    agl.append(AG_L(n=1000,verbose=False))\n",
    "    ag.append(AG_L(n=1000, life_threshold=1, verbose=False))\n",
    "    print(i,end='\\r',flush=True)\n",
    "    time.sleep(.001)"
   ]
  },
  {
   "cell_type": "code",
   "execution_count": 78,
   "metadata": {
    "collapsed": true
   },
   "outputs": [],
   "source": [
    "import seaborn as sns"
   ]
  },
  {
   "cell_type": "code",
   "execution_count": 84,
   "metadata": {},
   "outputs": [
    {
     "data": {
      "image/png": "[encoded data removed]",
      "text/plain": [
       "<matplotlib.figure.Figure at 0x119501358>"
      ]
     },
     "metadata": {},
     "output_type": "display_data"
    }
   ],
   "source": [
    "sns.distplot(agl,label='AG_L')\n",
    "sns.distplot(ag,label='AG')\n",
    "plt.legend()\n",
    "pass"
   ]
  },
  {
   "cell_type": "code",
   "execution_count": 316,
   "metadata": {},
   "outputs": [],
   "source": [
    "def ucb(x, i, c, records, lives):\n",
    "    time = records[i]['timestamp']\n",
    "    article = x[0]\n",
    "    acc_reward, T = x[1]\n",
    "    s, l = lives[article]\n",
    "    if time > l:\n",
    "        return 0\n",
    "    return acc_reward/T + c*np.log(l-time+1) * np.sqrt(2*np.log(time-s) / T)\n",
    "    \n",
    "# offline simulation for AG_L\n",
    "# fast version, consumes much less records\n",
    "def UCB_L(n=1000000, c=1, m=25, verbose=True):\n",
    "    # records should be long enough\n",
    "    '''\n",
    "    n: number of turns to play\n",
    "    m: number of turns to initialize\n",
    "    k: adjust desire to exploit/explore\n",
    "    '''\n",
    "    global records\n",
    "    global lives # dict of articles to their lifespans\n",
    "    rewards = 0\n",
    "    i = 0 # marker in records\n",
    "    X = {} # dict of expectations article_id : array([sum, n_observations])\n",
    "    t = 1 # number of turn taken\n",
    "    \n",
    "    # initialization\n",
    "    while t<=m:\n",
    "        displayed = records[i]['displayed']\n",
    "        clicked = records[i]['clicked']\n",
    "        if displayed not in X.keys():\n",
    "            X[displayed] = np.array([clicked, 1])\n",
    "            t += 1\n",
    "        i += 1\n",
    "    \n",
    "    #i=50400\n",
    "    while t<=n:\n",
    "        while i<len(records):\n",
    "            fake = False\n",
    "            displayed = records[i]['displayed']\n",
    "            clicked = records[i]['clicked']\n",
    "            \n",
    "            if displayed not in X.keys():\n",
    "                fake = True\n",
    "                estimation = sum(map(lambda x:x[0]/x[1], X.values())) / len(X)\n",
    "                X[displayed] = np.array([estimation, 1])\n",
    "                \n",
    "            best = max(X.items(), key= lambda x:ucb(x, i, c, records, lives))\n",
    "            \n",
    "            if fake:\n",
    "                X.pop(displayed)\n",
    "\n",
    "            if displayed == best[0]:\n",
    "                rewards += clicked\n",
    "                X[displayed] = X.get(displayed, np.array([0, 0])) + np.array([clicked, 1])\n",
    "                break\n",
    "            #print(displayed, best[0])\n",
    "            i += 1\n",
    "            \n",
    "        if i%1000==0:\n",
    "            print(t,i)\n",
    "            \n",
    "        t += 1\n",
    "        i += 1\n",
    "    if verbose:\n",
    "        print('# X', len(X.keys()))\n",
    "        print('# records', i)\n",
    "    \n",
    "    return rewards"
   ]
  },
  {
   "cell_type": "code",
   "execution_count": 317,
   "metadata": {},
   "outputs": [
    {
     "name": "stdout",
     "output_type": "stream",
     "text": [
      "501 13000\n",
      "1007 25000\n",
      "2373 59000\n",
      "4182 102000\n",
      "7328 174000\n",
      "7373 175000\n",
      "7429 176000\n",
      "8070 190000\n",
      "8405 197000\n",
      "9216 214000\n",
      "9325 216000\n",
      "9459 219000\n",
      "# X 27\n",
      "# records 230489\n"
     ]
    },
    {
     "data": {
      "text/plain": [
       "482"
      ]
     },
     "execution_count": 317,
     "metadata": {},
     "output_type": "execute_result"
    }
   ],
   "source": [
    "UCB_L(n=10000,c=.01)"
   ]
  },
  {
   "cell_type": "code",
   "execution_count": 318,
   "metadata": {},
   "outputs": [
    {
     "name": "stdout",
     "output_type": "stream",
     "text": [
      "547 13000\n",
      "6254 151000\n",
      "7399 175000\n",
      "7774 183000\n",
      "8655 201000\n",
      "8951 207000\n",
      "9009 208000\n",
      "# X 27\n",
      "# records 229403\n"
     ]
    },
    {
     "data": {
      "text/plain": [
       "377"
      ]
     },
     "execution_count": 318,
     "metadata": {},
     "output_type": "execute_result"
    }
   ],
   "source": [
    "UCB_L(n=10000,c=.1)"
   ]
  },
  {
   "cell_type": "code",
   "execution_count": 319,
   "metadata": {},
   "outputs": [
    {
     "name": "stdout",
     "output_type": "stream",
     "text": [
      "1209 30000\n",
      "1745 44000\n",
      "2418 60000\n",
      "2728 67000\n",
      "2849 70000\n",
      "4186 102000\n",
      "6250 152000\n",
      "7801 185000\n",
      "# X 27\n",
      "# records 230380\n"
     ]
    },
    {
     "data": {
      "text/plain": [
       "340"
      ]
     },
     "execution_count": 319,
     "metadata": {},
     "output_type": "execute_result"
    }
   ],
   "source": [
    "UCB_L(n=10000,c=1)"
   ]
  },
  {
   "cell_type": "code",
   "execution_count": 320,
   "metadata": {},
   "outputs": [
    {
     "name": "stdout",
     "output_type": "stream",
     "text": [
      "1767 44000\n",
      "2837 69000\n",
      "4455 106000\n",
      "5122 122000\n",
      "5166 123000\n",
      "6363 151000\n",
      "6891 162000\n",
      "7018 165000\n",
      "7887 183000\n",
      "# X 27\n",
      "# records 228742\n"
     ]
    },
    {
     "data": {
      "text/plain": [
       "324"
      ]
     },
     "execution_count": 320,
     "metadata": {},
     "output_type": "execute_result"
    }
   ],
   "source": [
    "UCB_L(n=10000,c=10)"
   ]
  },
  {
   "cell_type": "code",
   "execution_count": 321,
   "metadata": {},
   "outputs": [
    {
     "name": "stdout",
     "output_type": "stream",
     "text": [
      "2604 64000\n",
      "2761 67000\n",
      "3581 86000\n",
      "5669 136000\n",
      "6376 152000\n",
      "6610 157000\n",
      "6752 160000\n",
      "7719 179000\n",
      "8898 203000\n",
      "# X 27\n",
      "# records 227155\n"
     ]
    },
    {
     "data": {
      "text/plain": [
       "335"
      ]
     },
     "execution_count": 321,
     "metadata": {},
     "output_type": "execute_result"
    }
   ],
   "source": [
    "UCB_L(n=10000,c=100)"
   ]
  },
  {
   "cell_type": "code",
   "execution_count": null,
   "metadata": {
    "collapsed": true
   },
   "outputs": [],
   "source": [
    "x = []\n",
    "y = []\n",
    "for c in [.001, .01, .1, 1, 10, 100]:\n",
    "    x.append(c)\n",
    "    y.append(UCB_L(n=100, c=c, verbose=False))\n",
    "plt.plot(x,y)"
   ]
  },
  {
   "cell_type": "code",
   "execution_count": 23,
   "metadata": {
    "collapsed": true
   },
   "outputs": [],
   "source": [
    "from collections import Counter"
   ]
  },
  {
   "cell_type": "code",
   "execution_count": 25,
   "metadata": {},
   "outputs": [
    {
     "data": {
      "text/plain": [
       "Counter({0: 1552903, 1: 54622})"
      ]
     },
     "execution_count": 25,
     "metadata": {},
     "output_type": "execute_result"
    }
   ],
   "source": [
    "c=Counter()\n",
    "i=0\n",
    "while i<len(records):\n",
    "    c[records[i]['clicked']] += 1\n",
    "    i += 1\n",
    "c"
   ]
  },
  {
   "cell_type": "code",
   "execution_count": 28,
   "metadata": {},
   "outputs": [
    {
     "data": {
      "text/plain": [
       "0.03397894278471563"
      ]
     },
     "execution_count": 28,
     "metadata": {},
     "output_type": "execute_result"
    }
   ],
   "source": [
    "c[1]/(c[0]+c[1])"
   ]
  },
  {
   "cell_type": "code",
   "execution_count": null,
   "metadata": {
    "collapsed": true
   },
   "outputs": [],
   "source": []
  }
 ],
 "metadata": {
  "kernelspec": {
   "display_name": "Python 3",
   "language": "python",
   "name": "python3"
  },
  "language_info": {
   "codemirror_mode": {
    "name": "ipython",
    "version": 3
   },
   "file_extension": ".py",
   "mimetype": "text/x-python",
   "name": "python",
   "nbconvert_exporter": "python",
   "pygments_lexer": "ipython3",
   "version": "3.6.3"
  }
 },
 "nbformat": 4,
 "nbformat_minor": 2
}
