{
 "cells": [
  {
   "cell_type": "code",
   "execution_count": 1,
   "metadata": {
    "collapsed": true
   },
   "outputs": [],
   "source": [
    "%matplotlib inline\n",
    "\n",
    "import numpy as np\n",
    "import pandas as pd\n",
    "import matplotlib.pyplot as plt"
   ]
  },
  {
   "cell_type": "code",
   "execution_count": 128,
   "metadata": {
    "collapsed": true,
    "scrolled": true
   },
   "outputs": [],
   "source": [
    "# parser v1\n",
    "# parse records to list of dicts\n",
    "# values mostly are strings\n",
    "# easy to iterate through records\n",
    "records = []\n",
    "with open('Webscope_R6B/ydata-fp-td-clicks-v2_0.20111002') as f:\n",
    "    for line in f.readlines():\n",
    "        components = line.strip().split(' ')\n",
    "        record = {}\n",
    "        record['timestamp'] = components[0]\n",
    "        record['displayed'] = components[1]\n",
    "        record['clicked'] = int(components[2])\n",
    "        # not using user feature\n",
    "        record['user_features'] = []\n",
    "        for i in range(4, len(components)):\n",
    "            if components[i].startswith('|'):\n",
    "                n = i\n",
    "                break\n",
    "            #record['user_features'].append(int(components[i]))\n",
    "        record['pool'] = components[n:]    \n",
    "        records.append(record)"
   ]
  },
  {
   "cell_type": "code",
   "execution_count": 152,
   "metadata": {},
   "outputs": [
    {
     "data": {
      "text/plain": [
       "1607525"
      ]
     },
     "execution_count": 152,
     "metadata": {},
     "output_type": "execute_result"
    }
   ],
   "source": [
    "len(records)"
   ]
  },
  {
   "cell_type": "code",
   "execution_count": 89,
   "metadata": {
    "collapsed": true
   },
   "outputs": [],
   "source": [
    "# parser that watches article lifespans\n",
    "lives = {}\n",
    "with open('Webscope_R6B/ydata-fp-td-clicks-v2_0.20111002') as f:\n",
    "    for line in f.readlines():\n",
    "        components = line.strip().split(' ')\n",
    "        for component in components:\n",
    "            if component.startswith('|id-'):\n",
    "                timestamp = int(components[0])\n",
    "                if component in lives.keys():\n",
    "                    lives[component][1] = timestamp\n",
    "                else:\n",
    "                    lives[component] = [timestamp, timestamp]"
   ]
  },
  {
   "cell_type": "code",
   "execution_count": 22,
   "metadata": {},
   "outputs": [
    {
     "data": {
      "text/plain": [
       "dict_keys(['|id-552077', '|id-555224', '|id-555528', '|id-559744', '|id-559855', '|id-560290', '|id-560518', '|id-560620', '|id-563115', '|id-563582', '|id-563643', '|id-563787', '|id-563846', '|id-563938', '|id-564335', '|id-564418', '|id-564604', '|id-565364', '|id-565479', '|id-565515', '|id-565533', '|id-565561', '|id-565589', '|id-565648', '|id-565747', '|id-565822', '|id-565930', '|id-566013', '|id-566022', '|id-566092', '|id-560805', '|id-564371', '|id-562265', '|id-565980', '|id-566431', '|id-566439', '|id-559833', '|id-566541', '|id-562374', '|id-566587', '|id-566478', '|id-566573', '|id-566602', '|id-562637', '|id-566631', '|id-566689', '|id-566726', '|id-566825', '|id-566838'])"
      ]
     },
     "execution_count": 22,
     "metadata": {},
     "output_type": "execute_result"
    }
   ],
   "source": [
    "lives.keys()"
   ]
  },
  {
   "cell_type": "code",
   "execution_count": 125,
   "metadata": {
    "scrolled": true
   },
   "outputs": [
    {
     "name": "stdout",
     "output_type": "stream",
     "text": [
      "[1317513291, 1317515399]\n",
      "[1317513291, 1317588299]\n",
      "[1317513291, 1317587099]\n",
      "[1317513291, 1317515699]\n",
      "[1317513291, 1317587099]\n",
      "[1317513291, 1317587099]\n",
      "[1317513291, 1317578399]\n",
      "[1317513291, 1317521099]\n",
      "[1317513291, 1317581999]\n",
      "[1317513291, 1317583799]\n",
      "[1317513291, 1317599694]\n",
      "[1317513291, 1317515699]\n",
      "[1317513291, 1317599694]\n",
      "[1317513291, 1317519299]\n",
      "[1317513291, 1317571199]\n",
      "[1317513291, 1317599694]\n",
      "[1317513291, 1317520799]\n",
      "[1317513291, 1317535499]\n",
      "[1317513291, 1317583499]\n",
      "[1317513291, 1317587399]\n",
      "[1317513291, 1317583499]\n",
      "[1317513291, 1317549899]\n",
      "[1317513291, 1317577499]\n",
      "[1317513291, 1317586799]\n",
      "[1317513291, 1317570299]\n",
      "[1317513291, 1317599694]\n",
      "[1317517500, 1317582299]\n",
      "[1317525000, 1317585899]\n",
      "[1317527100, 1317594299]\n",
      "[1317529500, 1317564299]\n",
      "[1317565500, 1317599694]\n",
      "[1317568200, 1317599694]\n",
      "[1317569100, 1317599694]\n",
      "[1317570600, 1317574799]\n",
      "[1317572400, 1317599694]\n",
      "[1317573300, 1317599694]\n",
      "[1317577200, 1317599694]\n",
      "[1317577800, 1317599694]\n",
      "[1317578100, 1317599694]\n",
      "[1317579300, 1317599694]\n",
      "[1317579600, 1317599694]\n",
      "[1317580200, 1317599694]\n",
      "[1317582300, 1317599694]\n",
      "[1317583200, 1317599694]\n",
      "[1317583500, 1317599694]\n",
      "[1317586800, 1317599694]\n",
      "[1317588900, 1317599694]\n",
      "[1317593700, 1317599694]\n",
      "[1317596100, 1317599694]\n"
     ]
    }
   ],
   "source": [
    "for v in lives.values():\n",
    "    print(v)"
   ]
  },
  {
   "cell_type": "code",
   "execution_count": 155,
   "metadata": {},
   "outputs": [
    {
     "data": {
      "text/plain": [
       "[('|id-563643', [1317513291, 1317599694]),\n",
       " ('|id-563846', [1317513291, 1317599694]),\n",
       " ('|id-564418', [1317513291, 1317599694]),\n",
       " ('|id-565822', [1317513291, 1317599694]),\n",
       " ('|id-555224', [1317513291, 1317588299]),\n",
       " ('|id-565515', [1317513291, 1317587399]),\n",
       " ('|id-555528', [1317513291, 1317587099]),\n",
       " ('|id-559855', [1317513291, 1317587099]),\n",
       " ('|id-560290', [1317513291, 1317587099]),\n",
       " ('|id-565648', [1317513291, 1317586799]),\n",
       " ('|id-563582', [1317513291, 1317583799]),\n",
       " ('|id-565479', [1317513291, 1317583499]),\n",
       " ('|id-565533', [1317513291, 1317583499]),\n",
       " ('|id-563115', [1317513291, 1317581999]),\n",
       " ('|id-560518', [1317513291, 1317578399]),\n",
       " ('|id-565589', [1317513291, 1317577499]),\n",
       " ('|id-564335', [1317513291, 1317571199]),\n",
       " ('|id-565747', [1317513291, 1317570299]),\n",
       " ('|id-565561', [1317513291, 1317549899]),\n",
       " ('|id-565364', [1317513291, 1317535499]),\n",
       " ('|id-560620', [1317513291, 1317521099]),\n",
       " ('|id-564604', [1317513291, 1317520799]),\n",
       " ('|id-563938', [1317513291, 1317519299]),\n",
       " ('|id-559744', [1317513291, 1317515699]),\n",
       " ('|id-563787', [1317513291, 1317515699]),\n",
       " ('|id-552077', [1317513291, 1317515399])]"
      ]
     },
     "execution_count": 155,
     "metadata": {},
     "output_type": "execute_result"
    }
   ],
   "source": [
    "timestamp = 1317513600\n",
    "life_rank = sorted(filter(lambda x: x[1][0]<timestamp, lives.items()), key= lambda x: x[1][1], reverse= True)\n",
    "life_rank"
   ]
  },
  {
   "cell_type": "code",
   "execution_count": 168,
   "metadata": {},
   "outputs": [
    {
     "data": {
      "text/plain": [
       "[('|id-563643', [1317513291, 1317599694]),\n",
       " ('|id-563846', [1317513291, 1317599694]),\n",
       " ('|id-564418', [1317513291, 1317599694]),\n",
       " ('|id-565822', [1317513291, 1317599694]),\n",
       " ('|id-555224', [1317513291, 1317588299]),\n",
       " ('|id-565515', [1317513291, 1317587399]),\n",
       " ('|id-555528', [1317513291, 1317587099])]"
      ]
     },
     "execution_count": 168,
     "metadata": {},
     "output_type": "execute_result"
    }
   ],
   "source": [
    "life_rank[:int(len(life_rank)*.3)]"
   ]
  },
  {
   "cell_type": "code",
   "execution_count": 194,
   "metadata": {},
   "outputs": [],
   "source": [
    "# offline simulation for AG_L\n",
    "def AG_L(n=1000000, m=25, life_threshold=.3):\n",
    "    # records should be long enough\n",
    "    '''\n",
    "    n: number of turns to play\n",
    "    m: number of turns to initialize\n",
    "    '''\n",
    "    global records\n",
    "    global lives # dict of articles to their lifespans\n",
    "    rewards = 0\n",
    "    i = 0 # marker in records\n",
    "    X = {} # dict of expectations article_id : array([sum, n_observations])\n",
    "    t = 1 # number of turn taken\n",
    "    \n",
    "    # initialization\n",
    "    while t<=m:\n",
    "        displayed = records[i]['displayed']\n",
    "        clicked = records[i]['clicked']\n",
    "        if displayed not in X.keys():\n",
    "            X[displayed] = np.array([clicked, 1])\n",
    "            #print('initialized',displayed,':',X[displayed],'t/i:',t,i)\n",
    "            t += 1\n",
    "        i += 1\n",
    "    \n",
    "    n_exploit = 0\n",
    "    n_explore = 0\n",
    "    while t<=n:\n",
    "        best = max(X.items(), key= lambda x:x[1][0]/x[1][1])\n",
    "        X_max = best[1][0]/best[1][1]\n",
    "        #print('Turn', t, 'X_max:', X_max)\n",
    "        if np.random.binomial(1, X_max): # exploit\n",
    "            n_exploit += 1\n",
    "            while i < len(records): # look for target arm\n",
    "                displayed = records[i]['displayed']\n",
    "                clicked = records[i]['clicked']\n",
    "                if displayed == best[0]:\n",
    "                    rewards += clicked\n",
    "                    #print('exploited', displayed, ':', clicked, 'i:', i)\n",
    "                    break\n",
    "                i += 1\n",
    "                \n",
    "        else: # explore\n",
    "            n_explore += 1\n",
    "            while i < len(records):\n",
    "                displayed = records[i]['displayed']\n",
    "                clicked = records[i]['clicked']\n",
    "                time = int(records[i]['timestamp'])\n",
    "                born = filter(lambda x: x[1][0]<time, lives.items()) # fileter out unborn articles from lives\n",
    "                life_rank = sorted(born, key= lambda x: x[1][1], reverse= True) # sort born articles by their expiring date\n",
    "                young = life_rank[ : int(len(life_rank)*life_threshold)] # articles among top $life_threshold$% on the life ranking\n",
    "                if '|'+displayed in list(zip(*young))[0]:\n",
    "                    rewards += clicked\n",
    "                    #print('explored', displayed, ':', clicked, 'i:', i)\n",
    "                    break\n",
    "                i += 1\n",
    "\n",
    "        X[displayed] = X.get(displayed, np.array([0, 0])) + np.array([clicked, 1])\n",
    "        t += 1\n",
    "        i += 1\n",
    "        \n",
    "    print('# exploit:', n_exploit)\n",
    "    print('# explore:', n_explore)\n",
    "    print('# records:', i)\n",
    "    print('max expectation:', X_max)\n",
    "    \n",
    "    return rewards"
   ]
  },
  {
   "cell_type": "code",
   "execution_count": 195,
   "metadata": {
    "scrolled": true
   },
   "outputs": [
    {
     "name": "stdout",
     "output_type": "stream",
     "text": [
      "# exploit: 105\n",
      "# explore: 870\n",
      "# records: 6070\n",
      "max expectation: 0.0752212389380531\n"
     ]
    },
    {
     "data": {
      "text/plain": [
       "48"
      ]
     },
     "execution_count": 195,
     "metadata": {},
     "output_type": "execute_result"
    }
   ],
   "source": [
    "AG_L(n=1000)"
   ]
  },
  {
   "cell_type": "code",
   "execution_count": 180,
   "metadata": {},
   "outputs": [],
   "source": [
    "from collections import Counter"
   ]
  },
  {
   "cell_type": "code",
   "execution_count": 181,
   "metadata": {
    "collapsed": true
   },
   "outputs": [],
   "source": [
    "c=Counter()\n",
    "i=0\n",
    "while i<1000:\n",
    "    c[records[i]['clicked']] += 1\n",
    "    i += 1"
   ]
  },
  {
   "cell_type": "code",
   "execution_count": 182,
   "metadata": {},
   "outputs": [
    {
     "data": {
      "text/plain": [
       "Counter({0: 965, 1: 35})"
      ]
     },
     "execution_count": 182,
     "metadata": {},
     "output_type": "execute_result"
    }
   ],
   "source": [
    "c"
   ]
  },
  {
   "cell_type": "code",
   "execution_count": null,
   "metadata": {
    "collapsed": true
   },
   "outputs": [],
   "source": []
  }
 ],
 "metadata": {
  "kernelspec": {
   "display_name": "Python 3",
   "language": "python",
   "name": "python3"
  },
  "language_info": {
   "codemirror_mode": {
    "name": "ipython",
    "version": 3
   },
   "file_extension": ".py",
   "mimetype": "text/x-python",
   "name": "python",
   "nbconvert_exporter": "python",
   "pygments_lexer": "ipython3",
   "version": "3.6.3"
  }
 },
 "nbformat": 4,
 "nbformat_minor": 2
}
