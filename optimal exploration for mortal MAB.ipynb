{
 "cells": [
  {
   "cell_type": "code",
   "execution_count": 1,
   "metadata": {
    "collapsed": true
   },
   "outputs": [],
   "source": [
    "%matplotlib inline\n",
    "\n",
    "import numpy as np\n",
    "import pandas as pd\n",
    "import matplotlib.pyplot as plt"
   ]
  },
  {
   "cell_type": "code",
   "execution_count": 2,
   "metadata": {
    "collapsed": true,
    "scrolled": true
   },
   "outputs": [],
   "source": [
    "# parser v1\n",
    "# parse records to list of dicts\n",
    "# values mostly are strings\n",
    "# easy to iterate through records\n",
    "records = []\n",
    "with open('Webscope_R6B/ydata-fp-td-clicks-v2_0.20111002') as f:\n",
    "    for line in f.readlines():\n",
    "        components = line.strip().split(' ')\n",
    "        record = {}\n",
    "        record['timestamp'] = int(components[0])\n",
    "        record['displayed'] = components[1]\n",
    "        record['clicked'] = int(components[2])\n",
    "        # not using user feature\n",
    "        record['user_features'] = []\n",
    "        for i in range(4, len(components)):\n",
    "            if components[i].startswith('|'):\n",
    "                n = i\n",
    "                break\n",
    "            #record['user_features'].append(int(components[i]))\n",
    "        record['pool'] = components[n:]    \n",
    "        records.append(record)"
   ]
  },
  {
   "cell_type": "code",
   "execution_count": 3,
   "metadata": {},
   "outputs": [
    {
     "data": {
      "text/plain": [
       "1607525"
      ]
     },
     "execution_count": 3,
     "metadata": {},
     "output_type": "execute_result"
    }
   ],
   "source": [
    "len(records)"
   ]
  },
  {
   "cell_type": "code",
   "execution_count": 4,
   "metadata": {
    "collapsed": true
   },
   "outputs": [],
   "source": [
    "# parser that watches article lifespans\n",
    "lives = {}\n",
    "with open('Webscope_R6B/ydata-fp-td-clicks-v2_0.20111002') as f:\n",
    "    for line in f.readlines():\n",
    "        components = line.strip().split(' ')\n",
    "        for component in components:\n",
    "            if component.startswith('|id-'):\n",
    "                timestamp = int(components[0])\n",
    "                if component in lives.keys():\n",
    "                    lives[component][1] = timestamp\n",
    "                else:\n",
    "                    lives[component] = [timestamp, timestamp]"
   ]
  },
  {
   "cell_type": "code",
   "execution_count": 5,
   "metadata": {},
   "outputs": [
    {
     "data": {
      "text/plain": [
       "dict_keys(['|id-552077', '|id-555224', '|id-555528', '|id-559744', '|id-559855', '|id-560290', '|id-560518', '|id-560620', '|id-563115', '|id-563582', '|id-563643', '|id-563787', '|id-563846', '|id-563938', '|id-564335', '|id-564418', '|id-564604', '|id-565364', '|id-565479', '|id-565515', '|id-565533', '|id-565561', '|id-565589', '|id-565648', '|id-565747', '|id-565822', '|id-565930', '|id-566013', '|id-566022', '|id-566092', '|id-560805', '|id-564371', '|id-562265', '|id-565980', '|id-566431', '|id-566439', '|id-559833', '|id-566541', '|id-562374', '|id-566587', '|id-566478', '|id-566573', '|id-566602', '|id-562637', '|id-566631', '|id-566689', '|id-566726', '|id-566825', '|id-566838'])"
      ]
     },
     "execution_count": 5,
     "metadata": {},
     "output_type": "execute_result"
    }
   ],
   "source": [
    "lives.keys()"
   ]
  },
  {
   "cell_type": "code",
   "execution_count": 6,
   "metadata": {
    "scrolled": true
   },
   "outputs": [
    {
     "name": "stdout",
     "output_type": "stream",
     "text": [
      "[1317513291, 1317515399]\n",
      "[1317513291, 1317588299]\n",
      "[1317513291, 1317587099]\n",
      "[1317513291, 1317515699]\n",
      "[1317513291, 1317587099]\n",
      "[1317513291, 1317587099]\n",
      "[1317513291, 1317578399]\n",
      "[1317513291, 1317521099]\n",
      "[1317513291, 1317581999]\n",
      "[1317513291, 1317583799]\n",
      "[1317513291, 1317599694]\n",
      "[1317513291, 1317515699]\n",
      "[1317513291, 1317599694]\n",
      "[1317513291, 1317519299]\n",
      "[1317513291, 1317571199]\n",
      "[1317513291, 1317599694]\n",
      "[1317513291, 1317520799]\n",
      "[1317513291, 1317535499]\n",
      "[1317513291, 1317583499]\n",
      "[1317513291, 1317587399]\n",
      "[1317513291, 1317583499]\n",
      "[1317513291, 1317549899]\n",
      "[1317513291, 1317577499]\n",
      "[1317513291, 1317586799]\n",
      "[1317513291, 1317570299]\n",
      "[1317513291, 1317599694]\n",
      "[1317517500, 1317582299]\n",
      "[1317525000, 1317585899]\n",
      "[1317527100, 1317594299]\n",
      "[1317529500, 1317564299]\n",
      "[1317565500, 1317599694]\n",
      "[1317568200, 1317599694]\n",
      "[1317569100, 1317599694]\n",
      "[1317570600, 1317574799]\n",
      "[1317572400, 1317599694]\n",
      "[1317573300, 1317599694]\n",
      "[1317577200, 1317599694]\n",
      "[1317577800, 1317599694]\n",
      "[1317578100, 1317599694]\n",
      "[1317579300, 1317599694]\n",
      "[1317579600, 1317599694]\n",
      "[1317580200, 1317599694]\n",
      "[1317582300, 1317599694]\n",
      "[1317583200, 1317599694]\n",
      "[1317583500, 1317599694]\n",
      "[1317586800, 1317599694]\n",
      "[1317588900, 1317599694]\n",
      "[1317593700, 1317599694]\n",
      "[1317596100, 1317599694]\n"
     ]
    }
   ],
   "source": [
    "for v in lives.values():\n",
    "    print(v)"
   ]
  },
  {
   "cell_type": "code",
   "execution_count": 57,
   "metadata": {
    "collapsed": true
   },
   "outputs": [],
   "source": [
    "# offline simulation for AG_L\n",
    "def AG_L(n=1000000,k=1, m=25, life_threshold=.3):\n",
    "    # records should be long enough\n",
    "    '''\n",
    "    n: number of turns to play\n",
    "    m: number of turns to initialize\n",
    "    k: adjust desire to exploit/explore\n",
    "    '''\n",
    "    global records\n",
    "    global lives # dict of articles to their lifespans\n",
    "    rewards = 0\n",
    "    i = 0 # marker in records\n",
    "    X = {} # dict of expectations article_id : array([sum, n_observations])\n",
    "    t = 1 # number of turn taken\n",
    "    \n",
    "    # initialization\n",
    "    while t<=m:\n",
    "        displayed = records[i]['displayed']\n",
    "        clicked = records[i]['clicked']\n",
    "        if displayed not in X.keys():\n",
    "            X[displayed] = np.array([clicked, 1])\n",
    "            #print('initialized',displayed,':',X[displayed],'t/i:',t,i)\n",
    "            t += 1\n",
    "        i += 1\n",
    "    \n",
    "    n_exploit = 0\n",
    "    n_explore = 0\n",
    "    while t<=n:\n",
    "        best = max(X.items(), key= lambda x:x[1][0]/x[1][1])\n",
    "        X_max = best[1][0]/best[1][1]\n",
    "        #print('Turn', t, 'X_max:', X_max)\n",
    "        if np.random.binomial(1, min(1, X_max*k)): # exploit\n",
    "            n_exploit += 1\n",
    "            \n",
    "            '''while records[i]['displayed'] != best[0]:\n",
    "                i += 1\n",
    "                if i >= len(records):\n",
    "                    print('read out all records')\n",
    "                    break\n",
    "            rewards += records[i]['clicked']'''\n",
    "                       \n",
    "            while i < len(records): # look for target arm\n",
    "                displayed = records[i]['displayed']\n",
    "                clicked = records[i]['clicked']\n",
    "                if displayed == best[0]:\n",
    "                    rewards += clicked\n",
    "                    #print('exploited', displayed, ':', clicked, 'i:', i)\n",
    "                    break\n",
    "                i += 1\n",
    "                \n",
    "        else: # explore\n",
    "            n_explore += 1           \n",
    "            while i < len(records):\n",
    "                displayed = records[i]['displayed']\n",
    "                clicked = records[i]['clicked']\n",
    "                time = records[i]['timestamp']\n",
    "                born = filter(lambda x: x[1][0]<time, lives.items()) # fileter out unborn articles from lives\n",
    "                life_rank = sorted(born, key= lambda x: x[1][1], reverse= True) # sort born articles by their expiring date\n",
    "                young = life_rank[ : int(len(life_rank)*life_threshold)] # articles among top $life_threshold$% on the life ranking\n",
    "                if '|'+displayed in list(zip(*young))[0]:\n",
    "                    rewards += clicked\n",
    "                    #print('explored', displayed, ':', clicked, 'i:', i)\n",
    "                    break\n",
    "                i += 1\n",
    "\n",
    "        X[displayed] = X.get(displayed, np.array([0, 0])) + np.array([clicked, 1])\n",
    "        t += 1\n",
    "        i += 1\n",
    "        \n",
    "    print('# exploit:', n_exploit)\n",
    "    print('# explore:', n_explore)\n",
    "    print('# records:', i)\n",
    "    print('max expectation:', X_max)\n",
    "    \n",
    "    return rewards"
   ]
  },
  {
   "cell_type": "code",
   "execution_count": 58,
   "metadata": {
    "collapsed": true
   },
   "outputs": [],
   "source": [
    "# offline simulation for AG_L\n",
    "def AG_L2(n=1000000,k=1, m=25, life_threshold=.3,verbose=True):\n",
    "    # records should be long enough\n",
    "    '''\n",
    "    n: number of turns to play\n",
    "    m: number of turns to initialize\n",
    "    k: adjust desire to exploit/explore\n",
    "    '''\n",
    "    global records\n",
    "    global lives # dict of articles to their lifespans\n",
    "    rewards = 0\n",
    "    i = 0 # marker in records\n",
    "    X = {} # dict of expectations article_id : array([sum, n_observations])\n",
    "    t = 1 # number of turn taken\n",
    "    \n",
    "    # initialization\n",
    "    while t<=m:\n",
    "        displayed = records[i]['displayed']\n",
    "        clicked = records[i]['clicked']\n",
    "        if displayed not in X.keys():\n",
    "            X[displayed] = np.array([clicked, 1])\n",
    "            t += 1\n",
    "        i += 1\n",
    "    \n",
    "    n_exploit = 0\n",
    "    n_explore = 0\n",
    "    while t<=n:\n",
    "        best = max(X.items(), key= lambda x:x[1][0]/x[1][1])\n",
    "        X_max = best[1][0]/best[1][1]\n",
    "        if np.random.binomial(1, min(1, X_max*k)): # exploit\n",
    "            n_exploit += 1\n",
    "\n",
    "            while i < len(records): # look for target arm\n",
    "                displayed = records[i]['displayed']\n",
    "                clicked = records[i]['clicked']\n",
    "                if displayed == best[0]:\n",
    "                    rewards += clicked\n",
    "                    break\n",
    "                i += 1\n",
    "                \n",
    "        else: # explore\n",
    "            n_explore += 1\n",
    "            while i < len(records):\n",
    "                displayed = records[i]['displayed']\n",
    "                clicked = records[i]['clicked']\n",
    "                time = records[i]['timestamp']\n",
    "                born = filter(lambda x: x[1][0]<time, lives.items()) # fileter out unborn articles from lives\n",
    "                life_rank = sorted(born, key= lambda x: x[1][1], reverse= True) # sort born articles by their expiring date\n",
    "                young = life_rank[ : int(len(life_rank)*life_threshold)] # articles among top $life_threshold$% on the life ranking\n",
    "                if '|'+displayed == np.random.choice(list(zip(*young))[0], size=(1,)):\n",
    "                    rewards += clicked\n",
    "                    break\n",
    "                i += 1\n",
    "\n",
    "        X[displayed] = X.get(displayed, np.array([0, 0])) + np.array([clicked, 1])\n",
    "        t += 1\n",
    "        i += 1\n",
    "        \n",
    "    if verbose:\n",
    "        print('# exploit:', n_exploit)\n",
    "        print('# explore:', n_explore)\n",
    "        print('# records:', i)\n",
    "        print('max expectation:', X_max)\n",
    "\n",
    "    return rewards"
   ]
  },
  {
   "cell_type": "code",
   "execution_count": 59,
   "metadata": {},
   "outputs": [
    {
     "name": "stdout",
     "output_type": "stream",
     "text": [
      "# exploit: 351\n",
      "# explore: 4624\n",
      "# records: 26554\n",
      "max expectation: 0.06454816285998013\n"
     ]
    },
    {
     "data": {
      "text/plain": [
       "233"
      ]
     },
     "execution_count": 59,
     "metadata": {},
     "output_type": "execute_result"
    }
   ],
   "source": [
    "AG_L(n=5000)"
   ]
  },
  {
   "cell_type": "code",
   "execution_count": 60,
   "metadata": {},
   "outputs": [
    {
     "name": "stdout",
     "output_type": "stream",
     "text": [
      "# exploit: 418\n",
      "# explore: 4557\n",
      "# records: 119412\n",
      "max expectation: 0.0603448275862069\n"
     ]
    },
    {
     "data": {
      "text/plain": [
       "227"
      ]
     },
     "execution_count": 60,
     "metadata": {},
     "output_type": "execute_result"
    }
   ],
   "source": [
    "AG_L2(n=5000)"
   ]
  },
  {
   "cell_type": "code",
   "execution_count": 61,
   "metadata": {},
   "outputs": [
    {
     "name": "stdout",
     "output_type": "stream",
     "text": [
      "# exploit: 690\n",
      "# explore: 9285\n",
      "# records: 51276\n",
      "max expectation: 0.06111757857974389\n"
     ]
    },
    {
     "data": {
      "text/plain": [
       "447"
      ]
     },
     "execution_count": 61,
     "metadata": {},
     "output_type": "execute_result"
    }
   ],
   "source": [
    "AG_L(n=10000)"
   ]
  },
  {
   "cell_type": "code",
   "execution_count": 53,
   "metadata": {},
   "outputs": [
    {
     "data": {
      "image/png": "[encoded data removed]",
      "text/plain": [
       "<matplotlib.figure.Figure at 0x1090d8860>"
      ]
     },
     "metadata": {},
     "output_type": "display_data"
    }
   ],
   "source": [
    "x = []\n",
    "y = []\n",
    "for b in np.arange(0.1,1.1,.1):\n",
    "    x.append(b)\n",
    "    y.append(AG_L2(n=5000,life_threshold=b, verbose=False))\n",
    "plt.plot(x,y)\n",
    "plt.xlabel('life_threshold')\n",
    "plt.ylabel('rewards')\n",
    "pass"
   ]
  },
  {
   "cell_type": "code",
   "execution_count": 30,
   "metadata": {
    "scrolled": false
   },
   "outputs": [
    {
     "data": {
      "image/png": "[encoded data removed]",
      "text/plain": [
       "<matplotlib.figure.Figure at 0x107941668>"
      ]
     },
     "metadata": {},
     "output_type": "display_data"
    }
   ],
   "source": [
    "x = []\n",
    "y = []\n",
    "for b in np.arange(0.1,1.1,.1):\n",
    "    x.append(b)\n",
    "    y.append(AG_L(n=10000,life_threshold=b, verbose=False))\n",
    "plt.plot(x,y)\n",
    "plt.xlabel('life_threshold')\n",
    "plt.ylabel('rewards')\n",
    "pass"
   ]
  },
  {
   "cell_type": "code",
   "execution_count": 39,
   "metadata": {},
   "outputs": [
    {
     "data": {
      "image/png": "[encoded data removed]",
      "text/plain": [
       "<matplotlib.figure.Figure at 0x1078f2da0>"
      ]
     },
     "metadata": {},
     "output_type": "display_data"
    }
   ],
   "source": [
    "x = []\n",
    "y = []\n",
    "for b in [.1,.2,.5,1,2,5,10,20]:\n",
    "    x.append(b)\n",
    "    y.append(AG_L(n=10000,k=b, verbose=False))\n",
    "plt.plot(x,y)\n",
    "plt.xlabel('k')\n",
    "plt.ylabel('rewards')\n",
    "pass"
   ]
  },
  {
   "cell_type": "code",
   "execution_count": 43,
   "metadata": {},
   "outputs": [
    {
     "data": {
      "image/png": "[encoded data removed]",
      "text/plain": [
       "<matplotlib.figure.Figure at 0x108da46d8>"
      ]
     },
     "metadata": {},
     "output_type": "display_data"
    }
   ],
   "source": [
    "x = []\n",
    "y = []\n",
    "for b in [10,20,30,40,50,60,70,80,90,100]:\n",
    "    x.append(b)\n",
    "    y.append(AG_L(n=10000,k=b, verbose=False))\n",
    "plt.plot(x,y)\n",
    "plt.xlabel('k')\n",
    "plt.ylabel('rewards')\n",
    "pass"
   ]
  },
  {
   "cell_type": "code",
   "execution_count": 33,
   "metadata": {},
   "outputs": [
    {
     "name": "stdout",
     "output_type": "stream",
     "text": [
      "# exploit: 9974\n",
      "# explore: 1\n",
      "# records: 226027\n",
      "max expectation: 0.04909274193548387\n"
     ]
    },
    {
     "data": {
      "text/plain": [
       "487"
      ]
     },
     "execution_count": 33,
     "metadata": {},
     "output_type": "execute_result"
    }
   ],
   "source": [
    "AG_L(k=50,n=10000)"
   ]
  },
  {
   "cell_type": "code",
   "execution_count": 199,
   "metadata": {
    "scrolled": true
   },
   "outputs": [
    {
     "name": "stdout",
     "output_type": "stream",
     "text": [
      "# exploit: 5584\n",
      "# explore: 94391\n",
      "# records: 399813\n",
      "max expectation: 0.05325370929015576\n"
     ]
    },
    {
     "data": {
      "text/plain": [
       "3836"
      ]
     },
     "execution_count": 199,
     "metadata": {},
     "output_type": "execute_result"
    }
   ],
   "source": [
    "AG_L(n=100000)"
   ]
  },
  {
   "cell_type": "code",
   "execution_count": 15,
   "metadata": {
    "collapsed": true
   },
   "outputs": [],
   "source": [
    "from collections import Counter"
   ]
  },
  {
   "cell_type": "code",
   "execution_count": 16,
   "metadata": {},
   "outputs": [
    {
     "data": {
      "text/plain": [
       "Counter({0: 96545, 1: 3455})"
      ]
     },
     "execution_count": 16,
     "metadata": {},
     "output_type": "execute_result"
    }
   ],
   "source": [
    "c=Counter()\n",
    "i=0\n",
    "while i<100000:\n",
    "    c[records[i]['clicked']] += 1\n",
    "    i += 1\n",
    "c"
   ]
  },
  {
   "cell_type": "code",
   "execution_count": null,
   "metadata": {
    "collapsed": true
   },
   "outputs": [],
   "source": []
  }
 ],
 "metadata": {
  "kernelspec": {
   "display_name": "Python 3",
   "language": "python",
   "name": "python3"
  },
  "language_info": {
   "codemirror_mode": {
    "name": "ipython",
    "version": 3
   },
   "file_extension": ".py",
   "mimetype": "text/x-python",
   "name": "python",
   "nbconvert_exporter": "python",
   "pygments_lexer": "ipython3",
   "version": "3.6.3"
  }
 },
 "nbformat": 4,
 "nbformat_minor": 2
}
