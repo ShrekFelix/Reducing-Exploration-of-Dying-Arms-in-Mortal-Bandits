{
 "cells": [
  {
   "cell_type": "code",
   "execution_count": 1,
   "metadata": {
    "collapsed": true
   },
   "outputs": [],
   "source": [
    "%matplotlib inline\n",
    "\n",
    "import numpy as np\n",
    "import pandas as pd\n",
    "import matplotlib.pyplot as plt"
   ]
  },
  {
   "cell_type": "code",
   "execution_count": 31,
   "metadata": {
    "collapsed": true,
    "scrolled": true
   },
   "outputs": [],
   "source": [
    "# parser v1\n",
    "# parse records to list of dicts\n",
    "# values mostly are strings\n",
    "# easy to iterate through records\n",
    "records = []\n",
    "with open('test.txt') as f:\n",
    "    for line in f.readlines():\n",
    "        components = line.strip().split(' ')\n",
    "        record = {}\n",
    "        record['timestamp'] = components[0]\n",
    "        record['displayed'] = components[1]\n",
    "        record['clicked'] = int(components[2])\n",
    "        # not using user feature\n",
    "        record['user_features'] = []\n",
    "        for i in range(4, len(components)):\n",
    "            if components[i].startswith('|'):\n",
    "                n = i\n",
    "                break\n",
    "            record['user_features'].append(int(components[i]))\n",
    "        record['pool'] = components[n:]    \n",
    "        records.append(record)"
   ]
  },
  {
   "cell_type": "code",
   "execution_count": 32,
   "metadata": {
    "scrolled": true
   },
   "outputs": [
    {
     "data": {
      "text/plain": [
       "{'clicked': 0,\n",
       " 'displayed': 'id-560620',\n",
       " 'pool': ['|id-552077',\n",
       "  '|id-555224',\n",
       "  '|id-555528',\n",
       "  '|id-559744',\n",
       "  '|id-559855',\n",
       "  '|id-560290',\n",
       "  '|id-560518',\n",
       "  '|id-560620',\n",
       "  '|id-563115',\n",
       "  '|id-563582',\n",
       "  '|id-563643',\n",
       "  '|id-563787',\n",
       "  '|id-563846',\n",
       "  '|id-563938',\n",
       "  '|id-564335',\n",
       "  '|id-564418',\n",
       "  '|id-564604',\n",
       "  '|id-565364',\n",
       "  '|id-565479',\n",
       "  '|id-565515',\n",
       "  '|id-565533',\n",
       "  '|id-565561',\n",
       "  '|id-565589',\n",
       "  '|id-565648',\n",
       "  '|id-565747',\n",
       "  '|id-565822'],\n",
       " 'timestamp': '1317513291',\n",
       " 'user_features': [1,\n",
       "  9,\n",
       "  11,\n",
       "  13,\n",
       "  23,\n",
       "  16,\n",
       "  18,\n",
       "  17,\n",
       "  19,\n",
       "  15,\n",
       "  43,\n",
       "  14,\n",
       "  39,\n",
       "  30,\n",
       "  66,\n",
       "  50,\n",
       "  27,\n",
       "  104,\n",
       "  20]}"
      ]
     },
     "execution_count": 32,
     "metadata": {},
     "output_type": "execute_result"
    }
   ],
   "source": [
    "records[0]"
   ]
  },
  {
   "cell_type": "code",
   "execution_count": 29,
   "metadata": {
    "collapsed": true
   },
   "outputs": [],
   "source": [
    "d={}"
   ]
  },
  {
   "cell_type": "code",
   "execution_count": 33,
   "metadata": {},
   "outputs": [
    {
     "data": {
      "text/plain": [
       "148"
      ]
     },
     "execution_count": 33,
     "metadata": {},
     "output_type": "execute_result"
    }
   ],
   "source": [
    "len(records)"
   ]
  },
  {
   "cell_type": "code",
   "execution_count": 88,
   "metadata": {},
   "outputs": [
    {
     "data": {
      "text/plain": [
       "array([1, 1])"
      ]
     },
     "execution_count": 88,
     "metadata": {},
     "output_type": "execute_result"
    }
   ],
   "source": [
    "max(X.values(), key= lambda x:x[0]/x[1])"
   ]
  },
  {
   "cell_type": "code",
   "execution_count": 62,
   "metadata": {
    "collapsed": true
   },
   "outputs": [],
   "source": [
    "# offline simulation for AG_L\n",
    "def AG_L(n, m, life_threshold=.3, records):\n",
    "    # records should be long enough\n",
    "    '''\n",
    "    n: number of turns to play\n",
    "    m: number of turns to initialize\n",
    "    '''\n",
    "    global lives # dict of articles to their lifespans\n",
    "    reward = 0\n",
    "    i = 0\n",
    "    X = {} # expectations\n",
    "    t = 1\n",
    "    \n",
    "    # initialization\n",
    "    while t<=m:\n",
    "        displayed = records[i]['displayed']\n",
    "        if displayed not in X.keys():\n",
    "            X[displayed] = np.array([records[i]['clicked'], 1])\n",
    "            t += 1            \n",
    "        '''clicked = records[i]['clicked']\n",
    "        X[displayed] = X.get(displayed, np.array([0, 0])) + np.array([clicked, 1])'''\n",
    "        i += 1\n",
    "    \n",
    "    while t<=n:\n",
    "        best = max(X.items(), key= lambda x:x[1][0]/x[1][1])\n",
    "        X_max = best[1][0]/best[1][1]\n",
    "        \n",
    "        if np.random.binomial(1, X_max): # exploit\n",
    "            while i < len(records): # look for target arm\n",
    "                if records[i]['displayed'] == get[0]:\n",
    "                    rewards += records[i]['clicked']\n",
    "                    t += 1\n",
    "                    i += 1\n",
    "                    break\n",
    "                i += 1\n",
    "                \n",
    "        else: # explore\n",
    "            while i < len(records):               \n",
    "                born = filter(lambda x: x[1][0]>records[i]['timestamp'], lives.items()) # fileter out unborn articles from lives\n",
    "                life_rank = sorted(born, key= lambda x: x[1][1], reverse= True) # sort born articles by their expiring date\n",
    "                young = life_rank[ : int(len(life_rank)*life_threshold)] # articles among top $life_threshold$% on the life ranking\n",
    "                if records[i]['displayed'] in list(zip(*young)):\n",
    "                    rewards += records[i]['clicked']\n",
    "                    t += 1\n",
    "                    i += 1\n",
    "                    break\n",
    "                i += 1\n",
    "            #np.random.choice(young_arms, 1)\n",
    "            \n",
    "    return reward"
   ]
  },
  {
   "cell_type": "code",
   "execution_count": 42,
   "metadata": {},
   "outputs": [
    {
     "data": {
      "text/plain": [
       "26"
      ]
     },
     "execution_count": 42,
     "metadata": {},
     "output_type": "execute_result"
    }
   ],
   "source": [
    "len(records[0]['pool'])"
   ]
  },
  {
   "cell_type": "code",
   "execution_count": null,
   "metadata": {
    "collapsed": true
   },
   "outputs": [],
   "source": []
  },
  {
   "cell_type": "code",
   "execution_count": null,
   "metadata": {
    "collapsed": true
   },
   "outputs": [],
   "source": []
  },
  {
   "cell_type": "code",
   "execution_count": null,
   "metadata": {
    "collapsed": true
   },
   "outputs": [],
   "source": []
  },
  {
   "cell_type": "code",
   "execution_count": 2,
   "metadata": {
    "collapsed": true
   },
   "outputs": [],
   "source": [
    "# parser v2\n",
    "# parse records to dict of lists\n",
    "# values are mostly strings\n",
    "# easy to feed in pandas\n",
    "records = {'timestamp':[],\n",
    "          'displayed':[],\n",
    "          'clicked':[],\n",
    "          'user_features':[],\n",
    "          'pool':[]}\n",
    "with open('test.txt') as f:\n",
    "    for line in f.readlines():\n",
    "        components = line.strip().split(' ')\n",
    "        records['timestamp'].append(components[0])\n",
    "        records['displayed'].append(components[1])\n",
    "        records['clicked'].append(components[2])\n",
    "        user_features = []\n",
    "        for i in range(4, len(components)):\n",
    "            if components[i].startswith('|'):\n",
    "                n = i\n",
    "                break\n",
    "            user_features.append(int(components[i]))\n",
    "        records['user_features'].append(user_features)\n",
    "        records['pool'].append(components[n:])"
   ]
  },
  {
   "cell_type": "code",
   "execution_count": 3,
   "metadata": {},
   "outputs": [
    {
     "data": {
      "text/html": [
       "<div>\n",
       "<style scoped>\n",
       "    .dataframe tbody tr th:only-of-type {\n",
       "        vertical-align: middle;\n",
       "    }\n",
       "\n",
       "    .dataframe tbody tr th {\n",
       "        vertical-align: top;\n",
       "    }\n",
       "\n",
       "    .dataframe thead th {\n",
       "        text-align: right;\n",
       "    }\n",
       "</style>\n",
       "<table border=\"1\" class=\"dataframe\">\n",
       "  <thead>\n",
       "    <tr style=\"text-align: right;\">\n",
       "      <th></th>\n",
       "      <th>timestamp</th>\n",
       "      <th>displayed</th>\n",
       "      <th>clicked</th>\n",
       "      <th>user_features</th>\n",
       "      <th>pool</th>\n",
       "    </tr>\n",
       "  </thead>\n",
       "  <tbody>\n",
       "    <tr>\n",
       "      <th>0</th>\n",
       "      <td>1317513291</td>\n",
       "      <td>id-560620</td>\n",
       "      <td>0</td>\n",
       "      <td>[1, 9, 11, 13, 23, 16, 18, 17, 19, 15, 43, 14,...</td>\n",
       "      <td>[|id-552077, |id-555224, |id-555528, |id-55974...</td>\n",
       "    </tr>\n",
       "    <tr>\n",
       "      <th>1</th>\n",
       "      <td>1317513291</td>\n",
       "      <td>id-565648</td>\n",
       "      <td>0</td>\n",
       "      <td>[1, 9, 11, 13, 16, 15, 14]</td>\n",
       "      <td>[|id-552077, |id-555224, |id-555528, |id-55974...</td>\n",
       "    </tr>\n",
       "    <tr>\n",
       "      <th>2</th>\n",
       "      <td>1317513291</td>\n",
       "      <td>id-563115</td>\n",
       "      <td>0</td>\n",
       "      <td>[1, 8, 11, 36, 13, 22, 23, 16, 18, 54, 24, 26,...</td>\n",
       "      <td>[|id-552077, |id-555224, |id-555528, |id-55974...</td>\n",
       "    </tr>\n",
       "    <tr>\n",
       "      <th>3</th>\n",
       "      <td>1317513292</td>\n",
       "      <td>id-552077</td>\n",
       "      <td>0</td>\n",
       "      <td>[1, 7, 11, 37, 13, 23, 16, 18, 17, 35, 15, 14,...</td>\n",
       "      <td>[|id-552077, |id-555224, |id-555528, |id-55974...</td>\n",
       "    </tr>\n",
       "    <tr>\n",
       "      <th>4</th>\n",
       "      <td>1317513292</td>\n",
       "      <td>id-564335</td>\n",
       "      <td>0</td>\n",
       "      <td>[1]</td>\n",
       "      <td>[|id-552077, |id-555224, |id-555528, |id-55974...</td>\n",
       "    </tr>\n",
       "  </tbody>\n",
       "</table>\n",
       "</div>"
      ],
      "text/plain": [
       "    timestamp  displayed clicked  \\\n",
       "0  1317513291  id-560620       0   \n",
       "1  1317513291  id-565648       0   \n",
       "2  1317513291  id-563115       0   \n",
       "3  1317513292  id-552077       0   \n",
       "4  1317513292  id-564335       0   \n",
       "\n",
       "                                       user_features  \\\n",
       "0  [1, 9, 11, 13, 23, 16, 18, 17, 19, 15, 43, 14,...   \n",
       "1                         [1, 9, 11, 13, 16, 15, 14]   \n",
       "2  [1, 8, 11, 36, 13, 22, 23, 16, 18, 54, 24, 26,...   \n",
       "3  [1, 7, 11, 37, 13, 23, 16, 18, 17, 35, 15, 14,...   \n",
       "4                                                [1]   \n",
       "\n",
       "                                                pool  \n",
       "0  [|id-552077, |id-555224, |id-555528, |id-55974...  \n",
       "1  [|id-552077, |id-555224, |id-555528, |id-55974...  \n",
       "2  [|id-552077, |id-555224, |id-555528, |id-55974...  \n",
       "3  [|id-552077, |id-555224, |id-555528, |id-55974...  \n",
       "4  [|id-552077, |id-555224, |id-555528, |id-55974...  "
      ]
     },
     "execution_count": 3,
     "metadata": {},
     "output_type": "execute_result"
    }
   ],
   "source": [
    "df = pd.DataFrame(records)\n",
    "df.head()"
   ]
  },
  {
   "cell_type": "code",
   "execution_count": 7,
   "metadata": {},
   "outputs": [
    {
     "data": {
      "text/html": [
       "<div>\n",
       "<style scoped>\n",
       "    .dataframe tbody tr th:only-of-type {\n",
       "        vertical-align: middle;\n",
       "    }\n",
       "\n",
       "    .dataframe tbody tr th {\n",
       "        vertical-align: top;\n",
       "    }\n",
       "\n",
       "    .dataframe thead th {\n",
       "        text-align: right;\n",
       "    }\n",
       "</style>\n",
       "<table border=\"1\" class=\"dataframe\">\n",
       "  <thead>\n",
       "    <tr style=\"text-align: right;\">\n",
       "      <th></th>\n",
       "      <th>timestamp</th>\n",
       "      <th>displayed</th>\n",
       "      <th>clicked</th>\n",
       "      <th>user_features</th>\n",
       "      <th>pool</th>\n",
       "    </tr>\n",
       "  </thead>\n",
       "  <tbody>\n",
       "    <tr>\n",
       "      <th>7</th>\n",
       "      <td>1317513293</td>\n",
       "      <td>id-563938</td>\n",
       "      <td>1</td>\n",
       "      <td>[1, 13, 23, 33, 18, 24, 17, 19, 29, 14]</td>\n",
       "      <td>[|id-552077, |id-555224, |id-555528, |id-55974...</td>\n",
       "    </tr>\n",
       "    <tr>\n",
       "      <th>13</th>\n",
       "      <td>1317513293</td>\n",
       "      <td>id-564335</td>\n",
       "      <td>1</td>\n",
       "      <td>[1, 7, 11, 36, 65, 13, 22, 23, 33, 32, 16, 18,...</td>\n",
       "      <td>[|id-552077, |id-555224, |id-555528, |id-55974...</td>\n",
       "    </tr>\n",
       "    <tr>\n",
       "      <th>39</th>\n",
       "      <td>1317513295</td>\n",
       "      <td>id-564335</td>\n",
       "      <td>1</td>\n",
       "      <td>[1, 8, 12, 36, 65, 13, 22, 23, 16, 18, 24, 26,...</td>\n",
       "      <td>[|id-552077, |id-555224, |id-555528, |id-55974...</td>\n",
       "    </tr>\n",
       "    <tr>\n",
       "      <th>144</th>\n",
       "      <td>1317513299</td>\n",
       "      <td>id-565747</td>\n",
       "      <td>1</td>\n",
       "      <td>[1, 7, 12, 13, 22, 23, 33, 32, 58, 16, 18, 24,...</td>\n",
       "      <td>[|id-552077, |id-555224, |id-555528, |id-55974...</td>\n",
       "    </tr>\n",
       "  </tbody>\n",
       "</table>\n",
       "</div>"
      ],
      "text/plain": [
       "      timestamp  displayed clicked  \\\n",
       "7    1317513293  id-563938       1   \n",
       "13   1317513293  id-564335       1   \n",
       "39   1317513295  id-564335       1   \n",
       "144  1317513299  id-565747       1   \n",
       "\n",
       "                                         user_features  \\\n",
       "7              [1, 13, 23, 33, 18, 24, 17, 19, 29, 14]   \n",
       "13   [1, 7, 11, 36, 65, 13, 22, 23, 33, 32, 16, 18,...   \n",
       "39   [1, 8, 12, 36, 65, 13, 22, 23, 16, 18, 24, 26,...   \n",
       "144  [1, 7, 12, 13, 22, 23, 33, 32, 58, 16, 18, 24,...   \n",
       "\n",
       "                                                  pool  \n",
       "7    [|id-552077, |id-555224, |id-555528, |id-55974...  \n",
       "13   [|id-552077, |id-555224, |id-555528, |id-55974...  \n",
       "39   [|id-552077, |id-555224, |id-555528, |id-55974...  \n",
       "144  [|id-552077, |id-555224, |id-555528, |id-55974...  "
      ]
     },
     "execution_count": 7,
     "metadata": {},
     "output_type": "execute_result"
    }
   ],
   "source": [
    "df[df['clicked']=='1']"
   ]
  },
  {
   "cell_type": "code",
   "execution_count": 8,
   "metadata": {},
   "outputs": [
    {
     "data": {
      "text/plain": [
       "(148, 5)"
      ]
     },
     "execution_count": 8,
     "metadata": {},
     "output_type": "execute_result"
    }
   ],
   "source": [
    "df.shape"
   ]
  },
  {
   "cell_type": "code",
   "execution_count": 89,
   "metadata": {
    "collapsed": true
   },
   "outputs": [],
   "source": [
    "# parser that watches article lifespans\n",
    "lives = {}\n",
    "with open('Webscope_R6B/ydata-fp-td-clicks-v2_0.20111002') as f:\n",
    "    for line in f.readlines():\n",
    "        components = line.strip().split(' ')\n",
    "        for component in components:\n",
    "            if component.startswith('|id-'):\n",
    "                timestamp = int(components[0])\n",
    "                if component in lives.keys():\n",
    "                    lives[component][1] = timestamp\n",
    "                else:\n",
    "                    lives[component] = [timestamp, timestamp]\n",
    "                '''if component in lives:\n",
    "                    lives[component].add(int(components[0]))\n",
    "                else:\n",
    "                    lives[component] = set()'''"
   ]
  },
  {
   "cell_type": "code",
   "execution_count": 22,
   "metadata": {},
   "outputs": [
    {
     "data": {
      "text/plain": [
       "dict_keys(['|id-552077', '|id-555224', '|id-555528', '|id-559744', '|id-559855', '|id-560290', '|id-560518', '|id-560620', '|id-563115', '|id-563582', '|id-563643', '|id-563787', '|id-563846', '|id-563938', '|id-564335', '|id-564418', '|id-564604', '|id-565364', '|id-565479', '|id-565515', '|id-565533', '|id-565561', '|id-565589', '|id-565648', '|id-565747', '|id-565822', '|id-565930', '|id-566013', '|id-566022', '|id-566092', '|id-560805', '|id-564371', '|id-562265', '|id-565980', '|id-566431', '|id-566439', '|id-559833', '|id-566541', '|id-562374', '|id-566587', '|id-566478', '|id-566573', '|id-566602', '|id-562637', '|id-566631', '|id-566689', '|id-566726', '|id-566825', '|id-566838'])"
      ]
     },
     "execution_count": 22,
     "metadata": {},
     "output_type": "execute_result"
    }
   ],
   "source": [
    "lives.keys()"
   ]
  },
  {
   "cell_type": "code",
   "execution_count": 90,
   "metadata": {
    "scrolled": true
   },
   "outputs": [
    {
     "name": "stdout",
     "output_type": "stream",
     "text": [
      "[1317513291, 1317515399]\n",
      "[1317513291, 1317588299]\n",
      "[1317513291, 1317587099]\n",
      "[1317513291, 1317515699]\n",
      "[1317513291, 1317587099]\n",
      "[1317513291, 1317587099]\n",
      "[1317513291, 1317578399]\n",
      "[1317513291, 1317521099]\n",
      "[1317513291, 1317581999]\n",
      "[1317513291, 1317583799]\n",
      "[1317513291, 1317599694]\n",
      "[1317513291, 1317515699]\n",
      "[1317513291, 1317599694]\n",
      "[1317513291, 1317519299]\n",
      "[1317513291, 1317571199]\n",
      "[1317513291, 1317599694]\n",
      "[1317513291, 1317520799]\n",
      "[1317513291, 1317535499]\n",
      "[1317513291, 1317583499]\n",
      "[1317513291, 1317587399]\n",
      "[1317513291, 1317583499]\n",
      "[1317513291, 1317549899]\n",
      "[1317513291, 1317577499]\n",
      "[1317513291, 1317586799]\n",
      "[1317513291, 1317570299]\n",
      "[1317513291, 1317599694]\n",
      "[1317517500, 1317582299]\n",
      "[1317525000, 1317585899]\n",
      "[1317527100, 1317594299]\n",
      "[1317529500, 1317564299]\n",
      "[1317565500, 1317599694]\n",
      "[1317568200, 1317599694]\n",
      "[1317569100, 1317599694]\n",
      "[1317570600, 1317574799]\n",
      "[1317572400, 1317599694]\n",
      "[1317573300, 1317599694]\n",
      "[1317577200, 1317599694]\n",
      "[1317577800, 1317599694]\n",
      "[1317578100, 1317599694]\n",
      "[1317579300, 1317599694]\n",
      "[1317579600, 1317599694]\n",
      "[1317580200, 1317599694]\n",
      "[1317582300, 1317599694]\n",
      "[1317583200, 1317599694]\n",
      "[1317583500, 1317599694]\n",
      "[1317586800, 1317599694]\n",
      "[1317588900, 1317599694]\n",
      "[1317593700, 1317599694]\n",
      "[1317596100, 1317599694]\n"
     ]
    }
   ],
   "source": [
    "for v in lives.values():\n",
    "    print(v)"
   ]
  },
  {
   "cell_type": "code",
   "execution_count": 95,
   "metadata": {},
   "outputs": [
    {
     "data": {
      "text/plain": [
       "[('|id-560805', [1317565500, 1317599694]),\n",
       " ('|id-564371', [1317568200, 1317599694]),\n",
       " ('|id-562265', [1317569100, 1317599694]),\n",
       " ('|id-566431', [1317572400, 1317599694]),\n",
       " ('|id-566439', [1317573300, 1317599694]),\n",
       " ('|id-559833', [1317577200, 1317599694]),\n",
       " ('|id-566541', [1317577800, 1317599694]),\n",
       " ('|id-562374', [1317578100, 1317599694]),\n",
       " ('|id-566587', [1317579300, 1317599694]),\n",
       " ('|id-566478', [1317579600, 1317599694]),\n",
       " ('|id-566573', [1317580200, 1317599694]),\n",
       " ('|id-566602', [1317582300, 1317599694]),\n",
       " ('|id-562637', [1317583200, 1317599694]),\n",
       " ('|id-566631', [1317583500, 1317599694]),\n",
       " ('|id-566689', [1317586800, 1317599694]),\n",
       " ('|id-566726', [1317588900, 1317599694]),\n",
       " ('|id-566825', [1317593700, 1317599694]),\n",
       " ('|id-566838', [1317596100, 1317599694]),\n",
       " ('|id-566022', [1317527100, 1317594299]),\n",
       " ('|id-566013', [1317525000, 1317585899]),\n",
       " ('|id-565930', [1317517500, 1317582299]),\n",
       " ('|id-565980', [1317570600, 1317574799]),\n",
       " ('|id-566092', [1317529500, 1317564299])]"
      ]
     },
     "execution_count": 95,
     "metadata": {},
     "output_type": "execute_result"
    }
   ],
   "source": [
    "timestamp = 1317513600\n",
    "life_rank = sorted(filter(lambda x: x[1][0]>timestamp, lives.items()), key= lambda x: x[1][1], reverse= True)\n",
    "life_rank"
   ]
  },
  {
   "cell_type": "code",
   "execution_count": 103,
   "metadata": {},
   "outputs": [
    {
     "data": {
      "text/plain": [
       "[('|id-560805', [1317565500, 1317599694]),\n",
       " ('|id-564371', [1317568200, 1317599694]),\n",
       " ('|id-562265', [1317569100, 1317599694]),\n",
       " ('|id-566431', [1317572400, 1317599694]),\n",
       " ('|id-566439', [1317573300, 1317599694]),\n",
       " ('|id-559833', [1317577200, 1317599694])]"
      ]
     },
     "execution_count": 103,
     "metadata": {},
     "output_type": "execute_result"
    }
   ],
   "source": [
    "life_rank[:int(len(life_rank)*.3)]"
   ]
  },
  {
   "cell_type": "code",
   "execution_count": 99,
   "metadata": {},
   "outputs": [
    {
     "data": {
      "text/plain": [
       "6"
      ]
     },
     "execution_count": 99,
     "metadata": {},
     "output_type": "execute_result"
    }
   ],
   "source": [
    "int(len(life_rank)*.3)"
   ]
  },
  {
   "cell_type": "code",
   "execution_count": 112,
   "metadata": {},
   "outputs": [
    {
     "data": {
      "text/plain": [
       "[('|id-560805',\n",
       "  '|id-564371',\n",
       "  '|id-562265',\n",
       "  '|id-566431',\n",
       "  '|id-566439',\n",
       "  '|id-559833',\n",
       "  '|id-566541',\n",
       "  '|id-562374',\n",
       "  '|id-566587',\n",
       "  '|id-566478',\n",
       "  '|id-566573',\n",
       "  '|id-566602',\n",
       "  '|id-562637',\n",
       "  '|id-566631',\n",
       "  '|id-566689',\n",
       "  '|id-566726',\n",
       "  '|id-566825',\n",
       "  '|id-566838',\n",
       "  '|id-566022',\n",
       "  '|id-566013',\n",
       "  '|id-565930',\n",
       "  '|id-565980',\n",
       "  '|id-566092'),\n",
       " ([1317565500, 1317599694],\n",
       "  [1317568200, 1317599694],\n",
       "  [1317569100, 1317599694],\n",
       "  [1317572400, 1317599694],\n",
       "  [1317573300, 1317599694],\n",
       "  [1317577200, 1317599694],\n",
       "  [1317577800, 1317599694],\n",
       "  [1317578100, 1317599694],\n",
       "  [1317579300, 1317599694],\n",
       "  [1317579600, 1317599694],\n",
       "  [1317580200, 1317599694],\n",
       "  [1317582300, 1317599694],\n",
       "  [1317583200, 1317599694],\n",
       "  [1317583500, 1317599694],\n",
       "  [1317586800, 1317599694],\n",
       "  [1317588900, 1317599694],\n",
       "  [1317593700, 1317599694],\n",
       "  [1317596100, 1317599694],\n",
       "  [1317527100, 1317594299],\n",
       "  [1317525000, 1317585899],\n",
       "  [1317517500, 1317582299],\n",
       "  [1317570600, 1317574799],\n",
       "  [1317529500, 1317564299])]"
      ]
     },
     "execution_count": 112,
     "metadata": {},
     "output_type": "execute_result"
    }
   ],
   "source": [
    "list(zip(*life_rank))"
   ]
  },
  {
   "cell_type": "code",
   "execution_count": null,
   "metadata": {
    "collapsed": true
   },
   "outputs": [],
   "source": []
  }
 ],
 "metadata": {
  "kernelspec": {
   "display_name": "Python 3",
   "language": "python",
   "name": "python3"
  },
  "language_info": {
   "codemirror_mode": {
    "name": "ipython",
    "version": 3
   },
   "file_extension": ".py",
   "mimetype": "text/x-python",
   "name": "python",
   "nbconvert_exporter": "python",
   "pygments_lexer": "ipython3",
   "version": "3.6.3"
  }
 },
 "nbformat": 4,
 "nbformat_minor": 2
}
