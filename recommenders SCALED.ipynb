{
 "cells": [
  {
   "cell_type": "code",
   "execution_count": 1,
   "metadata": {},
   "outputs": [],
   "source": [
    "%load_ext line_profiler"
   ]
  },
  {
   "cell_type": "code",
   "execution_count": 2,
   "metadata": {
    "colab": {},
    "colab_type": "code",
    "id": "4VV3IK2in2fB"
   },
   "outputs": [],
   "source": [
    "%matplotlib inline\n",
    "\n",
    "import numpy as np\n",
    "import pandas as pd\n",
    "import matplotlib.pyplot as plt\n",
    "import seaborn as sns\n",
    "\n",
    "import sys\n",
    "import time\n",
    "import pickle\n",
    "\n",
    "from collections import Counter, defaultdict, OrderedDict, namedtuple\n",
    "import random\n",
    "import copy\n",
    "import bisect\n",
    "import heapq\n",
    "\n",
    "import multiprocessing as mp\n",
    "from multiprocessing import Pool"
   ]
  },
  {
   "cell_type": "code",
   "execution_count": 81,
   "metadata": {
    "colab": {},
    "colab_type": "code",
    "id": "6DYUkVrpn2fG"
   },
   "outputs": [],
   "source": [
    "import warnings\n",
    "warnings.filterwarnings('error')"
   ]
  },
  {
   "cell_type": "code",
   "execution_count": 8,
   "metadata": {},
   "outputs": [],
   "source": [
    "with open('save/records','rb') as f:\n",
    "    records = pickle.load(f)\n",
    "with open('save/lifespans','rb') as f:\n",
    "    lifespans = pickle.load(f)\n",
    "with open('save/plt_ag', 'rb') as f:\n",
    "    plt_ag = pickle.load(f)\n",
    "with open('save/plt_agl','rb') as f:\n",
    "    plt_agl = pickle.load(f)\n",
    "with open('save/plt_ag', 'rb') as f:\n",
    "    plt_ag = pickle.load(f)\n",
    "with open('save/plt_agl', 'rb') as f:\n",
    "    plt_agl = pickle.load(f)\n",
    "with open('save/plt_ucb', 'rb') as f:\n",
    "    plt_ucb = pickle.load(f)\n",
    "with open('save/plt_ucbl', 'rb') as f:\n",
    "    plt_ucbl = pickle.load(f)"
   ]
  },
  {
   "cell_type": "code",
   "execution_count": 5,
   "metadata": {},
   "outputs": [],
   "source": [
    "records = pd.concat([pd.read_csv('data/ydata-fp-td-clicks-v2_0.'+ str(20111000+i), \n",
    "                                 sep=' ',\n",
    "                                 names=['timestamp','id','clicked'],\n",
    "                                 usecols=[0,1,2],) for i in range(2,17)])"
   ]
  },
  {
   "cell_type": "code",
   "execution_count": 8,
   "metadata": {},
   "outputs": [],
   "source": [
    "lifespans = {}\n",
    "for i in range(2,17):\n",
    "    with open('data/ydata-fp-td-clicks-v2_0.'+ str(20111000+i)) as f:\n",
    "        for line in f.readlines():\n",
    "            timestamp = int(line[:10])\n",
    "            components = line.strip().split(' |')\n",
    "            for article in components[2:]:\n",
    "                if article in lifespans:\n",
    "                    lifespans[article][1] = timestamp\n",
    "                else:\n",
    "                    lifespans[article] = [timestamp, timestamp]"
   ]
  },
  {
   "cell_type": "code",
   "execution_count": 9,
   "metadata": {},
   "outputs": [
    {
     "data": {
      "text/html": [
       "<div>\n",
       "<style scoped>\n",
       "    .dataframe tbody tr th:only-of-type {\n",
       "        vertical-align: middle;\n",
       "    }\n",
       "\n",
       "    .dataframe tbody tr th {\n",
       "        vertical-align: top;\n",
       "    }\n",
       "\n",
       "    .dataframe thead th {\n",
       "        text-align: right;\n",
       "    }\n",
       "</style>\n",
       "<table border=\"1\" class=\"dataframe\">\n",
       "  <thead>\n",
       "    <tr style=\"text-align: right;\">\n",
       "      <th></th>\n",
       "      <th>timestamp</th>\n",
       "      <th>id</th>\n",
       "      <th>clicked</th>\n",
       "    </tr>\n",
       "  </thead>\n",
       "  <tbody>\n",
       "    <tr>\n",
       "      <th>0</th>\n",
       "      <td>1317513291</td>\n",
       "      <td>id-560620</td>\n",
       "      <td>0</td>\n",
       "    </tr>\n",
       "    <tr>\n",
       "      <th>1</th>\n",
       "      <td>1317513291</td>\n",
       "      <td>id-565648</td>\n",
       "      <td>0</td>\n",
       "    </tr>\n",
       "    <tr>\n",
       "      <th>2</th>\n",
       "      <td>1317513291</td>\n",
       "      <td>id-563115</td>\n",
       "      <td>0</td>\n",
       "    </tr>\n",
       "    <tr>\n",
       "      <th>3</th>\n",
       "      <td>1317513292</td>\n",
       "      <td>id-552077</td>\n",
       "      <td>0</td>\n",
       "    </tr>\n",
       "    <tr>\n",
       "      <th>4</th>\n",
       "      <td>1317513292</td>\n",
       "      <td>id-564335</td>\n",
       "      <td>0</td>\n",
       "    </tr>\n",
       "  </tbody>\n",
       "</table>\n",
       "</div>"
      ],
      "text/plain": [
       "    timestamp         id  clicked\n",
       "0  1317513291  id-560620        0\n",
       "1  1317513291  id-565648        0\n",
       "2  1317513291  id-563115        0\n",
       "3  1317513292  id-552077        0\n",
       "4  1317513292  id-564335        0"
      ]
     },
     "execution_count": 9,
     "metadata": {},
     "output_type": "execute_result"
    }
   ],
   "source": [
    "records.head()"
   ]
  },
  {
   "cell_type": "code",
   "execution_count": 10,
   "metadata": {},
   "outputs": [
    {
     "data": {
      "text/plain": [
       "27777695"
      ]
     },
     "execution_count": 10,
     "metadata": {},
     "output_type": "execute_result"
    }
   ],
   "source": [
    "len(records)"
   ]
  },
  {
   "cell_type": "code",
   "execution_count": 19,
   "metadata": {},
   "outputs": [
    {
     "data": {
      "text/plain": [
       "0    26749863\n",
       "1     1027832\n",
       "Name: clicked, dtype: int64"
      ]
     },
     "execution_count": 19,
     "metadata": {},
     "output_type": "execute_result"
    }
   ],
   "source": [
    "records.clicked.value_counts()"
   ]
  },
  {
   "cell_type": "code",
   "execution_count": 24,
   "metadata": {
    "scrolled": true
   },
   "outputs": [
    {
     "data": {
      "text/plain": [
       "(652, 652)"
      ]
     },
     "execution_count": 24,
     "metadata": {},
     "output_type": "execute_result"
    }
   ],
   "source": [
    "len(records.id.value_counts()), len(lifespans)"
   ]
  },
  {
   "cell_type": "code",
   "execution_count": 10,
   "metadata": {},
   "outputs": [],
   "source": [
    "with open('save/records','wb') as f:\n",
    "    pickle.dump(records, f)"
   ]
  },
  {
   "cell_type": "code",
   "execution_count": 9,
   "metadata": {},
   "outputs": [],
   "source": [
    "with open('save/lifespans', 'wb') as f:\n",
    "    pickle.dump(lifespans, f)"
   ]
  },
  {
   "cell_type": "code",
   "execution_count": 24,
   "metadata": {},
   "outputs": [],
   "source": [
    "class Arm:\n",
    "    def __init__(self,lifespan):\n",
    "        self.birth, self.death = lifespan\n",
    "        self.s = None\n",
    "        self.l = None\n",
    "        self.T = 0\n",
    "        self.rewards = 0\n",
    "        self.X = -1\n",
    "    def __repr__(self):\n",
    "        return '{:.4f} {}/{} lifespan: {}'.format(self.X, self.rewards, self.T, (self.birth, self.death, self.s, self.l))\n",
    "pool = {}\n",
    "for k in lifespans:\n",
    "    pool[k] = Arm(lifespans[k])\n",
    "unborn = list(sorted(pool.keys(), key=lambda k:pool[k].birth, reverse=True)) # list of unborn arms sorted by birth descendingly"
   ]
  },
  {
   "cell_type": "code",
   "execution_count": 25,
   "metadata": {},
   "outputs": [
    {
     "data": {
      "text/plain": [
       "'id-615546'"
      ]
     },
     "execution_count": 25,
     "metadata": {},
     "output_type": "execute_result"
    }
   ],
   "source": [
    "unborn[0]"
   ]
  },
  {
   "cell_type": "code",
   "execution_count": 26,
   "metadata": {},
   "outputs": [
    {
     "data": {
      "text/plain": [
       "(-1.0000 0/0 lifespan: (1318807500, 1318809293, None, None),\n",
       " -1.0000 0/0 lifespan: (1317513291, 1317616199, None, None))"
      ]
     },
     "execution_count": 26,
     "metadata": {},
     "output_type": "execute_result"
    }
   ],
   "source": [
    "pool[unborn[0]], pool[unborn[-1]]"
   ]
  },
  {
   "cell_type": "code",
   "execution_count": 14,
   "metadata": {},
   "outputs": [
    {
     "data": {
      "text/plain": [
       "-1.0000 0/0 lifespan: (1317513291, 1317515399)"
      ]
     },
     "execution_count": 14,
     "metadata": {},
     "output_type": "execute_result"
    }
   ],
   "source": [
    "pool['id-552077']"
   ]
  },
  {
   "cell_type": "code",
   "execution_count": 15,
   "metadata": {},
   "outputs": [
    {
     "data": {
      "text/plain": [
       "652"
      ]
     },
     "execution_count": 15,
     "metadata": {},
     "output_type": "execute_result"
    }
   ],
   "source": [
    "len(pool)"
   ]
  },
  {
   "cell_type": "code",
   "execution_count": 16,
   "metadata": {},
   "outputs": [],
   "source": [
    "class AG_L:\n",
    "    def __init__(self, records, pool, unborn, est_life=False):\n",
    "        self.records = records.itertuples()\n",
    "        self.rewards = 0\n",
    "        self.alive = []\n",
    "        self.pool = copy.deepcopy(pool) # ordered dict of arms\n",
    "        self.unborn = copy.deepcopy(unborn)\n",
    "        self.n_exploit = 0\n",
    "        self.best = 'id-563643'\n",
    "        self.est_life = est_life\n",
    "        \n",
    "    def update(self, record):\n",
    "        self.rewards += record.clicked\n",
    "        self.pool[record.id].rewards += record.clicked\n",
    "        self.pool[record.id].T += 1\n",
    "        self.pool[record.id].X = self.pool[record.id].rewards / self.pool[record.id].T\n",
    "        self.best = max((self.best, record.id), key= lambda arm:self.pool[arm].X)\n",
    "        \n",
    "    def filter_live(self):\n",
    "        '''\n",
    "        edit list of currently available arms\n",
    "        '''\n",
    "        # bisect module in Python doesn't support keys\n",
    "        # implement my own bisect function that use .death as key\n",
    "        def bisect_by_death(value):\n",
    "            l = 0\n",
    "            h = len(self.alive)\n",
    "            while l < h:\n",
    "                m = (l + h) // 2\n",
    "                arm = self.alive[m]\n",
    "                if self.pool[arm].death < value:\n",
    "                    l = m + 1\n",
    "                else:\n",
    "                    h = m\n",
    "            return l\n",
    "        # drop dead arms\n",
    "        index = bisect_by_death(self.time)\n",
    "        self.alive = self.alive[ index : ]\n",
    "        # pop new born arms to 'alive'\n",
    "        # keep popping from 'unborn' until every born arm goes to 'alive'\n",
    "        # arms in 'unborn' are sorted by birth in descending order\n",
    "        # so the youngest arm is at the end of array\n",
    "        while self.unborn and self.pool[self.unborn[-1]].birth<=self.time:\n",
    "            arm = self.unborn.pop()\n",
    "            # insert this arm to correct position in 'alive'(sorted by death)\n",
    "            index = bisect_by_death(self.pool[arm].death)\n",
    "            self.alive.insert(index, arm)\n",
    "            \n",
    "        \n",
    "    def initialize(self, m):\n",
    "        for i in range(m):\n",
    "            record = next(self.records) # raise StopIteration\n",
    "            self.time = record.timestamp\n",
    "            self.filter_live()\n",
    "            if not pool[record.id].T: # not played\n",
    "                self.update(record)\n",
    "    \n",
    "    def play(self, n, threshold=.3):\n",
    "        for t in range(n):\n",
    "            while True: # keep trying\n",
    "                record = next(self.records) # raise StopIteration\n",
    "                self.time = record.timestamp\n",
    "                self.filter_live()\n",
    "                if random.random() < self.pool[self.best].X: #exploit\n",
    "                    pick = self.best\n",
    "                    exploited = 1\n",
    "                else: #explore\n",
    "                    if self.est_life:\n",
    "                        ranking = sorted(self.alive, key=lambda arm:self.pool[arm].birth, reverse=True)\n",
    "                        pick = random.choice(ranking[:int(threshold*len(ranking))])\n",
    "                    else:\n",
    "                        pick = random.choice(self.alive[int((1-threshold)*len(self.alive)) : ])\n",
    "                    exploited = 0\n",
    "                if pick == record.id:\n",
    "                    if exploited:\n",
    "                        self.n_exploit += 1\n",
    "                    self.update(record)\n",
    "                    break"
   ]
  },
  {
   "cell_type": "code",
   "execution_count": 163,
   "metadata": {},
   "outputs": [],
   "source": [
    "# profile code\n",
    "%lprun -f agl.play agl.play(1000)"
   ]
  },
  {
   "cell_type": "code",
   "execution_count": 27,
   "metadata": {},
   "outputs": [
    {
     "data": {
      "text/plain": [
       "28"
      ]
     },
     "execution_count": 27,
     "metadata": {},
     "output_type": "execute_result"
    }
   ],
   "source": [
    "agl = AG_L(records, pool, unborn, est_life=True)\n",
    "agl.initialize(25)\n",
    "agl.play(975,.3)\n",
    "agl.rewards"
   ]
  },
  {
   "cell_type": "code",
   "execution_count": 28,
   "metadata": {},
   "outputs": [
    {
     "data": {
      "text/plain": [
       "34"
      ]
     },
     "execution_count": 28,
     "metadata": {},
     "output_type": "execute_result"
    }
   ],
   "source": [
    "agl = AG_L(records, pool, unborn)\n",
    "agl.initialize(25)\n",
    "agl.play(975,1)\n",
    "agl.rewards"
   ]
  },
  {
   "cell_type": "code",
   "execution_count": 30,
   "metadata": {
    "scrolled": true
   },
   "outputs": [
    {
     "name": "stdout",
     "output_type": "stream",
     "text": [
      "2.9 s ± 200 ms per loop (mean ± std. dev. of 7 runs, 1 loop each)\n"
     ]
    }
   ],
   "source": [
    "%%timeit\n",
    "agl = AG_L(records, pool, unborn)\n",
    "agl.initialize(25)\n",
    "agl.play(975,.1)"
   ]
  },
  {
   "cell_type": "code",
   "execution_count": 105,
   "metadata": {},
   "outputs": [
    {
     "name": "stdout",
     "output_type": "stream",
     "text": [
      "player 0 started\n",
      "player 7 started\n",
      "player 21 started\n",
      "player 14 started\n",
      "player 21 finished with 3848 time spent: 16.869277238845825\n",
      "player 0 finished with 3809 time spent: 17.337093591690063\n",
      "player 22 started\n",
      "player 7 finished with 3879 time spent: 17.99132251739502\n",
      "player 1 started\n",
      "player 14 finished with 3832 time spent: 18.41372537612915\n",
      "player 8 started\n",
      "player 15 started\n",
      "player 22 finished with 3839 time spent: 17.60358428955078\n",
      "player 1 finished with 3710 time spent: 17.683621644973755\n",
      "player 8 finished with 3891 time spent: 17.221111536026\n",
      "player 23 started\n",
      "player 2 started\n",
      "player 9 started\n",
      "player 15 finished with 3940 time spent: 18.23388171195984\n",
      "player 16 started\n",
      "player 2 finished with 3901 time spent: 16.132309675216675\n",
      "player 3 started\n",
      "player 23 finished with 3763 time spent: 18.419862508773804\n",
      "player 9 finished with 3857 time spent: 18.41916012763977\n",
      "player 16 finished with 3799 time spent: 17.275121927261353\n",
      "player 24 started\n",
      "player 10 started\n",
      "player 17 started\n",
      "player 3 finished with 3708 time spent: 17.37937641143799\n",
      "player 4 started\n",
      "player 10 finished with 3691 time spent: 16.222601890563965\n",
      "player 11 started\n",
      "player 17 finished with 3742 time spent: 16.984416246414185\n",
      "player 24 finished with 3944 time spent: 18.42311143875122\n",
      "player 18 started\n",
      "player 25 started\n",
      "player 11 finished with 3757 time spent: 16.936778783798218\n",
      "player 4 finished with 3892 time spent: 18.781439304351807\n",
      "player 12 started\n",
      "player 18 finished with 3850 time spent: 17.16751527786255\n",
      "player 5 started\n",
      "player 19 started\n",
      "player 25 finished with 3825 time spent: 17.498228311538696\n",
      "player 26 started\n",
      "player 5 finished with 3784 time spent: 16.43783950805664\n",
      "player 12 finished with 3843 time spent: 17.60038995742798\n",
      "player 6 started\n",
      "player 13 started\n",
      "player 19 finished with 3939 time spent: 17.874945640563965\n",
      "player 26 finished with 3860 time spent: 17.427030324935913\n",
      "player 20 started\n",
      "player 27 started\n",
      "player 6 finished with 3741 time spent: 18.39082622528076\n",
      "player 13 finished with 3853 time spent: 18.32090473175049\n",
      "player 28 started\n",
      "player 20 finished with 3870 time spent: 18.009083032608032\n",
      "player 27 finished with 3898 time spent: 17.372148513793945\n",
      "player 35 started\n",
      "player 42 started\n",
      "player 49 started\n",
      "player 28 finished with 3841 time spent: 17.310518503189087\n",
      "player 29 started\n",
      "player 35 finished with 3760 time spent: 18.629956245422363\n",
      "player 42 finished with 3798 time spent: 18.34283447265625\n",
      "player 36 started\n",
      "player 49 finished with 3865 time spent: 18.788718700408936\n",
      "player 43 started\n",
      "player 50 started\n",
      "player 29 finished with 3709 time spent: 16.24684977531433\n",
      "player 30 started\n",
      "player 36 finished with 3833 time spent: 17.129169702529907\n",
      "player 37 started\n",
      "player 43 finished with 3849 time spent: 18.04104208946228\n",
      "player 44 started\n",
      "player 50 finished with 3890 time spent: 18.645620346069336\n",
      "player 51 started\n",
      "player 30 finished with 3773 time spent: 17.601024866104126\n",
      "player 31 started\n",
      "player 37 finished with 3805 time spent: 17.722090482711792\n",
      "player 38 started\n",
      "player 44 finished with 3864 time spent: 18.094972610473633\n",
      "player 51 finished with 3897 time spent: 17.663283824920654\n",
      "player 45 started\n",
      "player 52 started\n",
      "player 31 finished with 3917 time spent: 16.39593768119812\n",
      "player 32 started\n",
      "player 38 finished with 3910 time spent: 16.415759086608887\n",
      "player 39 started\n",
      "player 45 finished with 3791 time spent: 17.69104528427124\n",
      "player 46 started\n",
      "player 52 finished with 3902 time spent: 18.002323627471924\n",
      "player 53 started\n",
      "player 32 finished with 3639 time spent: 17.240443229675293\n",
      "player 33 started\n",
      "player 39 finished with 3648 time spent: 17.82967972755432\n",
      "player 40 started\n",
      "player 46 finished with 3689 time spent: 18.240397214889526\n",
      "player 47 started\n",
      "player 53 finished with 3730 time spent: 18.54732632637024\n",
      "player 54 started\n",
      "player 33 finished with 3776 time spent: 17.32775378227234\n",
      "player 34 started\n",
      "player 40 finished with 3754 time spent: 18.06287956237793\n",
      "player 41 started\n",
      "player 47 finished with 3817 time spent: 17.46812868118286\n",
      "player 48 started\n",
      "player 54 finished with 3818 time spent: 17.22333312034607\n",
      "player 55 started\n",
      "player 34 finished with 3699 time spent: 17.575306177139282\n",
      "player 56 started\n",
      "player 41 finished with 3709 time spent: 18.62372875213623\n",
      "player 63 started\n",
      "player 48 finished with 3700 time spent: 18.29899024963379\n",
      "player 70 started\n",
      "player 55 finished with 3739 time spent: 18.645198106765747\n",
      "player 77 started\n",
      "player 56 finished with 3856 time spent: 18.049710512161255\n",
      "player 57 started\n",
      "player 63 finished with 3770 time spent: 16.876757860183716\n",
      "player 64 started\n",
      "player 70 finished with 3869 time spent: 16.67338466644287\n",
      "player 71 started\n",
      "player 77 finished with 3808 time spent: 17.7262601852417\n",
      "player 78 started\n",
      "player 57 finished with 3803 time spent: 18.329861879348755\n",
      "player 58 started\n",
      "player 64 finished with 3771 time spent: 17.780208349227905\n",
      "player 65 started\n",
      "player 71 finished with 3698 time spent: 18.660282611846924\n",
      "player 72 started\n",
      "player 78 finished with 3873 time spent: 17.577520608901978\n",
      "player 79 started\n",
      "player 58 finished with 3824 time spent: 17.514110565185547\n",
      "player 59 started\n",
      "player 65 finished with 3803 time spent: 18.17777156829834\n",
      "player 66 started\n",
      "player 72 finished with 3827 time spent: 16.636687755584717\n",
      "player 73 started\n",
      "player 79 finished with 3876 time spent: 16.985950708389282\n",
      "player 80 started\n",
      "player 59 finished with 3777 time spent: 16.330812215805054\n",
      "player 60 started\n",
      "player 66 finished with 3850 time spent: 18.100051403045654\n",
      "player 73 finished with 3681 time spent: 16.550713062286377\n",
      "player 74 started\n",
      "player 67 started\n",
      "player 80 finished with 3734 time spent: 18.067611932754517\n",
      "player 81 started\n",
      "player 60 finished with 3806 time spent: 16.435046434402466\n",
      "player 61 started\n",
      "player 67 finished with 3800 time spent: 16.2708523273468\n",
      "player 74 finished with 3652 time spent: 16.83130717277527\n",
      "player 68 started\n",
      "player 75 started\n",
      "player 81 finished with 3809 time spent: 18.192073583602905\n",
      "player 82 started\n",
      "player 61 finished with 3851 time spent: 17.210065603256226\n",
      "player 62 started\n",
      "player 68 finished with 3919 time spent: 18.447355031967163\n",
      "player 75 finished with 3676 time spent: 18.61517643928528\n",
      "player 69 started\n",
      "player 76 started\n",
      "player 82 finished with 3777 time spent: 18.421888828277588\n",
      "player 83 started\n",
      "player 62 finished with 3735 time spent: 17.849658012390137\n",
      "player 84 started\n",
      "player 69 finished with 3702 time spent: 18.55256175994873\n",
      "player 76 finished with 3795 time spent: 18.271711349487305\n",
      "player 91 started\n",
      "player 98 started\n",
      "player 83 finished with 3857 time spent: 17.715110540390015\n",
      "player 84 finished with 3878 time spent: 16.824918746948242\n",
      "player 85 started\n",
      "player 91 finished with 3757 time spent: 16.377369165420532\n",
      "player 92 started\n",
      "player 98 finished with 3761 time spent: 17.400461435317993\n",
      "player 99 started\n",
      "player 85 finished with 3864 time spent: 17.399649143218994\n",
      "player 86 started\n",
      "player 92 finished with 3896 time spent: 17.074307441711426\n",
      "player 93 started\n",
      "player 99 finished with 3776 time spent: 17.350791215896606\n",
      "player 86 finished with 3850 time spent: 17.832776308059692\n",
      "player 87 started\n",
      "player 93 finished with 3799 time spent: 18.513177394866943\n",
      "player 94 started\n",
      "player 87 finished with 3723 time spent: 17.464134454727173\n",
      "player 88 started\n",
      "player 94 finished with 3712 time spent: 17.39519238471985\n",
      "player 95 started\n",
      "player 88 finished with 3827 time spent: 17.48128318786621\n",
      "player 89 started\n",
      "player 95 finished with 3788 time spent: 17.61176633834839\n",
      "player 96 started\n",
      "player 89 finished with 3705 time spent: 16.823733806610107\n",
      "player 90 started\n",
      "player 96 finished with 3709 time spent: 17.634403944015503\n",
      "player 97 started\n",
      "player 90 finished with 3777 time spent: 17.336668252944946\n",
      "player 97 finished with 3801 time spent: 16.223265886306763\n"
     ]
    }
   ],
   "source": [
    "# AG\n",
    "def player_ag(i):\n",
    "    print('player',i,'started')\n",
    "    start = time.time()\n",
    "    agl = AG_L(records, pool, unborn)\n",
    "    agl.initialize(25)\n",
    "    agl.play(100000, 1)\n",
    "    end = time.time()\n",
    "    print('player',i,'finished with',agl.rewards,'time spent:', end-start)\n",
    "    return agl.rewards\n",
    "plt_ag = []\n",
    "with Pool(4) as p:\n",
    "    plt_ag += p.map(player_ag, [i for i in range(100)])"
   ]
  },
  {
   "cell_type": "code",
   "execution_count": 110,
   "metadata": {},
   "outputs": [],
   "source": [
    "with open('save/plt_ag', 'wb') as f:\n",
    "    pickle.dump(plt_ag,f)"
   ]
  },
  {
   "cell_type": "code",
   "execution_count": 106,
   "metadata": {},
   "outputs": [
    {
     "data": {
      "text/plain": [
       "380209"
      ]
     },
     "execution_count": 106,
     "metadata": {},
     "output_type": "execute_result"
    }
   ],
   "source": [
    "sum(plt_ag)"
   ]
  },
  {
   "cell_type": "code",
   "execution_count": 29,
   "metadata": {},
   "outputs": [
    {
     "name": "stdout",
     "output_type": "stream",
     "text": [
      "player 7 started\n",
      "player 14 started\n",
      "player 0 started\n",
      "player 21 started\n",
      "player 0 finished with 4229 time spent: 33.87286686897278\n",
      "player 14 finished with 4210 time spent: 34.35456156730652\n",
      "player 1 started\n",
      "player 7 finished with 4372 time spent: 35.001511335372925\n",
      "player 15 started\n",
      "player 21 finished with 4289 time spent: 35.40946936607361\n",
      "player 8 started\n",
      "player 22 started\n",
      "player 15 finished with 4150 time spent: 34.75726914405823\n",
      "player 1 finished with 4310 time spent: 35.60758709907532\n",
      "player 16 started\n",
      "player 22 finished with 4245 time spent: 34.56202697753906\n",
      "player 8 finished with 4301 time spent: 34.89527153968811\n",
      "player 2 started\n",
      "player 23 started\n",
      "player 9 started\n",
      "player 16 finished with 4315 time spent: 33.934319734573364\n",
      "player 17 started\n",
      "player 2 finished with 4188 time spent: 34.26498532295227\n",
      "player 9 finished with 4295 time spent: 33.87627911567688\n",
      "player 23 finished with 4150 time spent: 34.08410906791687\n",
      "player 3 started\n",
      "player 10 started\n",
      "player 24 started\n",
      "player 17 finished with 4303 time spent: 35.00941491127014\n",
      "player 10 finished with 4235 time spent: 34.482836961746216\n",
      "player 18 started\n",
      "player 11 started\n",
      "player 3 finished with 4165 time spent: 35.486464500427246\n",
      "player 24 finished with 4138 time spent: 35.44526124000549\n",
      "player 4 started\n",
      "player 25 started\n",
      "player 18 finished with 4252 time spent: 33.54326009750366\n",
      "player 19 started\n",
      "player 11 finished with 4160 time spent: 34.040245056152344\n",
      "player 25 finished with 4216 time spent: 33.793779134750366\n",
      "player 12 started\n",
      "player 4 finished with 4203 time spent: 34.523889780044556\n",
      "player 26 started\n",
      "player 5 started\n",
      "player 19 finished with 4408 time spent: 34.32240128517151\n",
      "player 20 started\n",
      "player 26 finished with 4396 time spent: 34.51529049873352\n",
      "player 12 finished with 4290 time spent: 35.126298904418945\n",
      "player 27 started\n",
      "player 13 started\n",
      "player 5 finished with 4277 time spent: 35.88096833229065\n",
      "player 6 started\n",
      "player 20 finished with 4236 time spent: 34.463436126708984\n",
      "player 28 started\n",
      "player 27 finished with 4195 time spent: 35.02410292625427\n",
      "player 13 finished with 4190 time spent: 35.369524002075195\n",
      "player 35 started\n",
      "player 6 finished with 4171 time spent: 34.30355882644653\n",
      "player 42 started\n",
      "player 49 started\n",
      "player 28 finished with 4250 time spent: 33.93959069252014\n",
      "player 29 started\n",
      "player 42 finished with 4318 time spent: 33.697633028030396\n",
      "player 35 finished with 4147 time spent: 34.27989864349365\n",
      "player 49 finished with 4309 time spent: 33.980483055114746\n",
      "player 43 started\n",
      "player 36 started\n",
      "player 50 started\n",
      "player 29 finished with 4272 time spent: 35.09038996696472\n",
      "player 30 started\n",
      "player 43 finished with 4302 time spent: 34.967713832855225\n",
      "player 36 finished with 4209 time spent: 35.65848779678345\n",
      "player 44 started\n",
      "player 37 started\n",
      "player 50 finished with 4171 time spent: 36.08332538604736\n",
      "player 51 started\n",
      "player 30 finished with 4256 time spent: 34.96747708320618\n",
      "player 31 started\n",
      "player 44 finished with 4212 time spent: 34.220675468444824\n",
      "player 37 finished with 4174 time spent: 34.37172317504883\n",
      "player 45 started\n",
      "player 38 started\n",
      "player 51 finished with 4266 time spent: 35.47138738632202\n",
      "player 52 started\n",
      "player 31 finished with 4249 time spent: 34.138572216033936\n",
      "player 32 started\n",
      "player 45 finished with 4144 time spent: 33.97350883483887\n",
      "player 38 finished with 4207 time spent: 33.70289373397827\n",
      "player 46 started\n",
      "player 39 started\n",
      "player 52 finished with 4326 time spent: 34.05534887313843\n",
      "player 53 started\n",
      "player 32 finished with 4231 time spent: 33.73254370689392\n",
      "player 33 started\n",
      "player 46 finished with 4257 time spent: 34.6362738609314\n",
      "player 39 finished with 4227 time spent: 34.506253719329834\n",
      "player 47 started\n",
      "player 40 started\n",
      "player 53 finished with 4316 time spent: 34.456607818603516\n",
      "player 54 started\n",
      "player 33 finished with 4202 time spent: 34.47518515586853\n",
      "player 34 started\n",
      "player 47 finished with 4211 time spent: 33.97742772102356\n",
      "player 48 started\n",
      "player 40 finished with 4204 time spent: 34.88887906074524\n",
      "player 41 started\n",
      "player 54 finished with 4257 time spent: 33.91606307029724\n",
      "player 55 started\n",
      "player 34 finished with 4231 time spent: 34.263755559921265\n",
      "player 56 started\n",
      "player 48 finished with 4227 time spent: 34.096922874450684\n",
      "player 63 started\n",
      "player 41 finished with 4292 time spent: 34.085850954055786\n",
      "player 70 started\n",
      "player 55 finished with 4192 time spent: 33.929527282714844\n",
      "player 77 started\n",
      "player 56 finished with 4133 time spent: 33.18789052963257\n",
      "player 57 started\n",
      "player 63 finished with 4131 time spent: 33.96203374862671\n",
      "player 64 started\n",
      "player 70 finished with 4255 time spent: 34.65451502799988\n",
      "player 71 started\n",
      "player 77 finished with 4131 time spent: 34.8161506652832\n",
      "player 78 started\n",
      "player 57 finished with 4218 time spent: 35.065919160842896\n",
      "player 58 started\n",
      "player 64 finished with 4293 time spent: 34.501017808914185\n",
      "player 65 started\n",
      "player 71 finished with 4185 time spent: 34.303966999053955\n",
      "player 72 started\n",
      "player 78 finished with 4105 time spent: 34.195420265197754\n",
      "player 79 started\n",
      "player 58 finished with 4258 time spent: 34.34848475456238\n",
      "player 59 started\n",
      "player 65 finished with 4340 time spent: 34.61661434173584\n",
      "player 66 started\n",
      "player 72 finished with 4264 time spent: 33.81165933609009\n",
      "player 73 started\n",
      "player 79 finished with 4226 time spent: 34.69957900047302\n",
      "player 80 started\n",
      "player 59 finished with 4233 time spent: 34.88454556465149\n",
      "player 60 started\n",
      "player 66 finished with 4196 time spent: 35.52546215057373\n",
      "player 73 finished with 4259 time spent: 34.96476435661316\n",
      "player 67 started\n",
      "player 74 started\n",
      "player 80 finished with 4281 time spent: 35.72202920913696\n",
      "player 81 started\n",
      "player 60 finished with 4137 time spent: 35.3833224773407\n",
      "player 61 started\n",
      "player 74 finished with 4301 time spent: 34.782931327819824\n",
      "player 67 finished with 4265 time spent: 35.04030728340149\n",
      "player 75 started\n",
      "player 68 started\n",
      "player 81 finished with 4293 time spent: 34.301490783691406\n",
      "player 82 started\n",
      "player 61 finished with 4157 time spent: 33.80901217460632\n",
      "player 62 started\n",
      "player 68 finished with 4211 time spent: 33.533968925476074\n",
      "player 69 started\n",
      "player 75 finished with 4214 time spent: 34.85843086242676\n",
      "player 76 started\n",
      "player 82 finished with 4219 time spent: 35.276811838150024\n",
      "player 83 started\n",
      "player 62 finished with 4239 time spent: 34.37313890457153\n",
      "player 84 started\n",
      "player 76 finished with 4207 time spent: 33.654781103134155\n",
      "player 69 finished with 4313 time spent: 34.97681999206543\n",
      "player 91 started\n",
      "player 98 started\n",
      "player 83 finished with 4252 time spent: 33.82786583900452\n",
      "player 84 finished with 4247 time spent: 33.804224729537964\n",
      "player 85 started\n",
      "player 98 finished with 4089 time spent: 34.118823528289795\n",
      "player 91 finished with 4118 time spent: 34.80684781074524\n",
      "player 99 started\n",
      "player 92 started\n",
      "player 85 finished with 4235 time spent: 33.56068825721741\n",
      "player 86 started\n",
      "player 99 finished with 4224 time spent: 34.670384883880615\n",
      "player 92 finished with 4292 time spent: 34.071494817733765\n",
      "player 93 started\n",
      "player 86 finished with 4209 time spent: 33.771857500076294\n",
      "player 87 started\n",
      "player 93 finished with 4195 time spent: 34.64775586128235\n",
      "player 94 started\n",
      "player 87 finished with 4261 time spent: 34.417157888412476\n",
      "player 88 started\n",
      "player 94 finished with 4288 time spent: 34.489235162734985\n",
      "player 95 started\n",
      "player 88 finished with 4237 time spent: 33.781036138534546\n",
      "player 89 started\n",
      "player 95 finished with 4191 time spent: 34.56661295890808\n",
      "player 96 started\n",
      "player 89 finished with 4249 time spent: 35.66638255119324\n",
      "player 90 started\n",
      "player 96 finished with 4215 time spent: 35.74109506607056\n",
      "player 97 started\n",
      "player 90 finished with 4239 time spent: 34.997079610824585\n",
      "player 97 finished with 4188 time spent: 33.872204303741455\n"
     ]
    }
   ],
   "source": [
    "# AG_L with threshold .1, using estimation\n",
    "def player_ag(i):\n",
    "    print('player',i,'started')\n",
    "    start = time.time()\n",
    "    agl = AG_L(records, pool, unborn, est_life=True)\n",
    "    agl.initialize(25)\n",
    "    agl.play(100000, .3)\n",
    "    end = time.time()\n",
    "    print('player',i,'finished with',agl.rewards,'time spent:', end-start)\n",
    "    return agl.rewards\n",
    "with Pool(4) as p:\n",
    "    plt_agl_est = p.map(player_ag, [i for i in range(100)])"
   ]
  },
  {
   "cell_type": "code",
   "execution_count": 35,
   "metadata": {},
   "outputs": [],
   "source": [
    "with open('save/plt_agl_est', 'wb') as f:\n",
    "    pickle.dump(plt_agl_est,f)"
   ]
  },
  {
   "cell_type": "code",
   "execution_count": 102,
   "metadata": {
    "scrolled": true
   },
   "outputs": [
    {
     "name": "stdout",
     "output_type": "stream",
     "text": [
      "player 0 started\n",
      "player 21 started\n",
      "player 7 started\n",
      "player 14 started\n",
      "player 0 finished with 4413 time spent: 16.234094381332397\n",
      "player 1 started\n",
      "player 14 finished with 4527 time spent: 17.87995719909668\n",
      "player 21 finished with 4544 time spent: 18.44281005859375\n",
      "player 7 finished with 4499 time spent: 18.716455698013306\n",
      "player 15 started\n",
      "player 22 started\n",
      "player 8 started\n",
      "player 1 finished with 4514 time spent: 16.173981428146362\n",
      "player 2 started\n",
      "player 15 finished with 4375 time spent: 16.590834617614746\n",
      "player 16 started\n",
      "player 22 finished with 4442 time spent: 18.121007442474365\n",
      "player 8 finished with 4509 time spent: 18.451669454574585\n",
      "player 23 started\n",
      "player 9 started\n",
      "player 2 finished with 4548 time spent: 16.9971022605896\n",
      "player 3 started\n",
      "player 16 finished with 4529 time spent: 17.644106149673462\n",
      "player 17 started\n",
      "player 9 finished with 4529 time spent: 17.349998235702515\n",
      "player 23 finished with 4425 time spent: 18.472824573516846\n",
      "player 10 started\n",
      "player 24 started\n",
      "player 3 finished with 4497 time spent: 17.96298909187317\n",
      "player 4 started\n",
      "player 17 finished with 4533 time spent: 18.842636346817017\n",
      "player 18 started\n",
      "player 10 finished with 4530 time spent: 18.45813250541687\n",
      "player 11 started\n",
      "player 24 finished with 4497 time spent: 18.998981714248657\n",
      "player 25 started\n",
      "player 4 finished with 4424 time spent: 16.35135006904602\n",
      "player 5 started\n",
      "player 18 finished with 4558 time spent: 18.35281276702881\n",
      "player 11 finished with 4456 time spent: 16.782060861587524\n",
      "player 12 started\n",
      "player 19 started\n",
      "player 25 finished with 4485 time spent: 18.219351291656494\n",
      "player 26 started\n",
      "player 5 finished with 4616 time spent: 17.056030750274658\n",
      "player 6 started\n",
      "player 12 finished with 4457 time spent: 17.62149167060852\n",
      "player 19 finished with 4566 time spent: 18.187040090560913\n",
      "player 13 started\n",
      "player 20 started\n",
      "player 26 finished with 4499 time spent: 18.7401602268219\n",
      "player 27 started\n",
      "player 6 finished with 4450 time spent: 18.284603118896484\n",
      "player 28 started\n",
      "player 13 finished with 4516 time spent: 18.322768449783325\n",
      "player 20 finished with 4450 time spent: 18.351396083831787\n",
      "player 35 started\n",
      "player 42 started\n",
      "player 27 finished with 4470 time spent: 16.74346423149109\n",
      "player 49 started\n",
      "player 28 finished with 4493 time spent: 17.84718155860901\n",
      "player 29 started\n",
      "player 35 finished with 4446 time spent: 16.89180326461792\n",
      "player 36 started\n",
      "player 42 finished with 4531 time spent: 17.71311616897583\n",
      "player 49 finished with 4465 time spent: 16.650513410568237\n",
      "player 43 started\n",
      "player 50 started\n",
      "player 29 finished with 4341 time spent: 18.249293565750122\n",
      "player 30 started\n",
      "player 36 finished with 4431 time spent: 18.820417404174805\n",
      "player 43 finished with 4425 time spent: 17.330445051193237\n",
      "player 50 finished with 4477 time spent: 17.465884685516357\n",
      "player 37 started\n",
      "player 44 started\n",
      "player 51 started\n",
      "player 30 finished with 4418 time spent: 18.90331506729126\n",
      "player 31 started\n",
      "player 51 finished with 4548 time spent: 18.049275159835815\n",
      "player 37 finished with 4463 time spent: 18.68911099433899\n",
      "player 44 finished with 4402 time spent: 18.751031160354614\n",
      "player 52 started\n",
      "player 38 started\n",
      "player 45 started\n",
      "player 31 finished with 4418 time spent: 16.386686325073242\n",
      "player 32 started\n",
      "player 38 finished with 4515 time spent: 16.573265075683594\n",
      "player 39 started\n",
      "player 45 finished with 4462 time spent: 17.583009004592896\n",
      "player 52 finished with 4514 time spent: 18.41757559776306\n",
      "player 46 started\n",
      "player 53 started\n",
      "player 32 finished with 4561 time spent: 18.201996564865112\n",
      "player 33 started\n",
      "player 39 finished with 4504 time spent: 17.93539547920227\n",
      "player 53 finished with 4596 time spent: 16.511413097381592\n",
      "player 46 finished with 4570 time spent: 17.39744234085083\n",
      "player 54 started\n",
      "player 40 started\n",
      "player 47 started\n",
      "player 33 finished with 4533 time spent: 16.424898624420166\n",
      "player 34 started\n",
      "player 54 finished with 4482 time spent: 16.502670764923096\n",
      "player 55 started\n",
      "player 47 finished with 4535 time spent: 17.491941213607788\n",
      "player 40 finished with 4586 time spent: 18.4204740524292\n",
      "player 48 started\n",
      "player 41 started\n",
      "player 34 finished with 4414 time spent: 18.485758781433105\n",
      "player 56 started\n",
      "player 55 finished with 4478 time spent: 18.613609075546265\n",
      "player 41 finished with 4450 time spent: 17.28671646118164\n",
      "player 63 started\n",
      "player 48 finished with 4507 time spent: 18.117446899414062\n",
      "player 70 started\n",
      "player 77 started\n",
      "player 56 finished with 4352 time spent: 17.352323055267334\n",
      "player 57 started\n",
      "player 63 finished with 4581 time spent: 17.446533918380737\n",
      "player 70 finished with 4483 time spent: 17.18785333633423\n",
      "player 77 finished with 4493 time spent: 16.79779314994812\n",
      "player 64 started\n",
      "player 71 started\n",
      "player 78 started\n",
      "player 57 finished with 4418 time spent: 18.15397071838379\n",
      "player 58 started\n",
      "player 64 finished with 4535 time spent: 17.992088556289673\n",
      "player 71 finished with 4415 time spent: 18.069398641586304\n",
      "player 65 started\n",
      "player 78 finished with 4495 time spent: 18.548166513442993\n",
      "player 72 started\n",
      "player 79 started\n",
      "player 58 finished with 4406 time spent: 18.42520308494568\n",
      "player 59 started\n",
      "player 65 finished with 4509 time spent: 18.074724197387695\n",
      "player 72 finished with 4509 time spent: 18.24278426170349\n",
      "player 66 started\n",
      "player 73 started\n",
      "player 79 finished with 4575 time spent: 18.583322048187256\n",
      "player 80 started\n",
      "player 59 finished with 4494 time spent: 17.659651279449463\n",
      "player 60 started\n",
      "player 66 finished with 4522 time spent: 16.489749431610107\n",
      "player 67 started\n",
      "player 80 finished with 4525 time spent: 16.69608426094055\n",
      "player 73 finished with 4508 time spent: 17.803603649139404\n",
      "player 81 started\n",
      "player 74 started\n",
      "player 60 finished with 4406 time spent: 18.43891930580139\n",
      "player 61 started\n",
      "player 67 finished with 4361 time spent: 16.72136354446411\n",
      "player 68 started\n",
      "player 74 finished with 4540 time spent: 16.684102058410645\n",
      "player 75 started\n",
      "player 81 finished with 4534 time spent: 18.238271713256836\n",
      "player 82 started\n",
      "player 61 finished with 4590 time spent: 16.417513608932495\n",
      "player 62 started\n",
      "player 68 finished with 4451 time spent: 16.39457058906555\n",
      "player 69 started\n",
      "player 75 finished with 4545 time spent: 18.241372108459473\n",
      "player 82 finished with 4504 time spent: 17.76614260673523\n",
      "player 76 started\n",
      "player 83 started\n",
      "player 62 finished with 4510 time spent: 18.03304409980774\n",
      "player 84 started\n",
      "player 69 finished with 4428 time spent: 17.873840808868408\n",
      "player 91 started\n",
      "player 76 finished with 4498 time spent: 17.071370601654053\n",
      "player 83 finished with 4600 time spent: 16.362915515899658\n",
      "player 98 started\n",
      "player 84 finished with 4396 time spent: 16.859351873397827\n",
      "player 85 started\n",
      "player 91 finished with 4439 time spent: 17.055527925491333\n",
      "player 92 started\n",
      "player 98 finished with 4506 time spent: 16.77540111541748\n",
      "player 99 started\n",
      "player 85 finished with 4500 time spent: 16.9535653591156\n",
      "player 86 started\n",
      "player 92 finished with 4566 time spent: 17.874245166778564\n",
      "player 93 started\n",
      "player 99 finished with 4548 time spent: 16.908750772476196\n",
      "player 86 finished with 4450 time spent: 17.288171529769897\n",
      "player 87 started\n",
      "player 93 finished with 4485 time spent: 16.966537714004517\n",
      "player 94 started\n",
      "player 87 finished with 4471 time spent: 16.685190677642822\n",
      "player 88 started\n",
      "player 94 finished with 4429 time spent: 17.00468158721924\n",
      "player 95 started\n",
      "player 88 finished with 4547 time spent: 16.581273555755615\n",
      "player 89 started\n",
      "player 95 finished with 4479 time spent: 17.69934630393982\n",
      "player 96 started\n",
      "player 89 finished with 4527 time spent: 16.529948949813843\n",
      "player 90 started\n",
      "player 96 finished with 4428 time spent: 17.955435514450073\n",
      "player 97 started\n",
      "player 90 finished with 4447 time spent: 16.78014039993286\n",
      "player 97 finished with 4510 time spent: 17.480993509292603\n"
     ]
    }
   ],
   "source": [
    "# AG_L with threshold .3\n",
    "def player_ag(i):\n",
    "    print('player',i,'started')\n",
    "    start = time.time()\n",
    "    agl = AG_L(records, pool, unborn)\n",
    "    agl.initialize(25)\n",
    "    agl.play(100000, .3)\n",
    "    end = time.time()\n",
    "    print('player',i,'finished with',agl.rewards,'time spent:', end-start)\n",
    "    return agl.rewards\n",
    "plt_agl = []\n",
    "with Pool(4) as p:\n",
    "    plt_agl += p.map(player_ag, [i for i in range(100)])"
   ]
  },
  {
   "cell_type": "code",
   "execution_count": 109,
   "metadata": {},
   "outputs": [],
   "source": [
    "with open('save/plt_agl', 'wb') as f:\n",
    "    pickle.dump(plt_agl,f)"
   ]
  },
  {
   "cell_type": "code",
   "execution_count": 104,
   "metadata": {},
   "outputs": [
    {
     "data": {
      "text/plain": [
       "448938"
      ]
     },
     "execution_count": 104,
     "metadata": {},
     "output_type": "execute_result"
    }
   ],
   "source": [
    "sum(plt_agl)"
   ]
  },
  {
   "cell_type": "code",
   "execution_count": 34,
   "metadata": {},
   "outputs": [
    {
     "data": {
      "image/png": "[encoded data removed]",
      "text/plain": [
       "<matplotlib.figure.Figure at 0x7ff8579dbb70>"
      ]
     },
     "metadata": {
      "needs_background": "light"
     },
     "output_type": "display_data"
    }
   ],
   "source": [
    "sns.distplot(plt_agl, label='AG_L knowing exact lifespan')\n",
    "sns.distplot(plt_agl_est, label='AG_L using life estimation')\n",
    "sns.distplot(plt_ag, label='AG')\n",
    "plt.legend()\n",
    "plt.title('''AGs playing ''same'' game 100 times''')\n",
    "plt.xlabel('rewards')\n",
    "pass"
   ]
  },
  {
   "cell_type": "code",
   "execution_count": 120,
   "metadata": {},
   "outputs": [],
   "source": [
    "class UCB_L:\n",
    "    def __init__(self, records, pool, unborn, est_life=False):\n",
    "        self.startingTime = records.iloc[0].timestamp\n",
    "        self.records = records.itertuples()\n",
    "        self.rewards = 0\n",
    "        self.alive = [] # heap: (death, id)\n",
    "        self.pool = copy.deepcopy(pool) # ordered dict of arms\n",
    "        self.unborn = copy.deepcopy(unborn)\n",
    "        self.avg_life = 0\n",
    "        self.X = 0\n",
    "        self.est_life = est_life\n",
    "        \n",
    "    def update(self, record):\n",
    "        self.rewards += record.clicked\n",
    "        self.pool[record.id].rewards += record.clicked\n",
    "        self.pool[record.id].T += 1\n",
    "        self.pool[record.id].X = self.pool[record.id].rewards / self.pool[record.id].T\n",
    "        n_seen = len(self.pool) - len(self.unborn)\n",
    "        self.X = (self.X * (n_seen-1) + record.clicked) / n_seen\n",
    "    \n",
    "    def filter_live(self, t):  \n",
    "        # pop born arms to alive\n",
    "        while self.unborn and self.pool[self.unborn[-1]].birth<=self.time:\n",
    "            arm = self.unborn.pop()\n",
    "            self.pool[arm].s = t\n",
    "            heapq.heappush(self.alive, (self.pool[arm].death, arm))\n",
    "        # pop dead arms from alive\n",
    "        while self.alive:\n",
    "            death, arm = self.alive[0]\n",
    "            if death < self.time:\n",
    "                heapq.heappop(self.alive)\n",
    "                \n",
    "                dying = self.pool[arm]\n",
    "                dying.l = t\n",
    "                n_dead = len(self.pool) - len(self.unborn) - len(self.alive)\n",
    "                self.avg_life = (self.avg_life* (n_dead-1) + (dying.l-dying.s+1)) / n_dead\n",
    "                \n",
    "            else:\n",
    "                break\n",
    "        return\n",
    "                \n",
    "    def initialize(self, m):\n",
    "        self.m = m\n",
    "        for self.t in range(m):\n",
    "            record = next(self.records) # raise StopIteration\n",
    "            self.time = record.timestamp\n",
    "            self.filter_live(self.t)\n",
    "            if not pool[record.id].T: # not played\n",
    "                self.update(record)\n",
    "    \n",
    "    def play(self, n, c=.008):\n",
    "        def score(heap_tuple):\n",
    "            #r = self.t / (self.time - self.startingTime) # divider==0???\n",
    "            arm = self.pool[heap_tuple[1]]\n",
    "            if arm.T:\n",
    "                T = arm.T\n",
    "                X = arm.X\n",
    "            else: # if it's never played, use estimation\n",
    "                T = 1\n",
    "                X = self.X\n",
    "            if not c or not self.avg_life:\n",
    "                return X + np.sqrt( 2*np.log(self.t - arm.s + 1)/T )\n",
    "            else:\n",
    "                if self.avg_life+arm.s-self.t+1 <= 0:\n",
    "                    return X\n",
    "                else:\n",
    "                    return X + c*np.log(self.avg_life+arm.s-self.t+1) * np.sqrt(2*np.log(self.t - arm.s+1)/T) \n",
    "            '''if not self.est_life:    \n",
    "                if c:\n",
    "                    return X + c*np.log(r*(arm.death - self.time) + 1) * np.sqrt( 2*np.log(r*(self.time - arm.birth) + 1)/T)\n",
    "                else:\n",
    "                    return X + np.sqrt( 2*np.log(self.t - arm.s + 1)/T )\n",
    "            else:\n",
    "                if not self.avg_life:\n",
    "                    return X + np.sqrt( 2*np.log(self.t - arm.s + 1)/T )\n",
    "                try:\n",
    "                    return X + c*np.log(self.avg_life+arm.s-self.t+1) * np.sqrt(2*np.log(self.t - arm.s+1)/T)\n",
    "                except RuntimeWarning:\n",
    "                    #print(self.avg_life, arm.s, t)\n",
    "                    return X'''\n",
    "                \n",
    "        self.n = n\n",
    "        for self.t in range(self.m, n):\n",
    "            while True: # keep trying\n",
    "                record = next(self.records) # raise StopIteration\n",
    "                self.time = record.timestamp\n",
    "                self.filter_live(self.t)\n",
    "                pick = max(self.alive, key=score)[1]\n",
    "                if pick == record.id:\n",
    "                    self.update(record)\n",
    "                    break"
   ]
  },
  {
   "cell_type": "code",
   "execution_count": 92,
   "metadata": {},
   "outputs": [
    {
     "data": {
      "text/plain": [
       "1317513291"
      ]
     },
     "execution_count": 92,
     "metadata": {},
     "output_type": "execute_result"
    }
   ],
   "source": [
    "records.iloc[0].timestamp"
   ]
  },
  {
   "cell_type": "code",
   "execution_count": 94,
   "metadata": {},
   "outputs": [
    {
     "data": {
      "text/plain": [
       "41"
      ]
     },
     "execution_count": 94,
     "metadata": {},
     "output_type": "execute_result"
    }
   ],
   "source": [
    "# test\n",
    "ucbl = UCB_L(records, pool, unborn)\n",
    "ucbl.initialize(25)\n",
    "ucbl.play(1000,.008)\n",
    "ucbl.rewards"
   ]
  },
  {
   "cell_type": "code",
   "execution_count": 64,
   "metadata": {},
   "outputs": [],
   "source": [
    "ucbl = UCB_L(records, pool, unborn, est_life=True)\n",
    "ucbl.initialize(25)"
   ]
  },
  {
   "cell_type": "code",
   "execution_count": 66,
   "metadata": {},
   "outputs": [
    {
     "data": {
      "text/plain": [
       "24"
      ]
     },
     "execution_count": 66,
     "metadata": {},
     "output_type": "execute_result"
    }
   ],
   "source": [
    "ucbl.play(1000,.008)\n",
    "tmp = ucbl.rewards\n",
    "tmp"
   ]
  },
  {
   "cell_type": "code",
   "execution_count": 80,
   "metadata": {},
   "outputs": [
    {
     "data": {
      "text/plain": [
       "687.3333333333334"
      ]
     },
     "execution_count": 80,
     "metadata": {},
     "output_type": "execute_result"
    }
   ],
   "source": [
    "ucbl.avg_life"
   ]
  },
  {
   "cell_type": "code",
   "execution_count": 87,
   "metadata": {},
   "outputs": [
    {
     "name": "stdout",
     "output_type": "stream",
     "text": [
      "player 1 started\n",
      "player 0.03 started\n",
      "player 0.1 started\n",
      "player 0.01 started\n",
      "player 1 finished with 741 time spent: 61.7092649936676\n",
      "player 0.001 started\n",
      "player 0.1 finished with 738 time spent: 62.90302300453186\n",
      "player 0.003 started\n",
      "player 0.01 finished with 912 time spent: 63.005666732788086\n",
      "player 0.008 started\n",
      "player 0.03 finished with 847 time spent: 63.613940477371216\n",
      "player 0.005 started\n",
      "player 0.001 finished with 962 time spent: 57.071961879730225\n",
      "player 0.05 started\n",
      "player 0.008 finished with 930 time spent: 58.607370138168335\n",
      "player 0.0001 started\n",
      "player 0.003 finished with 941 time spent: 59.851927042007446\n",
      "player 0.0005 started\n",
      "player 0.005 finished with 937 time spent: 60.24378967285156\n",
      "player 0.05 finished with 785 time spent: 58.947763204574585\n",
      "player 0.0001 finished with 947 time spent: 58.26153039932251\n",
      "player 0.0005 finished with 947 time spent: 58.174619913101196\n"
     ]
    }
   ],
   "source": [
    "# tune UCBL(using life estimation)\n",
    "def player(i):\n",
    "    print('player',i,'started')\n",
    "    start = time.time()\n",
    "    ucbl = UCB_L(records[:500000], pool, unborn, est_life=True)\n",
    "    ucbl.initialize(25)\n",
    "    ucbl.play(20000, c=i)\n",
    "    end = time.time()\n",
    "    print('player',i,'finished with',ucbl.rewards,'time spent:', end-start)\n",
    "    return ucbl.rewards\n",
    "with Pool(4) as p:\n",
    "    ucb_tune = p.map(player, [1,.1,.01,.03,.001,.003,.008,.005,.05,.0001,.0005])"
   ]
  },
  {
   "cell_type": "code",
   "execution_count": 112,
   "metadata": {
    "scrolled": true
   },
   "outputs": [
    {
     "name": "stdout",
     "output_type": "stream",
     "text": [
      "player 0 started\n",
      "player 7 started\n",
      "player 14 started\n",
      "player 21 started\n",
      "player 14 finished with 5078 time spent: 268.3995747566223\n",
      "player 15 started\n",
      "player 0 finished with 5027 time spent: 272.2576639652252\n",
      "player 1 started\n",
      "player 7 finished with 4986 time spent: 273.5036795139313\n",
      "player 8 started\n",
      "player 21 finished with 5069 time spent: 284.5913472175598\n",
      "player 22 started\n",
      "player 1 finished with 5000 time spent: 268.7509250640869\n",
      "player 2 started\n",
      "player 15 finished with 4992 time spent: 274.58513855934143\n",
      "player 16 started\n",
      "player 8 finished with 5043 time spent: 273.97358751296997\n",
      "player 9 started\n",
      "player 22 finished with 5040 time spent: 275.1592855453491\n",
      "player 23 started\n",
      "player 2 finished with 5008 time spent: 266.30498337745667\n",
      "player 3 started\n",
      "player 9 finished with 5033 time spent: 275.29362320899963\n",
      "player 16 finished with 4954 time spent: 280.35651421546936\n",
      "player 10 started\n",
      "player 17 started\n",
      "player 23 finished with 5084 time spent: 280.22068905830383\n",
      "player 24 started\n",
      "player 3 finished with 5099 time spent: 269.44447565078735\n",
      "player 4 started\n",
      "player 10 finished with 5076 time spent: 270.38388872146606\n",
      "player 11 started\n",
      "player 17 finished with 4987 time spent: 276.5340416431427\n",
      "player 18 started\n",
      "player 24 finished with 5069 time spent: 280.82558584213257\n",
      "player 25 started\n",
      "player 4 finished with 5066 time spent: 268.3865201473236\n",
      "player 5 started\n",
      "player 11 finished with 5088 time spent: 274.7096366882324\n",
      "player 12 started\n",
      "player 18 finished with 5084 time spent: 275.80724358558655\n",
      "player 19 started\n",
      "player 25 finished with 5085 time spent: 284.43680119514465\n",
      "player 26 started\n",
      "player 5 finished with 5111 time spent: 263.54641604423523\n",
      "player 6 started\n",
      "player 12 finished with 4987 time spent: 270.9496672153473\n",
      "player 13 started\n",
      "player 19 finished with 5058 time spent: 274.72982358932495\n",
      "player 20 started\n",
      "player 26 finished with 5063 time spent: 281.0887780189514\n",
      "player 27 started\n",
      "player 6 finished with 4966 time spent: 269.22904992103577\n",
      "player 28 started\n",
      "player 13 finished with 5027 time spent: 274.39292335510254\n",
      "player 35 started\n",
      "player 20 finished with 5150 time spent: 281.1754608154297\n",
      "player 42 started\n",
      "player 27 finished with 5033 time spent: 288.50782585144043\n",
      "player 49 started\n",
      "player 28 finished with 5042 time spent: 282.55260705947876\n",
      "player 29 started\n",
      "player 35 finished with 5234 time spent: 289.3574388027191\n",
      "player 36 started\n",
      "player 42 finished with 5140 time spent: 290.2451000213623\n",
      "player 43 started\n",
      "player 49 finished with 5087 time spent: 295.5277216434479\n",
      "player 50 started\n",
      "player 29 finished with 5164 time spent: 281.61790347099304\n",
      "player 30 started\n",
      "player 36 finished with 5127 time spent: 291.0571186542511\n",
      "player 37 started\n",
      "player 43 finished with 5200 time spent: 291.6952214241028\n",
      "player 44 started\n",
      "player 50 finished with 5151 time spent: 299.28161549568176\n",
      "player 51 started\n",
      "player 30 finished with 5174 time spent: 285.57848262786865\n",
      "player 31 started\n",
      "player 37 finished with 5205 time spent: 292.7622437477112\n",
      "player 38 started\n",
      "player 44 finished with 5136 time spent: 289.3884241580963\n",
      "player 45 started\n",
      "player 51 finished with 5170 time spent: 297.1901068687439\n",
      "player 52 started\n",
      "player 31 finished with 5122 time spent: 287.6986358165741\n",
      "player 32 started\n",
      "player 38 finished with 5256 time spent: 291.7179956436157\n",
      "player 39 started\n",
      "player 45 finished with 5187 time spent: 295.47977232933044\n",
      "player 46 started\n",
      "player 52 finished with 5076 time spent: 304.7314569950104\n",
      "player 53 started\n",
      "player 32 finished with 5121 time spent: 287.3420674800873\n",
      "player 33 started\n",
      "player 39 finished with 5130 time spent: 289.67991876602173\n",
      "player 40 started\n",
      "player 46 finished with 5099 time spent: 294.93692421913147\n",
      "player 47 started\n",
      "player 53 finished with 5227 time spent: 305.99998688697815\n",
      "player 54 started\n",
      "player 33 finished with 5170 time spent: 282.42098593711853\n",
      "player 34 started\n",
      "player 40 finished with 5234 time spent: 290.74065017700195\n",
      "player 41 started\n",
      "player 47 finished with 5228 time spent: 295.899201631546\n",
      "player 48 started\n",
      "player 54 finished with 5183 time spent: 307.52795362472534\n",
      "player 55 started\n",
      "player 34 finished with 5158 time spent: 288.09446001052856\n",
      "player 56 started\n",
      "player 41 finished with 5258 time spent: 293.3625147342682\n",
      "player 63 started\n",
      "player 48 finished with 5118 time spent: 296.8866322040558\n",
      "player 70 started\n",
      "player 55 finished with 5320 time spent: 307.2377495765686\n",
      "player 77 started\n",
      "player 56 finished with 5216 time spent: 311.8486952781677\n",
      "player 57 started\n",
      "player 63 finished with 5342 time spent: 349.9065809249878\n",
      "player 64 started\n",
      "player 70 finished with 5305 time spent: 371.70548939704895\n",
      "player 71 started\n",
      "player 77 finished with 5285 time spent: 383.7422864437103\n",
      "player 78 started\n",
      "player 57 finished with 5289 time spent: 315.2262439727783\n",
      "player 58 started\n",
      "player 64 finished with 5345 time spent: 353.8005361557007\n",
      "player 65 started\n",
      "player 71 finished with 5300 time spent: 374.49442982673645\n",
      "player 72 started\n",
      "player 58 finished with 5304 time spent: 314.5462324619293\n",
      "player 59 started\n",
      "player 78 finished with 5363 time spent: 392.825731754303\n",
      "player 79 started\n",
      "player 65 finished with 5216 time spent: 348.4424970149994\n",
      "player 66 started\n",
      "player 72 finished with 5274 time spent: 367.79306983947754\n",
      "player 73 started\n",
      "player 59 finished with 5212 time spent: 325.06238627433777\n",
      "player 60 started\n",
      "player 79 finished with 5246 time spent: 397.25364446640015\n",
      "player 80 started\n",
      "player 66 finished with 5240 time spent: 355.6367254257202\n",
      "player 67 started\n",
      "player 60 finished with 5330 time spent: 319.70347929000854\n",
      "player 61 started\n",
      "player 73 finished with 5224 time spent: 375.66037774086\n",
      "player 74 started\n",
      "player 80 finished with 5246 time spent: 396.57280468940735\n",
      "player 81 started\n",
      "player 67 finished with 5244 time spent: 360.26943016052246\n",
      "player 68 started\n",
      "player 61 finished with 5227 time spent: 323.90597462654114\n",
      "player 62 started\n",
      "player 74 finished with 5211 time spent: 375.1116211414337\n",
      "player 75 started\n",
      "player 81 finished with 5270 time spent: 394.23124527931213\n",
      "player 82 started\n",
      "player 68 finished with 5278 time spent: 362.78908681869507\n",
      "player 69 started\n",
      "player 62 finished with 5362 time spent: 322.522177696228\n",
      "player 84 started\n",
      "player 75 finished with 5288 time spent: 377.6591463088989\n",
      "player 76 started\n",
      "player 82 finished with 5250 time spent: 395.8865520954132\n",
      "player 69 finished with 5258 time spent: 369.69832134246826\n",
      "player 83 started\n",
      "player 91 started\n",
      "player 84 finished with 5177 time spent: 404.3929057121277\n",
      "player 85 started\n",
      "player 76 finished with 5272 time spent: 374.51309061050415\n",
      "player 98 started\n",
      "player 83 finished with 5322 time spent: 398.870906829834\n",
      "player 91 finished with 5252 time spent: 411.59743070602417\n",
      "player 92 started\n",
      "player 85 finished with 5297 time spent: 403.4846293926239\n",
      "player 86 started\n",
      "player 98 finished with 5188 time spent: 418.4822187423706\n",
      "player 99 started\n",
      "player 92 finished with 5255 time spent: 410.6757640838623\n",
      "player 93 started\n",
      "player 86 finished with 5274 time spent: 405.94051027297974\n",
      "player 87 started\n",
      "player 99 finished with 5219 time spent: 423.2278702259064\n",
      "player 93 finished with 5230 time spent: 411.38062953948975\n",
      "player 94 started\n",
      "player 87 finished with 5255 time spent: 407.1317398548126\n",
      "player 88 started\n",
      "player 94 finished with 5221 time spent: 421.16255283355713\n",
      "player 95 started\n",
      "player 88 finished with 5206 time spent: 403.549782037735\n",
      "player 89 started\n",
      "player 95 finished with 5217 time spent: 418.62312602996826\n",
      "player 96 started\n",
      "player 89 finished with 5190 time spent: 410.39287424087524\n",
      "player 90 started\n",
      "player 96 finished with 5278 time spent: 417.71127939224243\n",
      "player 97 started\n",
      "player 90 finished with 5241 time spent: 408.5853576660156\n",
      "player 97 finished with 5268 time spent: 423.18804454803467\n"
     ]
    }
   ],
   "source": [
    "# UCB\n",
    "def player(i):\n",
    "    print('player',i,'started')\n",
    "    start = time.time()\n",
    "    ucbl = UCB_L(records[i*10000:], pool, unborn)\n",
    "    ucbl.initialize(25)\n",
    "    ucbl.play(100000, None)\n",
    "    end = time.time()\n",
    "    print('player',i,'finished with',ucbl.rewards,'time spent:', end-start)\n",
    "    return ucbl.rewards\n",
    "plt_ucb = []\n",
    "with Pool(4) as p:\n",
    "    plt_ucb += p.map(player, [i for i in range(100)])"
   ]
  },
  {
   "cell_type": "code",
   "execution_count": 23,
   "metadata": {},
   "outputs": [],
   "source": [
    "with open('save/plt_ucb','wb') as f:\n",
    "    pickle.dump(plt_ucb, f)"
   ]
  },
  {
   "cell_type": "code",
   "execution_count": 113,
   "metadata": {},
   "outputs": [
    {
     "data": {
      "text/plain": [
       "517467"
      ]
     },
     "execution_count": 113,
     "metadata": {},
     "output_type": "execute_result"
    }
   ],
   "source": [
    "sum(plt_ucb)"
   ]
  },
  {
   "cell_type": "code",
   "execution_count": 51,
   "metadata": {},
   "outputs": [],
   "source": [
    "with open('save/plt_ucbl_est','wb') as f:\n",
    "    pickle.dump(plt_ucbl_est, f)"
   ]
  },
  {
   "cell_type": "code",
   "execution_count": 121,
   "metadata": {
    "scrolled": true
   },
   "outputs": [
    {
     "name": "stdout",
     "output_type": "stream",
     "text": [
      "player 5 started\n",
      "player 20 started\n",
      "player 10 started\n",
      "player 15 started\n",
      "player 0 started\n",
      "player 25 started\n",
      "player 25 finished with 6182 time spent: 169.7355659008026\n",
      "player 26 started\n",
      "player 0 finished with 6199 time spent: 218.04218816757202\n",
      "player 1 started\n",
      "player 20 finished with 6045 time spent: 241.69905638694763\n",
      "player 21 started\n",
      "player 5 finished with 6129 time spent: 242.77078652381897\n",
      "player 6 started\n",
      "player 10 finished with 5741 time spent: 265.89113211631775\n",
      "player 11 started\n",
      "player 15 finished with 6009 time spent: 276.0275070667267\n",
      "player 16 started\n",
      "player 21 finished with 6233 time spent: 183.79301047325134\n",
      "player 22 started\n",
      "player 26 finished with 6170 time spent: 282.1767506599426\n",
      "player 27 started\n",
      "player 6 finished with 5180 time spent: 219.21483421325684\n",
      "player 7 started\n",
      "player 11 finished with 6299 time spent: 234.0858497619629\n",
      "player 12 started\n",
      "player 1 finished with 6204 time spent: 304.58904504776\n",
      "player 2 started\n",
      "player 16 finished with 5634 time spent: 262.5623502731323\n",
      "player 17 started\n",
      "player 27 finished with 6119 time spent: 182.80611157417297\n",
      "player 28 started\n",
      "player 22 finished with 5687 time spent: 229.56068682670593\n",
      "player 23 started\n",
      "player 7 finished with 6141 time spent: 266.1817989349365\n",
      "player 8 started\n",
      "player 12 finished with 5754 time spent: 267.82265543937683\n",
      "player 13 started\n",
      "player 2 finished with 5830 time spent: 261.687748670578\n",
      "player 17 finished with 6132 time spent: 246.15909218788147\n",
      "player 3 started\n",
      "player 18 started\n",
      "player 23 finished with 6238 time spent: 204.1924991607666\n",
      "player 24 started\n",
      "player 28 finished with 5959 time spent: 231.73933792114258\n",
      "player 29 started\n",
      "player 8 finished with 6119 time spent: 237.5598590373993\n",
      "player 9 started\n",
      "player 18 finished with 6135 time spent: 229.1374146938324\n",
      "player 19 started\n",
      "player 13 finished with 6344 time spent: 247.8465530872345\n",
      "player 14 started\n",
      "player 3 finished with 5901 time spent: 253.59067845344543\n",
      "player 4 started\n",
      "player 24 finished with 5909 time spent: 225.93548226356506\n",
      "player 30 started\n",
      "player 29 finished with 6248 time spent: 237.10783982276917\n",
      "player 35 started\n",
      "player 19 finished with 6315 time spent: 201.0419008731842\n",
      "player 40 started\n",
      "player 9 finished with 5738 time spent: 277.7228534221649\n",
      "player 45 started\n",
      "player 30 finished with 6004 time spent: 187.52740788459778\n",
      "player 31 started\n",
      "player 14 finished with 6010 time spent: 268.3266966342926\n",
      "player 50 started\n",
      "player 35 finished with 6199 time spent: 224.52575039863586\n",
      "player 36 started\n",
      "player 4 finished with 6256 time spent: 295.3427972793579\n",
      "player 55 started\n",
      "player 40 finished with 5776 time spent: 220.16074347496033\n",
      "player 41 started\n",
      "player 50 finished with 6272 time spent: 184.54939985275269\n",
      "player 51 started\n",
      "player 31 finished with 6354 time spent: 267.16915559768677\n",
      "player 45 finished with 6331 time spent: 298.1434283256531\n",
      "player 32 started\n",
      "player 46 started\n",
      "player 36 finished with 6261 time spent: 252.61551427841187\n",
      "player 37 started\n",
      "player 55 finished with 6399 time spent: 260.9847619533539\n",
      "player 56 started\n",
      "player 41 finished with 6374 time spent: 211.45753383636475\n",
      "player 42 started\n",
      "player 51 finished with 6294 time spent: 198.7014627456665\n",
      "player 52 started\n",
      "player 46 finished with 6347 time spent: 217.59010791778564\n",
      "player 47 started\n",
      "player 32 finished with 6365 time spent: 305.7752184867859\n",
      "player 33 started\n",
      "player 37 finished with 6047 time spent: 273.8717005252838\n",
      "player 38 started\n",
      "player 56 finished with 6114 time spent: 265.58104181289673\n",
      "player 57 started\n",
      "player 52 finished with 6305 time spent: 195.2164831161499\n",
      "player 53 started\n",
      "player 42 finished with 6068 time spent: 234.52588987350464\n",
      "player 43 started\n",
      "player 57 finished with 6735 time spent: 176.0345652103424\n",
      "player 58 started\n",
      "player 33 finished with 6051 time spent: 204.36471509933472\n",
      "player 34 started\n",
      "player 47 finished with 6358 time spent: 293.4138524532318\n",
      "player 48 started\n",
      "player 53 finished with 6091 time spent: 272.9364242553711\n",
      "player 54 started\n",
      "player 38 finished with 6236 time spent: 288.73761510849\n",
      "player 39 started\n",
      "player 43 finished with 6287 time spent: 266.3103244304657\n",
      "player 44 started\n",
      "player 58 finished with 6538 time spent: 180.5154378414154\n",
      "player 59 started\n",
      "player 48 finished with 6381 time spent: 263.1582281589508\n",
      "player 49 started\n",
      "player 34 finished with 6212 time spent: 288.9985194206238\n",
      "player 60 started\n",
      "player 39 finished with 6317 time spent: 215.191143989563\n",
      "player 65 started\n",
      "player 54 finished with 6356 time spent: 267.42828845977783\n",
      "player 70 started\n",
      "player 59 finished with 6565 time spent: 204.3945770263672\n",
      "player 75 started\n",
      "player 44 finished with 6463 time spent: 285.14208984375\n",
      "player 80 started\n",
      "player 49 finished with 6240 time spent: 219.0093560218811\n",
      "player 85 started\n",
      "player 60 finished with 6584 time spent: 242.12215781211853\n",
      "player 61 started\n",
      "player 70 finished with 6970 time spent: 262.8945109844208\n",
      "player 71 started\n",
      "player 80 finished with 6976 time spent: 241.074205160141\n",
      "player 81 started\n",
      "player 65 finished with 6695 time spent: 317.4961884021759\n",
      "player 66 started\n",
      "player 75 finished with 7214 time spent: 347.79255652427673\n",
      "player 76 started\n",
      "player 61 finished with 6537 time spent: 230.2441930770874\n",
      "player 62 started\n",
      "player 66 finished with 6496 time spent: 207.59008955955505\n",
      "player 67 started\n",
      "player 85 finished with 7444 time spent: 379.0460693836212\n",
      "player 86 started\n",
      "player 71 finished with 6590 time spent: 283.2934238910675\n",
      "player 72 started\n",
      "player 81 finished with 6902 time spent: 339.84624218940735\n",
      "player 82 started\n",
      "player 76 finished with 7270 time spent: 273.1949713230133\n",
      "player 77 started\n",
      "player 62 finished with 6486 time spent: 269.05787205696106\n",
      "player 63 started\n",
      "player 67 finished with 6844 time spent: 230.28396248817444\n",
      "player 68 started\n",
      "player 72 finished with 6579 time spent: 213.969553232193\n",
      "player 73 started\n",
      "player 86 finished with 7480 time spent: 368.1933877468109\n",
      "player 87 started\n",
      "player 82 finished with 7010 time spent: 300.3891999721527\n",
      "player 83 started\n",
      "player 77 finished with 7303 time spent: 279.3640308380127\n",
      "player 78 started\n",
      "player 63 finished with 6778 time spent: 283.17971634864807\n",
      "player 64 started\n",
      "player 73 finished with 6618 time spent: 224.42824268341064\n",
      "player 74 started\n",
      "player 68 finished with 6570 time spent: 297.8736996650696\n",
      "player 69 started\n",
      "player 64 finished with 6748 time spent: 185.10267639160156\n",
      "player 90 started\n",
      "player 78 finished with 7316 time spent: 250.59313082695007\n",
      "player 79 started\n",
      "player 83 finished with 7428 time spent: 300.9199323654175\n",
      "player 84 started\n",
      "player 87 finished with 7520 time spent: 366.77102303504944\n",
      "player 88 started\n",
      "player 74 finished with 7277 time spent: 308.4447720050812\n",
      "player 95 started\n",
      "player 69 finished with 6998 time spent: 285.01971888542175\n",
      "player 90 finished with 7679 time spent: 289.52258586883545\n",
      "player 91 started\n",
      "player 88 finished with 7811 time spent: 223.35816287994385\n",
      "player 89 started\n",
      "player 84 finished with 7387 time spent: 268.1927716732025\n",
      "player 79 finished with 7339 time spent: 330.49913573265076\n",
      "player 95 finished with 4822 time spent: 292.1557011604309\n",
      "player 96 started\n",
      "player 91 finished with 4678 time spent: 231.2151517868042\n",
      "player 92 started\n",
      "player 89 finished with 7582 time spent: 227.67488431930542\n",
      "player 96 finished with 5404 time spent: 227.14229822158813\n",
      "player 97 started\n",
      "player 92 finished with 5288 time spent: 215.73970341682434\n",
      "player 93 started\n",
      "player 97 finished with 4801 time spent: 225.54915618896484\n",
      "player 98 started\n",
      "player 93 finished with 7328 time spent: 218.16345191001892\n",
      "player 94 started\n",
      "player 98 finished with 4685 time spent: 227.53275728225708\n",
      "player 99 started\n",
      "player 94 finished with 5240 time spent: 216.86056518554688\n",
      "player 99 finished with 4721 time spent: 226.24969792366028\n"
     ]
    }
   ],
   "source": [
    "# UCB_L using life estimation\n",
    "def player(i):\n",
    "    print('player',i,'started')\n",
    "    start = time.time()\n",
    "    ucbl = UCB_L(records[i*10000:], pool, unborn, est_life=True)\n",
    "    ucbl.initialize(25)\n",
    "    ucbl.play(100000, .001)\n",
    "    end = time.time()\n",
    "    print('player',i,'finished with',ucbl.rewards,'time spent:', end-start)\n",
    "    return ucbl.rewards\n",
    "with Pool(6) as p:\n",
    "    plt_ucbl_est = p.map(player, [i for i in range(100)])"
   ]
  },
  {
   "cell_type": "code",
   "execution_count": 122,
   "metadata": {},
   "outputs": [
    {
     "data": {
      "text/plain": [
       "634598"
      ]
     },
     "execution_count": 122,
     "metadata": {},
     "output_type": "execute_result"
    }
   ],
   "source": [
    "sum(plt_ucbl_est)"
   ]
  },
  {
   "cell_type": "code",
   "execution_count": null,
   "metadata": {
    "scrolled": true
   },
   "outputs": [],
   "source": [
    "# UCB_L\n",
    "def player(i):\n",
    "    print('player',i,'started')\n",
    "    start = time.time()\n",
    "    ucbl = UCB_L(records[i*10000:], pool, unborn)\n",
    "    ucbl.initialize(25)\n",
    "    ucbl.play(100000, .008)\n",
    "    end = time.time()\n",
    "    print('player',i,'finished with',ucbl.rewards,'time spent:', end-start)\n",
    "    return ucbl.rewards\n",
    "plt_ucbl = []\n",
    "with Pool(4) as p:\n",
    "    plt_ucbl += p.map(player, [i for i in range(100)])"
   ]
  },
  {
   "cell_type": "code",
   "execution_count": 108,
   "metadata": {},
   "outputs": [],
   "source": [
    "with open('save/plt_ucbl', 'wb') as f:\n",
    "    pickle.dump(plt_ucbl,f)"
   ]
  },
  {
   "cell_type": "code",
   "execution_count": 101,
   "metadata": {},
   "outputs": [
    {
     "data": {
      "text/plain": [
       "786927"
      ]
     },
     "execution_count": 101,
     "metadata": {},
     "output_type": "execute_result"
    }
   ],
   "source": [
    "sum(plt_ucbl)"
   ]
  },
  {
   "cell_type": "code",
   "execution_count": 123,
   "metadata": {},
   "outputs": [
    {
     "data": {
      "image/png": "[encoded data removed]",
      "text/plain": [
       "<matplotlib.figure.Figure at 0x7f6ccc08cf98>"
      ]
     },
     "metadata": {
      "needs_background": "light"
     },
     "output_type": "display_data"
    }
   ],
   "source": [
    "sns.distplot(plt_ucbl_est, label='UCB_L using life estimation')\n",
    "sns.distplot(plt_ucb, label='UCB: considering spent life')\n",
    "plt.legend()\n",
    "plt.title('''UCBs playing ''same'' set of 100 different games''')\n",
    "plt.xlabel('rewards')\n",
    "pass"
   ]
  },
  {
   "cell_type": "code",
   "execution_count": null,
   "metadata": {},
   "outputs": [],
   "source": []
  }
 ],
 "metadata": {
  "colab": {
   "collapsed_sections": [],
   "name": "optimal exploration for mortal MAB.ipynb",
   "provenance": [],
   "version": "0.3.2"
  },
  "kernelspec": {
   "display_name": "Python 3",
   "language": "python",
   "name": "python3"
  },
  "language_info": {
   "codemirror_mode": {
    "name": "ipython",
    "version": 3
   },
   "file_extension": ".py",
   "mimetype": "text/x-python",
   "name": "python",
   "nbconvert_exporter": "python",
   "pygments_lexer": "ipython3",
   "version": "3.6.0"
  }
 },
 "nbformat": 4,
 "nbformat_minor": 2
}
